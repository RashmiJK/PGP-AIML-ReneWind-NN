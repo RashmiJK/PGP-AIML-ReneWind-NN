{
  "cells": [
    {
      "cell_type": "markdown",
      "metadata": {
        "id": "view-in-github",
        "colab_type": "text"
      },
      "source": [
        "<a href=\"https://colab.research.google.com/github/RashmiJK/PGP-AIML-ReneWind-NN/blob/main/renewind_nn.ipynb\" target=\"_parent\"><img src=\"https://colab.research.google.com/assets/colab-badge.svg\" alt=\"Open In Colab\"/></a>"
      ]
    },
    {
      "cell_type": "markdown",
      "metadata": {
        "id": "9EaJ8AGwpM-2"
      },
      "source": [
        "# **Problem Statement**"
      ]
    },
    {
      "cell_type": "markdown",
      "metadata": {
        "id": "x3-QehJxbp0t"
      },
      "source": [
        "## Business Context"
      ]
    },
    {
      "cell_type": "markdown",
      "metadata": {
        "id": "7DoY1AHZfMF1"
      },
      "source": [
        "Renewable energy sources play an increasingly important role in the global energy mix, as the effort to reduce the environmental impact of energy production increases.\n",
        "\n",
        "Out of all the renewable energy alternatives, wind energy is one of the most developed technologies worldwide. The U.S Department of Energy has put together a guide to achieving operational efficiency using predictive maintenance practices.\n",
        "\n",
        "Predictive maintenance uses sensor information and analysis methods to measure and predict degradation and future component capability. The idea behind predictive maintenance is that failure patterns are predictable and if component failure can be predicted accurately and the component is replaced before it fails, the costs of operation and maintenance will be much lower.\n",
        "\n",
        "The sensors fitted across different machines involved in the process of energy generation collect data related to various environmental factors (temperature, humidity, wind speed, etc.) and additional features related to various parts of the wind turbine (gearbox, tower, blades, break, etc.)."
      ]
    },
    {
      "cell_type": "markdown",
      "metadata": {
        "id": "4p9zp6bHfPOY"
      },
      "source": [
        "## Objective"
      ]
    },
    {
      "cell_type": "markdown",
      "metadata": {
        "id": "eu7YIw90fRdW"
      },
      "source": [
        "“ReneWind” is a company working on improving the machinery/processes involved in the production of wind energy using machine learning and has collected data of generator failure of wind turbines using sensors. They have shared a ciphered version of the data, as the data collected through sensors is confidential (the type of data collected varies with companies). Data has 40 predictors, 20000 observations in the training set and 5000 in the test set.\n",
        "\n",
        "The objective is to build various classification models, tune them, and find the best one that will help identify failures so that the generators could be repaired before failing/breaking to reduce the overall maintenance cost.\n",
        "The nature of predictions made by the classification model will translate as follows:\n",
        "\n",
        "- True positives (TP) are failures correctly predicted by the model. These will result in repairing costs.\n",
        "- False negatives (FN) are real failures where there is no detection by the model. These will result in replacement costs.\n",
        "- False positives (FP) are detections where there is no failure. These will result in inspection costs.\n",
        "\n",
        "It is given that the cost of repairing a generator is much less than the cost of replacing it, and the cost of inspection is less than the cost of repair.\n",
        "\n",
        "“1” in the target variables should be considered as “failure” and “0” represents “No failure”."
      ]
    },
    {
      "cell_type": "markdown",
      "metadata": {
        "id": "XPeJAS5bfUOj"
      },
      "source": [
        "## Data Description"
      ]
    },
    {
      "cell_type": "markdown",
      "metadata": {
        "id": "P4ns9KiyfVsW"
      },
      "source": [
        "The data provided is a transformed version of the original data which was collected using sensors.\n",
        "\n",
        "- Train.csv - To be used for training and tuning of models.\n",
        "- Test.csv - To be used only for testing the performance of the final best model.\n",
        "\n",
        "Both the datasets consist of 40 predictor variables and 1 target variable."
      ]
    },
    {
      "cell_type": "markdown",
      "metadata": {
        "id": "v_-uuGqH-qTt"
      },
      "source": [
        "# 1 - Installing and Importing the necessary libraries"
      ]
    },
    {
      "cell_type": "markdown",
      "source": [
        "The objective is to build classification neural netwrok model to predict the turbine failures.\n",
        "\n",
        "**Instruction:** Restart the runtime after installing libraries to ensure correct package versions and ignore dependency warnings."
      ],
      "metadata": {
        "id": "K-JVICvpSltc"
      }
    },
    {
      "cell_type": "code",
      "execution_count": 4,
      "metadata": {
        "id": "Ob7CHevooE2s"
      },
      "outputs": [],
      "source": [
        "# Installing the libraries with the specified version\n",
        "!pip install tensorflow==2.18.0 scikit-learn==1.3.2 matplotlib===3.8.3 seaborn==0.13.2 numpy==1.26.4 pandas==2.2.2 -q --user --no-warn-script-location --no-deps"
      ]
    },
    {
      "cell_type": "code",
      "execution_count": 1,
      "metadata": {
        "id": "dbiVVX6hbp0v"
      },
      "outputs": [],
      "source": [
        "# Libraries for data manipulation, analysis and scientific computing\n",
        "import pandas as pd\n",
        "import numpy as np\n",
        "\n",
        "# Libraries to help with data visualization\n",
        "import matplotlib.pyplot as plt\n",
        "import seaborn as sns\n",
        "\n",
        "# Library for time related functions\n",
        "import time\n",
        "\n",
        "# For splitting datasets into training and testing sets.\n",
        "from sklearn.model_selection import train_test_split\n",
        "# Tools for data preprocessing including label encoding, one-hot encoding, and standard scaling\n",
        "from sklearn.preprocessing import LabelEncoder, OneHotEncoder,StandardScaler\n",
        "# Imports a class for imputing missing values in datasets.\n",
        "from sklearn.impute import SimpleImputer\n",
        "\n",
        "# Imports for evaluating the performance of machine learning models\n",
        "from sklearn import metrics\n",
        "from sklearn.metrics import (\n",
        "    confusion_matrix,\n",
        "    f1_score,\n",
        "    accuracy_score,\n",
        "    recall_score,\n",
        "    precision_score,\n",
        "    classification_report\n",
        ")\n",
        "\n",
        "# Imports the tensorflow, keras and layers.\n",
        "import tensorflow\n",
        "import tensorflow as tf\n",
        "from tensorflow.keras.models import Sequential\n",
        "from tensorflow.keras.layers import Dense\n",
        "from tensorflow.keras.layers import Dense, Input, Dropout,BatchNormalization\n",
        "from tensorflow.keras import backend\n",
        "\n",
        "# To suppress unnecessary warnings\n",
        "import warnings\n",
        "warnings.filterwarnings(\"ignore\")"
      ]
    },
    {
      "cell_type": "code",
      "source": [
        "# Removes the limit for the number of displayed columns\n",
        "pd.set_option(\"display.max_columns\", None)\n",
        "\n",
        "# Sets the limit for the number of displayed rows\n",
        "pd.set_option(\"display.max_rows\", 100)"
      ],
      "metadata": {
        "id": "V3Y24y0Cxkiv"
      },
      "execution_count": 15,
      "outputs": []
    },
    {
      "cell_type": "markdown",
      "metadata": {
        "id": "xxhpZv9y-qTw"
      },
      "source": [
        "# 2 - Import Dataset"
      ]
    },
    {
      "cell_type": "code",
      "execution_count": 2,
      "metadata": {
        "id": "D4QgYmaOkMEA",
        "colab": {
          "base_uri": "https://localhost:8080/"
        },
        "outputId": "236b891a-d3f7-4dc5-87a2-8fc661d4c610"
      },
      "outputs": [
        {
          "output_type": "stream",
          "name": "stdout",
          "text": [
            "Drive already mounted at /content/drive; to attempt to forcibly remount, call drive.mount(\"/content/drive\", force_remount=True).\n"
          ]
        }
      ],
      "source": [
        "# Mount drive\n",
        "from google.colab import drive\n",
        "drive.mount('/content/drive')"
      ]
    },
    {
      "cell_type": "code",
      "execution_count": 8,
      "metadata": {
        "id": "39UgpBY3bp0y"
      },
      "outputs": [],
      "source": [
        "# Import train and test set\n",
        "df = pd.read_csv(\"/content/drive/MyDrive/Colab Notebooks/Project-4/Train.csv\")\n",
        "df_test = pd.read_csv(\"/content/drive/MyDrive/Colab Notebooks/Project-4/Test.csv\")"
      ]
    },
    {
      "cell_type": "markdown",
      "metadata": {
        "id": "4cVx5kZHbp02"
      },
      "source": [
        "# 3 - Data Overview"
      ]
    },
    {
      "cell_type": "markdown",
      "metadata": {
        "id": "W-5jUOgu-qTz"
      },
      "source": [
        "\n",
        "- get information about the number of rows and columns in the dataset\n",
        "- find out the data types of the columns to ensure that data is stored in the preferred format and the value of each property is as expected.\n",
        "- check the statistical summary of the dataset to get an overview of the numerical columns of the data"
      ]
    },
    {
      "cell_type": "markdown",
      "metadata": {
        "id": "KQi5ygTC-qT1"
      },
      "source": [
        "## 3.1 - Shape of the dataset"
      ]
    },
    {
      "cell_type": "code",
      "execution_count": 9,
      "metadata": {
        "id": "7Y8epHpjbp0z",
        "colab": {
          "base_uri": "https://localhost:8080/"
        },
        "outputId": "a5472779-466a-45bf-b201-bac2d76eed6b"
      },
      "outputs": [
        {
          "output_type": "execute_result",
          "data": {
            "text/plain": [
              "(20000, 41)"
            ]
          },
          "metadata": {},
          "execution_count": 9
        }
      ],
      "source": [
        "# Shape of the train data\n",
        "df.shape"
      ]
    },
    {
      "cell_type": "code",
      "execution_count": 10,
      "metadata": {
        "id": "hA15qTjzbp01",
        "colab": {
          "base_uri": "https://localhost:8080/"
        },
        "outputId": "55d1b4c6-da21-43af-988f-e4c0faa466d8"
      },
      "outputs": [
        {
          "output_type": "execute_result",
          "data": {
            "text/plain": [
              "(5000, 41)"
            ]
          },
          "metadata": {},
          "execution_count": 10
        }
      ],
      "source": [
        "# Shape of the test data\n",
        "df_test.shape"
      ]
    },
    {
      "cell_type": "code",
      "execution_count": 11,
      "metadata": {
        "id": "QTsYJZBubp02"
      },
      "outputs": [],
      "source": [
        "# Make a copy of train data and preserve the original\n",
        "data = df.copy()"
      ]
    },
    {
      "cell_type": "code",
      "execution_count": 12,
      "metadata": {
        "id": "69ImWbLXbp03"
      },
      "outputs": [],
      "source": [
        "# Make a copy of test data and preserve the original\n",
        "data_test = df_test.copy()"
      ]
    },
    {
      "cell_type": "markdown",
      "source": [
        "<span style=\"color: blue;\"> **Observation**</span>\n",
        "* The train set has 20000 rows and 41 columns\n",
        "* The test set has 5000 rows and 41 columns"
      ],
      "metadata": {
        "id": "4izB1byswyKV"
      }
    },
    {
      "cell_type": "markdown",
      "metadata": {
        "id": "qlzqMR1K-qTz"
      },
      "source": [
        "## 3.2 - View sample rows of the dataset"
      ]
    },
    {
      "cell_type": "code",
      "execution_count": 16,
      "metadata": {
        "id": "l9RnN7Twbp03",
        "colab": {
          "base_uri": "https://localhost:8080/",
          "height": 224
        },
        "outputId": "7e6a7197-d6ea-4917-f502-e30da18cc13b"
      },
      "outputs": [
        {
          "output_type": "execute_result",
          "data": {
            "text/plain": [
              "         V1        V2        V3        V4        V5        V6        V7  \\\n",
              "0 -4.464606 -4.679129  3.101546  0.506130 -0.221083 -2.032511 -2.910870   \n",
              "1  3.365912  3.653381  0.909671 -1.367528  0.332016  2.358938  0.732600   \n",
              "2 -3.831843 -5.824444  0.634031 -2.418815 -1.773827  1.016824 -2.098941   \n",
              "3  1.618098  1.888342  7.046143 -1.147285  0.083080 -1.529780  0.207309   \n",
              "4 -0.111440  3.872488 -3.758361 -2.982897  3.792714  0.544960  0.205433   \n",
              "\n",
              "         V8        V9       V10       V11       V12       V13       V14  \\\n",
              "0  0.050714 -1.522351  3.761892 -5.714719  0.735893  0.981251  1.417884   \n",
              "1 -4.332135  0.565695 -0.101080  1.914465 -0.951458 -1.255259 -2.706522   \n",
              "2 -3.173204 -2.081860  5.392621 -0.770673  1.106718  1.144261  0.943301   \n",
              "3 -2.493629  0.344926  2.118578 -3.053023  0.459719  2.704527 -0.636086   \n",
              "4  4.848994 -1.854920 -6.220023  1.998347  4.723757  0.709113 -1.989432   \n",
              "\n",
              "        V15       V16       V17       V18       V19       V20       V21  \\\n",
              "0 -3.375815 -3.047303  0.306194  2.914097  2.269979  4.394876 -2.388299   \n",
              "1  0.193223 -4.769379 -2.205319  0.907716  0.756894 -5.833678 -3.065122   \n",
              "2 -3.163804 -4.247825 -4.038909  3.688534  3.311196  1.059002 -2.143026   \n",
              "3 -0.453717 -3.174046 -3.404347 -1.281536  1.582104 -1.951778 -3.516555   \n",
              "4 -2.632684  4.184447  2.245356  3.734452 -6.312766 -5.379918 -0.886667   \n",
              "\n",
              "        V22       V23       V24       V25       V26       V27       V28  \\\n",
              "0  0.646388 -1.190508  3.132986  0.665277 -2.510846 -0.036744  0.726218   \n",
              "1  1.596647 -1.757311  1.766444 -0.267098  3.625036  1.500346 -0.585712   \n",
              "2  1.650120 -1.660592  1.679910 -0.450782 -4.550695  3.738779  1.134404   \n",
              "3 -1.206011 -5.627854 -1.817653  2.124142  5.294642  4.748137 -2.308536   \n",
              "4  2.061694  9.445586  4.489976 -3.945144  4.582065 -8.780422 -3.382967   \n",
              "\n",
              "        V29       V30       V31       V32       V33        V34       V35  \\\n",
              "0 -3.982187 -1.072638  1.667098  3.059700 -1.690440   2.846296  2.235198   \n",
              "1  0.783034 -0.201217  0.024883 -1.795474  3.032780  -2.467514  1.894599   \n",
              "2 -2.033531  0.840839 -1.600395 -0.257101  0.803550   4.086219  2.292138   \n",
              "3 -3.962977 -6.028730  4.948770 -3.584425 -2.577474   1.363769  0.622714   \n",
              "4  5.106507  6.787513  2.044184  8.265896  6.629213 -10.068689  1.222987   \n",
              "\n",
              "        V36       V37       V38       V39       V40  Target  \n",
              "0  6.667486  0.443809 -2.369169  2.950578 -3.480324       0  \n",
              "1 -2.297780 -1.731048  5.908837 -0.386345  0.616242       0  \n",
              "2  5.360850  0.351993  2.940021  3.839160 -4.309402       0  \n",
              "3  5.550100 -1.526796  0.138853  3.101430 -1.277378       0  \n",
              "4 -3.229763  1.686909 -2.163896 -3.644622  6.510338       0  "
            ],
            "text/html": [
              "\n",
              "  <div id=\"df-8de1b168-2e95-430d-8073-b3045cf43a8c\" class=\"colab-df-container\">\n",
              "    <div>\n",
              "<style scoped>\n",
              "    .dataframe tbody tr th:only-of-type {\n",
              "        vertical-align: middle;\n",
              "    }\n",
              "\n",
              "    .dataframe tbody tr th {\n",
              "        vertical-align: top;\n",
              "    }\n",
              "\n",
              "    .dataframe thead th {\n",
              "        text-align: right;\n",
              "    }\n",
              "</style>\n",
              "<table border=\"1\" class=\"dataframe\">\n",
              "  <thead>\n",
              "    <tr style=\"text-align: right;\">\n",
              "      <th></th>\n",
              "      <th>V1</th>\n",
              "      <th>V2</th>\n",
              "      <th>V3</th>\n",
              "      <th>V4</th>\n",
              "      <th>V5</th>\n",
              "      <th>V6</th>\n",
              "      <th>V7</th>\n",
              "      <th>V8</th>\n",
              "      <th>V9</th>\n",
              "      <th>V10</th>\n",
              "      <th>V11</th>\n",
              "      <th>V12</th>\n",
              "      <th>V13</th>\n",
              "      <th>V14</th>\n",
              "      <th>V15</th>\n",
              "      <th>V16</th>\n",
              "      <th>V17</th>\n",
              "      <th>V18</th>\n",
              "      <th>V19</th>\n",
              "      <th>V20</th>\n",
              "      <th>V21</th>\n",
              "      <th>V22</th>\n",
              "      <th>V23</th>\n",
              "      <th>V24</th>\n",
              "      <th>V25</th>\n",
              "      <th>V26</th>\n",
              "      <th>V27</th>\n",
              "      <th>V28</th>\n",
              "      <th>V29</th>\n",
              "      <th>V30</th>\n",
              "      <th>V31</th>\n",
              "      <th>V32</th>\n",
              "      <th>V33</th>\n",
              "      <th>V34</th>\n",
              "      <th>V35</th>\n",
              "      <th>V36</th>\n",
              "      <th>V37</th>\n",
              "      <th>V38</th>\n",
              "      <th>V39</th>\n",
              "      <th>V40</th>\n",
              "      <th>Target</th>\n",
              "    </tr>\n",
              "  </thead>\n",
              "  <tbody>\n",
              "    <tr>\n",
              "      <th>0</th>\n",
              "      <td>-4.464606</td>\n",
              "      <td>-4.679129</td>\n",
              "      <td>3.101546</td>\n",
              "      <td>0.506130</td>\n",
              "      <td>-0.221083</td>\n",
              "      <td>-2.032511</td>\n",
              "      <td>-2.910870</td>\n",
              "      <td>0.050714</td>\n",
              "      <td>-1.522351</td>\n",
              "      <td>3.761892</td>\n",
              "      <td>-5.714719</td>\n",
              "      <td>0.735893</td>\n",
              "      <td>0.981251</td>\n",
              "      <td>1.417884</td>\n",
              "      <td>-3.375815</td>\n",
              "      <td>-3.047303</td>\n",
              "      <td>0.306194</td>\n",
              "      <td>2.914097</td>\n",
              "      <td>2.269979</td>\n",
              "      <td>4.394876</td>\n",
              "      <td>-2.388299</td>\n",
              "      <td>0.646388</td>\n",
              "      <td>-1.190508</td>\n",
              "      <td>3.132986</td>\n",
              "      <td>0.665277</td>\n",
              "      <td>-2.510846</td>\n",
              "      <td>-0.036744</td>\n",
              "      <td>0.726218</td>\n",
              "      <td>-3.982187</td>\n",
              "      <td>-1.072638</td>\n",
              "      <td>1.667098</td>\n",
              "      <td>3.059700</td>\n",
              "      <td>-1.690440</td>\n",
              "      <td>2.846296</td>\n",
              "      <td>2.235198</td>\n",
              "      <td>6.667486</td>\n",
              "      <td>0.443809</td>\n",
              "      <td>-2.369169</td>\n",
              "      <td>2.950578</td>\n",
              "      <td>-3.480324</td>\n",
              "      <td>0</td>\n",
              "    </tr>\n",
              "    <tr>\n",
              "      <th>1</th>\n",
              "      <td>3.365912</td>\n",
              "      <td>3.653381</td>\n",
              "      <td>0.909671</td>\n",
              "      <td>-1.367528</td>\n",
              "      <td>0.332016</td>\n",
              "      <td>2.358938</td>\n",
              "      <td>0.732600</td>\n",
              "      <td>-4.332135</td>\n",
              "      <td>0.565695</td>\n",
              "      <td>-0.101080</td>\n",
              "      <td>1.914465</td>\n",
              "      <td>-0.951458</td>\n",
              "      <td>-1.255259</td>\n",
              "      <td>-2.706522</td>\n",
              "      <td>0.193223</td>\n",
              "      <td>-4.769379</td>\n",
              "      <td>-2.205319</td>\n",
              "      <td>0.907716</td>\n",
              "      <td>0.756894</td>\n",
              "      <td>-5.833678</td>\n",
              "      <td>-3.065122</td>\n",
              "      <td>1.596647</td>\n",
              "      <td>-1.757311</td>\n",
              "      <td>1.766444</td>\n",
              "      <td>-0.267098</td>\n",
              "      <td>3.625036</td>\n",
              "      <td>1.500346</td>\n",
              "      <td>-0.585712</td>\n",
              "      <td>0.783034</td>\n",
              "      <td>-0.201217</td>\n",
              "      <td>0.024883</td>\n",
              "      <td>-1.795474</td>\n",
              "      <td>3.032780</td>\n",
              "      <td>-2.467514</td>\n",
              "      <td>1.894599</td>\n",
              "      <td>-2.297780</td>\n",
              "      <td>-1.731048</td>\n",
              "      <td>5.908837</td>\n",
              "      <td>-0.386345</td>\n",
              "      <td>0.616242</td>\n",
              "      <td>0</td>\n",
              "    </tr>\n",
              "    <tr>\n",
              "      <th>2</th>\n",
              "      <td>-3.831843</td>\n",
              "      <td>-5.824444</td>\n",
              "      <td>0.634031</td>\n",
              "      <td>-2.418815</td>\n",
              "      <td>-1.773827</td>\n",
              "      <td>1.016824</td>\n",
              "      <td>-2.098941</td>\n",
              "      <td>-3.173204</td>\n",
              "      <td>-2.081860</td>\n",
              "      <td>5.392621</td>\n",
              "      <td>-0.770673</td>\n",
              "      <td>1.106718</td>\n",
              "      <td>1.144261</td>\n",
              "      <td>0.943301</td>\n",
              "      <td>-3.163804</td>\n",
              "      <td>-4.247825</td>\n",
              "      <td>-4.038909</td>\n",
              "      <td>3.688534</td>\n",
              "      <td>3.311196</td>\n",
              "      <td>1.059002</td>\n",
              "      <td>-2.143026</td>\n",
              "      <td>1.650120</td>\n",
              "      <td>-1.660592</td>\n",
              "      <td>1.679910</td>\n",
              "      <td>-0.450782</td>\n",
              "      <td>-4.550695</td>\n",
              "      <td>3.738779</td>\n",
              "      <td>1.134404</td>\n",
              "      <td>-2.033531</td>\n",
              "      <td>0.840839</td>\n",
              "      <td>-1.600395</td>\n",
              "      <td>-0.257101</td>\n",
              "      <td>0.803550</td>\n",
              "      <td>4.086219</td>\n",
              "      <td>2.292138</td>\n",
              "      <td>5.360850</td>\n",
              "      <td>0.351993</td>\n",
              "      <td>2.940021</td>\n",
              "      <td>3.839160</td>\n",
              "      <td>-4.309402</td>\n",
              "      <td>0</td>\n",
              "    </tr>\n",
              "    <tr>\n",
              "      <th>3</th>\n",
              "      <td>1.618098</td>\n",
              "      <td>1.888342</td>\n",
              "      <td>7.046143</td>\n",
              "      <td>-1.147285</td>\n",
              "      <td>0.083080</td>\n",
              "      <td>-1.529780</td>\n",
              "      <td>0.207309</td>\n",
              "      <td>-2.493629</td>\n",
              "      <td>0.344926</td>\n",
              "      <td>2.118578</td>\n",
              "      <td>-3.053023</td>\n",
              "      <td>0.459719</td>\n",
              "      <td>2.704527</td>\n",
              "      <td>-0.636086</td>\n",
              "      <td>-0.453717</td>\n",
              "      <td>-3.174046</td>\n",
              "      <td>-3.404347</td>\n",
              "      <td>-1.281536</td>\n",
              "      <td>1.582104</td>\n",
              "      <td>-1.951778</td>\n",
              "      <td>-3.516555</td>\n",
              "      <td>-1.206011</td>\n",
              "      <td>-5.627854</td>\n",
              "      <td>-1.817653</td>\n",
              "      <td>2.124142</td>\n",
              "      <td>5.294642</td>\n",
              "      <td>4.748137</td>\n",
              "      <td>-2.308536</td>\n",
              "      <td>-3.962977</td>\n",
              "      <td>-6.028730</td>\n",
              "      <td>4.948770</td>\n",
              "      <td>-3.584425</td>\n",
              "      <td>-2.577474</td>\n",
              "      <td>1.363769</td>\n",
              "      <td>0.622714</td>\n",
              "      <td>5.550100</td>\n",
              "      <td>-1.526796</td>\n",
              "      <td>0.138853</td>\n",
              "      <td>3.101430</td>\n",
              "      <td>-1.277378</td>\n",
              "      <td>0</td>\n",
              "    </tr>\n",
              "    <tr>\n",
              "      <th>4</th>\n",
              "      <td>-0.111440</td>\n",
              "      <td>3.872488</td>\n",
              "      <td>-3.758361</td>\n",
              "      <td>-2.982897</td>\n",
              "      <td>3.792714</td>\n",
              "      <td>0.544960</td>\n",
              "      <td>0.205433</td>\n",
              "      <td>4.848994</td>\n",
              "      <td>-1.854920</td>\n",
              "      <td>-6.220023</td>\n",
              "      <td>1.998347</td>\n",
              "      <td>4.723757</td>\n",
              "      <td>0.709113</td>\n",
              "      <td>-1.989432</td>\n",
              "      <td>-2.632684</td>\n",
              "      <td>4.184447</td>\n",
              "      <td>2.245356</td>\n",
              "      <td>3.734452</td>\n",
              "      <td>-6.312766</td>\n",
              "      <td>-5.379918</td>\n",
              "      <td>-0.886667</td>\n",
              "      <td>2.061694</td>\n",
              "      <td>9.445586</td>\n",
              "      <td>4.489976</td>\n",
              "      <td>-3.945144</td>\n",
              "      <td>4.582065</td>\n",
              "      <td>-8.780422</td>\n",
              "      <td>-3.382967</td>\n",
              "      <td>5.106507</td>\n",
              "      <td>6.787513</td>\n",
              "      <td>2.044184</td>\n",
              "      <td>8.265896</td>\n",
              "      <td>6.629213</td>\n",
              "      <td>-10.068689</td>\n",
              "      <td>1.222987</td>\n",
              "      <td>-3.229763</td>\n",
              "      <td>1.686909</td>\n",
              "      <td>-2.163896</td>\n",
              "      <td>-3.644622</td>\n",
              "      <td>6.510338</td>\n",
              "      <td>0</td>\n",
              "    </tr>\n",
              "  </tbody>\n",
              "</table>\n",
              "</div>\n",
              "    <div class=\"colab-df-buttons\">\n",
              "\n",
              "  <div class=\"colab-df-container\">\n",
              "    <button class=\"colab-df-convert\" onclick=\"convertToInteractive('df-8de1b168-2e95-430d-8073-b3045cf43a8c')\"\n",
              "            title=\"Convert this dataframe to an interactive table.\"\n",
              "            style=\"display:none;\">\n",
              "\n",
              "  <svg xmlns=\"http://www.w3.org/2000/svg\" height=\"24px\" viewBox=\"0 -960 960 960\">\n",
              "    <path d=\"M120-120v-720h720v720H120Zm60-500h600v-160H180v160Zm220 220h160v-160H400v160Zm0 220h160v-160H400v160ZM180-400h160v-160H180v160Zm440 0h160v-160H620v160ZM180-180h160v-160H180v160Zm440 0h160v-160H620v160Z\"/>\n",
              "  </svg>\n",
              "    </button>\n",
              "\n",
              "  <style>\n",
              "    .colab-df-container {\n",
              "      display:flex;\n",
              "      gap: 12px;\n",
              "    }\n",
              "\n",
              "    .colab-df-convert {\n",
              "      background-color: #E8F0FE;\n",
              "      border: none;\n",
              "      border-radius: 50%;\n",
              "      cursor: pointer;\n",
              "      display: none;\n",
              "      fill: #1967D2;\n",
              "      height: 32px;\n",
              "      padding: 0 0 0 0;\n",
              "      width: 32px;\n",
              "    }\n",
              "\n",
              "    .colab-df-convert:hover {\n",
              "      background-color: #E2EBFA;\n",
              "      box-shadow: 0px 1px 2px rgba(60, 64, 67, 0.3), 0px 1px 3px 1px rgba(60, 64, 67, 0.15);\n",
              "      fill: #174EA6;\n",
              "    }\n",
              "\n",
              "    .colab-df-buttons div {\n",
              "      margin-bottom: 4px;\n",
              "    }\n",
              "\n",
              "    [theme=dark] .colab-df-convert {\n",
              "      background-color: #3B4455;\n",
              "      fill: #D2E3FC;\n",
              "    }\n",
              "\n",
              "    [theme=dark] .colab-df-convert:hover {\n",
              "      background-color: #434B5C;\n",
              "      box-shadow: 0px 1px 3px 1px rgba(0, 0, 0, 0.15);\n",
              "      filter: drop-shadow(0px 1px 2px rgba(0, 0, 0, 0.3));\n",
              "      fill: #FFFFFF;\n",
              "    }\n",
              "  </style>\n",
              "\n",
              "    <script>\n",
              "      const buttonEl =\n",
              "        document.querySelector('#df-8de1b168-2e95-430d-8073-b3045cf43a8c button.colab-df-convert');\n",
              "      buttonEl.style.display =\n",
              "        google.colab.kernel.accessAllowed ? 'block' : 'none';\n",
              "\n",
              "      async function convertToInteractive(key) {\n",
              "        const element = document.querySelector('#df-8de1b168-2e95-430d-8073-b3045cf43a8c');\n",
              "        const dataTable =\n",
              "          await google.colab.kernel.invokeFunction('convertToInteractive',\n",
              "                                                    [key], {});\n",
              "        if (!dataTable) return;\n",
              "\n",
              "        const docLinkHtml = 'Like what you see? Visit the ' +\n",
              "          '<a target=\"_blank\" href=https://colab.research.google.com/notebooks/data_table.ipynb>data table notebook</a>'\n",
              "          + ' to learn more about interactive tables.';\n",
              "        element.innerHTML = '';\n",
              "        dataTable['output_type'] = 'display_data';\n",
              "        await google.colab.output.renderOutput(dataTable, element);\n",
              "        const docLink = document.createElement('div');\n",
              "        docLink.innerHTML = docLinkHtml;\n",
              "        element.appendChild(docLink);\n",
              "      }\n",
              "    </script>\n",
              "  </div>\n",
              "\n",
              "\n",
              "    <div id=\"df-e9d0c095-3a96-4645-8ba8-c9b41fccbe28\">\n",
              "      <button class=\"colab-df-quickchart\" onclick=\"quickchart('df-e9d0c095-3a96-4645-8ba8-c9b41fccbe28')\"\n",
              "                title=\"Suggest charts\"\n",
              "                style=\"display:none;\">\n",
              "\n",
              "<svg xmlns=\"http://www.w3.org/2000/svg\" height=\"24px\"viewBox=\"0 0 24 24\"\n",
              "     width=\"24px\">\n",
              "    <g>\n",
              "        <path d=\"M19 3H5c-1.1 0-2 .9-2 2v14c0 1.1.9 2 2 2h14c1.1 0 2-.9 2-2V5c0-1.1-.9-2-2-2zM9 17H7v-7h2v7zm4 0h-2V7h2v10zm4 0h-2v-4h2v4z\"/>\n",
              "    </g>\n",
              "</svg>\n",
              "      </button>\n",
              "\n",
              "<style>\n",
              "  .colab-df-quickchart {\n",
              "      --bg-color: #E8F0FE;\n",
              "      --fill-color: #1967D2;\n",
              "      --hover-bg-color: #E2EBFA;\n",
              "      --hover-fill-color: #174EA6;\n",
              "      --disabled-fill-color: #AAA;\n",
              "      --disabled-bg-color: #DDD;\n",
              "  }\n",
              "\n",
              "  [theme=dark] .colab-df-quickchart {\n",
              "      --bg-color: #3B4455;\n",
              "      --fill-color: #D2E3FC;\n",
              "      --hover-bg-color: #434B5C;\n",
              "      --hover-fill-color: #FFFFFF;\n",
              "      --disabled-bg-color: #3B4455;\n",
              "      --disabled-fill-color: #666;\n",
              "  }\n",
              "\n",
              "  .colab-df-quickchart {\n",
              "    background-color: var(--bg-color);\n",
              "    border: none;\n",
              "    border-radius: 50%;\n",
              "    cursor: pointer;\n",
              "    display: none;\n",
              "    fill: var(--fill-color);\n",
              "    height: 32px;\n",
              "    padding: 0;\n",
              "    width: 32px;\n",
              "  }\n",
              "\n",
              "  .colab-df-quickchart:hover {\n",
              "    background-color: var(--hover-bg-color);\n",
              "    box-shadow: 0 1px 2px rgba(60, 64, 67, 0.3), 0 1px 3px 1px rgba(60, 64, 67, 0.15);\n",
              "    fill: var(--button-hover-fill-color);\n",
              "  }\n",
              "\n",
              "  .colab-df-quickchart-complete:disabled,\n",
              "  .colab-df-quickchart-complete:disabled:hover {\n",
              "    background-color: var(--disabled-bg-color);\n",
              "    fill: var(--disabled-fill-color);\n",
              "    box-shadow: none;\n",
              "  }\n",
              "\n",
              "  .colab-df-spinner {\n",
              "    border: 2px solid var(--fill-color);\n",
              "    border-color: transparent;\n",
              "    border-bottom-color: var(--fill-color);\n",
              "    animation:\n",
              "      spin 1s steps(1) infinite;\n",
              "  }\n",
              "\n",
              "  @keyframes spin {\n",
              "    0% {\n",
              "      border-color: transparent;\n",
              "      border-bottom-color: var(--fill-color);\n",
              "      border-left-color: var(--fill-color);\n",
              "    }\n",
              "    20% {\n",
              "      border-color: transparent;\n",
              "      border-left-color: var(--fill-color);\n",
              "      border-top-color: var(--fill-color);\n",
              "    }\n",
              "    30% {\n",
              "      border-color: transparent;\n",
              "      border-left-color: var(--fill-color);\n",
              "      border-top-color: var(--fill-color);\n",
              "      border-right-color: var(--fill-color);\n",
              "    }\n",
              "    40% {\n",
              "      border-color: transparent;\n",
              "      border-right-color: var(--fill-color);\n",
              "      border-top-color: var(--fill-color);\n",
              "    }\n",
              "    60% {\n",
              "      border-color: transparent;\n",
              "      border-right-color: var(--fill-color);\n",
              "    }\n",
              "    80% {\n",
              "      border-color: transparent;\n",
              "      border-right-color: var(--fill-color);\n",
              "      border-bottom-color: var(--fill-color);\n",
              "    }\n",
              "    90% {\n",
              "      border-color: transparent;\n",
              "      border-bottom-color: var(--fill-color);\n",
              "    }\n",
              "  }\n",
              "</style>\n",
              "\n",
              "      <script>\n",
              "        async function quickchart(key) {\n",
              "          const quickchartButtonEl =\n",
              "            document.querySelector('#' + key + ' button');\n",
              "          quickchartButtonEl.disabled = true;  // To prevent multiple clicks.\n",
              "          quickchartButtonEl.classList.add('colab-df-spinner');\n",
              "          try {\n",
              "            const charts = await google.colab.kernel.invokeFunction(\n",
              "                'suggestCharts', [key], {});\n",
              "          } catch (error) {\n",
              "            console.error('Error during call to suggestCharts:', error);\n",
              "          }\n",
              "          quickchartButtonEl.classList.remove('colab-df-spinner');\n",
              "          quickchartButtonEl.classList.add('colab-df-quickchart-complete');\n",
              "        }\n",
              "        (() => {\n",
              "          let quickchartButtonEl =\n",
              "            document.querySelector('#df-e9d0c095-3a96-4645-8ba8-c9b41fccbe28 button');\n",
              "          quickchartButtonEl.style.display =\n",
              "            google.colab.kernel.accessAllowed ? 'block' : 'none';\n",
              "        })();\n",
              "      </script>\n",
              "    </div>\n",
              "\n",
              "    </div>\n",
              "  </div>\n"
            ],
            "application/vnd.google.colaboratory.intrinsic+json": {
              "type": "dataframe",
              "variable_name": "data"
            }
          },
          "metadata": {},
          "execution_count": 16
        }
      ],
      "source": [
        "# View the first 5 rows of the data\n",
        "data.head()"
      ]
    },
    {
      "cell_type": "code",
      "source": [
        "# View the random 5 rows of the data\n",
        "data.sample(5)"
      ],
      "metadata": {
        "colab": {
          "base_uri": "https://localhost:8080/",
          "height": 224
        },
        "id": "Fz_xhS8kx1RM",
        "outputId": "3ef5c5fe-bc6a-41ea-dac1-6fd774438ca1"
      },
      "execution_count": 19,
      "outputs": [
        {
          "output_type": "execute_result",
          "data": {
            "text/plain": [
              "             V1        V2        V3        V4        V5        V6        V7  \\\n",
              "12365 -0.865510  5.692164  0.536557 -2.018056  4.102029  0.906019 -1.971559   \n",
              "3658  -2.952692  2.990575  2.798420  6.886305 -0.230974 -3.825550  3.391978   \n",
              "6440   0.031243  4.378197  2.638658 -1.663387  1.370646  0.487802  1.030531   \n",
              "12323  1.522571  5.226746 -0.792971 -1.871757  1.722754  2.104926  2.897732   \n",
              "2614  -1.337508  4.061027  4.010163  2.606545  0.909438 -3.744415  0.824524   \n",
              "\n",
              "             V8        V9       V10       V11       V12       V13       V14  \\\n",
              "12365 -0.350286  0.824725 -5.858247  0.635786  1.701083  4.617524 -3.454689   \n",
              "3658   4.256711 -6.324947  3.267224 -0.714763  7.214621 -8.138695 -2.910514   \n",
              "6440  -0.598754 -0.165546 -3.521110  0.287443  2.972607 -0.794103 -3.410518   \n",
              "12323  0.027696 -2.811567 -2.796529  2.042615  4.337199 -7.173215 -4.582503   \n",
              "2614   1.743639 -0.334120 -2.170743 -4.481036  5.971803  0.914982 -2.485791   \n",
              "\n",
              "            V15       V16       V17       V18        V19       V20       V21  \\\n",
              "12365 -8.212398 -2.723261 -1.108704  4.863182  -5.864433 -6.967733 -6.456283   \n",
              "3658   8.303217  5.607546  4.662501 -7.191370  12.806741  0.510319  4.238635   \n",
              "6440   0.823065 -0.417628  1.825141  0.871963  -1.235747 -2.149801 -0.255387   \n",
              "12323  5.770965  0.878148  4.167369  1.132478   0.768912 -4.762173  2.534663   \n",
              "2614  -0.860463 -1.404082  4.359562 -0.977271   3.469846  1.847646 -2.639490   \n",
              "\n",
              "            V22       V23       V24       V25        V26       V27       V28  \\\n",
              "12365  2.031085  5.004332  3.671372 -4.447144  10.134414 -8.374774 -5.504287   \n",
              "3658  -3.117212 -2.306832  8.791530 -1.110432  -0.560778 -4.106104  5.117022   \n",
              "6440  -1.374664 -2.150499 -1.497421  0.326396   4.421406 -1.934070 -1.485672   \n",
              "12323  0.122823  0.208396  3.816250 -0.067233   1.425026 -2.829440  1.448776   \n",
              "2614  -0.163637  0.166199  1.617410  0.486918   4.296530 -3.355955 -0.010596   \n",
              "\n",
              "            V29       V30       V31       V32       V33        V34       V35  \\\n",
              "12365  3.718306  5.542894  2.309166  7.612557  9.411135 -11.528120  3.674402   \n",
              "3658   0.741250  0.324264  1.677268  2.745912 -2.249887   9.420165  3.698424   \n",
              "6440   3.000696 -0.418108  0.162058 -5.914313  0.551700  -1.808494 -1.728906   \n",
              "12323  4.588435  1.276184 -0.599898 -4.481485  1.387527  -1.456149 -1.342713   \n",
              "2614  -2.048905 -2.532540 -0.423747 -1.999284 -4.500206   2.011647  0.074720   \n",
              "\n",
              "            V36       V37       V38       V39       V40  Target  \n",
              "12365 -2.377152  0.155650 -0.895426 -1.604811  3.238083       0  \n",
              "3658  -1.799824 -2.362097  6.467152 -0.554207 -3.558030       0  \n",
              "6440   0.000631  1.526098  2.268938  0.656063  4.400115       0  \n",
              "12323 -2.979432  1.016678  7.606000 -1.458332  6.281838       0  \n",
              "2614   1.203825  1.170167  0.077088  1.355504 -0.300615       0  "
            ],
            "text/html": [
              "\n",
              "  <div id=\"df-fe0ed7ab-7f40-4f55-bb8b-ecc10c8e754a\" class=\"colab-df-container\">\n",
              "    <div>\n",
              "<style scoped>\n",
              "    .dataframe tbody tr th:only-of-type {\n",
              "        vertical-align: middle;\n",
              "    }\n",
              "\n",
              "    .dataframe tbody tr th {\n",
              "        vertical-align: top;\n",
              "    }\n",
              "\n",
              "    .dataframe thead th {\n",
              "        text-align: right;\n",
              "    }\n",
              "</style>\n",
              "<table border=\"1\" class=\"dataframe\">\n",
              "  <thead>\n",
              "    <tr style=\"text-align: right;\">\n",
              "      <th></th>\n",
              "      <th>V1</th>\n",
              "      <th>V2</th>\n",
              "      <th>V3</th>\n",
              "      <th>V4</th>\n",
              "      <th>V5</th>\n",
              "      <th>V6</th>\n",
              "      <th>V7</th>\n",
              "      <th>V8</th>\n",
              "      <th>V9</th>\n",
              "      <th>V10</th>\n",
              "      <th>V11</th>\n",
              "      <th>V12</th>\n",
              "      <th>V13</th>\n",
              "      <th>V14</th>\n",
              "      <th>V15</th>\n",
              "      <th>V16</th>\n",
              "      <th>V17</th>\n",
              "      <th>V18</th>\n",
              "      <th>V19</th>\n",
              "      <th>V20</th>\n",
              "      <th>V21</th>\n",
              "      <th>V22</th>\n",
              "      <th>V23</th>\n",
              "      <th>V24</th>\n",
              "      <th>V25</th>\n",
              "      <th>V26</th>\n",
              "      <th>V27</th>\n",
              "      <th>V28</th>\n",
              "      <th>V29</th>\n",
              "      <th>V30</th>\n",
              "      <th>V31</th>\n",
              "      <th>V32</th>\n",
              "      <th>V33</th>\n",
              "      <th>V34</th>\n",
              "      <th>V35</th>\n",
              "      <th>V36</th>\n",
              "      <th>V37</th>\n",
              "      <th>V38</th>\n",
              "      <th>V39</th>\n",
              "      <th>V40</th>\n",
              "      <th>Target</th>\n",
              "    </tr>\n",
              "  </thead>\n",
              "  <tbody>\n",
              "    <tr>\n",
              "      <th>12365</th>\n",
              "      <td>-0.865510</td>\n",
              "      <td>5.692164</td>\n",
              "      <td>0.536557</td>\n",
              "      <td>-2.018056</td>\n",
              "      <td>4.102029</td>\n",
              "      <td>0.906019</td>\n",
              "      <td>-1.971559</td>\n",
              "      <td>-0.350286</td>\n",
              "      <td>0.824725</td>\n",
              "      <td>-5.858247</td>\n",
              "      <td>0.635786</td>\n",
              "      <td>1.701083</td>\n",
              "      <td>4.617524</td>\n",
              "      <td>-3.454689</td>\n",
              "      <td>-8.212398</td>\n",
              "      <td>-2.723261</td>\n",
              "      <td>-1.108704</td>\n",
              "      <td>4.863182</td>\n",
              "      <td>-5.864433</td>\n",
              "      <td>-6.967733</td>\n",
              "      <td>-6.456283</td>\n",
              "      <td>2.031085</td>\n",
              "      <td>5.004332</td>\n",
              "      <td>3.671372</td>\n",
              "      <td>-4.447144</td>\n",
              "      <td>10.134414</td>\n",
              "      <td>-8.374774</td>\n",
              "      <td>-5.504287</td>\n",
              "      <td>3.718306</td>\n",
              "      <td>5.542894</td>\n",
              "      <td>2.309166</td>\n",
              "      <td>7.612557</td>\n",
              "      <td>9.411135</td>\n",
              "      <td>-11.528120</td>\n",
              "      <td>3.674402</td>\n",
              "      <td>-2.377152</td>\n",
              "      <td>0.155650</td>\n",
              "      <td>-0.895426</td>\n",
              "      <td>-1.604811</td>\n",
              "      <td>3.238083</td>\n",
              "      <td>0</td>\n",
              "    </tr>\n",
              "    <tr>\n",
              "      <th>3658</th>\n",
              "      <td>-2.952692</td>\n",
              "      <td>2.990575</td>\n",
              "      <td>2.798420</td>\n",
              "      <td>6.886305</td>\n",
              "      <td>-0.230974</td>\n",
              "      <td>-3.825550</td>\n",
              "      <td>3.391978</td>\n",
              "      <td>4.256711</td>\n",
              "      <td>-6.324947</td>\n",
              "      <td>3.267224</td>\n",
              "      <td>-0.714763</td>\n",
              "      <td>7.214621</td>\n",
              "      <td>-8.138695</td>\n",
              "      <td>-2.910514</td>\n",
              "      <td>8.303217</td>\n",
              "      <td>5.607546</td>\n",
              "      <td>4.662501</td>\n",
              "      <td>-7.191370</td>\n",
              "      <td>12.806741</td>\n",
              "      <td>0.510319</td>\n",
              "      <td>4.238635</td>\n",
              "      <td>-3.117212</td>\n",
              "      <td>-2.306832</td>\n",
              "      <td>8.791530</td>\n",
              "      <td>-1.110432</td>\n",
              "      <td>-0.560778</td>\n",
              "      <td>-4.106104</td>\n",
              "      <td>5.117022</td>\n",
              "      <td>0.741250</td>\n",
              "      <td>0.324264</td>\n",
              "      <td>1.677268</td>\n",
              "      <td>2.745912</td>\n",
              "      <td>-2.249887</td>\n",
              "      <td>9.420165</td>\n",
              "      <td>3.698424</td>\n",
              "      <td>-1.799824</td>\n",
              "      <td>-2.362097</td>\n",
              "      <td>6.467152</td>\n",
              "      <td>-0.554207</td>\n",
              "      <td>-3.558030</td>\n",
              "      <td>0</td>\n",
              "    </tr>\n",
              "    <tr>\n",
              "      <th>6440</th>\n",
              "      <td>0.031243</td>\n",
              "      <td>4.378197</td>\n",
              "      <td>2.638658</td>\n",
              "      <td>-1.663387</td>\n",
              "      <td>1.370646</td>\n",
              "      <td>0.487802</td>\n",
              "      <td>1.030531</td>\n",
              "      <td>-0.598754</td>\n",
              "      <td>-0.165546</td>\n",
              "      <td>-3.521110</td>\n",
              "      <td>0.287443</td>\n",
              "      <td>2.972607</td>\n",
              "      <td>-0.794103</td>\n",
              "      <td>-3.410518</td>\n",
              "      <td>0.823065</td>\n",
              "      <td>-0.417628</td>\n",
              "      <td>1.825141</td>\n",
              "      <td>0.871963</td>\n",
              "      <td>-1.235747</td>\n",
              "      <td>-2.149801</td>\n",
              "      <td>-0.255387</td>\n",
              "      <td>-1.374664</td>\n",
              "      <td>-2.150499</td>\n",
              "      <td>-1.497421</td>\n",
              "      <td>0.326396</td>\n",
              "      <td>4.421406</td>\n",
              "      <td>-1.934070</td>\n",
              "      <td>-1.485672</td>\n",
              "      <td>3.000696</td>\n",
              "      <td>-0.418108</td>\n",
              "      <td>0.162058</td>\n",
              "      <td>-5.914313</td>\n",
              "      <td>0.551700</td>\n",
              "      <td>-1.808494</td>\n",
              "      <td>-1.728906</td>\n",
              "      <td>0.000631</td>\n",
              "      <td>1.526098</td>\n",
              "      <td>2.268938</td>\n",
              "      <td>0.656063</td>\n",
              "      <td>4.400115</td>\n",
              "      <td>0</td>\n",
              "    </tr>\n",
              "    <tr>\n",
              "      <th>12323</th>\n",
              "      <td>1.522571</td>\n",
              "      <td>5.226746</td>\n",
              "      <td>-0.792971</td>\n",
              "      <td>-1.871757</td>\n",
              "      <td>1.722754</td>\n",
              "      <td>2.104926</td>\n",
              "      <td>2.897732</td>\n",
              "      <td>0.027696</td>\n",
              "      <td>-2.811567</td>\n",
              "      <td>-2.796529</td>\n",
              "      <td>2.042615</td>\n",
              "      <td>4.337199</td>\n",
              "      <td>-7.173215</td>\n",
              "      <td>-4.582503</td>\n",
              "      <td>5.770965</td>\n",
              "      <td>0.878148</td>\n",
              "      <td>4.167369</td>\n",
              "      <td>1.132478</td>\n",
              "      <td>0.768912</td>\n",
              "      <td>-4.762173</td>\n",
              "      <td>2.534663</td>\n",
              "      <td>0.122823</td>\n",
              "      <td>0.208396</td>\n",
              "      <td>3.816250</td>\n",
              "      <td>-0.067233</td>\n",
              "      <td>1.425026</td>\n",
              "      <td>-2.829440</td>\n",
              "      <td>1.448776</td>\n",
              "      <td>4.588435</td>\n",
              "      <td>1.276184</td>\n",
              "      <td>-0.599898</td>\n",
              "      <td>-4.481485</td>\n",
              "      <td>1.387527</td>\n",
              "      <td>-1.456149</td>\n",
              "      <td>-1.342713</td>\n",
              "      <td>-2.979432</td>\n",
              "      <td>1.016678</td>\n",
              "      <td>7.606000</td>\n",
              "      <td>-1.458332</td>\n",
              "      <td>6.281838</td>\n",
              "      <td>0</td>\n",
              "    </tr>\n",
              "    <tr>\n",
              "      <th>2614</th>\n",
              "      <td>-1.337508</td>\n",
              "      <td>4.061027</td>\n",
              "      <td>4.010163</td>\n",
              "      <td>2.606545</td>\n",
              "      <td>0.909438</td>\n",
              "      <td>-3.744415</td>\n",
              "      <td>0.824524</td>\n",
              "      <td>1.743639</td>\n",
              "      <td>-0.334120</td>\n",
              "      <td>-2.170743</td>\n",
              "      <td>-4.481036</td>\n",
              "      <td>5.971803</td>\n",
              "      <td>0.914982</td>\n",
              "      <td>-2.485791</td>\n",
              "      <td>-0.860463</td>\n",
              "      <td>-1.404082</td>\n",
              "      <td>4.359562</td>\n",
              "      <td>-0.977271</td>\n",
              "      <td>3.469846</td>\n",
              "      <td>1.847646</td>\n",
              "      <td>-2.639490</td>\n",
              "      <td>-0.163637</td>\n",
              "      <td>0.166199</td>\n",
              "      <td>1.617410</td>\n",
              "      <td>0.486918</td>\n",
              "      <td>4.296530</td>\n",
              "      <td>-3.355955</td>\n",
              "      <td>-0.010596</td>\n",
              "      <td>-2.048905</td>\n",
              "      <td>-2.532540</td>\n",
              "      <td>-0.423747</td>\n",
              "      <td>-1.999284</td>\n",
              "      <td>-4.500206</td>\n",
              "      <td>2.011647</td>\n",
              "      <td>0.074720</td>\n",
              "      <td>1.203825</td>\n",
              "      <td>1.170167</td>\n",
              "      <td>0.077088</td>\n",
              "      <td>1.355504</td>\n",
              "      <td>-0.300615</td>\n",
              "      <td>0</td>\n",
              "    </tr>\n",
              "  </tbody>\n",
              "</table>\n",
              "</div>\n",
              "    <div class=\"colab-df-buttons\">\n",
              "\n",
              "  <div class=\"colab-df-container\">\n",
              "    <button class=\"colab-df-convert\" onclick=\"convertToInteractive('df-fe0ed7ab-7f40-4f55-bb8b-ecc10c8e754a')\"\n",
              "            title=\"Convert this dataframe to an interactive table.\"\n",
              "            style=\"display:none;\">\n",
              "\n",
              "  <svg xmlns=\"http://www.w3.org/2000/svg\" height=\"24px\" viewBox=\"0 -960 960 960\">\n",
              "    <path d=\"M120-120v-720h720v720H120Zm60-500h600v-160H180v160Zm220 220h160v-160H400v160Zm0 220h160v-160H400v160ZM180-400h160v-160H180v160Zm440 0h160v-160H620v160ZM180-180h160v-160H180v160Zm440 0h160v-160H620v160Z\"/>\n",
              "  </svg>\n",
              "    </button>\n",
              "\n",
              "  <style>\n",
              "    .colab-df-container {\n",
              "      display:flex;\n",
              "      gap: 12px;\n",
              "    }\n",
              "\n",
              "    .colab-df-convert {\n",
              "      background-color: #E8F0FE;\n",
              "      border: none;\n",
              "      border-radius: 50%;\n",
              "      cursor: pointer;\n",
              "      display: none;\n",
              "      fill: #1967D2;\n",
              "      height: 32px;\n",
              "      padding: 0 0 0 0;\n",
              "      width: 32px;\n",
              "    }\n",
              "\n",
              "    .colab-df-convert:hover {\n",
              "      background-color: #E2EBFA;\n",
              "      box-shadow: 0px 1px 2px rgba(60, 64, 67, 0.3), 0px 1px 3px 1px rgba(60, 64, 67, 0.15);\n",
              "      fill: #174EA6;\n",
              "    }\n",
              "\n",
              "    .colab-df-buttons div {\n",
              "      margin-bottom: 4px;\n",
              "    }\n",
              "\n",
              "    [theme=dark] .colab-df-convert {\n",
              "      background-color: #3B4455;\n",
              "      fill: #D2E3FC;\n",
              "    }\n",
              "\n",
              "    [theme=dark] .colab-df-convert:hover {\n",
              "      background-color: #434B5C;\n",
              "      box-shadow: 0px 1px 3px 1px rgba(0, 0, 0, 0.15);\n",
              "      filter: drop-shadow(0px 1px 2px rgba(0, 0, 0, 0.3));\n",
              "      fill: #FFFFFF;\n",
              "    }\n",
              "  </style>\n",
              "\n",
              "    <script>\n",
              "      const buttonEl =\n",
              "        document.querySelector('#df-fe0ed7ab-7f40-4f55-bb8b-ecc10c8e754a button.colab-df-convert');\n",
              "      buttonEl.style.display =\n",
              "        google.colab.kernel.accessAllowed ? 'block' : 'none';\n",
              "\n",
              "      async function convertToInteractive(key) {\n",
              "        const element = document.querySelector('#df-fe0ed7ab-7f40-4f55-bb8b-ecc10c8e754a');\n",
              "        const dataTable =\n",
              "          await google.colab.kernel.invokeFunction('convertToInteractive',\n",
              "                                                    [key], {});\n",
              "        if (!dataTable) return;\n",
              "\n",
              "        const docLinkHtml = 'Like what you see? Visit the ' +\n",
              "          '<a target=\"_blank\" href=https://colab.research.google.com/notebooks/data_table.ipynb>data table notebook</a>'\n",
              "          + ' to learn more about interactive tables.';\n",
              "        element.innerHTML = '';\n",
              "        dataTable['output_type'] = 'display_data';\n",
              "        await google.colab.output.renderOutput(dataTable, element);\n",
              "        const docLink = document.createElement('div');\n",
              "        docLink.innerHTML = docLinkHtml;\n",
              "        element.appendChild(docLink);\n",
              "      }\n",
              "    </script>\n",
              "  </div>\n",
              "\n",
              "\n",
              "    <div id=\"df-209d6382-e0ac-415c-8c86-f97246cb7a47\">\n",
              "      <button class=\"colab-df-quickchart\" onclick=\"quickchart('df-209d6382-e0ac-415c-8c86-f97246cb7a47')\"\n",
              "                title=\"Suggest charts\"\n",
              "                style=\"display:none;\">\n",
              "\n",
              "<svg xmlns=\"http://www.w3.org/2000/svg\" height=\"24px\"viewBox=\"0 0 24 24\"\n",
              "     width=\"24px\">\n",
              "    <g>\n",
              "        <path d=\"M19 3H5c-1.1 0-2 .9-2 2v14c0 1.1.9 2 2 2h14c1.1 0 2-.9 2-2V5c0-1.1-.9-2-2-2zM9 17H7v-7h2v7zm4 0h-2V7h2v10zm4 0h-2v-4h2v4z\"/>\n",
              "    </g>\n",
              "</svg>\n",
              "      </button>\n",
              "\n",
              "<style>\n",
              "  .colab-df-quickchart {\n",
              "      --bg-color: #E8F0FE;\n",
              "      --fill-color: #1967D2;\n",
              "      --hover-bg-color: #E2EBFA;\n",
              "      --hover-fill-color: #174EA6;\n",
              "      --disabled-fill-color: #AAA;\n",
              "      --disabled-bg-color: #DDD;\n",
              "  }\n",
              "\n",
              "  [theme=dark] .colab-df-quickchart {\n",
              "      --bg-color: #3B4455;\n",
              "      --fill-color: #D2E3FC;\n",
              "      --hover-bg-color: #434B5C;\n",
              "      --hover-fill-color: #FFFFFF;\n",
              "      --disabled-bg-color: #3B4455;\n",
              "      --disabled-fill-color: #666;\n",
              "  }\n",
              "\n",
              "  .colab-df-quickchart {\n",
              "    background-color: var(--bg-color);\n",
              "    border: none;\n",
              "    border-radius: 50%;\n",
              "    cursor: pointer;\n",
              "    display: none;\n",
              "    fill: var(--fill-color);\n",
              "    height: 32px;\n",
              "    padding: 0;\n",
              "    width: 32px;\n",
              "  }\n",
              "\n",
              "  .colab-df-quickchart:hover {\n",
              "    background-color: var(--hover-bg-color);\n",
              "    box-shadow: 0 1px 2px rgba(60, 64, 67, 0.3), 0 1px 3px 1px rgba(60, 64, 67, 0.15);\n",
              "    fill: var(--button-hover-fill-color);\n",
              "  }\n",
              "\n",
              "  .colab-df-quickchart-complete:disabled,\n",
              "  .colab-df-quickchart-complete:disabled:hover {\n",
              "    background-color: var(--disabled-bg-color);\n",
              "    fill: var(--disabled-fill-color);\n",
              "    box-shadow: none;\n",
              "  }\n",
              "\n",
              "  .colab-df-spinner {\n",
              "    border: 2px solid var(--fill-color);\n",
              "    border-color: transparent;\n",
              "    border-bottom-color: var(--fill-color);\n",
              "    animation:\n",
              "      spin 1s steps(1) infinite;\n",
              "  }\n",
              "\n",
              "  @keyframes spin {\n",
              "    0% {\n",
              "      border-color: transparent;\n",
              "      border-bottom-color: var(--fill-color);\n",
              "      border-left-color: var(--fill-color);\n",
              "    }\n",
              "    20% {\n",
              "      border-color: transparent;\n",
              "      border-left-color: var(--fill-color);\n",
              "      border-top-color: var(--fill-color);\n",
              "    }\n",
              "    30% {\n",
              "      border-color: transparent;\n",
              "      border-left-color: var(--fill-color);\n",
              "      border-top-color: var(--fill-color);\n",
              "      border-right-color: var(--fill-color);\n",
              "    }\n",
              "    40% {\n",
              "      border-color: transparent;\n",
              "      border-right-color: var(--fill-color);\n",
              "      border-top-color: var(--fill-color);\n",
              "    }\n",
              "    60% {\n",
              "      border-color: transparent;\n",
              "      border-right-color: var(--fill-color);\n",
              "    }\n",
              "    80% {\n",
              "      border-color: transparent;\n",
              "      border-right-color: var(--fill-color);\n",
              "      border-bottom-color: var(--fill-color);\n",
              "    }\n",
              "    90% {\n",
              "      border-color: transparent;\n",
              "      border-bottom-color: var(--fill-color);\n",
              "    }\n",
              "  }\n",
              "</style>\n",
              "\n",
              "      <script>\n",
              "        async function quickchart(key) {\n",
              "          const quickchartButtonEl =\n",
              "            document.querySelector('#' + key + ' button');\n",
              "          quickchartButtonEl.disabled = true;  // To prevent multiple clicks.\n",
              "          quickchartButtonEl.classList.add('colab-df-spinner');\n",
              "          try {\n",
              "            const charts = await google.colab.kernel.invokeFunction(\n",
              "                'suggestCharts', [key], {});\n",
              "          } catch (error) {\n",
              "            console.error('Error during call to suggestCharts:', error);\n",
              "          }\n",
              "          quickchartButtonEl.classList.remove('colab-df-spinner');\n",
              "          quickchartButtonEl.classList.add('colab-df-quickchart-complete');\n",
              "        }\n",
              "        (() => {\n",
              "          let quickchartButtonEl =\n",
              "            document.querySelector('#df-209d6382-e0ac-415c-8c86-f97246cb7a47 button');\n",
              "          quickchartButtonEl.style.display =\n",
              "            google.colab.kernel.accessAllowed ? 'block' : 'none';\n",
              "        })();\n",
              "      </script>\n",
              "    </div>\n",
              "\n",
              "    </div>\n",
              "  </div>\n"
            ],
            "application/vnd.google.colaboratory.intrinsic+json": {
              "type": "dataframe"
            }
          },
          "metadata": {},
          "execution_count": 19
        }
      ]
    },
    {
      "cell_type": "code",
      "execution_count": 17,
      "metadata": {
        "id": "47OhpabimjMy",
        "colab": {
          "base_uri": "https://localhost:8080/",
          "height": 224
        },
        "outputId": "8222955d-aeea-43b8-b660-c5c1e77e13db"
      },
      "outputs": [
        {
          "output_type": "execute_result",
          "data": {
            "text/plain": [
              "         V1        V2        V3        V4        V5        V6        V7  \\\n",
              "0 -0.613489 -3.819640  2.202302  1.300420 -1.184929 -4.495964 -1.835817   \n",
              "1  0.389608 -0.512341  0.527053 -2.576776 -1.016766  2.235112 -0.441301   \n",
              "2 -0.874861 -0.640632  4.084202 -1.590454  0.525855 -1.957592 -0.695367   \n",
              "3  0.238384  1.458607  4.014528  2.534478  1.196987 -3.117330 -0.924035   \n",
              "4  5.828225  2.768260 -1.234530  2.809264 -1.641648 -1.406698  0.568643   \n",
              "\n",
              "         V8        V9       V10       V11       V12       V13       V14  \\\n",
              "0  4.722989  1.206140 -0.341909 -5.122874  1.017021  4.818549  3.269001   \n",
              "1 -4.405744 -0.332869  1.966794  1.796544  0.410490  0.638328 -1.389600   \n",
              "2  1.347309 -1.732348  0.466500 -4.928214  3.565070 -0.449329 -0.656246   \n",
              "3  0.269493  1.322436  0.702345 -5.578345 -0.850662  2.590525  0.767418   \n",
              "4  0.965043  1.918379 -2.774855 -0.530016  1.374544 -0.650941 -1.679466   \n",
              "\n",
              "        V15       V16       V17       V18       V19       V20       V21  \\\n",
              "0 -2.984330  1.387370  2.032002 -0.511587 -1.023069  7.338733 -2.242244   \n",
              "1 -1.883410 -5.017922 -3.827238  2.418060  1.762285 -3.242297 -3.192960   \n",
              "2 -0.166537 -1.630207  2.291865  2.396492  0.601278  1.793534 -2.120238   \n",
              "3 -2.390809 -2.341961  0.571875 -0.933751  0.508677  1.210715 -3.259524   \n",
              "4 -0.379220 -4.443143  3.893857 -0.607640  2.944931  0.367233 -5.789081   \n",
              "\n",
              "        V22       V23       V24       V25       V26       V27       V28  \\\n",
              "0  0.155489  2.053786 -2.772273  1.851369 -1.788696 -0.277282 -1.255143   \n",
              "1  1.857454 -1.707954  0.633444 -0.587898  0.083683  3.013935 -0.182309   \n",
              "2  0.481968 -0.840707  1.790197  1.874395  0.363930 -0.169063 -0.483832   \n",
              "3  0.104587 -0.658875  1.498107  1.100305  4.142988 -0.248446 -1.136516   \n",
              "4  4.597528  4.450264  3.224941  0.396701  0.247765 -2.362047  1.079378   \n",
              "\n",
              "        V29       V30       V31       V32       V33       V34       V35  \\\n",
              "0 -3.832886 -1.504542  1.586765  2.291204 -5.411388  0.870073  0.574479   \n",
              "1  0.223917  0.865228 -1.782158 -2.474936  2.493582  0.315165  2.059288   \n",
              "2 -2.118982 -2.156586  2.907291 -1.318888 -2.997464  0.459664  0.619774   \n",
              "3 -5.355810 -4.545931  3.808667  3.517918 -3.074085 -0.284220  0.954576   \n",
              "4 -0.473076  2.242810 -3.591421  1.773841 -1.501573 -2.226702  4.776830   \n",
              "\n",
              "        V36       V37        V38       V39       V40  Target  \n",
              "0  4.157191  1.428093 -10.511342  0.454664 -1.448363       0  \n",
              "1  0.683859 -0.485452   5.128350  1.720744 -1.488235       0  \n",
              "2  5.631504  1.323512  -1.752154  1.808302  1.675748       0  \n",
              "3  3.029331 -1.367198  -3.412140  0.906000 -2.450889       0  \n",
              "4 -6.559698 -0.805551  -0.276007 -3.858207 -0.537694       0  "
            ],
            "text/html": [
              "\n",
              "  <div id=\"df-05c744ad-46ec-4074-b4ee-97029ef65832\" class=\"colab-df-container\">\n",
              "    <div>\n",
              "<style scoped>\n",
              "    .dataframe tbody tr th:only-of-type {\n",
              "        vertical-align: middle;\n",
              "    }\n",
              "\n",
              "    .dataframe tbody tr th {\n",
              "        vertical-align: top;\n",
              "    }\n",
              "\n",
              "    .dataframe thead th {\n",
              "        text-align: right;\n",
              "    }\n",
              "</style>\n",
              "<table border=\"1\" class=\"dataframe\">\n",
              "  <thead>\n",
              "    <tr style=\"text-align: right;\">\n",
              "      <th></th>\n",
              "      <th>V1</th>\n",
              "      <th>V2</th>\n",
              "      <th>V3</th>\n",
              "      <th>V4</th>\n",
              "      <th>V5</th>\n",
              "      <th>V6</th>\n",
              "      <th>V7</th>\n",
              "      <th>V8</th>\n",
              "      <th>V9</th>\n",
              "      <th>V10</th>\n",
              "      <th>V11</th>\n",
              "      <th>V12</th>\n",
              "      <th>V13</th>\n",
              "      <th>V14</th>\n",
              "      <th>V15</th>\n",
              "      <th>V16</th>\n",
              "      <th>V17</th>\n",
              "      <th>V18</th>\n",
              "      <th>V19</th>\n",
              "      <th>V20</th>\n",
              "      <th>V21</th>\n",
              "      <th>V22</th>\n",
              "      <th>V23</th>\n",
              "      <th>V24</th>\n",
              "      <th>V25</th>\n",
              "      <th>V26</th>\n",
              "      <th>V27</th>\n",
              "      <th>V28</th>\n",
              "      <th>V29</th>\n",
              "      <th>V30</th>\n",
              "      <th>V31</th>\n",
              "      <th>V32</th>\n",
              "      <th>V33</th>\n",
              "      <th>V34</th>\n",
              "      <th>V35</th>\n",
              "      <th>V36</th>\n",
              "      <th>V37</th>\n",
              "      <th>V38</th>\n",
              "      <th>V39</th>\n",
              "      <th>V40</th>\n",
              "      <th>Target</th>\n",
              "    </tr>\n",
              "  </thead>\n",
              "  <tbody>\n",
              "    <tr>\n",
              "      <th>0</th>\n",
              "      <td>-0.613489</td>\n",
              "      <td>-3.819640</td>\n",
              "      <td>2.202302</td>\n",
              "      <td>1.300420</td>\n",
              "      <td>-1.184929</td>\n",
              "      <td>-4.495964</td>\n",
              "      <td>-1.835817</td>\n",
              "      <td>4.722989</td>\n",
              "      <td>1.206140</td>\n",
              "      <td>-0.341909</td>\n",
              "      <td>-5.122874</td>\n",
              "      <td>1.017021</td>\n",
              "      <td>4.818549</td>\n",
              "      <td>3.269001</td>\n",
              "      <td>-2.984330</td>\n",
              "      <td>1.387370</td>\n",
              "      <td>2.032002</td>\n",
              "      <td>-0.511587</td>\n",
              "      <td>-1.023069</td>\n",
              "      <td>7.338733</td>\n",
              "      <td>-2.242244</td>\n",
              "      <td>0.155489</td>\n",
              "      <td>2.053786</td>\n",
              "      <td>-2.772273</td>\n",
              "      <td>1.851369</td>\n",
              "      <td>-1.788696</td>\n",
              "      <td>-0.277282</td>\n",
              "      <td>-1.255143</td>\n",
              "      <td>-3.832886</td>\n",
              "      <td>-1.504542</td>\n",
              "      <td>1.586765</td>\n",
              "      <td>2.291204</td>\n",
              "      <td>-5.411388</td>\n",
              "      <td>0.870073</td>\n",
              "      <td>0.574479</td>\n",
              "      <td>4.157191</td>\n",
              "      <td>1.428093</td>\n",
              "      <td>-10.511342</td>\n",
              "      <td>0.454664</td>\n",
              "      <td>-1.448363</td>\n",
              "      <td>0</td>\n",
              "    </tr>\n",
              "    <tr>\n",
              "      <th>1</th>\n",
              "      <td>0.389608</td>\n",
              "      <td>-0.512341</td>\n",
              "      <td>0.527053</td>\n",
              "      <td>-2.576776</td>\n",
              "      <td>-1.016766</td>\n",
              "      <td>2.235112</td>\n",
              "      <td>-0.441301</td>\n",
              "      <td>-4.405744</td>\n",
              "      <td>-0.332869</td>\n",
              "      <td>1.966794</td>\n",
              "      <td>1.796544</td>\n",
              "      <td>0.410490</td>\n",
              "      <td>0.638328</td>\n",
              "      <td>-1.389600</td>\n",
              "      <td>-1.883410</td>\n",
              "      <td>-5.017922</td>\n",
              "      <td>-3.827238</td>\n",
              "      <td>2.418060</td>\n",
              "      <td>1.762285</td>\n",
              "      <td>-3.242297</td>\n",
              "      <td>-3.192960</td>\n",
              "      <td>1.857454</td>\n",
              "      <td>-1.707954</td>\n",
              "      <td>0.633444</td>\n",
              "      <td>-0.587898</td>\n",
              "      <td>0.083683</td>\n",
              "      <td>3.013935</td>\n",
              "      <td>-0.182309</td>\n",
              "      <td>0.223917</td>\n",
              "      <td>0.865228</td>\n",
              "      <td>-1.782158</td>\n",
              "      <td>-2.474936</td>\n",
              "      <td>2.493582</td>\n",
              "      <td>0.315165</td>\n",
              "      <td>2.059288</td>\n",
              "      <td>0.683859</td>\n",
              "      <td>-0.485452</td>\n",
              "      <td>5.128350</td>\n",
              "      <td>1.720744</td>\n",
              "      <td>-1.488235</td>\n",
              "      <td>0</td>\n",
              "    </tr>\n",
              "    <tr>\n",
              "      <th>2</th>\n",
              "      <td>-0.874861</td>\n",
              "      <td>-0.640632</td>\n",
              "      <td>4.084202</td>\n",
              "      <td>-1.590454</td>\n",
              "      <td>0.525855</td>\n",
              "      <td>-1.957592</td>\n",
              "      <td>-0.695367</td>\n",
              "      <td>1.347309</td>\n",
              "      <td>-1.732348</td>\n",
              "      <td>0.466500</td>\n",
              "      <td>-4.928214</td>\n",
              "      <td>3.565070</td>\n",
              "      <td>-0.449329</td>\n",
              "      <td>-0.656246</td>\n",
              "      <td>-0.166537</td>\n",
              "      <td>-1.630207</td>\n",
              "      <td>2.291865</td>\n",
              "      <td>2.396492</td>\n",
              "      <td>0.601278</td>\n",
              "      <td>1.793534</td>\n",
              "      <td>-2.120238</td>\n",
              "      <td>0.481968</td>\n",
              "      <td>-0.840707</td>\n",
              "      <td>1.790197</td>\n",
              "      <td>1.874395</td>\n",
              "      <td>0.363930</td>\n",
              "      <td>-0.169063</td>\n",
              "      <td>-0.483832</td>\n",
              "      <td>-2.118982</td>\n",
              "      <td>-2.156586</td>\n",
              "      <td>2.907291</td>\n",
              "      <td>-1.318888</td>\n",
              "      <td>-2.997464</td>\n",
              "      <td>0.459664</td>\n",
              "      <td>0.619774</td>\n",
              "      <td>5.631504</td>\n",
              "      <td>1.323512</td>\n",
              "      <td>-1.752154</td>\n",
              "      <td>1.808302</td>\n",
              "      <td>1.675748</td>\n",
              "      <td>0</td>\n",
              "    </tr>\n",
              "    <tr>\n",
              "      <th>3</th>\n",
              "      <td>0.238384</td>\n",
              "      <td>1.458607</td>\n",
              "      <td>4.014528</td>\n",
              "      <td>2.534478</td>\n",
              "      <td>1.196987</td>\n",
              "      <td>-3.117330</td>\n",
              "      <td>-0.924035</td>\n",
              "      <td>0.269493</td>\n",
              "      <td>1.322436</td>\n",
              "      <td>0.702345</td>\n",
              "      <td>-5.578345</td>\n",
              "      <td>-0.850662</td>\n",
              "      <td>2.590525</td>\n",
              "      <td>0.767418</td>\n",
              "      <td>-2.390809</td>\n",
              "      <td>-2.341961</td>\n",
              "      <td>0.571875</td>\n",
              "      <td>-0.933751</td>\n",
              "      <td>0.508677</td>\n",
              "      <td>1.210715</td>\n",
              "      <td>-3.259524</td>\n",
              "      <td>0.104587</td>\n",
              "      <td>-0.658875</td>\n",
              "      <td>1.498107</td>\n",
              "      <td>1.100305</td>\n",
              "      <td>4.142988</td>\n",
              "      <td>-0.248446</td>\n",
              "      <td>-1.136516</td>\n",
              "      <td>-5.355810</td>\n",
              "      <td>-4.545931</td>\n",
              "      <td>3.808667</td>\n",
              "      <td>3.517918</td>\n",
              "      <td>-3.074085</td>\n",
              "      <td>-0.284220</td>\n",
              "      <td>0.954576</td>\n",
              "      <td>3.029331</td>\n",
              "      <td>-1.367198</td>\n",
              "      <td>-3.412140</td>\n",
              "      <td>0.906000</td>\n",
              "      <td>-2.450889</td>\n",
              "      <td>0</td>\n",
              "    </tr>\n",
              "    <tr>\n",
              "      <th>4</th>\n",
              "      <td>5.828225</td>\n",
              "      <td>2.768260</td>\n",
              "      <td>-1.234530</td>\n",
              "      <td>2.809264</td>\n",
              "      <td>-1.641648</td>\n",
              "      <td>-1.406698</td>\n",
              "      <td>0.568643</td>\n",
              "      <td>0.965043</td>\n",
              "      <td>1.918379</td>\n",
              "      <td>-2.774855</td>\n",
              "      <td>-0.530016</td>\n",
              "      <td>1.374544</td>\n",
              "      <td>-0.650941</td>\n",
              "      <td>-1.679466</td>\n",
              "      <td>-0.379220</td>\n",
              "      <td>-4.443143</td>\n",
              "      <td>3.893857</td>\n",
              "      <td>-0.607640</td>\n",
              "      <td>2.944931</td>\n",
              "      <td>0.367233</td>\n",
              "      <td>-5.789081</td>\n",
              "      <td>4.597528</td>\n",
              "      <td>4.450264</td>\n",
              "      <td>3.224941</td>\n",
              "      <td>0.396701</td>\n",
              "      <td>0.247765</td>\n",
              "      <td>-2.362047</td>\n",
              "      <td>1.079378</td>\n",
              "      <td>-0.473076</td>\n",
              "      <td>2.242810</td>\n",
              "      <td>-3.591421</td>\n",
              "      <td>1.773841</td>\n",
              "      <td>-1.501573</td>\n",
              "      <td>-2.226702</td>\n",
              "      <td>4.776830</td>\n",
              "      <td>-6.559698</td>\n",
              "      <td>-0.805551</td>\n",
              "      <td>-0.276007</td>\n",
              "      <td>-3.858207</td>\n",
              "      <td>-0.537694</td>\n",
              "      <td>0</td>\n",
              "    </tr>\n",
              "  </tbody>\n",
              "</table>\n",
              "</div>\n",
              "    <div class=\"colab-df-buttons\">\n",
              "\n",
              "  <div class=\"colab-df-container\">\n",
              "    <button class=\"colab-df-convert\" onclick=\"convertToInteractive('df-05c744ad-46ec-4074-b4ee-97029ef65832')\"\n",
              "            title=\"Convert this dataframe to an interactive table.\"\n",
              "            style=\"display:none;\">\n",
              "\n",
              "  <svg xmlns=\"http://www.w3.org/2000/svg\" height=\"24px\" viewBox=\"0 -960 960 960\">\n",
              "    <path d=\"M120-120v-720h720v720H120Zm60-500h600v-160H180v160Zm220 220h160v-160H400v160Zm0 220h160v-160H400v160ZM180-400h160v-160H180v160Zm440 0h160v-160H620v160ZM180-180h160v-160H180v160Zm440 0h160v-160H620v160Z\"/>\n",
              "  </svg>\n",
              "    </button>\n",
              "\n",
              "  <style>\n",
              "    .colab-df-container {\n",
              "      display:flex;\n",
              "      gap: 12px;\n",
              "    }\n",
              "\n",
              "    .colab-df-convert {\n",
              "      background-color: #E8F0FE;\n",
              "      border: none;\n",
              "      border-radius: 50%;\n",
              "      cursor: pointer;\n",
              "      display: none;\n",
              "      fill: #1967D2;\n",
              "      height: 32px;\n",
              "      padding: 0 0 0 0;\n",
              "      width: 32px;\n",
              "    }\n",
              "\n",
              "    .colab-df-convert:hover {\n",
              "      background-color: #E2EBFA;\n",
              "      box-shadow: 0px 1px 2px rgba(60, 64, 67, 0.3), 0px 1px 3px 1px rgba(60, 64, 67, 0.15);\n",
              "      fill: #174EA6;\n",
              "    }\n",
              "\n",
              "    .colab-df-buttons div {\n",
              "      margin-bottom: 4px;\n",
              "    }\n",
              "\n",
              "    [theme=dark] .colab-df-convert {\n",
              "      background-color: #3B4455;\n",
              "      fill: #D2E3FC;\n",
              "    }\n",
              "\n",
              "    [theme=dark] .colab-df-convert:hover {\n",
              "      background-color: #434B5C;\n",
              "      box-shadow: 0px 1px 3px 1px rgba(0, 0, 0, 0.15);\n",
              "      filter: drop-shadow(0px 1px 2px rgba(0, 0, 0, 0.3));\n",
              "      fill: #FFFFFF;\n",
              "    }\n",
              "  </style>\n",
              "\n",
              "    <script>\n",
              "      const buttonEl =\n",
              "        document.querySelector('#df-05c744ad-46ec-4074-b4ee-97029ef65832 button.colab-df-convert');\n",
              "      buttonEl.style.display =\n",
              "        google.colab.kernel.accessAllowed ? 'block' : 'none';\n",
              "\n",
              "      async function convertToInteractive(key) {\n",
              "        const element = document.querySelector('#df-05c744ad-46ec-4074-b4ee-97029ef65832');\n",
              "        const dataTable =\n",
              "          await google.colab.kernel.invokeFunction('convertToInteractive',\n",
              "                                                    [key], {});\n",
              "        if (!dataTable) return;\n",
              "\n",
              "        const docLinkHtml = 'Like what you see? Visit the ' +\n",
              "          '<a target=\"_blank\" href=https://colab.research.google.com/notebooks/data_table.ipynb>data table notebook</a>'\n",
              "          + ' to learn more about interactive tables.';\n",
              "        element.innerHTML = '';\n",
              "        dataTable['output_type'] = 'display_data';\n",
              "        await google.colab.output.renderOutput(dataTable, element);\n",
              "        const docLink = document.createElement('div');\n",
              "        docLink.innerHTML = docLinkHtml;\n",
              "        element.appendChild(docLink);\n",
              "      }\n",
              "    </script>\n",
              "  </div>\n",
              "\n",
              "\n",
              "    <div id=\"df-46d95682-2960-4d51-9607-9171ee622a00\">\n",
              "      <button class=\"colab-df-quickchart\" onclick=\"quickchart('df-46d95682-2960-4d51-9607-9171ee622a00')\"\n",
              "                title=\"Suggest charts\"\n",
              "                style=\"display:none;\">\n",
              "\n",
              "<svg xmlns=\"http://www.w3.org/2000/svg\" height=\"24px\"viewBox=\"0 0 24 24\"\n",
              "     width=\"24px\">\n",
              "    <g>\n",
              "        <path d=\"M19 3H5c-1.1 0-2 .9-2 2v14c0 1.1.9 2 2 2h14c1.1 0 2-.9 2-2V5c0-1.1-.9-2-2-2zM9 17H7v-7h2v7zm4 0h-2V7h2v10zm4 0h-2v-4h2v4z\"/>\n",
              "    </g>\n",
              "</svg>\n",
              "      </button>\n",
              "\n",
              "<style>\n",
              "  .colab-df-quickchart {\n",
              "      --bg-color: #E8F0FE;\n",
              "      --fill-color: #1967D2;\n",
              "      --hover-bg-color: #E2EBFA;\n",
              "      --hover-fill-color: #174EA6;\n",
              "      --disabled-fill-color: #AAA;\n",
              "      --disabled-bg-color: #DDD;\n",
              "  }\n",
              "\n",
              "  [theme=dark] .colab-df-quickchart {\n",
              "      --bg-color: #3B4455;\n",
              "      --fill-color: #D2E3FC;\n",
              "      --hover-bg-color: #434B5C;\n",
              "      --hover-fill-color: #FFFFFF;\n",
              "      --disabled-bg-color: #3B4455;\n",
              "      --disabled-fill-color: #666;\n",
              "  }\n",
              "\n",
              "  .colab-df-quickchart {\n",
              "    background-color: var(--bg-color);\n",
              "    border: none;\n",
              "    border-radius: 50%;\n",
              "    cursor: pointer;\n",
              "    display: none;\n",
              "    fill: var(--fill-color);\n",
              "    height: 32px;\n",
              "    padding: 0;\n",
              "    width: 32px;\n",
              "  }\n",
              "\n",
              "  .colab-df-quickchart:hover {\n",
              "    background-color: var(--hover-bg-color);\n",
              "    box-shadow: 0 1px 2px rgba(60, 64, 67, 0.3), 0 1px 3px 1px rgba(60, 64, 67, 0.15);\n",
              "    fill: var(--button-hover-fill-color);\n",
              "  }\n",
              "\n",
              "  .colab-df-quickchart-complete:disabled,\n",
              "  .colab-df-quickchart-complete:disabled:hover {\n",
              "    background-color: var(--disabled-bg-color);\n",
              "    fill: var(--disabled-fill-color);\n",
              "    box-shadow: none;\n",
              "  }\n",
              "\n",
              "  .colab-df-spinner {\n",
              "    border: 2px solid var(--fill-color);\n",
              "    border-color: transparent;\n",
              "    border-bottom-color: var(--fill-color);\n",
              "    animation:\n",
              "      spin 1s steps(1) infinite;\n",
              "  }\n",
              "\n",
              "  @keyframes spin {\n",
              "    0% {\n",
              "      border-color: transparent;\n",
              "      border-bottom-color: var(--fill-color);\n",
              "      border-left-color: var(--fill-color);\n",
              "    }\n",
              "    20% {\n",
              "      border-color: transparent;\n",
              "      border-left-color: var(--fill-color);\n",
              "      border-top-color: var(--fill-color);\n",
              "    }\n",
              "    30% {\n",
              "      border-color: transparent;\n",
              "      border-left-color: var(--fill-color);\n",
              "      border-top-color: var(--fill-color);\n",
              "      border-right-color: var(--fill-color);\n",
              "    }\n",
              "    40% {\n",
              "      border-color: transparent;\n",
              "      border-right-color: var(--fill-color);\n",
              "      border-top-color: var(--fill-color);\n",
              "    }\n",
              "    60% {\n",
              "      border-color: transparent;\n",
              "      border-right-color: var(--fill-color);\n",
              "    }\n",
              "    80% {\n",
              "      border-color: transparent;\n",
              "      border-right-color: var(--fill-color);\n",
              "      border-bottom-color: var(--fill-color);\n",
              "    }\n",
              "    90% {\n",
              "      border-color: transparent;\n",
              "      border-bottom-color: var(--fill-color);\n",
              "    }\n",
              "  }\n",
              "</style>\n",
              "\n",
              "      <script>\n",
              "        async function quickchart(key) {\n",
              "          const quickchartButtonEl =\n",
              "            document.querySelector('#' + key + ' button');\n",
              "          quickchartButtonEl.disabled = true;  // To prevent multiple clicks.\n",
              "          quickchartButtonEl.classList.add('colab-df-spinner');\n",
              "          try {\n",
              "            const charts = await google.colab.kernel.invokeFunction(\n",
              "                'suggestCharts', [key], {});\n",
              "          } catch (error) {\n",
              "            console.error('Error during call to suggestCharts:', error);\n",
              "          }\n",
              "          quickchartButtonEl.classList.remove('colab-df-spinner');\n",
              "          quickchartButtonEl.classList.add('colab-df-quickchart-complete');\n",
              "        }\n",
              "        (() => {\n",
              "          let quickchartButtonEl =\n",
              "            document.querySelector('#df-46d95682-2960-4d51-9607-9171ee622a00 button');\n",
              "          quickchartButtonEl.style.display =\n",
              "            google.colab.kernel.accessAllowed ? 'block' : 'none';\n",
              "        })();\n",
              "      </script>\n",
              "    </div>\n",
              "\n",
              "    </div>\n",
              "  </div>\n"
            ],
            "application/vnd.google.colaboratory.intrinsic+json": {
              "type": "dataframe",
              "variable_name": "data_test"
            }
          },
          "metadata": {},
          "execution_count": 17
        }
      ],
      "source": [
        "# View the first 5 rows of the test data\n",
        "data_test.head()"
      ]
    },
    {
      "cell_type": "code",
      "source": [
        "# View the random 5 rows of the data_test\n",
        "data_test.sample(5)"
      ],
      "metadata": {
        "colab": {
          "base_uri": "https://localhost:8080/",
          "height": 224
        },
        "id": "pKR5u9XtyAr7",
        "outputId": "4cc17c77-7481-4048-f60f-7e13516d4e0b"
      },
      "execution_count": 20,
      "outputs": [
        {
          "output_type": "execute_result",
          "data": {
            "text/plain": [
              "             V1        V2         V3        V4        V5        V6        V7  \\\n",
              "3384   6.047141 -0.577467   7.583441 -5.522686 -2.997158 -0.103602 -0.164649   \n",
              "2042  -2.363932 -0.948679   5.076473  0.355101  0.152085 -3.213755 -2.185697   \n",
              "4923  -2.100948  1.459912  -0.823338  2.481374 -0.418867  1.232708  1.704213   \n",
              "1366  11.853916 -0.521551  10.542662 -6.010280 -5.569016 -2.899862  0.691800   \n",
              "3809  -3.017376 -2.709187   2.523789 -0.540571 -0.601182 -2.699302 -1.159025   \n",
              "\n",
              "            V8        V9       V10       V11       V12       V13       V14  \\\n",
              "3384 -4.399032  0.738743  3.103743 -0.460531  1.204339  5.077219 -0.667234   \n",
              "2042  1.410698 -0.208905  0.007365 -4.778761  2.688391  4.056733 -0.069347   \n",
              "4923 -0.981543  0.626722 -1.010931  3.243339 -1.622280 -3.166487 -0.961919   \n",
              "1366 -0.923280  1.359207  1.909256 -0.473939  3.482217  7.697562 -0.178125   \n",
              "3809  0.780486 -2.114590  2.983952 -4.085437  5.152498  3.027366  0.565604   \n",
              "\n",
              "           V15       V16       V17       V18       V19       V20        V21  \\\n",
              "3384 -1.701258 -7.027076 -7.517600  0.552825  1.939233 -3.605064  -8.432839   \n",
              "2042 -4.579965 -2.166423  0.332293  1.393106  0.804688  2.862187  -4.749834   \n",
              "4923  4.405121  3.567865  1.678911 -3.690908  1.253508  1.843977   6.440705   \n",
              "1366 -0.457465 -5.950341 -7.740553 -2.513609  3.143390 -2.390992 -12.317863   \n",
              "3809 -3.611466 -2.456682 -0.932277  1.881228  3.744462  1.952723  -3.845666   \n",
              "\n",
              "           V22       V23       V24       V25       V26        V27       V28  \\\n",
              "3384  1.786912 -5.808664 -4.338301  3.088036  3.309570   9.883356 -3.763415   \n",
              "2042  0.030272 -0.688616  0.436001  0.316960  2.612603  -1.761085 -2.112311   \n",
              "4923 -4.464502 -4.885407 -4.394096  0.299725 -1.177325  -0.140100  2.183063   \n",
              "1366  2.610703 -5.259944 -7.322101  5.113518  3.914779  12.151647 -5.716339   \n",
              "3809  1.867946  1.464968  2.890706 -0.257153 -0.738511   0.776415 -0.011879   \n",
              "\n",
              "           V29       V30       V31       V32       V33       V34       V35  \\\n",
              "3384 -3.297076 -4.127534  3.809160 -7.074897 -1.644014  0.230345  4.165151   \n",
              "2042 -2.271382 -0.574165  2.563961  1.762584 -1.152838 -0.165194  2.815612   \n",
              "4923  3.599719 -0.706116 -3.473970 -7.288855 -0.843240  4.467775 -4.646543   \n",
              "1366 -3.707279 -4.196165  6.087753 -8.293125 -4.633111 -0.404681  7.724667   \n",
              "3809 -4.211736 -0.931714  0.462981  2.276361 -2.693306  3.230045  2.535663   \n",
              "\n",
              "           V36       V37       V38       V39       V40  Target  \n",
              "3384  6.093763 -1.565294  0.024926  3.211779 -1.133957       0  \n",
              "2042  4.922154  0.677564 -4.857985  2.011826 -1.536051       0  \n",
              "4923 -3.173467  0.660310  3.393780  0.355697  0.642774       1  \n",
              "1366  5.849321 -2.126585 -6.004813  1.402738 -0.382705       0  \n",
              "3809  5.733430  0.704126 -0.755332  3.145318 -3.730198       0  "
            ],
            "text/html": [
              "\n",
              "  <div id=\"df-aac0f683-2bc2-4e9a-b9d6-1307713ce741\" class=\"colab-df-container\">\n",
              "    <div>\n",
              "<style scoped>\n",
              "    .dataframe tbody tr th:only-of-type {\n",
              "        vertical-align: middle;\n",
              "    }\n",
              "\n",
              "    .dataframe tbody tr th {\n",
              "        vertical-align: top;\n",
              "    }\n",
              "\n",
              "    .dataframe thead th {\n",
              "        text-align: right;\n",
              "    }\n",
              "</style>\n",
              "<table border=\"1\" class=\"dataframe\">\n",
              "  <thead>\n",
              "    <tr style=\"text-align: right;\">\n",
              "      <th></th>\n",
              "      <th>V1</th>\n",
              "      <th>V2</th>\n",
              "      <th>V3</th>\n",
              "      <th>V4</th>\n",
              "      <th>V5</th>\n",
              "      <th>V6</th>\n",
              "      <th>V7</th>\n",
              "      <th>V8</th>\n",
              "      <th>V9</th>\n",
              "      <th>V10</th>\n",
              "      <th>V11</th>\n",
              "      <th>V12</th>\n",
              "      <th>V13</th>\n",
              "      <th>V14</th>\n",
              "      <th>V15</th>\n",
              "      <th>V16</th>\n",
              "      <th>V17</th>\n",
              "      <th>V18</th>\n",
              "      <th>V19</th>\n",
              "      <th>V20</th>\n",
              "      <th>V21</th>\n",
              "      <th>V22</th>\n",
              "      <th>V23</th>\n",
              "      <th>V24</th>\n",
              "      <th>V25</th>\n",
              "      <th>V26</th>\n",
              "      <th>V27</th>\n",
              "      <th>V28</th>\n",
              "      <th>V29</th>\n",
              "      <th>V30</th>\n",
              "      <th>V31</th>\n",
              "      <th>V32</th>\n",
              "      <th>V33</th>\n",
              "      <th>V34</th>\n",
              "      <th>V35</th>\n",
              "      <th>V36</th>\n",
              "      <th>V37</th>\n",
              "      <th>V38</th>\n",
              "      <th>V39</th>\n",
              "      <th>V40</th>\n",
              "      <th>Target</th>\n",
              "    </tr>\n",
              "  </thead>\n",
              "  <tbody>\n",
              "    <tr>\n",
              "      <th>3384</th>\n",
              "      <td>6.047141</td>\n",
              "      <td>-0.577467</td>\n",
              "      <td>7.583441</td>\n",
              "      <td>-5.522686</td>\n",
              "      <td>-2.997158</td>\n",
              "      <td>-0.103602</td>\n",
              "      <td>-0.164649</td>\n",
              "      <td>-4.399032</td>\n",
              "      <td>0.738743</td>\n",
              "      <td>3.103743</td>\n",
              "      <td>-0.460531</td>\n",
              "      <td>1.204339</td>\n",
              "      <td>5.077219</td>\n",
              "      <td>-0.667234</td>\n",
              "      <td>-1.701258</td>\n",
              "      <td>-7.027076</td>\n",
              "      <td>-7.517600</td>\n",
              "      <td>0.552825</td>\n",
              "      <td>1.939233</td>\n",
              "      <td>-3.605064</td>\n",
              "      <td>-8.432839</td>\n",
              "      <td>1.786912</td>\n",
              "      <td>-5.808664</td>\n",
              "      <td>-4.338301</td>\n",
              "      <td>3.088036</td>\n",
              "      <td>3.309570</td>\n",
              "      <td>9.883356</td>\n",
              "      <td>-3.763415</td>\n",
              "      <td>-3.297076</td>\n",
              "      <td>-4.127534</td>\n",
              "      <td>3.809160</td>\n",
              "      <td>-7.074897</td>\n",
              "      <td>-1.644014</td>\n",
              "      <td>0.230345</td>\n",
              "      <td>4.165151</td>\n",
              "      <td>6.093763</td>\n",
              "      <td>-1.565294</td>\n",
              "      <td>0.024926</td>\n",
              "      <td>3.211779</td>\n",
              "      <td>-1.133957</td>\n",
              "      <td>0</td>\n",
              "    </tr>\n",
              "    <tr>\n",
              "      <th>2042</th>\n",
              "      <td>-2.363932</td>\n",
              "      <td>-0.948679</td>\n",
              "      <td>5.076473</td>\n",
              "      <td>0.355101</td>\n",
              "      <td>0.152085</td>\n",
              "      <td>-3.213755</td>\n",
              "      <td>-2.185697</td>\n",
              "      <td>1.410698</td>\n",
              "      <td>-0.208905</td>\n",
              "      <td>0.007365</td>\n",
              "      <td>-4.778761</td>\n",
              "      <td>2.688391</td>\n",
              "      <td>4.056733</td>\n",
              "      <td>-0.069347</td>\n",
              "      <td>-4.579965</td>\n",
              "      <td>-2.166423</td>\n",
              "      <td>0.332293</td>\n",
              "      <td>1.393106</td>\n",
              "      <td>0.804688</td>\n",
              "      <td>2.862187</td>\n",
              "      <td>-4.749834</td>\n",
              "      <td>0.030272</td>\n",
              "      <td>-0.688616</td>\n",
              "      <td>0.436001</td>\n",
              "      <td>0.316960</td>\n",
              "      <td>2.612603</td>\n",
              "      <td>-1.761085</td>\n",
              "      <td>-2.112311</td>\n",
              "      <td>-2.271382</td>\n",
              "      <td>-0.574165</td>\n",
              "      <td>2.563961</td>\n",
              "      <td>1.762584</td>\n",
              "      <td>-1.152838</td>\n",
              "      <td>-0.165194</td>\n",
              "      <td>2.815612</td>\n",
              "      <td>4.922154</td>\n",
              "      <td>0.677564</td>\n",
              "      <td>-4.857985</td>\n",
              "      <td>2.011826</td>\n",
              "      <td>-1.536051</td>\n",
              "      <td>0</td>\n",
              "    </tr>\n",
              "    <tr>\n",
              "      <th>4923</th>\n",
              "      <td>-2.100948</td>\n",
              "      <td>1.459912</td>\n",
              "      <td>-0.823338</td>\n",
              "      <td>2.481374</td>\n",
              "      <td>-0.418867</td>\n",
              "      <td>1.232708</td>\n",
              "      <td>1.704213</td>\n",
              "      <td>-0.981543</td>\n",
              "      <td>0.626722</td>\n",
              "      <td>-1.010931</td>\n",
              "      <td>3.243339</td>\n",
              "      <td>-1.622280</td>\n",
              "      <td>-3.166487</td>\n",
              "      <td>-0.961919</td>\n",
              "      <td>4.405121</td>\n",
              "      <td>3.567865</td>\n",
              "      <td>1.678911</td>\n",
              "      <td>-3.690908</td>\n",
              "      <td>1.253508</td>\n",
              "      <td>1.843977</td>\n",
              "      <td>6.440705</td>\n",
              "      <td>-4.464502</td>\n",
              "      <td>-4.885407</td>\n",
              "      <td>-4.394096</td>\n",
              "      <td>0.299725</td>\n",
              "      <td>-1.177325</td>\n",
              "      <td>-0.140100</td>\n",
              "      <td>2.183063</td>\n",
              "      <td>3.599719</td>\n",
              "      <td>-0.706116</td>\n",
              "      <td>-3.473970</td>\n",
              "      <td>-7.288855</td>\n",
              "      <td>-0.843240</td>\n",
              "      <td>4.467775</td>\n",
              "      <td>-4.646543</td>\n",
              "      <td>-3.173467</td>\n",
              "      <td>0.660310</td>\n",
              "      <td>3.393780</td>\n",
              "      <td>0.355697</td>\n",
              "      <td>0.642774</td>\n",
              "      <td>1</td>\n",
              "    </tr>\n",
              "    <tr>\n",
              "      <th>1366</th>\n",
              "      <td>11.853916</td>\n",
              "      <td>-0.521551</td>\n",
              "      <td>10.542662</td>\n",
              "      <td>-6.010280</td>\n",
              "      <td>-5.569016</td>\n",
              "      <td>-2.899862</td>\n",
              "      <td>0.691800</td>\n",
              "      <td>-0.923280</td>\n",
              "      <td>1.359207</td>\n",
              "      <td>1.909256</td>\n",
              "      <td>-0.473939</td>\n",
              "      <td>3.482217</td>\n",
              "      <td>7.697562</td>\n",
              "      <td>-0.178125</td>\n",
              "      <td>-0.457465</td>\n",
              "      <td>-5.950341</td>\n",
              "      <td>-7.740553</td>\n",
              "      <td>-2.513609</td>\n",
              "      <td>3.143390</td>\n",
              "      <td>-2.390992</td>\n",
              "      <td>-12.317863</td>\n",
              "      <td>2.610703</td>\n",
              "      <td>-5.259944</td>\n",
              "      <td>-7.322101</td>\n",
              "      <td>5.113518</td>\n",
              "      <td>3.914779</td>\n",
              "      <td>12.151647</td>\n",
              "      <td>-5.716339</td>\n",
              "      <td>-3.707279</td>\n",
              "      <td>-4.196165</td>\n",
              "      <td>6.087753</td>\n",
              "      <td>-8.293125</td>\n",
              "      <td>-4.633111</td>\n",
              "      <td>-0.404681</td>\n",
              "      <td>7.724667</td>\n",
              "      <td>5.849321</td>\n",
              "      <td>-2.126585</td>\n",
              "      <td>-6.004813</td>\n",
              "      <td>1.402738</td>\n",
              "      <td>-0.382705</td>\n",
              "      <td>0</td>\n",
              "    </tr>\n",
              "    <tr>\n",
              "      <th>3809</th>\n",
              "      <td>-3.017376</td>\n",
              "      <td>-2.709187</td>\n",
              "      <td>2.523789</td>\n",
              "      <td>-0.540571</td>\n",
              "      <td>-0.601182</td>\n",
              "      <td>-2.699302</td>\n",
              "      <td>-1.159025</td>\n",
              "      <td>0.780486</td>\n",
              "      <td>-2.114590</td>\n",
              "      <td>2.983952</td>\n",
              "      <td>-4.085437</td>\n",
              "      <td>5.152498</td>\n",
              "      <td>3.027366</td>\n",
              "      <td>0.565604</td>\n",
              "      <td>-3.611466</td>\n",
              "      <td>-2.456682</td>\n",
              "      <td>-0.932277</td>\n",
              "      <td>1.881228</td>\n",
              "      <td>3.744462</td>\n",
              "      <td>1.952723</td>\n",
              "      <td>-3.845666</td>\n",
              "      <td>1.867946</td>\n",
              "      <td>1.464968</td>\n",
              "      <td>2.890706</td>\n",
              "      <td>-0.257153</td>\n",
              "      <td>-0.738511</td>\n",
              "      <td>0.776415</td>\n",
              "      <td>-0.011879</td>\n",
              "      <td>-4.211736</td>\n",
              "      <td>-0.931714</td>\n",
              "      <td>0.462981</td>\n",
              "      <td>2.276361</td>\n",
              "      <td>-2.693306</td>\n",
              "      <td>3.230045</td>\n",
              "      <td>2.535663</td>\n",
              "      <td>5.733430</td>\n",
              "      <td>0.704126</td>\n",
              "      <td>-0.755332</td>\n",
              "      <td>3.145318</td>\n",
              "      <td>-3.730198</td>\n",
              "      <td>0</td>\n",
              "    </tr>\n",
              "  </tbody>\n",
              "</table>\n",
              "</div>\n",
              "    <div class=\"colab-df-buttons\">\n",
              "\n",
              "  <div class=\"colab-df-container\">\n",
              "    <button class=\"colab-df-convert\" onclick=\"convertToInteractive('df-aac0f683-2bc2-4e9a-b9d6-1307713ce741')\"\n",
              "            title=\"Convert this dataframe to an interactive table.\"\n",
              "            style=\"display:none;\">\n",
              "\n",
              "  <svg xmlns=\"http://www.w3.org/2000/svg\" height=\"24px\" viewBox=\"0 -960 960 960\">\n",
              "    <path d=\"M120-120v-720h720v720H120Zm60-500h600v-160H180v160Zm220 220h160v-160H400v160Zm0 220h160v-160H400v160ZM180-400h160v-160H180v160Zm440 0h160v-160H620v160ZM180-180h160v-160H180v160Zm440 0h160v-160H620v160Z\"/>\n",
              "  </svg>\n",
              "    </button>\n",
              "\n",
              "  <style>\n",
              "    .colab-df-container {\n",
              "      display:flex;\n",
              "      gap: 12px;\n",
              "    }\n",
              "\n",
              "    .colab-df-convert {\n",
              "      background-color: #E8F0FE;\n",
              "      border: none;\n",
              "      border-radius: 50%;\n",
              "      cursor: pointer;\n",
              "      display: none;\n",
              "      fill: #1967D2;\n",
              "      height: 32px;\n",
              "      padding: 0 0 0 0;\n",
              "      width: 32px;\n",
              "    }\n",
              "\n",
              "    .colab-df-convert:hover {\n",
              "      background-color: #E2EBFA;\n",
              "      box-shadow: 0px 1px 2px rgba(60, 64, 67, 0.3), 0px 1px 3px 1px rgba(60, 64, 67, 0.15);\n",
              "      fill: #174EA6;\n",
              "    }\n",
              "\n",
              "    .colab-df-buttons div {\n",
              "      margin-bottom: 4px;\n",
              "    }\n",
              "\n",
              "    [theme=dark] .colab-df-convert {\n",
              "      background-color: #3B4455;\n",
              "      fill: #D2E3FC;\n",
              "    }\n",
              "\n",
              "    [theme=dark] .colab-df-convert:hover {\n",
              "      background-color: #434B5C;\n",
              "      box-shadow: 0px 1px 3px 1px rgba(0, 0, 0, 0.15);\n",
              "      filter: drop-shadow(0px 1px 2px rgba(0, 0, 0, 0.3));\n",
              "      fill: #FFFFFF;\n",
              "    }\n",
              "  </style>\n",
              "\n",
              "    <script>\n",
              "      const buttonEl =\n",
              "        document.querySelector('#df-aac0f683-2bc2-4e9a-b9d6-1307713ce741 button.colab-df-convert');\n",
              "      buttonEl.style.display =\n",
              "        google.colab.kernel.accessAllowed ? 'block' : 'none';\n",
              "\n",
              "      async function convertToInteractive(key) {\n",
              "        const element = document.querySelector('#df-aac0f683-2bc2-4e9a-b9d6-1307713ce741');\n",
              "        const dataTable =\n",
              "          await google.colab.kernel.invokeFunction('convertToInteractive',\n",
              "                                                    [key], {});\n",
              "        if (!dataTable) return;\n",
              "\n",
              "        const docLinkHtml = 'Like what you see? Visit the ' +\n",
              "          '<a target=\"_blank\" href=https://colab.research.google.com/notebooks/data_table.ipynb>data table notebook</a>'\n",
              "          + ' to learn more about interactive tables.';\n",
              "        element.innerHTML = '';\n",
              "        dataTable['output_type'] = 'display_data';\n",
              "        await google.colab.output.renderOutput(dataTable, element);\n",
              "        const docLink = document.createElement('div');\n",
              "        docLink.innerHTML = docLinkHtml;\n",
              "        element.appendChild(docLink);\n",
              "      }\n",
              "    </script>\n",
              "  </div>\n",
              "\n",
              "\n",
              "    <div id=\"df-1f0673bb-c9a7-40bf-8cb1-67d7ad295986\">\n",
              "      <button class=\"colab-df-quickchart\" onclick=\"quickchart('df-1f0673bb-c9a7-40bf-8cb1-67d7ad295986')\"\n",
              "                title=\"Suggest charts\"\n",
              "                style=\"display:none;\">\n",
              "\n",
              "<svg xmlns=\"http://www.w3.org/2000/svg\" height=\"24px\"viewBox=\"0 0 24 24\"\n",
              "     width=\"24px\">\n",
              "    <g>\n",
              "        <path d=\"M19 3H5c-1.1 0-2 .9-2 2v14c0 1.1.9 2 2 2h14c1.1 0 2-.9 2-2V5c0-1.1-.9-2-2-2zM9 17H7v-7h2v7zm4 0h-2V7h2v10zm4 0h-2v-4h2v4z\"/>\n",
              "    </g>\n",
              "</svg>\n",
              "      </button>\n",
              "\n",
              "<style>\n",
              "  .colab-df-quickchart {\n",
              "      --bg-color: #E8F0FE;\n",
              "      --fill-color: #1967D2;\n",
              "      --hover-bg-color: #E2EBFA;\n",
              "      --hover-fill-color: #174EA6;\n",
              "      --disabled-fill-color: #AAA;\n",
              "      --disabled-bg-color: #DDD;\n",
              "  }\n",
              "\n",
              "  [theme=dark] .colab-df-quickchart {\n",
              "      --bg-color: #3B4455;\n",
              "      --fill-color: #D2E3FC;\n",
              "      --hover-bg-color: #434B5C;\n",
              "      --hover-fill-color: #FFFFFF;\n",
              "      --disabled-bg-color: #3B4455;\n",
              "      --disabled-fill-color: #666;\n",
              "  }\n",
              "\n",
              "  .colab-df-quickchart {\n",
              "    background-color: var(--bg-color);\n",
              "    border: none;\n",
              "    border-radius: 50%;\n",
              "    cursor: pointer;\n",
              "    display: none;\n",
              "    fill: var(--fill-color);\n",
              "    height: 32px;\n",
              "    padding: 0;\n",
              "    width: 32px;\n",
              "  }\n",
              "\n",
              "  .colab-df-quickchart:hover {\n",
              "    background-color: var(--hover-bg-color);\n",
              "    box-shadow: 0 1px 2px rgba(60, 64, 67, 0.3), 0 1px 3px 1px rgba(60, 64, 67, 0.15);\n",
              "    fill: var(--button-hover-fill-color);\n",
              "  }\n",
              "\n",
              "  .colab-df-quickchart-complete:disabled,\n",
              "  .colab-df-quickchart-complete:disabled:hover {\n",
              "    background-color: var(--disabled-bg-color);\n",
              "    fill: var(--disabled-fill-color);\n",
              "    box-shadow: none;\n",
              "  }\n",
              "\n",
              "  .colab-df-spinner {\n",
              "    border: 2px solid var(--fill-color);\n",
              "    border-color: transparent;\n",
              "    border-bottom-color: var(--fill-color);\n",
              "    animation:\n",
              "      spin 1s steps(1) infinite;\n",
              "  }\n",
              "\n",
              "  @keyframes spin {\n",
              "    0% {\n",
              "      border-color: transparent;\n",
              "      border-bottom-color: var(--fill-color);\n",
              "      border-left-color: var(--fill-color);\n",
              "    }\n",
              "    20% {\n",
              "      border-color: transparent;\n",
              "      border-left-color: var(--fill-color);\n",
              "      border-top-color: var(--fill-color);\n",
              "    }\n",
              "    30% {\n",
              "      border-color: transparent;\n",
              "      border-left-color: var(--fill-color);\n",
              "      border-top-color: var(--fill-color);\n",
              "      border-right-color: var(--fill-color);\n",
              "    }\n",
              "    40% {\n",
              "      border-color: transparent;\n",
              "      border-right-color: var(--fill-color);\n",
              "      border-top-color: var(--fill-color);\n",
              "    }\n",
              "    60% {\n",
              "      border-color: transparent;\n",
              "      border-right-color: var(--fill-color);\n",
              "    }\n",
              "    80% {\n",
              "      border-color: transparent;\n",
              "      border-right-color: var(--fill-color);\n",
              "      border-bottom-color: var(--fill-color);\n",
              "    }\n",
              "    90% {\n",
              "      border-color: transparent;\n",
              "      border-bottom-color: var(--fill-color);\n",
              "    }\n",
              "  }\n",
              "</style>\n",
              "\n",
              "      <script>\n",
              "        async function quickchart(key) {\n",
              "          const quickchartButtonEl =\n",
              "            document.querySelector('#' + key + ' button');\n",
              "          quickchartButtonEl.disabled = true;  // To prevent multiple clicks.\n",
              "          quickchartButtonEl.classList.add('colab-df-spinner');\n",
              "          try {\n",
              "            const charts = await google.colab.kernel.invokeFunction(\n",
              "                'suggestCharts', [key], {});\n",
              "          } catch (error) {\n",
              "            console.error('Error during call to suggestCharts:', error);\n",
              "          }\n",
              "          quickchartButtonEl.classList.remove('colab-df-spinner');\n",
              "          quickchartButtonEl.classList.add('colab-df-quickchart-complete');\n",
              "        }\n",
              "        (() => {\n",
              "          let quickchartButtonEl =\n",
              "            document.querySelector('#df-1f0673bb-c9a7-40bf-8cb1-67d7ad295986 button');\n",
              "          quickchartButtonEl.style.display =\n",
              "            google.colab.kernel.accessAllowed ? 'block' : 'none';\n",
              "        })();\n",
              "      </script>\n",
              "    </div>\n",
              "\n",
              "    </div>\n",
              "  </div>\n"
            ],
            "application/vnd.google.colaboratory.intrinsic+json": {
              "type": "dataframe"
            }
          },
          "metadata": {},
          "execution_count": 20
        }
      ]
    },
    {
      "cell_type": "markdown",
      "metadata": {
        "id": "666fae00"
      },
      "source": [
        "<span style=\"color: blue;\"> **Observation**</span>\n",
        "* All predictor variables (V1 to V40) are of floating-point data type."
      ]
    },
    {
      "cell_type": "markdown",
      "metadata": {
        "id": "5TcqcxbK-qT3"
      },
      "source": [
        "## 3.3 - Check the data types of the columns"
      ]
    },
    {
      "cell_type": "code",
      "execution_count": 21,
      "metadata": {
        "id": "EXBYJoKkbp04",
        "colab": {
          "base_uri": "https://localhost:8080/"
        },
        "outputId": "dee9a3be-ccac-4741-b13d-5e8211a27c22"
      },
      "outputs": [
        {
          "output_type": "stream",
          "name": "stdout",
          "text": [
            "<class 'pandas.core.frame.DataFrame'>\n",
            "RangeIndex: 20000 entries, 0 to 19999\n",
            "Data columns (total 41 columns):\n",
            " #   Column  Non-Null Count  Dtype  \n",
            "---  ------  --------------  -----  \n",
            " 0   V1      19982 non-null  float64\n",
            " 1   V2      19982 non-null  float64\n",
            " 2   V3      20000 non-null  float64\n",
            " 3   V4      20000 non-null  float64\n",
            " 4   V5      20000 non-null  float64\n",
            " 5   V6      20000 non-null  float64\n",
            " 6   V7      20000 non-null  float64\n",
            " 7   V8      20000 non-null  float64\n",
            " 8   V9      20000 non-null  float64\n",
            " 9   V10     20000 non-null  float64\n",
            " 10  V11     20000 non-null  float64\n",
            " 11  V12     20000 non-null  float64\n",
            " 12  V13     20000 non-null  float64\n",
            " 13  V14     20000 non-null  float64\n",
            " 14  V15     20000 non-null  float64\n",
            " 15  V16     20000 non-null  float64\n",
            " 16  V17     20000 non-null  float64\n",
            " 17  V18     20000 non-null  float64\n",
            " 18  V19     20000 non-null  float64\n",
            " 19  V20     20000 non-null  float64\n",
            " 20  V21     20000 non-null  float64\n",
            " 21  V22     20000 non-null  float64\n",
            " 22  V23     20000 non-null  float64\n",
            " 23  V24     20000 non-null  float64\n",
            " 24  V25     20000 non-null  float64\n",
            " 25  V26     20000 non-null  float64\n",
            " 26  V27     20000 non-null  float64\n",
            " 27  V28     20000 non-null  float64\n",
            " 28  V29     20000 non-null  float64\n",
            " 29  V30     20000 non-null  float64\n",
            " 30  V31     20000 non-null  float64\n",
            " 31  V32     20000 non-null  float64\n",
            " 32  V33     20000 non-null  float64\n",
            " 33  V34     20000 non-null  float64\n",
            " 34  V35     20000 non-null  float64\n",
            " 35  V36     20000 non-null  float64\n",
            " 36  V37     20000 non-null  float64\n",
            " 37  V38     20000 non-null  float64\n",
            " 38  V39     20000 non-null  float64\n",
            " 39  V40     20000 non-null  float64\n",
            " 40  Target  20000 non-null  int64  \n",
            "dtypes: float64(40), int64(1)\n",
            "memory usage: 6.3 MB\n"
          ]
        }
      ],
      "source": [
        "# View the data types of the columns in the train data\n",
        "data.info()"
      ]
    },
    {
      "cell_type": "markdown",
      "metadata": {
        "id": "LvN3_-Vdbp04"
      },
      "source": [
        "- Converting Target column to float"
      ]
    },
    {
      "cell_type": "code",
      "execution_count": null,
      "metadata": {
        "id": "6LwVuEgjmHxW"
      },
      "outputs": [],
      "source": [
        "data['Target'] = data['Target'].astype(float)"
      ]
    },
    {
      "cell_type": "markdown",
      "metadata": {
        "id": "4MmheoOtnYZx"
      },
      "source": [
        "Now checking for test data"
      ]
    },
    {
      "cell_type": "code",
      "execution_count": 22,
      "metadata": {
        "id": "Utfm_wZsnR1s",
        "colab": {
          "base_uri": "https://localhost:8080/"
        },
        "outputId": "6e2786ce-456e-4a29-d11f-817ab6a99403"
      },
      "outputs": [
        {
          "output_type": "stream",
          "name": "stdout",
          "text": [
            "<class 'pandas.core.frame.DataFrame'>\n",
            "RangeIndex: 5000 entries, 0 to 4999\n",
            "Data columns (total 41 columns):\n",
            " #   Column  Non-Null Count  Dtype  \n",
            "---  ------  --------------  -----  \n",
            " 0   V1      4995 non-null   float64\n",
            " 1   V2      4994 non-null   float64\n",
            " 2   V3      5000 non-null   float64\n",
            " 3   V4      5000 non-null   float64\n",
            " 4   V5      5000 non-null   float64\n",
            " 5   V6      5000 non-null   float64\n",
            " 6   V7      5000 non-null   float64\n",
            " 7   V8      5000 non-null   float64\n",
            " 8   V9      5000 non-null   float64\n",
            " 9   V10     5000 non-null   float64\n",
            " 10  V11     5000 non-null   float64\n",
            " 11  V12     5000 non-null   float64\n",
            " 12  V13     5000 non-null   float64\n",
            " 13  V14     5000 non-null   float64\n",
            " 14  V15     5000 non-null   float64\n",
            " 15  V16     5000 non-null   float64\n",
            " 16  V17     5000 non-null   float64\n",
            " 17  V18     5000 non-null   float64\n",
            " 18  V19     5000 non-null   float64\n",
            " 19  V20     5000 non-null   float64\n",
            " 20  V21     5000 non-null   float64\n",
            " 21  V22     5000 non-null   float64\n",
            " 22  V23     5000 non-null   float64\n",
            " 23  V24     5000 non-null   float64\n",
            " 24  V25     5000 non-null   float64\n",
            " 25  V26     5000 non-null   float64\n",
            " 26  V27     5000 non-null   float64\n",
            " 27  V28     5000 non-null   float64\n",
            " 28  V29     5000 non-null   float64\n",
            " 29  V30     5000 non-null   float64\n",
            " 30  V31     5000 non-null   float64\n",
            " 31  V32     5000 non-null   float64\n",
            " 32  V33     5000 non-null   float64\n",
            " 33  V34     5000 non-null   float64\n",
            " 34  V35     5000 non-null   float64\n",
            " 35  V36     5000 non-null   float64\n",
            " 36  V37     5000 non-null   float64\n",
            " 37  V38     5000 non-null   float64\n",
            " 38  V39     5000 non-null   float64\n",
            " 39  V40     5000 non-null   float64\n",
            " 40  Target  5000 non-null   int64  \n",
            "dtypes: float64(40), int64(1)\n",
            "memory usage: 1.6 MB\n"
          ]
        }
      ],
      "source": [
        "# View the data types of the columns in the test data\n",
        "data_test.info()"
      ]
    },
    {
      "cell_type": "markdown",
      "metadata": {
        "id": "KyX9vFVFnk5t"
      },
      "source": [
        "Converting Target to float"
      ]
    },
    {
      "cell_type": "code",
      "execution_count": null,
      "metadata": {
        "id": "SfTJuArBnbIU"
      },
      "outputs": [],
      "source": [
        "data_test['Target'] = data_test['Target'].astype(float)"
      ]
    },
    {
      "cell_type": "markdown",
      "metadata": {
        "id": "xNr4bWoM-qT5"
      },
      "source": [
        "## 3.4 - Check for duplicate values"
      ]
    },
    {
      "cell_type": "code",
      "execution_count": null,
      "metadata": {
        "id": "V0EmBHNmbp04"
      },
      "outputs": [],
      "source": [
        "# Check for duplicates in the train data\n",
        "data.________"
      ]
    },
    {
      "cell_type": "markdown",
      "metadata": {
        "id": "Ch_TjRfF-qT5"
      },
      "source": [
        "## 3.5 - Check for missing values"
      ]
    },
    {
      "cell_type": "code",
      "execution_count": null,
      "metadata": {
        "id": "SlwFZm-Jbp05"
      },
      "outputs": [],
      "source": [
        "# Check for missing values in the data\n",
        "data.isnull().sum()"
      ]
    },
    {
      "cell_type": "code",
      "execution_count": null,
      "metadata": {
        "id": "33bar6robp06"
      },
      "outputs": [],
      "source": [
        "# Check for missing values in the test data\n",
        "data_test.isnull().sum()"
      ]
    },
    {
      "cell_type": "markdown",
      "metadata": {
        "id": "nUCorhch-qT4"
      },
      "source": [
        "## 3.6 - Describe dataset"
      ]
    },
    {
      "cell_type": "code",
      "execution_count": null,
      "metadata": {
        "id": "J6lzvHKCbp06"
      },
      "outputs": [],
      "source": [
        "# View the statistical summary of the numerical columns in the train data\n",
        "data.________"
      ]
    },
    {
      "cell_type": "markdown",
      "metadata": {
        "id": "DhPuzWO7hmV8"
      },
      "source": [
        "# **Exploratory Data Analysis**"
      ]
    },
    {
      "cell_type": "markdown",
      "metadata": {
        "id": "Lv7Bs8aUbp07"
      },
      "source": [
        "## Univariate analysis"
      ]
    },
    {
      "cell_type": "code",
      "execution_count": null,
      "metadata": {
        "id": "QIP4bI3Zbp07"
      },
      "outputs": [],
      "source": [
        "# function to plot a boxplot and a histogram along the same scale.\n",
        "\n",
        "\n",
        "def histogram_boxplot(data, feature, figsize=(12, 7), kde=False, bins=None):\n",
        "    \"\"\"\n",
        "    Boxplot and histogram combined\n",
        "\n",
        "    data: dataframe\n",
        "    feature: dataframe column\n",
        "    figsize: size of figure (default (12,7))\n",
        "    kde: whether to the show density curve (default False)\n",
        "    bins: number of bins for histogram (default None)\n",
        "    \"\"\"\n",
        "    f2, (ax_box2, ax_hist2) = plt.subplots(\n",
        "        nrows=2,  # Number of rows of the subplot grid= 2\n",
        "        sharex=True,  # x-axis will be shared among all subplots\n",
        "        gridspec_kw={\"height_ratios\": (0.25, 0.75)},\n",
        "        figsize=figsize,\n",
        "    )  # creating the 2 subplots\n",
        "    sns.boxplot(\n",
        "        data= ______, x= _______, ax= _______, showmeans=True, color=\"violet\"\n",
        "    )  # boxplot will be created and a star will indicate the mean value of the column\n",
        "    sns.histplot(\n",
        "        data=______, x=_______, kde=kde, ax=_______, bins=bins, palette=\"winter\"\n",
        "    ) if bins else sns.histplot(\n",
        "        data=________, x=________, kde=kde, ax=______\n",
        "    )  # For histogram\n",
        "    ax_hist2.axvline(\n",
        "        data[feature].mean(), color=\"green\", linestyle=\"--\"\n",
        "    )  # Add mean to the histogram\n",
        "    ax_hist2.axvline(\n",
        "        data[feature].median(), color=\"black\", linestyle=\"-\"\n",
        "    )  # Add median to the histogram"
      ]
    },
    {
      "cell_type": "markdown",
      "metadata": {
        "id": "_5N52iqsJBeb"
      },
      "source": [
        "### Variables V1 to V29"
      ]
    },
    {
      "cell_type": "code",
      "execution_count": null,
      "metadata": {
        "id": "p0ip-InCbp07",
        "scrolled": true
      },
      "outputs": [],
      "source": [
        "for feature in df.columns:\n",
        "    histogram_boxplot(df, feature, figsize=(12, 7), kde=False, bins=None)"
      ]
    },
    {
      "cell_type": "markdown",
      "metadata": {
        "id": "3CjaGOdvbp08"
      },
      "source": [
        "### Checking the distrubution of Target variable"
      ]
    },
    {
      "cell_type": "code",
      "execution_count": null,
      "metadata": {
        "id": "jchAb6Ikbp08"
      },
      "outputs": [],
      "source": [
        "# For train data\n",
        "df[\"Target\"].value_counts(1)"
      ]
    },
    {
      "cell_type": "code",
      "execution_count": null,
      "metadata": {
        "id": "5rupsM4sbp08"
      },
      "outputs": [],
      "source": [
        "# display the proportion of the target variable in the test data\n",
        "df_test[\"Target\"]._____"
      ]
    },
    {
      "cell_type": "markdown",
      "metadata": {
        "id": "lRrYccqLJKXi"
      },
      "source": [
        "## Bivariate Analysis"
      ]
    },
    {
      "cell_type": "markdown",
      "metadata": {
        "id": "Lk0t8FYwJMeL"
      },
      "source": [
        "### Correlation Check"
      ]
    },
    {
      "cell_type": "code",
      "execution_count": null,
      "metadata": {
        "id": "kL32Bf4rJO1F"
      },
      "outputs": [],
      "source": [
        "cols_list = df.select_dtypes(include=np.number).columns.tolist()\n",
        "cols_list.remove(\"Target\")\n",
        "\n",
        "plt.figure(figsize=(20, 20))\n",
        "sns.heatmap(\n",
        "    df[cols_list].corr(), annot=True, vmin=-1, vmax=1, fmt=\".2f\", cmap=\"Spectral\"\n",
        ")\n",
        "plt.show()"
      ]
    },
    {
      "cell_type": "markdown",
      "metadata": {
        "id": "Bp8vC9MZbp09"
      },
      "source": [
        "# **Data Preprocessing**"
      ]
    },
    {
      "cell_type": "markdown",
      "metadata": {
        "id": "CMTLLop3yDwk"
      },
      "source": [
        "## Data Preparation for Modeling"
      ]
    },
    {
      "cell_type": "code",
      "execution_count": null,
      "metadata": {
        "id": "C-xgnTbGb4CY"
      },
      "outputs": [],
      "source": [
        "# Dividing train data into X and y\n",
        "\n",
        "# Remove the column named 'Target'\n",
        "X = data.drop(columns = [\"_______\"] , axis=1)\n",
        "\n",
        "# Column named 'Target' becomes y\n",
        "y = data[\"________\"]"
      ]
    },
    {
      "cell_type": "markdown",
      "metadata": {
        "id": "eBXiW4s4kd63"
      },
      "source": [
        "**Test set is provided separately**\n"
      ]
    },
    {
      "cell_type": "code",
      "execution_count": null,
      "metadata": {
        "id": "j-8vqBMXbp09"
      },
      "outputs": [],
      "source": [
        "# Splitting data into training and validation set:\n",
        "\n",
        "X_train, X_val, y_train, y_val = train_test_split(\n",
        "    X, y, test_size=_____, random_state=1, stratify=y\n",
        ")"
      ]
    },
    {
      "cell_type": "code",
      "execution_count": null,
      "metadata": {
        "id": "hIsrQQVqRbnY"
      },
      "outputs": [],
      "source": [
        "# Check the shape of X_train data\n",
        "X_train.shape"
      ]
    },
    {
      "cell_type": "code",
      "execution_count": null,
      "metadata": {
        "id": "o3_X_6ZicNfN"
      },
      "outputs": [],
      "source": [
        "# Check the shape of X_val data\n",
        "X_val.shape"
      ]
    },
    {
      "cell_type": "code",
      "execution_count": null,
      "metadata": {
        "id": "IktO9G2Lbp09"
      },
      "outputs": [],
      "source": [
        "# Divide test data into X_test and y_test\n",
        "\n",
        "# Drop target column for X\n",
        "X_test = data_test.drop(columns = ['_______'] , axis= 1)\n",
        "\n",
        "# Retain only target column for y\n",
        "y_test = data_test[\"______\"]"
      ]
    },
    {
      "cell_type": "code",
      "execution_count": null,
      "metadata": {
        "id": "XmuB5K_9b8tP"
      },
      "outputs": [],
      "source": [
        "# Checkthe shape of X_test data\n",
        "X_test.shape"
      ]
    },
    {
      "cell_type": "markdown",
      "metadata": {
        "id": "hRIcs_56ECHk"
      },
      "source": [
        "## Missing Value Imputation\n"
      ]
    },
    {
      "cell_type": "markdown",
      "metadata": {
        "id": "0J99-7Kubp09"
      },
      "source": [
        "- There were few missing values in V1 and V2, we will impute them using the median.\n",
        "- And to avoid data leakage we will impute missing values after splitting train data into train and validation sets.\n",
        "\n",
        "\n"
      ]
    },
    {
      "cell_type": "code",
      "execution_count": null,
      "metadata": {
        "id": "28L1vgAwbp09"
      },
      "outputs": [],
      "source": [
        "imputer = SimpleImputer(strategy=\"median\")"
      ]
    },
    {
      "cell_type": "code",
      "execution_count": null,
      "metadata": {
        "id": "FNfbw4rJbp09"
      },
      "outputs": [],
      "source": [
        "# Fit and transform the train data\n",
        "X_train = pd.DataFrame(imputer.fit_transform(X_train), columns=X_train.columns)\n",
        "\n",
        "# Transform the validation data\n",
        "# Code to impute missing values in the validation set while accounting for data leakage\n",
        "X_val = pd.DataFrame(imputer.______(X_val), columns=X_train.columns)\n",
        "\n",
        "# Transform the test data\n",
        "# Code to impute missing values in the test set while accounting for data leakage\n",
        "X_test = pd.DataFrame(imputer.______(X_test), columns=X_train.columns)"
      ]
    },
    {
      "cell_type": "code",
      "execution_count": null,
      "metadata": {
        "id": "3jdLvwTAbp09"
      },
      "outputs": [],
      "source": [
        "# Make sure no column has missing values in train or test sets\n",
        "print(X_train.isna().sum())\n",
        "print(\"-\" * 30)\n",
        "print(X_val.isna().sum())\n",
        "print(\"-\" * 30)\n",
        "print(X_test.isna().sum())"
      ]
    },
    {
      "cell_type": "code",
      "execution_count": null,
      "metadata": {
        "id": "vdAf7_aNRpyP"
      },
      "outputs": [],
      "source": [
        "y_train = y_train.to_numpy()\n",
        "y_val = y_val.to_numpy()\n",
        "y_test = y_test.to_numpy()"
      ]
    },
    {
      "cell_type": "markdown",
      "metadata": {
        "id": "OzOa9FGA6WtG"
      },
      "source": [
        "# **Model Building**"
      ]
    },
    {
      "cell_type": "markdown",
      "metadata": {
        "id": "czwxDIZNccQL"
      },
      "source": [
        "## Model Evaluation Criterion"
      ]
    },
    {
      "cell_type": "markdown",
      "metadata": {
        "id": "l2ORUgmUjDZC"
      },
      "source": [
        "- Write down the metric of choice with rationale here"
      ]
    },
    {
      "cell_type": "markdown",
      "metadata": {
        "id": "XWoHuUpjbp0_"
      },
      "source": [
        "**We are now done with pre-processing and evaluation criterion, so let's start building the model.**"
      ]
    },
    {
      "cell_type": "markdown",
      "metadata": {
        "id": "hoFZRy7tSXnp"
      },
      "source": [
        "## Utility Functions"
      ]
    },
    {
      "cell_type": "code",
      "execution_count": null,
      "metadata": {
        "id": "fpMmFI9USZYW"
      },
      "outputs": [],
      "source": [
        "def plot(history, name):\n",
        "    \"\"\"\n",
        "    Function to plot loss/accuracy\n",
        "\n",
        "    history: an object which stores the metrics and losses.\n",
        "    name: can be one of Loss or Accuracy\n",
        "    \"\"\"\n",
        "    fig, ax = plt.subplots() #Creating a subplot with figure and axes.\n",
        "    plt.plot(history.history[name]) #Plotting the train accuracy or train loss\n",
        "    plt.plot(history.history['val_'+name]) #Plotting the validation accuracy or validation loss\n",
        "\n",
        "    plt.title('Model ' + name.capitalize()) #Defining the title of the plot.\n",
        "    plt.ylabel(name.capitalize()) #Capitalizing the first letter.\n",
        "    plt.xlabel('Epoch') #Defining the label for the x-axis.\n",
        "    fig.legend(['Train', 'Validation'], loc=\"outside right upper\") #Defining the legend, loc controls the position of the legend."
      ]
    },
    {
      "cell_type": "code",
      "execution_count": null,
      "metadata": {
        "id": "H_VAOcNcScFz"
      },
      "outputs": [],
      "source": [
        "# defining a function to compute different metrics to check performance of a classification model built using statsmodels\n",
        "def model_performance_classification(\n",
        "    model, predictors, target, threshold=0.5\n",
        "):\n",
        "    \"\"\"\n",
        "    Function to compute different metrics to check classification model performance\n",
        "\n",
        "    model: classifier\n",
        "    predictors: independent variables\n",
        "    target: dependent variable\n",
        "    threshold: threshold for classifying the observation as class 1\n",
        "    \"\"\"\n",
        "\n",
        "    # checking which probabilities are greater than threshold\n",
        "    pred = model.predict(predictors) > threshold\n",
        "    # pred_temp = model.predict(predictors) > threshold\n",
        "    # # rounding off the above values to get classes\n",
        "    # pred = np.round(pred_temp)\n",
        "\n",
        "    acc = accuracy_score(target, pred)  # to compute Accuracy\n",
        "    recall = recall_score(target, pred, average='macro')  # to compute Recall\n",
        "    precision = precision_score(target, pred, average='macro')  # to compute Precision\n",
        "    f1 = f1_score(target, pred, average='macro')  # to compute F1-score\n",
        "\n",
        "    # creating a dataframe of metrics\n",
        "    df_perf = pd.DataFrame(\n",
        "        {\"Accuracy\": acc, \"Recall\": recall, \"Precision\": precision, \"F1 Score\": f1,}, index = [0]\n",
        "    )\n",
        "\n",
        "    return df_perf"
      ]
    },
    {
      "cell_type": "markdown",
      "metadata": {
        "id": "4fI98GOV0pTY"
      },
      "source": [
        "## Initial Model Building (Model 0)"
      ]
    },
    {
      "cell_type": "markdown",
      "metadata": {
        "id": "0usUom8nZOYZ"
      },
      "source": [
        "- Let's start with a neural network consisting of\n",
        "  - just one hidden layer of 7 neurons respectively\n",
        "  - activation function of ReLU.\n",
        "  - SGD as the optimizer"
      ]
    },
    {
      "cell_type": "code",
      "execution_count": null,
      "metadata": {
        "id": "-OTOG3o1bp0_",
        "scrolled": true
      },
      "outputs": [],
      "source": [
        "# Define the batch size and # epochs upfront as we'll be using the same values for all models\n",
        "\n",
        "# Number of epochs to be used in all models\n",
        "epochs = ____\n",
        "\n",
        "# Batch size to be used in all models\n",
        "batch_size = _____"
      ]
    },
    {
      "cell_type": "code",
      "execution_count": null,
      "metadata": {
        "id": "Cm61fR_mbp0_",
        "scrolled": false
      },
      "outputs": [],
      "source": [
        "# clears the current Keras session, resetting all layers and models previously created, freeing up memory and resources.\n",
        "tf.keras.backend.clear_session()"
      ]
    },
    {
      "cell_type": "code",
      "execution_count": null,
      "metadata": {
        "id": "ao_7u1sOZlZz"
      },
      "outputs": [],
      "source": [
        "#Initializing the neural network\n",
        "model_0 = Sequential()\n",
        "\n",
        "# Define the number of neurons and the activation function\n",
        "model_0.add(Dense( _____ ,activation=\"_______\",input_dim=X_train.shape[1]))\n",
        "\n",
        "# Define the number of neurons in the output layer\n",
        "model_0.add(Dense( _____ ,activation=\"sigmoid\"))"
      ]
    },
    {
      "cell_type": "code",
      "execution_count": null,
      "metadata": {
        "id": "o2dEk01hbp1A"
      },
      "outputs": [],
      "source": [
        "model_0.summary()"
      ]
    },
    {
      "cell_type": "code",
      "execution_count": null,
      "metadata": {
        "id": "ZsOer36qbp1A"
      },
      "outputs": [],
      "source": [
        "optimizer = tf.keras.optimizers.SGD()   # defining SGD as the optimizer to be used\n",
        "# model_0.compile(loss='binary_crossentropy', optimizer=optimizer, metrics = ['accuracy']) ## Uncomment this line in case the metric of choice is Accuracy\n",
        "# model_0.compile(loss='binary_crossentropy', optimizer=optimizer, metrics = ['Precision']) ## Uncomment this line in case the metric of choice is Precision\n",
        "# model_0.compile(loss='binary_crossentropy', optimizer=optimizer, metrics = ['Recall']) ## Uncomment this line in case the metric of choice is Recall\n",
        "# model_0.compile(loss='binary_crossentropy', optimizer=optimizer, metrics = ['f1_score']) ## Uncomment this line in case the metric of choice is F1 Score"
      ]
    },
    {
      "cell_type": "code",
      "execution_count": null,
      "metadata": {
        "id": "kwUcBORjbp1A",
        "scrolled": false
      },
      "outputs": [],
      "source": [
        "start = time.time()\n",
        "history = model_0.fit(X_train, y_train, validation_data=(X_val,y_val) , batch_size=batch_size, epochs=epochs)\n",
        "end=time.time()"
      ]
    },
    {
      "cell_type": "code",
      "execution_count": null,
      "metadata": {
        "id": "zwBB3mRhcCN6"
      },
      "outputs": [],
      "source": [
        "print(\"Time taken in seconds \",end-start)"
      ]
    },
    {
      "cell_type": "code",
      "execution_count": null,
      "metadata": {
        "id": "RfLx8ubqTe_n"
      },
      "outputs": [],
      "source": [
        "plot(history,'loss')"
      ]
    },
    {
      "cell_type": "code",
      "execution_count": null,
      "metadata": {
        "id": "Pr6dBVPNUe3Y"
      },
      "outputs": [],
      "source": [
        "model_0_train_perf = model_performance_classification(model_0, X_train, y_train)\n",
        "model_0_train_perf"
      ]
    },
    {
      "cell_type": "code",
      "execution_count": null,
      "metadata": {
        "id": "1pdgAup2UfAX"
      },
      "outputs": [],
      "source": [
        "model_0_val_perf = model_performance_classification(model_0,X_val,y_val)\n",
        "model_0_val_perf"
      ]
    },
    {
      "cell_type": "markdown",
      "metadata": {
        "id": "7757b8PflQ9T"
      },
      "source": [
        "Let's check the classification reports."
      ]
    },
    {
      "cell_type": "code",
      "execution_count": null,
      "metadata": {
        "id": "m0UQ_ZW-KCaX"
      },
      "outputs": [],
      "source": [
        "y_train_pred_0 = model_0.predict(X_train)\n",
        "y_val_pred_0 = model_0.predict(X_val)"
      ]
    },
    {
      "cell_type": "code",
      "execution_count": null,
      "metadata": {
        "id": "zC6fR5ohKFzh"
      },
      "outputs": [],
      "source": [
        "print(\"Classification Report - Train data Model_0\",end=\"\\n\\n\")\n",
        "cr_train_model_0 = classification_report(y_train,y_train_pred_0>0.5)\n",
        "print(cr_train_model_0)"
      ]
    },
    {
      "cell_type": "code",
      "execution_count": null,
      "metadata": {
        "id": "foiSZUcHKFp6"
      },
      "outputs": [],
      "source": [
        "print(\"Classification Report - Validation data Model_0\",end=\"\\n\\n\")\n",
        "cr_val_model_0 = classification_report(y_val,y_val_pred_0>0.5)\n",
        "print(cr_val_model_0)"
      ]
    },
    {
      "cell_type": "markdown",
      "metadata": {
        "id": "2tlVEbIWKb6T"
      },
      "source": [
        "# **Model Performance Improvement**"
      ]
    },
    {
      "cell_type": "markdown",
      "metadata": {
        "id": "grQ6pRK1WZtr"
      },
      "source": [
        "## Model 1"
      ]
    },
    {
      "cell_type": "markdown",
      "metadata": {
        "id": "zBr3Eo1iWhLs"
      },
      "source": [
        "- Let's try adding another layer to see if we can improve our model's performance."
      ]
    },
    {
      "cell_type": "code",
      "execution_count": null,
      "metadata": {
        "id": "E95a3_v6UfE7"
      },
      "outputs": [],
      "source": [
        "# clears the current Keras session, resetting all layers and models previously created, freeing up memory and resources.\n",
        "tf.keras.backend.clear_session()"
      ]
    },
    {
      "cell_type": "code",
      "execution_count": null,
      "metadata": {
        "id": "uzB8avdtUfH_"
      },
      "outputs": [],
      "source": [
        "#Initializing the neural network\n",
        "model_1 = Sequential()\n",
        "\n",
        "# Define the number of neurons and activation function\n",
        "model_1.add(Dense( ________ ,activation=\"________\",input_dim=X_train.shape[1]))\n",
        "\n",
        "# Define the number of neurons and activation function\n",
        "model_1.add(Dense( ________,activation=\"________\"))\n",
        "\n",
        "# Define the number of neurons in the output layer\n",
        "model_1.add(Dense(_______,activation=\"sigmoid\"))"
      ]
    },
    {
      "cell_type": "code",
      "execution_count": null,
      "metadata": {
        "id": "cnuMH8oQUfKf"
      },
      "outputs": [],
      "source": [
        "model_1.summary()"
      ]
    },
    {
      "cell_type": "code",
      "execution_count": null,
      "metadata": {
        "id": "xfDQJHYnUfM1"
      },
      "outputs": [],
      "source": [
        "optimizer = tf.keras.optimizers.SGD()   # defining SGD as the optimizer to be used\n",
        "# model_1.compile(loss='binary_crossentropy', optimizer=optimizer, metrics = ['accuracy']) ## Uncomment this line in case the metric of choice is Accuracy\n",
        "# model_1.compile(loss='binary_crossentropy', optimizer=optimizer, metrics = ['Precision']) ## Uncomment this line in case the metric of choice is Precision\n",
        "# model_1.compile(loss='binary_crossentropy', optimizer=optimizer, metrics = ['Recall']) ## Uncomment this line in case the metric of choice is Recall\n",
        "# model_1.compile(loss='binary_crossentropy', optimizer=optimizer, metrics = ['f1_score']) ## Uncomment this line in case the metric of choice is F1 Score"
      ]
    },
    {
      "cell_type": "code",
      "execution_count": null,
      "metadata": {
        "id": "HsPSnSmNUfO4"
      },
      "outputs": [],
      "source": [
        "start = time.time()\n",
        "history = model_1.fit(X_train, y_train, validation_data=(X_val,y_val) , batch_size=batch_size, epochs=epochs)\n",
        "end=time.time()"
      ]
    },
    {
      "cell_type": "code",
      "execution_count": null,
      "metadata": {
        "id": "GX9bBylsUfRN"
      },
      "outputs": [],
      "source": [
        "print(\"Time taken in seconds \",end-start)"
      ]
    },
    {
      "cell_type": "code",
      "execution_count": null,
      "metadata": {
        "id": "pKXH3xAYUfTP"
      },
      "outputs": [],
      "source": [
        "plot(history,'loss')"
      ]
    },
    {
      "cell_type": "code",
      "execution_count": null,
      "metadata": {
        "id": "Ve7QYfyTUfXn"
      },
      "outputs": [],
      "source": [
        "model_1_train_perf = model_performance_classification(model_1,X_train,y_train)\n",
        "model_1_train_perf"
      ]
    },
    {
      "cell_type": "code",
      "execution_count": null,
      "metadata": {
        "id": "09KWUhmONOEf"
      },
      "outputs": [],
      "source": [
        "model_1_val_perf = model_performance_classification(model_1,X_val,y_val)\n",
        "model_1_val_perf"
      ]
    },
    {
      "cell_type": "code",
      "execution_count": null,
      "metadata": {
        "id": "DS8SFCwJUoe6"
      },
      "outputs": [],
      "source": [
        "y_train_pred_1 = model_1.predict(X_train)\n",
        "y_val_pred_1 = model_1.predict(X_val)"
      ]
    },
    {
      "cell_type": "code",
      "execution_count": null,
      "metadata": {
        "id": "8ZngTFbEUskK"
      },
      "outputs": [],
      "source": [
        "print(\"Classification Report - Train data Model_1\", end=\"\\n\\n\")\n",
        "cr_train_model_1 = classification_report(y_train,y_train_pred_1 > 0.5)\n",
        "print(cr_train_model_1)"
      ]
    },
    {
      "cell_type": "code",
      "execution_count": null,
      "metadata": {
        "id": "Ju0Rzn1kUtRi"
      },
      "outputs": [],
      "source": [
        "print(\"Classification Report - Validation data Model_1\", end=\"\\n\\n\")\n",
        "cr_val_model_1 = classification_report(y_val,y_val_pred_1 > 0.5)\n",
        "print(cr_val_model_1)"
      ]
    },
    {
      "cell_type": "markdown",
      "metadata": {
        "id": "iQhdyBg0OJWQ"
      },
      "source": [
        "## Model 2"
      ]
    },
    {
      "cell_type": "markdown",
      "metadata": {
        "id": "jUwTGnuGfgRp"
      },
      "source": [
        "To introduce Regularization in our model, let's set the dropout to 50% after adding the first hidden layer. This step will randomly drop 50% of the neurons before proceeding to the next layer, reducing overfitting."
      ]
    },
    {
      "cell_type": "code",
      "execution_count": null,
      "metadata": {
        "id": "-7mdqo7xOO_b"
      },
      "outputs": [],
      "source": [
        "# clears the current Keras session, resetting all layers and models previously created, freeing up memory and resources.\n",
        "tf.keras.backend.clear_session()"
      ]
    },
    {
      "cell_type": "code",
      "execution_count": null,
      "metadata": {
        "id": "TXbGBf1QOO9B"
      },
      "outputs": [],
      "source": [
        "#Initializing the neural network\n",
        "from tensorflow.keras.layers import Dropout\n",
        "model_2 = Sequential()\n",
        "model_2.add(Dense(________,activation=\"_________\",input_dim=X_train.shape[1]))  # Complete the code to define the number of neurons and activation function\n",
        "model_2.add(Dropout(____)) # Complete the code to define the dropout rate\n",
        "model_2.add(Dense(_____,activation = \"______\")) # Complete the code to define the number of neurons and activation function\n",
        "model_2.add(Dense(_____,activation = \"______\")) # Complete the code to define the number of neurons and activation function\n",
        "model_2.add(Dense(_____,activation=\"sigmoid\")) # Complete the code to define the number of neurons in the output layer"
      ]
    },
    {
      "cell_type": "code",
      "execution_count": null,
      "metadata": {
        "id": "nPu7lC9pOO23"
      },
      "outputs": [],
      "source": [
        "model_2.summary()"
      ]
    },
    {
      "cell_type": "code",
      "execution_count": null,
      "metadata": {
        "id": "U7-Y_BmYOOxB"
      },
      "outputs": [],
      "source": [
        "optimizer = tf.keras.optimizers.SGD()   # defining SGD as the optimizer to be used\n",
        "# model_2.compile(loss='binary_crossentropy', optimizer=optimizer, metrics = ['accuracy']) ## Uncomment this line in case the metric of choice is Accuracy\n",
        "# model_2.compile(loss='binary_crossentropy', optimizer=optimizer, metrics = ['Precision']) ## Uncomment this line in case the metric of choice is Precision\n",
        "# model_2.compile(loss='binary_crossentropy', optimizer=optimizer, metrics = ['Recall']) ## Uncomment this line in case the metric of choice is Recall\n",
        "# model_2.compile(loss='binary_crossentropy', optimizer=optimizer, metrics = ['f1_score']) ## Uncomment this line in case the metric of choice is F1 Score"
      ]
    },
    {
      "cell_type": "code",
      "execution_count": null,
      "metadata": {
        "id": "_QPtdXotOOu0"
      },
      "outputs": [],
      "source": [
        "start = time.time()\n",
        "history = model_2.fit(X_train, y_train, validation_data=(X_val,y_val) , batch_size=batch_size, epochs=epochs)\n",
        "end=time.time()"
      ]
    },
    {
      "cell_type": "code",
      "execution_count": null,
      "metadata": {
        "id": "a_VLN5_FOOss"
      },
      "outputs": [],
      "source": [
        "print(\"Time taken in seconds \",end-start)"
      ]
    },
    {
      "cell_type": "code",
      "execution_count": null,
      "metadata": {
        "id": "1yat6HgCOOmV"
      },
      "outputs": [],
      "source": [
        "plot(history,'loss')"
      ]
    },
    {
      "cell_type": "markdown",
      "metadata": {
        "id": "fdmnaDUxbVvF"
      },
      "source": [
        "Lets check the model performance of model_2 on training and validation data respectively."
      ]
    },
    {
      "cell_type": "code",
      "execution_count": null,
      "metadata": {
        "id": "lhHFHpRJOOf1"
      },
      "outputs": [],
      "source": [
        "model_2_train_perf = model_performance_classification(model_2,X_train,y_train)\n",
        "model_2_train_perf"
      ]
    },
    {
      "cell_type": "code",
      "execution_count": null,
      "metadata": {
        "id": "pnMTEzWtOOW0"
      },
      "outputs": [],
      "source": [
        "model_2_val_perf = model_performance_classification(model_2,X_val,y_val)\n",
        "model_2_val_perf"
      ]
    },
    {
      "cell_type": "code",
      "execution_count": null,
      "metadata": {
        "id": "DI5dqTACWC5N"
      },
      "outputs": [],
      "source": [
        "y_train_pred_2 = model_2.predict(X_train)\n",
        "y_val_pred_2 = model_2.predict(X_val)"
      ]
    },
    {
      "cell_type": "markdown",
      "metadata": {
        "id": "XZOkixQ9bfnI"
      },
      "source": [
        "Lets check the classification report of model_2 on training and validation data respectively."
      ]
    },
    {
      "cell_type": "code",
      "execution_count": null,
      "metadata": {
        "id": "TPtFhE5GWAFM"
      },
      "outputs": [],
      "source": [
        "print(\"Classification Report - Train data Model_2\", end=\"\\n\\n\")\n",
        "cr_train_model_2 = classification_report(y_train,y_train_pred_2 > 0.5)\n",
        "print(cr_train_model_2)"
      ]
    },
    {
      "cell_type": "code",
      "execution_count": null,
      "metadata": {
        "id": "cE-wWumtWEpx"
      },
      "outputs": [],
      "source": [
        "print(\"Classification Report - Validation data Model_2\", end=\"\\n\\n\")\n",
        "cr_val_model_2 = classification_report(y_val , y_val_pred_2 > 0.5)\n",
        "print(cr_val_model_2)"
      ]
    },
    {
      "cell_type": "markdown",
      "metadata": {
        "id": "83ryNh6qVVPm"
      },
      "source": [
        "## Model 3"
      ]
    },
    {
      "cell_type": "markdown",
      "metadata": {
        "id": "swQ14MhSRwCc"
      },
      "source": [
        "As we have are dealing with an imbalance in class distribution, we should also be using class weights to allow the model to give proportionally more importance to the minority class."
      ]
    },
    {
      "cell_type": "code",
      "execution_count": null,
      "metadata": {
        "id": "bXFEE44vOkYz"
      },
      "outputs": [],
      "source": [
        "# Calculate class weights for imbalanced dataset\n",
        "cw = (y_train.shape[0]) / np.bincount(y_train.astype(int)) # Convert y_train to integers\n",
        "\n",
        "# Create a dictionary mapping class indices to their respective class weights\n",
        "cw_dict = {}\n",
        "for i in range(cw.shape[0]):\n",
        "    cw_dict[i] = cw[i]\n",
        "\n",
        "cw_dict"
      ]
    },
    {
      "cell_type": "code",
      "execution_count": null,
      "metadata": {
        "id": "hof3fAu9OkWD"
      },
      "outputs": [],
      "source": [
        "# clears the current Keras session, resetting all layers and models previously created, freeing up memory and resources.\n",
        "tf.keras.backend.clear_session()"
      ]
    },
    {
      "cell_type": "code",
      "execution_count": null,
      "metadata": {
        "id": "PWebuv4mOkTC"
      },
      "outputs": [],
      "source": [
        "model_3 = Sequential()\n",
        "model_3.add(Dense(_____,activation=\"_____\",input_dim=X_train.shape[1])) # Complete the code to define the number of neurons and activation function\n",
        "model_3.add(Dropout(_____)) # Complete the code to define the dropout rate\n",
        "model_3.add(Dense(_____,activation=\"_____\")) # Complete the code to define the number of neurons and activation function\n",
        "model_3.add(Dense(_____, activation = \"_____\")) # Complete the code to define the number of neurons and activation function\n",
        "model_3.add(Dense(_____,activation=\"sigmoid\")) # Complete the code to define the number of neurons in the output layer"
      ]
    },
    {
      "cell_type": "code",
      "execution_count": null,
      "metadata": {
        "id": "CN5XaqlQOkL1"
      },
      "outputs": [],
      "source": [
        "model_3.summary()"
      ]
    },
    {
      "cell_type": "code",
      "execution_count": null,
      "metadata": {
        "id": "Vbe-Uvf_OkBd"
      },
      "outputs": [],
      "source": [
        "optimizer = tf.keras.optimizers.SGD()   # defining SGD as the optimizer to be used\n",
        "# model_3.compile(loss='binary_crossentropy', optimizer=optimizer, metrics = ['accuracy']) ## Uncomment this line in case the metric of choice is Accuracy\n",
        "# model_3.compile(loss='binary_crossentropy', optimizer=optimizer, metrics = ['Precision']) ## Uncomment this line in case the metric of choice is Precision\n",
        "# model_3.compile(loss='binary_crossentropy', optimizer=optimizer, metrics = ['Recall']) ## Uncomment this line in case the metric of choice is Recall\n",
        "# model_3.compile(loss='binary_crossentropy', optimizer=optimizer, metrics = ['f1_score']) ## Uncomment this line in case the metric of choice is F1 Score"
      ]
    },
    {
      "cell_type": "code",
      "execution_count": null,
      "metadata": {
        "id": "aGEYYC5pW5iM"
      },
      "outputs": [],
      "source": [
        "start = time.time()\n",
        "history = model_3.fit(X_train, y_train, validation_data=(X_val,y_val) , batch_size=batch_size, epochs=epochs,class_weight=cw_dict)\n",
        "end=time.time()"
      ]
    },
    {
      "cell_type": "code",
      "execution_count": null,
      "metadata": {
        "id": "-H-rbOvIW5gJ"
      },
      "outputs": [],
      "source": [
        "print(\"Time taken in seconds \",end-start)"
      ]
    },
    {
      "cell_type": "code",
      "execution_count": null,
      "metadata": {
        "id": "aWkRSkTGW5dD"
      },
      "outputs": [],
      "source": [
        "plot(history,'loss')"
      ]
    },
    {
      "cell_type": "markdown",
      "metadata": {
        "id": "dY6ZCgMGcUOb"
      },
      "source": [
        "Lets check the model performance of model_3 on training and validation data respectively."
      ]
    },
    {
      "cell_type": "code",
      "execution_count": null,
      "metadata": {
        "id": "_fryTkbgW5XE"
      },
      "outputs": [],
      "source": [
        "model_3_train_perf = model_performance_classification(model_3,X_train,y_train)\n",
        "model_3_train_perf"
      ]
    },
    {
      "cell_type": "code",
      "execution_count": null,
      "metadata": {
        "id": "GxmCeXa1W5Oo"
      },
      "outputs": [],
      "source": [
        "model_3_val_perf = model_performance_classification(model_3,X_val,y_val)\n",
        "model_3_val_perf"
      ]
    },
    {
      "cell_type": "code",
      "execution_count": null,
      "metadata": {
        "id": "1BkGKOeCXUsT"
      },
      "outputs": [],
      "source": [
        "y_train_pred_3 = model_3.predict(X_train)\n",
        "y_val_pred_3 = model_3.predict(X_val)"
      ]
    },
    {
      "cell_type": "markdown",
      "metadata": {
        "id": "PMljwQUdcbNm"
      },
      "source": [
        "Lets check the classification report of model_3 on training and validation data respectively."
      ]
    },
    {
      "cell_type": "code",
      "execution_count": null,
      "metadata": {
        "id": "yUArAjvkXeh9"
      },
      "outputs": [],
      "source": [
        "print(\"Classification Report - Train data Model_3\", end=\"\\n\\n\")\n",
        "cr_train_model_3 = classification_report(y_train,y_train_pred_3 > 0.5)\n",
        "print(cr_train_model_3)"
      ]
    },
    {
      "cell_type": "code",
      "execution_count": null,
      "metadata": {
        "id": "mp5gmnufXhmy"
      },
      "outputs": [],
      "source": [
        "print(\"Classification Report - Validation data Model_3\", end=\"\\n\\n\")\n",
        "cr_val_model_3 = classification_report(y_val,y_val_pred_3 > 0.5)\n",
        "print(cr_val_model_3)"
      ]
    },
    {
      "cell_type": "markdown",
      "metadata": {
        "id": "dPAuEVDzX0qL"
      },
      "source": [
        "## Model 4"
      ]
    },
    {
      "cell_type": "markdown",
      "metadata": {
        "id": "ydPkh3AdgWRU"
      },
      "source": [
        "Since we have used only SGD optimizer till now, let's use another kind of optimizer and observe its impact on the model performmance."
      ]
    },
    {
      "cell_type": "code",
      "execution_count": null,
      "metadata": {
        "id": "Q9Jx5vOFX0qM"
      },
      "outputs": [],
      "source": [
        "# clears the current Keras session, resetting all layers and models previously created, freeing up memory and resources.\n",
        "tf.keras.backend.clear_session()"
      ]
    },
    {
      "cell_type": "code",
      "execution_count": null,
      "metadata": {
        "id": "q_LP0NHzX0qP"
      },
      "outputs": [],
      "source": [
        "#Initializing the neural network\n",
        "model_4 = Sequential()\n",
        "model_4.add(Dense(_____,activation=\"____\",input_dim=X_train.shape[1])) # Complete the code to define the number of neurons and activation function\n",
        "model_4.add(Dense(_____,activation=\"____\")) # Complete the code to define the number of neurons and activation function\n",
        "model_4.add(Dense(_____,activation=\"sigmoid\")) # Complete the code to define the number of neurons in the output layer"
      ]
    },
    {
      "cell_type": "code",
      "execution_count": null,
      "metadata": {
        "id": "MY_drKH7X0qP"
      },
      "outputs": [],
      "source": [
        "model_4.summary()"
      ]
    },
    {
      "cell_type": "code",
      "execution_count": null,
      "metadata": {
        "id": "vbXDHdCaX0qQ"
      },
      "outputs": [],
      "source": [
        "optimizer = tf.keras.optimizers.Adam()    # defining Adam as the optimizer to be used\n",
        "# model_4.compile(loss='binary_crossentropy', optimizer=optimizer, metrics = ['accuracy']) ## Uncomment this line in case the metric of choice is Accuracy\n",
        "# model_4.compile(loss='binary_crossentropy', optimizer=optimizer, metrics = ['Precision']) ## Uncomment this line in case the metric of choice is Precision\n",
        "# model_4.compile(loss='binary_crossentropy', optimizer=optimizer, metrics = ['Recall']) ## Uncomment this line in case the metric of choice is Recall\n",
        "# model_4.compile(loss='binary_crossentropy', optimizer=optimizer, metrics = ['f1_score']) ## Uncomment this line in case the metric of choice is F1 Score"
      ]
    },
    {
      "cell_type": "code",
      "execution_count": null,
      "metadata": {
        "id": "Viy8MTihX0qQ"
      },
      "outputs": [],
      "source": [
        "start = time.time()\n",
        "history = model_4.fit(X_train, y_train, validation_data=(X_val,y_val) , batch_size=batch_size, epochs=epochs)\n",
        "end=time.time()"
      ]
    },
    {
      "cell_type": "code",
      "execution_count": null,
      "metadata": {
        "id": "uC_tPwLlX0qR"
      },
      "outputs": [],
      "source": [
        "print(\"Time taken in seconds \",end-start)"
      ]
    },
    {
      "cell_type": "code",
      "execution_count": null,
      "metadata": {
        "id": "xJ1TAwlLX0qR"
      },
      "outputs": [],
      "source": [
        "plot(history,'loss')"
      ]
    },
    {
      "cell_type": "markdown",
      "metadata": {
        "id": "E_KuUcLbdKRb"
      },
      "source": [
        "Lets check the model performance ofr model_4 on training and validation data respectively"
      ]
    },
    {
      "cell_type": "code",
      "execution_count": null,
      "metadata": {
        "id": "8OvkmGu6X0qR"
      },
      "outputs": [],
      "source": [
        "model_4_train_perf = model_performance_classification(model_4,X_train,y_train)\n",
        "model_4_train_perf"
      ]
    },
    {
      "cell_type": "code",
      "execution_count": null,
      "metadata": {
        "id": "sLE1b8CMX0qR"
      },
      "outputs": [],
      "source": [
        "model_4_val_perf = model_performance_classification(model_4,X_val,y_val)\n",
        "model_4_val_perf"
      ]
    },
    {
      "cell_type": "code",
      "execution_count": null,
      "metadata": {
        "id": "Wg1dMCXSX0qS"
      },
      "outputs": [],
      "source": [
        "y_train_pred_4 = model_4.predict(X_train)\n",
        "y_val_pred_4 = model_4.predict(X_val)"
      ]
    },
    {
      "cell_type": "markdown",
      "metadata": {
        "id": "4OH8cvF2dVjv"
      },
      "source": [
        "Lets check the classification report of model_4 on raining and validation data respectively."
      ]
    },
    {
      "cell_type": "code",
      "execution_count": null,
      "metadata": {
        "id": "D-wxc08wX0qS"
      },
      "outputs": [],
      "source": [
        "print(\"Classification Report - Train data Model_4\", end=\"\\n\\n\")\n",
        "cr_train_model_4 = classification_report(y_train,y_train_pred_4 > 0.5)\n",
        "print(cr_train_model_4)"
      ]
    },
    {
      "cell_type": "code",
      "execution_count": null,
      "metadata": {
        "id": "uyKOGZzEX0qT"
      },
      "outputs": [],
      "source": [
        "print(\"Classification Report - Validation data Model_4\", end=\"\\n\\n\")\n",
        "cr_val_model_4 = classification_report(y_val,y_val_pred_4 > 0.5)\n",
        "print(cr_val_model_4)"
      ]
    },
    {
      "cell_type": "markdown",
      "metadata": {
        "id": "W2dZjgH0Yxok"
      },
      "source": [
        "## Model 5"
      ]
    },
    {
      "cell_type": "markdown",
      "metadata": {
        "id": "x9H_G0rzdwC9"
      },
      "source": [
        "This time we will add more layers and dropout while using a different optimizer."
      ]
    },
    {
      "cell_type": "code",
      "execution_count": null,
      "metadata": {
        "id": "WBKvvEkjYxol"
      },
      "outputs": [],
      "source": [
        "# clears the current Keras session, resetting all layers and models previously created, freeing up memory and resources.\n",
        "tf.keras.backend.clear_session()"
      ]
    },
    {
      "cell_type": "code",
      "execution_count": null,
      "metadata": {
        "id": "qrPwAVJOYxom"
      },
      "outputs": [],
      "source": [
        "#Initializing the neural network\n",
        "from tensorflow.keras.layers import Dropout\n",
        "model_5 = Sequential()\n",
        "model_5.add(Dense(_____,activation=\"_____\",input_dim=X_train.shape[1])) # Complete the code to define the number of neurons and activation function\n",
        "model_5.add(Dropout(_____)) #Complete the code to define the dropout rate\n",
        "model_5.add(Dense(_____,activation=\"____\")) # Complete the code to define the number of neurons and activation function\n",
        "model_5.add(Dense(_____, activation = \"____\")) # Complete the code to define the number of neurons and activation function\n",
        "model_5.add(Dense(____,activation=\"____\")) # Complete the code to define the number of neurons and activation function"
      ]
    },
    {
      "cell_type": "code",
      "execution_count": null,
      "metadata": {
        "id": "jU1Q8Z8CYxom"
      },
      "outputs": [],
      "source": [
        "model_5.summary()"
      ]
    },
    {
      "cell_type": "code",
      "execution_count": null,
      "metadata": {
        "id": "6MQXRa63Yxom"
      },
      "outputs": [],
      "source": [
        "optimizer = tf.keras.optimizers.Adam()    # defining Adam as the optimizer to be used\n",
        "# model_5.compile(loss='binary_crossentropy', optimizer=optimizer, metrics = ['accuracy']) ## Uncomment this line in case the metric of choice is Accuracy\n",
        "# model_5.compile(loss='binary_crossentropy', optimizer=optimizer, metrics = ['Precision']) ## Uncomment this line in case the metric of choice is Precision\n",
        "# model_5.compile(loss='binary_crossentropy', optimizer=optimizer, metrics = ['Recall']) ## Uncomment this line in case the metric of choice is Recall\n",
        "# model_5.compile(loss='binary_crossentropy', optimizer=optimizer, metrics = ['f1_score']) ## Uncomment this line in case the metric of choice is F1 Score"
      ]
    },
    {
      "cell_type": "code",
      "execution_count": null,
      "metadata": {
        "id": "4nfW1HAYYxon"
      },
      "outputs": [],
      "source": [
        "start = time.time()\n",
        "history = model_5.fit(X_train, y_train, validation_data=(X_val,y_val) , batch_size=batch_size, epochs=epochs)\n",
        "end=time.time()"
      ]
    },
    {
      "cell_type": "code",
      "execution_count": null,
      "metadata": {
        "id": "iT96bkirYxon"
      },
      "outputs": [],
      "source": [
        "print(\"Time taken in seconds \",end-start)"
      ]
    },
    {
      "cell_type": "code",
      "execution_count": null,
      "metadata": {
        "id": "lV6Ve4KuYxon"
      },
      "outputs": [],
      "source": [
        "plot(history,'loss')"
      ]
    },
    {
      "cell_type": "markdown",
      "metadata": {
        "id": "DL-94xameUkb"
      },
      "source": [
        "Lets check the model performance of model_5 on the training and validation data."
      ]
    },
    {
      "cell_type": "code",
      "execution_count": null,
      "metadata": {
        "id": "LRiDnwPhYxoo"
      },
      "outputs": [],
      "source": [
        "model_5_train_perf = model_performance_classification(model_5,X_train,y_train)\n",
        "model_5_train_perf"
      ]
    },
    {
      "cell_type": "code",
      "execution_count": null,
      "metadata": {
        "id": "hyz9ix7KYxoo"
      },
      "outputs": [],
      "source": [
        "model_5_val_perf = model_performance_classification(model_5,X_val,y_val)\n",
        "model_5_val_perf"
      ]
    },
    {
      "cell_type": "code",
      "execution_count": null,
      "metadata": {
        "id": "B0aSAUTlYxop"
      },
      "outputs": [],
      "source": [
        "y_train_pred_5 = model_5.predict(X_train)\n",
        "y_val_pred_5 = model_5.predict(X_val)"
      ]
    },
    {
      "cell_type": "markdown",
      "metadata": {
        "id": "68DKFcJIehp1"
      },
      "source": [
        "Lets check the classification report of model_5 on training and validation data."
      ]
    },
    {
      "cell_type": "code",
      "execution_count": null,
      "metadata": {
        "id": "i9XpJpekYxop"
      },
      "outputs": [],
      "source": [
        "print(\"Classification Report - Train data Model_2\", end=\"\\n\\n\")\n",
        "cr_train_model_5 = classification_report(y_train,y_train_pred_5 > 0.5)\n",
        "print(cr_train_model_5)"
      ]
    },
    {
      "cell_type": "code",
      "execution_count": null,
      "metadata": {
        "id": "9RlRQJOuYxop"
      },
      "outputs": [],
      "source": [
        "print(\"Classification Report - Validation data Model_2\", end=\"\\n\\n\")\n",
        "cr_val_model_5 = classification_report(y_val,y_val_pred_5 > 0.5)\n",
        "print(cr_val_model_5)"
      ]
    },
    {
      "cell_type": "markdown",
      "metadata": {
        "id": "H-wDd0RIZQyI"
      },
      "source": [
        "## Model 6"
      ]
    },
    {
      "cell_type": "markdown",
      "metadata": {
        "id": "p0IOkrVWYxop"
      },
      "source": [
        "Let's see how does the model performance change when the model gives higher importance to the minority class"
      ]
    },
    {
      "cell_type": "code",
      "execution_count": null,
      "metadata": {
        "id": "0LOpw8cNZQyJ"
      },
      "outputs": [],
      "source": [
        "# clears the current Keras session, resetting all layers and models previously created, freeing up memory and resources.\n",
        "tf.keras.backend.clear_session()"
      ]
    },
    {
      "cell_type": "code",
      "execution_count": null,
      "metadata": {
        "id": "HNUew9nFZQyJ"
      },
      "outputs": [],
      "source": [
        "model_6 = Sequential()\n",
        "model_6.add(Dense(____,activation=\"____\",input_dim=X_train.shape[1])) # Complete the code to define the number of neurons and activation function\n",
        "model_6.add(Dropout(____)) # Complete the code to define the dropout rate\n",
        "model_6.add(Dense(_____,activation=\"_____\")) # Complete the code to define the number of neurons and activation function\n",
        "model_6.add(Dense(_____, activation = \"_____\")) # Complete the code to define the number of neurons and activation function\n",
        "model_6.add(Dense(_____,activation=\"sigmoid\")) # Complete the code to define the number of neurons in the output layer"
      ]
    },
    {
      "cell_type": "code",
      "execution_count": null,
      "metadata": {
        "id": "h_sGGGREZQyJ"
      },
      "outputs": [],
      "source": [
        "model_6.summary()"
      ]
    },
    {
      "cell_type": "code",
      "execution_count": null,
      "metadata": {
        "id": "vaVP4CM9ZQyJ"
      },
      "outputs": [],
      "source": [
        "optimizer = tf.keras.optimizers.SGD()\n",
        "# model_6.compile(loss='binary_crossentropy', optimizer=optimizer, metrics = ['accuracy']) ## Uncomment this line in case the metric of choice is Accuracy\n",
        "# model_6.compile(loss='binary_crossentropy', optimizer=optimizer, metrics = ['Precision']) ## Uncomment this line in case the metric of choice is Precision\n",
        "# model_6.compile(loss='binary_crossentropy', optimizer=optimizer, metrics = ['Recall']) ## Uncomment this line in case the metric of choice is Recall\n",
        "# model_6.compile(loss='binary_crossentropy', optimizer=optimizer, metrics = ['f1_score']) ## Uncomment this line in case the metric of choice is F1 Score"
      ]
    },
    {
      "cell_type": "code",
      "execution_count": null,
      "metadata": {
        "id": "fhiZR8WMZQyJ"
      },
      "outputs": [],
      "source": [
        "start = time.time()\n",
        "history = model_3.fit(X_train, y_train, validation_data=(X_val,y_val) , batch_size=batch_size, epochs=epochs,class_weight=_____, ) # Complete the code such that the model is biased towards the minority class\n",
        "end=time.time()"
      ]
    },
    {
      "cell_type": "code",
      "execution_count": null,
      "metadata": {
        "id": "13AF9v2UZQyJ"
      },
      "outputs": [],
      "source": [
        "print(\"Time taken in seconds \",end-start)"
      ]
    },
    {
      "cell_type": "code",
      "execution_count": null,
      "metadata": {
        "id": "48uod9TsZQyK"
      },
      "outputs": [],
      "source": [
        "plot(history,'loss')"
      ]
    },
    {
      "cell_type": "markdown",
      "metadata": {
        "id": "YhlzTJsngBev"
      },
      "source": [
        "Lets check the model performance of model_6 on training and validation data."
      ]
    },
    {
      "cell_type": "code",
      "execution_count": null,
      "metadata": {
        "id": "Fiy0gmSUZQyK"
      },
      "outputs": [],
      "source": [
        "model_6_train_perf = model_performance_classification(model_6,X_train,y_train)\n",
        "model_6_train_perf"
      ]
    },
    {
      "cell_type": "code",
      "execution_count": null,
      "metadata": {
        "id": "aX8Zu4FLZQyK"
      },
      "outputs": [],
      "source": [
        "model_6_val_perf = model_performance_classification(model_6,X_val,y_val)\n",
        "model_6_val_perf"
      ]
    },
    {
      "cell_type": "code",
      "execution_count": null,
      "metadata": {
        "id": "IXZlBIDLZQyK"
      },
      "outputs": [],
      "source": [
        "y_train_pred_6 = model_6.predict(X_train)\n",
        "y_val_pred_6 = model_6.predict(X_val)"
      ]
    },
    {
      "cell_type": "markdown",
      "metadata": {
        "id": "jNsmMIsxgJE_"
      },
      "source": [
        "Lets check the classification report of model_6 on both training and validation data."
      ]
    },
    {
      "cell_type": "code",
      "execution_count": null,
      "metadata": {
        "id": "DXeX1QHSZQyK"
      },
      "outputs": [],
      "source": [
        "print(\"Classification Report - Train data Model_3\", end=\"\\n\\n\")\n",
        "cr_train_model_6 = classification_report(y_train,y_train_pred_6 > 0.5)\n",
        "print(cr_train_model_6)"
      ]
    },
    {
      "cell_type": "code",
      "execution_count": null,
      "metadata": {
        "id": "SV3-H6ckZQyK"
      },
      "outputs": [],
      "source": [
        "print(\"Classification Report - Validation data Model_3\", end=\"\\n\\n\")\n",
        "cr_val_model_6 = classification_report(y_val,y_val_pred_6 > 0.5)\n",
        "print(cr_val_model_6)"
      ]
    },
    {
      "cell_type": "markdown",
      "metadata": {
        "id": "3O07XgkzY_ot"
      },
      "source": [
        "# **Model Performance Comparison and Final Model Selection**"
      ]
    },
    {
      "cell_type": "markdown",
      "metadata": {
        "id": "mVYagrg9ZQyK"
      },
      "source": [
        "Now, in order to select the final model, we will compare the performances of all the models for the training and test sets."
      ]
    },
    {
      "cell_type": "markdown",
      "metadata": {
        "id": "QfZUZD83lu4v"
      },
      "source": [
        "**Training Performance Comparison**"
      ]
    },
    {
      "cell_type": "code",
      "execution_count": null,
      "metadata": {
        "id": "HQB0PVtbh-MA"
      },
      "outputs": [],
      "source": [
        "# training performance comparison\n",
        "\n",
        "models_train_comp_df = pd.concat(\n",
        "    [\n",
        "        model_0_train_perf.T,\n",
        "        model_1_train_perf.T,\n",
        "        model_2_train_perf.T,\n",
        "        model_3_train_perf.T,\n",
        "        model_4_train_perf.T,\n",
        "        model_5_train_perf.T,\n",
        "        model_6_train_perf.T\n",
        "\n",
        "    ],\n",
        "    axis=1,\n",
        ")\n",
        "models_train_comp_df.columns = [\n",
        "    \"Model 0\",\n",
        "    \"Model 1\",\n",
        "    \"Model 2\",\n",
        "    \"Model 3\",\n",
        "    \"Model 4\",\n",
        "    \"Model 5\",\n",
        "    \"Model 6\"\n",
        "]\n",
        "print(\"Training set performance comparison:\")\n",
        "models_train_comp_df"
      ]
    },
    {
      "cell_type": "markdown",
      "metadata": {
        "id": "Jqpgdol7l2Um"
      },
      "source": [
        "**Validation Performance Comparison**"
      ]
    },
    {
      "cell_type": "code",
      "execution_count": null,
      "metadata": {
        "id": "KzWl6tM8ilz9"
      },
      "outputs": [],
      "source": [
        "# Validation performance comparison\n",
        "\n",
        "models_val_comp_df = pd.concat(\n",
        "    [\n",
        "        model_0_val_perf.T,\n",
        "        model_1_val_perf.T,\n",
        "        model_2_val_perf.T,\n",
        "        model_3_val_perf.T,\n",
        "        model_4_val_perf.T,\n",
        "        model_5_val_perf.T,\n",
        "        model_6_val_perf.T\n",
        "\n",
        "    ],\n",
        "    axis=1,\n",
        ")\n",
        "models_val_comp_df.columns = [\n",
        "    \"Model 0\",\n",
        "    \"Model 1\",\n",
        "    \"Model 2\",\n",
        "    \"Model 3\",\n",
        "    \"Model 4\",\n",
        "    \"Model 5\",\n",
        "    \"Model 6\"\n",
        "]\n",
        "print(\"Validation set performance comparison:\")\n",
        "models_val_comp_df"
      ]
    },
    {
      "cell_type": "markdown",
      "metadata": {
        "id": "q69xcftQuKyg"
      },
      "source": [
        "**Checking the performance of the best model on the test set**"
      ]
    },
    {
      "cell_type": "code",
      "execution_count": null,
      "metadata": {
        "id": "_pfViqPWq_pO"
      },
      "outputs": [],
      "source": [
        "# best_model = model_0 ## Uncomment this line in case the best model is model_0\n",
        "# best_model = model_1 ## Uncomment this line in case the best model is model_1\n",
        "# best_model = model_2 ## Uncomment this line in case the best model is model_2\n",
        "# best_model = model_3 ## Uncomment this line in case the best model is model_3\n",
        "# best_model = model_4 ## Uncomment this line in case the best model is model_4\n",
        "# best_model = model_5 ## Uncomment this line in case the best model is model_5\n",
        "# best_model = model_6 ## Uncomment this line in case the best model is model_6"
      ]
    },
    {
      "cell_type": "code",
      "execution_count": null,
      "metadata": {
        "id": "oPxuwyh6j227"
      },
      "outputs": [],
      "source": [
        "# Test set performance for the best model\n",
        "best_model_test_perf = model_performance_classification(best_model,X_test,y_test)\n",
        "best_model_test_perf"
      ]
    },
    {
      "cell_type": "code",
      "execution_count": null,
      "metadata": {
        "id": "J4ZzDS8Cqe_b"
      },
      "outputs": [],
      "source": [
        "y_test_pred_best = best_model.predict(X_test)\n",
        "\n",
        "cr_test_best_model = classification_report(y_test, y_test_pred_best>0.5) # Check the classification report of best model on test data.\n",
        "print(cr_test_best_model)"
      ]
    },
    {
      "cell_type": "markdown",
      "metadata": {
        "id": "JdME3J172AN-"
      },
      "source": [
        "# **Actionable Insights and Recommendations**"
      ]
    },
    {
      "cell_type": "markdown",
      "metadata": {
        "id": "IkJU-1M5uT5b"
      },
      "source": [
        "- Write down actionable insights here"
      ]
    },
    {
      "cell_type": "markdown",
      "metadata": {
        "id": "-O4lLWtluXz7"
      },
      "source": [
        "- Write down business recommendations here"
      ]
    }
  ],
  "metadata": {
    "colab": {
      "collapsed_sections": [
        "x3-QehJxbp0t",
        "4p9zp6bHfPOY"
      ],
      "provenance": [],
      "toc_visible": true,
      "include_colab_link": true
    },
    "kernelspec": {
      "display_name": "Python 3",
      "name": "python3"
    },
    "language_info": {
      "codemirror_mode": {
        "name": "ipython",
        "version": 3
      },
      "file_extension": ".py",
      "mimetype": "text/x-python",
      "name": "python",
      "nbconvert_exporter": "python",
      "pygments_lexer": "ipython3",
      "version": "3.11.3"
    }
  },
  "nbformat": 4,
  "nbformat_minor": 0
}