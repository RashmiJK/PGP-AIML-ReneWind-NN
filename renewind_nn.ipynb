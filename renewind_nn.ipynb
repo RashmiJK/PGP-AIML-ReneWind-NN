{
  "cells": [
    {
      "cell_type": "markdown",
      "metadata": {
        "id": "view-in-github",
        "colab_type": "text"
      },
      "source": [
        "<a href=\"https://colab.research.google.com/github/RashmiJK/PGP-AIML-ReneWind-NN/blob/main/renewind_nn.ipynb\" target=\"_parent\"><img src=\"https://colab.research.google.com/assets/colab-badge.svg\" alt=\"Open In Colab\"/></a>"
      ]
    },
    {
      "cell_type": "markdown",
      "metadata": {
        "id": "9EaJ8AGwpM-2"
      },
      "source": [
        "# **Problem Statement**"
      ]
    },
    {
      "cell_type": "markdown",
      "metadata": {
        "id": "x3-QehJxbp0t"
      },
      "source": [
        "## Business Context"
      ]
    },
    {
      "cell_type": "markdown",
      "metadata": {
        "id": "7DoY1AHZfMF1"
      },
      "source": [
        "Renewable energy sources play an increasingly important role in the global energy mix, as the effort to reduce the environmental impact of energy production increases.\n",
        "\n",
        "Out of all the renewable energy alternatives, wind energy is one of the most developed technologies worldwide. The U.S Department of Energy has put together a guide to achieving operational efficiency using predictive maintenance practices.\n",
        "\n",
        "Predictive maintenance uses sensor information and analysis methods to measure and predict degradation and future component capability. The idea behind predictive maintenance is that failure patterns are predictable and if component failure can be predicted accurately and the component is replaced before it fails, the costs of operation and maintenance will be much lower.\n",
        "\n",
        "The sensors fitted across different machines involved in the process of energy generation collect data related to various environmental factors (temperature, humidity, wind speed, etc.) and additional features related to various parts of the wind turbine (gearbox, tower, blades, break, etc.)."
      ]
    },
    {
      "cell_type": "markdown",
      "metadata": {
        "id": "4p9zp6bHfPOY"
      },
      "source": [
        "## Objective"
      ]
    },
    {
      "cell_type": "markdown",
      "metadata": {
        "id": "eu7YIw90fRdW"
      },
      "source": [
        "“ReneWind” is a company working on improving the machinery/processes involved in the production of wind energy using machine learning and has collected data of generator failure of wind turbines using sensors. They have shared a ciphered version of the data, as the data collected through sensors is confidential (the type of data collected varies with companies). Data has 40 predictors, 20000 observations in the training set and 5000 in the test set.\n",
        "\n",
        "The objective is to build various classification models, tune them, and find the best one that will help identify failures so that the generators could be repaired before failing/breaking to reduce the overall maintenance cost.\n",
        "The nature of predictions made by the classification model will translate as follows:\n",
        "\n",
        "- True positives (TP) are failures correctly predicted by the model. These will result in repairing costs.\n",
        "- False negatives (FN) are real failures where there is no detection by the model. These will result in replacement costs.\n",
        "- False positives (FP) are detections where there is no failure. These will result in inspection costs.\n",
        "\n",
        "It is given that the cost of repairing a generator is much less than the cost of replacing it, and the cost of inspection is less than the cost of repair.\n",
        "\n",
        "“1” in the target variables should be considered as “failure” and “0” represents “No failure”."
      ]
    },
    {
      "cell_type": "markdown",
      "metadata": {
        "id": "XPeJAS5bfUOj"
      },
      "source": [
        "## Data Description"
      ]
    },
    {
      "cell_type": "markdown",
      "metadata": {
        "id": "P4ns9KiyfVsW"
      },
      "source": [
        "The data provided is a transformed version of the original data which was collected using sensors.\n",
        "\n",
        "- Train.csv - To be used for training and tuning of models.\n",
        "- Test.csv - To be used only for testing the performance of the final best model.\n",
        "\n",
        "Both the datasets consist of 40 predictor variables and 1 target variable."
      ]
    },
    {
      "cell_type": "markdown",
      "metadata": {
        "id": "v_-uuGqH-qTt"
      },
      "source": [
        "# 1 - Installing and Importing the necessary libraries"
      ]
    },
    {
      "cell_type": "markdown",
      "source": [
        "The objective is to build classification neural netwrok model to predict the turbine failures.\n",
        "\n",
        "**Instruction:** Restart the runtime after installing libraries to ensure correct package versions and ignore dependency warnings."
      ],
      "metadata": {
        "id": "K-JVICvpSltc"
      }
    },
    {
      "cell_type": "code",
      "execution_count": 37,
      "metadata": {
        "id": "Ob7CHevooE2s"
      },
      "outputs": [],
      "source": [
        "# Installing the libraries with the specified version\n",
        "!pip install tensorflow==2.18.0 scikit-learn==1.3.2 matplotlib===3.8.3 seaborn==0.13.2 numpy==1.26.4 pandas==2.2.2 -q --user --no-warn-script-location --no-deps"
      ]
    },
    {
      "cell_type": "code",
      "execution_count": 1,
      "metadata": {
        "id": "dbiVVX6hbp0v"
      },
      "outputs": [],
      "source": [
        "# Libraries for data manipulation, analysis and scientific computing\n",
        "import pandas as pd\n",
        "import numpy as np\n",
        "\n",
        "# Libraries to help with data visualization\n",
        "import matplotlib.pyplot as plt\n",
        "import seaborn as sns\n",
        "\n",
        "# Library for time related functions\n",
        "import time\n",
        "\n",
        "# For splitting datasets into training and testing sets.\n",
        "from sklearn.model_selection import train_test_split\n",
        "# Tools for data preprocessing including label encoding, one-hot encoding, and standard scaling\n",
        "from sklearn.preprocessing import LabelEncoder, OneHotEncoder,StandardScaler\n",
        "# Imports a class for imputing missing values in datasets.\n",
        "from sklearn.impute import SimpleImputer\n",
        "\n",
        "# Imports for evaluating the performance of machine learning models\n",
        "from sklearn import metrics\n",
        "from sklearn.metrics import (\n",
        "    confusion_matrix,\n",
        "    f1_score,\n",
        "    accuracy_score,\n",
        "    recall_score,\n",
        "    precision_score,\n",
        "    classification_report\n",
        ")\n",
        "\n",
        "# Imports the tensorflow, keras and layers.\n",
        "import tensorflow\n",
        "import tensorflow as tf\n",
        "from tensorflow.keras.models import Sequential\n",
        "from tensorflow.keras.layers import Dense\n",
        "from tensorflow.keras.layers import Dense, Input, Dropout,BatchNormalization\n",
        "from tensorflow.keras import backend\n",
        "from tensorflow import keras\n",
        "\n",
        "# To suppress unnecessary warnings\n",
        "import warnings\n",
        "warnings.filterwarnings(\"ignore\")"
      ]
    },
    {
      "cell_type": "code",
      "source": [
        "# Removes the limit for the number of displayed columns\n",
        "pd.set_option(\"display.max_columns\", None)\n",
        "\n",
        "# Sets the limit for the number of displayed rows\n",
        "pd.set_option(\"display.max_rows\", 100)"
      ],
      "metadata": {
        "id": "V3Y24y0Cxkiv"
      },
      "execution_count": 2,
      "outputs": []
    },
    {
      "cell_type": "markdown",
      "metadata": {
        "id": "xxhpZv9y-qTw"
      },
      "source": [
        "# 2 - Import Dataset"
      ]
    },
    {
      "cell_type": "code",
      "execution_count": 3,
      "metadata": {
        "id": "D4QgYmaOkMEA",
        "colab": {
          "base_uri": "https://localhost:8080/"
        },
        "outputId": "9b40b334-ced3-40d2-b451-2a7d48dfbce1"
      },
      "outputs": [
        {
          "output_type": "stream",
          "name": "stdout",
          "text": [
            "Drive already mounted at /content/drive; to attempt to forcibly remount, call drive.mount(\"/content/drive\", force_remount=True).\n"
          ]
        }
      ],
      "source": [
        "# Mount drive\n",
        "from google.colab import drive\n",
        "drive.mount('/content/drive')"
      ]
    },
    {
      "cell_type": "code",
      "execution_count": 4,
      "metadata": {
        "id": "39UgpBY3bp0y"
      },
      "outputs": [],
      "source": [
        "# Import train and test set\n",
        "df = pd.read_csv(\"/content/drive/MyDrive/Colab Notebooks/Project-4/Train.csv\")\n",
        "df_test = pd.read_csv(\"/content/drive/MyDrive/Colab Notebooks/Project-4/Test.csv\")"
      ]
    },
    {
      "cell_type": "code",
      "source": [
        "# Set the seed using keras.utils.set_random_seed. This will set:\n",
        "# 1) `numpy` seed that influences operations that involve randomess like shuffling data, initializing weights or dropout layers\n",
        "# 2) backend random seed that influences operations within keras itself\n",
        "# 3) `python` random seed\n",
        "keras.utils.set_random_seed(812)\n",
        "\n",
        "# Call function so that TensorFlow attempts to make operations more deterministic\n",
        "tf.config.experimental.enable_op_determinism()"
      ],
      "metadata": {
        "id": "9rGR4dJFaDUc"
      },
      "execution_count": 5,
      "outputs": []
    },
    {
      "cell_type": "markdown",
      "metadata": {
        "id": "4cVx5kZHbp02"
      },
      "source": [
        "# 3 - Data Overview"
      ]
    },
    {
      "cell_type": "markdown",
      "metadata": {
        "id": "KQi5ygTC-qT1"
      },
      "source": [
        "## 3.1 - Shape of the dataset"
      ]
    },
    {
      "cell_type": "code",
      "execution_count": 6,
      "metadata": {
        "id": "7Y8epHpjbp0z",
        "colab": {
          "base_uri": "https://localhost:8080/"
        },
        "outputId": "87ccfc4b-bfdf-4474-c235-b374679883ce"
      },
      "outputs": [
        {
          "output_type": "execute_result",
          "data": {
            "text/plain": [
              "(20000, 41)"
            ]
          },
          "metadata": {},
          "execution_count": 6
        }
      ],
      "source": [
        "# Shape of the train data\n",
        "df.shape"
      ]
    },
    {
      "cell_type": "code",
      "execution_count": 7,
      "metadata": {
        "id": "hA15qTjzbp01",
        "colab": {
          "base_uri": "https://localhost:8080/"
        },
        "outputId": "c3996620-dd9c-4feb-c598-f60a2870887c"
      },
      "outputs": [
        {
          "output_type": "execute_result",
          "data": {
            "text/plain": [
              "(5000, 41)"
            ]
          },
          "metadata": {},
          "execution_count": 7
        }
      ],
      "source": [
        "# Shape of the test data\n",
        "df_test.shape"
      ]
    },
    {
      "cell_type": "code",
      "execution_count": 8,
      "metadata": {
        "id": "QTsYJZBubp02"
      },
      "outputs": [],
      "source": [
        "# Make a copy of train data and preserve the original\n",
        "data = df.copy()"
      ]
    },
    {
      "cell_type": "code",
      "execution_count": 9,
      "metadata": {
        "id": "69ImWbLXbp03"
      },
      "outputs": [],
      "source": [
        "# Make a copy of test data and preserve the original\n",
        "data_test = df_test.copy()"
      ]
    },
    {
      "cell_type": "markdown",
      "source": [
        "<span style=\"color: blue;\"> **Observation**</span>\n",
        "* The train set has 20000 rows and 41 columns\n",
        "* The test set has 5000 rows and 41 columns"
      ],
      "metadata": {
        "id": "4izB1byswyKV"
      }
    },
    {
      "cell_type": "markdown",
      "metadata": {
        "id": "qlzqMR1K-qTz"
      },
      "source": [
        "## 3.2 - View sample rows of the dataset"
      ]
    },
    {
      "cell_type": "code",
      "execution_count": 10,
      "metadata": {
        "id": "l9RnN7Twbp03",
        "colab": {
          "base_uri": "https://localhost:8080/",
          "height": 224
        },
        "outputId": "7527da27-22e3-438a-a8d7-48b3958ec7c6"
      },
      "outputs": [
        {
          "output_type": "execute_result",
          "data": {
            "text/plain": [
              "         V1        V2        V3        V4        V5        V6        V7  \\\n",
              "0 -4.464606 -4.679129  3.101546  0.506130 -0.221083 -2.032511 -2.910870   \n",
              "1  3.365912  3.653381  0.909671 -1.367528  0.332016  2.358938  0.732600   \n",
              "2 -3.831843 -5.824444  0.634031 -2.418815 -1.773827  1.016824 -2.098941   \n",
              "3  1.618098  1.888342  7.046143 -1.147285  0.083080 -1.529780  0.207309   \n",
              "4 -0.111440  3.872488 -3.758361 -2.982897  3.792714  0.544960  0.205433   \n",
              "\n",
              "         V8        V9       V10       V11       V12       V13       V14  \\\n",
              "0  0.050714 -1.522351  3.761892 -5.714719  0.735893  0.981251  1.417884   \n",
              "1 -4.332135  0.565695 -0.101080  1.914465 -0.951458 -1.255259 -2.706522   \n",
              "2 -3.173204 -2.081860  5.392621 -0.770673  1.106718  1.144261  0.943301   \n",
              "3 -2.493629  0.344926  2.118578 -3.053023  0.459719  2.704527 -0.636086   \n",
              "4  4.848994 -1.854920 -6.220023  1.998347  4.723757  0.709113 -1.989432   \n",
              "\n",
              "        V15       V16       V17       V18       V19       V20       V21  \\\n",
              "0 -3.375815 -3.047303  0.306194  2.914097  2.269979  4.394876 -2.388299   \n",
              "1  0.193223 -4.769379 -2.205319  0.907716  0.756894 -5.833678 -3.065122   \n",
              "2 -3.163804 -4.247825 -4.038909  3.688534  3.311196  1.059002 -2.143026   \n",
              "3 -0.453717 -3.174046 -3.404347 -1.281536  1.582104 -1.951778 -3.516555   \n",
              "4 -2.632684  4.184447  2.245356  3.734452 -6.312766 -5.379918 -0.886667   \n",
              "\n",
              "        V22       V23       V24       V25       V26       V27       V28  \\\n",
              "0  0.646388 -1.190508  3.132986  0.665277 -2.510846 -0.036744  0.726218   \n",
              "1  1.596647 -1.757311  1.766444 -0.267098  3.625036  1.500346 -0.585712   \n",
              "2  1.650120 -1.660592  1.679910 -0.450782 -4.550695  3.738779  1.134404   \n",
              "3 -1.206011 -5.627854 -1.817653  2.124142  5.294642  4.748137 -2.308536   \n",
              "4  2.061694  9.445586  4.489976 -3.945144  4.582065 -8.780422 -3.382967   \n",
              "\n",
              "        V29       V30       V31       V32       V33        V34       V35  \\\n",
              "0 -3.982187 -1.072638  1.667098  3.059700 -1.690440   2.846296  2.235198   \n",
              "1  0.783034 -0.201217  0.024883 -1.795474  3.032780  -2.467514  1.894599   \n",
              "2 -2.033531  0.840839 -1.600395 -0.257101  0.803550   4.086219  2.292138   \n",
              "3 -3.962977 -6.028730  4.948770 -3.584425 -2.577474   1.363769  0.622714   \n",
              "4  5.106507  6.787513  2.044184  8.265896  6.629213 -10.068689  1.222987   \n",
              "\n",
              "        V36       V37       V38       V39       V40  Target  \n",
              "0  6.667486  0.443809 -2.369169  2.950578 -3.480324       0  \n",
              "1 -2.297780 -1.731048  5.908837 -0.386345  0.616242       0  \n",
              "2  5.360850  0.351993  2.940021  3.839160 -4.309402       0  \n",
              "3  5.550100 -1.526796  0.138853  3.101430 -1.277378       0  \n",
              "4 -3.229763  1.686909 -2.163896 -3.644622  6.510338       0  "
            ],
            "text/html": [
              "\n",
              "  <div id=\"df-5b794eef-6d20-47ac-974c-b30c7961d410\" class=\"colab-df-container\">\n",
              "    <div>\n",
              "<style scoped>\n",
              "    .dataframe tbody tr th:only-of-type {\n",
              "        vertical-align: middle;\n",
              "    }\n",
              "\n",
              "    .dataframe tbody tr th {\n",
              "        vertical-align: top;\n",
              "    }\n",
              "\n",
              "    .dataframe thead th {\n",
              "        text-align: right;\n",
              "    }\n",
              "</style>\n",
              "<table border=\"1\" class=\"dataframe\">\n",
              "  <thead>\n",
              "    <tr style=\"text-align: right;\">\n",
              "      <th></th>\n",
              "      <th>V1</th>\n",
              "      <th>V2</th>\n",
              "      <th>V3</th>\n",
              "      <th>V4</th>\n",
              "      <th>V5</th>\n",
              "      <th>V6</th>\n",
              "      <th>V7</th>\n",
              "      <th>V8</th>\n",
              "      <th>V9</th>\n",
              "      <th>V10</th>\n",
              "      <th>V11</th>\n",
              "      <th>V12</th>\n",
              "      <th>V13</th>\n",
              "      <th>V14</th>\n",
              "      <th>V15</th>\n",
              "      <th>V16</th>\n",
              "      <th>V17</th>\n",
              "      <th>V18</th>\n",
              "      <th>V19</th>\n",
              "      <th>V20</th>\n",
              "      <th>V21</th>\n",
              "      <th>V22</th>\n",
              "      <th>V23</th>\n",
              "      <th>V24</th>\n",
              "      <th>V25</th>\n",
              "      <th>V26</th>\n",
              "      <th>V27</th>\n",
              "      <th>V28</th>\n",
              "      <th>V29</th>\n",
              "      <th>V30</th>\n",
              "      <th>V31</th>\n",
              "      <th>V32</th>\n",
              "      <th>V33</th>\n",
              "      <th>V34</th>\n",
              "      <th>V35</th>\n",
              "      <th>V36</th>\n",
              "      <th>V37</th>\n",
              "      <th>V38</th>\n",
              "      <th>V39</th>\n",
              "      <th>V40</th>\n",
              "      <th>Target</th>\n",
              "    </tr>\n",
              "  </thead>\n",
              "  <tbody>\n",
              "    <tr>\n",
              "      <th>0</th>\n",
              "      <td>-4.464606</td>\n",
              "      <td>-4.679129</td>\n",
              "      <td>3.101546</td>\n",
              "      <td>0.506130</td>\n",
              "      <td>-0.221083</td>\n",
              "      <td>-2.032511</td>\n",
              "      <td>-2.910870</td>\n",
              "      <td>0.050714</td>\n",
              "      <td>-1.522351</td>\n",
              "      <td>3.761892</td>\n",
              "      <td>-5.714719</td>\n",
              "      <td>0.735893</td>\n",
              "      <td>0.981251</td>\n",
              "      <td>1.417884</td>\n",
              "      <td>-3.375815</td>\n",
              "      <td>-3.047303</td>\n",
              "      <td>0.306194</td>\n",
              "      <td>2.914097</td>\n",
              "      <td>2.269979</td>\n",
              "      <td>4.394876</td>\n",
              "      <td>-2.388299</td>\n",
              "      <td>0.646388</td>\n",
              "      <td>-1.190508</td>\n",
              "      <td>3.132986</td>\n",
              "      <td>0.665277</td>\n",
              "      <td>-2.510846</td>\n",
              "      <td>-0.036744</td>\n",
              "      <td>0.726218</td>\n",
              "      <td>-3.982187</td>\n",
              "      <td>-1.072638</td>\n",
              "      <td>1.667098</td>\n",
              "      <td>3.059700</td>\n",
              "      <td>-1.690440</td>\n",
              "      <td>2.846296</td>\n",
              "      <td>2.235198</td>\n",
              "      <td>6.667486</td>\n",
              "      <td>0.443809</td>\n",
              "      <td>-2.369169</td>\n",
              "      <td>2.950578</td>\n",
              "      <td>-3.480324</td>\n",
              "      <td>0</td>\n",
              "    </tr>\n",
              "    <tr>\n",
              "      <th>1</th>\n",
              "      <td>3.365912</td>\n",
              "      <td>3.653381</td>\n",
              "      <td>0.909671</td>\n",
              "      <td>-1.367528</td>\n",
              "      <td>0.332016</td>\n",
              "      <td>2.358938</td>\n",
              "      <td>0.732600</td>\n",
              "      <td>-4.332135</td>\n",
              "      <td>0.565695</td>\n",
              "      <td>-0.101080</td>\n",
              "      <td>1.914465</td>\n",
              "      <td>-0.951458</td>\n",
              "      <td>-1.255259</td>\n",
              "      <td>-2.706522</td>\n",
              "      <td>0.193223</td>\n",
              "      <td>-4.769379</td>\n",
              "      <td>-2.205319</td>\n",
              "      <td>0.907716</td>\n",
              "      <td>0.756894</td>\n",
              "      <td>-5.833678</td>\n",
              "      <td>-3.065122</td>\n",
              "      <td>1.596647</td>\n",
              "      <td>-1.757311</td>\n",
              "      <td>1.766444</td>\n",
              "      <td>-0.267098</td>\n",
              "      <td>3.625036</td>\n",
              "      <td>1.500346</td>\n",
              "      <td>-0.585712</td>\n",
              "      <td>0.783034</td>\n",
              "      <td>-0.201217</td>\n",
              "      <td>0.024883</td>\n",
              "      <td>-1.795474</td>\n",
              "      <td>3.032780</td>\n",
              "      <td>-2.467514</td>\n",
              "      <td>1.894599</td>\n",
              "      <td>-2.297780</td>\n",
              "      <td>-1.731048</td>\n",
              "      <td>5.908837</td>\n",
              "      <td>-0.386345</td>\n",
              "      <td>0.616242</td>\n",
              "      <td>0</td>\n",
              "    </tr>\n",
              "    <tr>\n",
              "      <th>2</th>\n",
              "      <td>-3.831843</td>\n",
              "      <td>-5.824444</td>\n",
              "      <td>0.634031</td>\n",
              "      <td>-2.418815</td>\n",
              "      <td>-1.773827</td>\n",
              "      <td>1.016824</td>\n",
              "      <td>-2.098941</td>\n",
              "      <td>-3.173204</td>\n",
              "      <td>-2.081860</td>\n",
              "      <td>5.392621</td>\n",
              "      <td>-0.770673</td>\n",
              "      <td>1.106718</td>\n",
              "      <td>1.144261</td>\n",
              "      <td>0.943301</td>\n",
              "      <td>-3.163804</td>\n",
              "      <td>-4.247825</td>\n",
              "      <td>-4.038909</td>\n",
              "      <td>3.688534</td>\n",
              "      <td>3.311196</td>\n",
              "      <td>1.059002</td>\n",
              "      <td>-2.143026</td>\n",
              "      <td>1.650120</td>\n",
              "      <td>-1.660592</td>\n",
              "      <td>1.679910</td>\n",
              "      <td>-0.450782</td>\n",
              "      <td>-4.550695</td>\n",
              "      <td>3.738779</td>\n",
              "      <td>1.134404</td>\n",
              "      <td>-2.033531</td>\n",
              "      <td>0.840839</td>\n",
              "      <td>-1.600395</td>\n",
              "      <td>-0.257101</td>\n",
              "      <td>0.803550</td>\n",
              "      <td>4.086219</td>\n",
              "      <td>2.292138</td>\n",
              "      <td>5.360850</td>\n",
              "      <td>0.351993</td>\n",
              "      <td>2.940021</td>\n",
              "      <td>3.839160</td>\n",
              "      <td>-4.309402</td>\n",
              "      <td>0</td>\n",
              "    </tr>\n",
              "    <tr>\n",
              "      <th>3</th>\n",
              "      <td>1.618098</td>\n",
              "      <td>1.888342</td>\n",
              "      <td>7.046143</td>\n",
              "      <td>-1.147285</td>\n",
              "      <td>0.083080</td>\n",
              "      <td>-1.529780</td>\n",
              "      <td>0.207309</td>\n",
              "      <td>-2.493629</td>\n",
              "      <td>0.344926</td>\n",
              "      <td>2.118578</td>\n",
              "      <td>-3.053023</td>\n",
              "      <td>0.459719</td>\n",
              "      <td>2.704527</td>\n",
              "      <td>-0.636086</td>\n",
              "      <td>-0.453717</td>\n",
              "      <td>-3.174046</td>\n",
              "      <td>-3.404347</td>\n",
              "      <td>-1.281536</td>\n",
              "      <td>1.582104</td>\n",
              "      <td>-1.951778</td>\n",
              "      <td>-3.516555</td>\n",
              "      <td>-1.206011</td>\n",
              "      <td>-5.627854</td>\n",
              "      <td>-1.817653</td>\n",
              "      <td>2.124142</td>\n",
              "      <td>5.294642</td>\n",
              "      <td>4.748137</td>\n",
              "      <td>-2.308536</td>\n",
              "      <td>-3.962977</td>\n",
              "      <td>-6.028730</td>\n",
              "      <td>4.948770</td>\n",
              "      <td>-3.584425</td>\n",
              "      <td>-2.577474</td>\n",
              "      <td>1.363769</td>\n",
              "      <td>0.622714</td>\n",
              "      <td>5.550100</td>\n",
              "      <td>-1.526796</td>\n",
              "      <td>0.138853</td>\n",
              "      <td>3.101430</td>\n",
              "      <td>-1.277378</td>\n",
              "      <td>0</td>\n",
              "    </tr>\n",
              "    <tr>\n",
              "      <th>4</th>\n",
              "      <td>-0.111440</td>\n",
              "      <td>3.872488</td>\n",
              "      <td>-3.758361</td>\n",
              "      <td>-2.982897</td>\n",
              "      <td>3.792714</td>\n",
              "      <td>0.544960</td>\n",
              "      <td>0.205433</td>\n",
              "      <td>4.848994</td>\n",
              "      <td>-1.854920</td>\n",
              "      <td>-6.220023</td>\n",
              "      <td>1.998347</td>\n",
              "      <td>4.723757</td>\n",
              "      <td>0.709113</td>\n",
              "      <td>-1.989432</td>\n",
              "      <td>-2.632684</td>\n",
              "      <td>4.184447</td>\n",
              "      <td>2.245356</td>\n",
              "      <td>3.734452</td>\n",
              "      <td>-6.312766</td>\n",
              "      <td>-5.379918</td>\n",
              "      <td>-0.886667</td>\n",
              "      <td>2.061694</td>\n",
              "      <td>9.445586</td>\n",
              "      <td>4.489976</td>\n",
              "      <td>-3.945144</td>\n",
              "      <td>4.582065</td>\n",
              "      <td>-8.780422</td>\n",
              "      <td>-3.382967</td>\n",
              "      <td>5.106507</td>\n",
              "      <td>6.787513</td>\n",
              "      <td>2.044184</td>\n",
              "      <td>8.265896</td>\n",
              "      <td>6.629213</td>\n",
              "      <td>-10.068689</td>\n",
              "      <td>1.222987</td>\n",
              "      <td>-3.229763</td>\n",
              "      <td>1.686909</td>\n",
              "      <td>-2.163896</td>\n",
              "      <td>-3.644622</td>\n",
              "      <td>6.510338</td>\n",
              "      <td>0</td>\n",
              "    </tr>\n",
              "  </tbody>\n",
              "</table>\n",
              "</div>\n",
              "    <div class=\"colab-df-buttons\">\n",
              "\n",
              "  <div class=\"colab-df-container\">\n",
              "    <button class=\"colab-df-convert\" onclick=\"convertToInteractive('df-5b794eef-6d20-47ac-974c-b30c7961d410')\"\n",
              "            title=\"Convert this dataframe to an interactive table.\"\n",
              "            style=\"display:none;\">\n",
              "\n",
              "  <svg xmlns=\"http://www.w3.org/2000/svg\" height=\"24px\" viewBox=\"0 -960 960 960\">\n",
              "    <path d=\"M120-120v-720h720v720H120Zm60-500h600v-160H180v160Zm220 220h160v-160H400v160Zm0 220h160v-160H400v160ZM180-400h160v-160H180v160Zm440 0h160v-160H620v160ZM180-180h160v-160H180v160Zm440 0h160v-160H620v160Z\"/>\n",
              "  </svg>\n",
              "    </button>\n",
              "\n",
              "  <style>\n",
              "    .colab-df-container {\n",
              "      display:flex;\n",
              "      gap: 12px;\n",
              "    }\n",
              "\n",
              "    .colab-df-convert {\n",
              "      background-color: #E8F0FE;\n",
              "      border: none;\n",
              "      border-radius: 50%;\n",
              "      cursor: pointer;\n",
              "      display: none;\n",
              "      fill: #1967D2;\n",
              "      height: 32px;\n",
              "      padding: 0 0 0 0;\n",
              "      width: 32px;\n",
              "    }\n",
              "\n",
              "    .colab-df-convert:hover {\n",
              "      background-color: #E2EBFA;\n",
              "      box-shadow: 0px 1px 2px rgba(60, 64, 67, 0.3), 0px 1px 3px 1px rgba(60, 64, 67, 0.15);\n",
              "      fill: #174EA6;\n",
              "    }\n",
              "\n",
              "    .colab-df-buttons div {\n",
              "      margin-bottom: 4px;\n",
              "    }\n",
              "\n",
              "    [theme=dark] .colab-df-convert {\n",
              "      background-color: #3B4455;\n",
              "      fill: #D2E3FC;\n",
              "    }\n",
              "\n",
              "    [theme=dark] .colab-df-convert:hover {\n",
              "      background-color: #434B5C;\n",
              "      box-shadow: 0px 1px 3px 1px rgba(0, 0, 0, 0.15);\n",
              "      filter: drop-shadow(0px 1px 2px rgba(0, 0, 0, 0.3));\n",
              "      fill: #FFFFFF;\n",
              "    }\n",
              "  </style>\n",
              "\n",
              "    <script>\n",
              "      const buttonEl =\n",
              "        document.querySelector('#df-5b794eef-6d20-47ac-974c-b30c7961d410 button.colab-df-convert');\n",
              "      buttonEl.style.display =\n",
              "        google.colab.kernel.accessAllowed ? 'block' : 'none';\n",
              "\n",
              "      async function convertToInteractive(key) {\n",
              "        const element = document.querySelector('#df-5b794eef-6d20-47ac-974c-b30c7961d410');\n",
              "        const dataTable =\n",
              "          await google.colab.kernel.invokeFunction('convertToInteractive',\n",
              "                                                    [key], {});\n",
              "        if (!dataTable) return;\n",
              "\n",
              "        const docLinkHtml = 'Like what you see? Visit the ' +\n",
              "          '<a target=\"_blank\" href=https://colab.research.google.com/notebooks/data_table.ipynb>data table notebook</a>'\n",
              "          + ' to learn more about interactive tables.';\n",
              "        element.innerHTML = '';\n",
              "        dataTable['output_type'] = 'display_data';\n",
              "        await google.colab.output.renderOutput(dataTable, element);\n",
              "        const docLink = document.createElement('div');\n",
              "        docLink.innerHTML = docLinkHtml;\n",
              "        element.appendChild(docLink);\n",
              "      }\n",
              "    </script>\n",
              "  </div>\n",
              "\n",
              "\n",
              "    <div id=\"df-7f1bc8c6-e489-4ac8-b64c-64999b20f238\">\n",
              "      <button class=\"colab-df-quickchart\" onclick=\"quickchart('df-7f1bc8c6-e489-4ac8-b64c-64999b20f238')\"\n",
              "                title=\"Suggest charts\"\n",
              "                style=\"display:none;\">\n",
              "\n",
              "<svg xmlns=\"http://www.w3.org/2000/svg\" height=\"24px\"viewBox=\"0 0 24 24\"\n",
              "     width=\"24px\">\n",
              "    <g>\n",
              "        <path d=\"M19 3H5c-1.1 0-2 .9-2 2v14c0 1.1.9 2 2 2h14c1.1 0 2-.9 2-2V5c0-1.1-.9-2-2-2zM9 17H7v-7h2v7zm4 0h-2V7h2v10zm4 0h-2v-4h2v4z\"/>\n",
              "    </g>\n",
              "</svg>\n",
              "      </button>\n",
              "\n",
              "<style>\n",
              "  .colab-df-quickchart {\n",
              "      --bg-color: #E8F0FE;\n",
              "      --fill-color: #1967D2;\n",
              "      --hover-bg-color: #E2EBFA;\n",
              "      --hover-fill-color: #174EA6;\n",
              "      --disabled-fill-color: #AAA;\n",
              "      --disabled-bg-color: #DDD;\n",
              "  }\n",
              "\n",
              "  [theme=dark] .colab-df-quickchart {\n",
              "      --bg-color: #3B4455;\n",
              "      --fill-color: #D2E3FC;\n",
              "      --hover-bg-color: #434B5C;\n",
              "      --hover-fill-color: #FFFFFF;\n",
              "      --disabled-bg-color: #3B4455;\n",
              "      --disabled-fill-color: #666;\n",
              "  }\n",
              "\n",
              "  .colab-df-quickchart {\n",
              "    background-color: var(--bg-color);\n",
              "    border: none;\n",
              "    border-radius: 50%;\n",
              "    cursor: pointer;\n",
              "    display: none;\n",
              "    fill: var(--fill-color);\n",
              "    height: 32px;\n",
              "    padding: 0;\n",
              "    width: 32px;\n",
              "  }\n",
              "\n",
              "  .colab-df-quickchart:hover {\n",
              "    background-color: var(--hover-bg-color);\n",
              "    box-shadow: 0 1px 2px rgba(60, 64, 67, 0.3), 0 1px 3px 1px rgba(60, 64, 67, 0.15);\n",
              "    fill: var(--button-hover-fill-color);\n",
              "  }\n",
              "\n",
              "  .colab-df-quickchart-complete:disabled,\n",
              "  .colab-df-quickchart-complete:disabled:hover {\n",
              "    background-color: var(--disabled-bg-color);\n",
              "    fill: var(--disabled-fill-color);\n",
              "    box-shadow: none;\n",
              "  }\n",
              "\n",
              "  .colab-df-spinner {\n",
              "    border: 2px solid var(--fill-color);\n",
              "    border-color: transparent;\n",
              "    border-bottom-color: var(--fill-color);\n",
              "    animation:\n",
              "      spin 1s steps(1) infinite;\n",
              "  }\n",
              "\n",
              "  @keyframes spin {\n",
              "    0% {\n",
              "      border-color: transparent;\n",
              "      border-bottom-color: var(--fill-color);\n",
              "      border-left-color: var(--fill-color);\n",
              "    }\n",
              "    20% {\n",
              "      border-color: transparent;\n",
              "      border-left-color: var(--fill-color);\n",
              "      border-top-color: var(--fill-color);\n",
              "    }\n",
              "    30% {\n",
              "      border-color: transparent;\n",
              "      border-left-color: var(--fill-color);\n",
              "      border-top-color: var(--fill-color);\n",
              "      border-right-color: var(--fill-color);\n",
              "    }\n",
              "    40% {\n",
              "      border-color: transparent;\n",
              "      border-right-color: var(--fill-color);\n",
              "      border-top-color: var(--fill-color);\n",
              "    }\n",
              "    60% {\n",
              "      border-color: transparent;\n",
              "      border-right-color: var(--fill-color);\n",
              "    }\n",
              "    80% {\n",
              "      border-color: transparent;\n",
              "      border-right-color: var(--fill-color);\n",
              "      border-bottom-color: var(--fill-color);\n",
              "    }\n",
              "    90% {\n",
              "      border-color: transparent;\n",
              "      border-bottom-color: var(--fill-color);\n",
              "    }\n",
              "  }\n",
              "</style>\n",
              "\n",
              "      <script>\n",
              "        async function quickchart(key) {\n",
              "          const quickchartButtonEl =\n",
              "            document.querySelector('#' + key + ' button');\n",
              "          quickchartButtonEl.disabled = true;  // To prevent multiple clicks.\n",
              "          quickchartButtonEl.classList.add('colab-df-spinner');\n",
              "          try {\n",
              "            const charts = await google.colab.kernel.invokeFunction(\n",
              "                'suggestCharts', [key], {});\n",
              "          } catch (error) {\n",
              "            console.error('Error during call to suggestCharts:', error);\n",
              "          }\n",
              "          quickchartButtonEl.classList.remove('colab-df-spinner');\n",
              "          quickchartButtonEl.classList.add('colab-df-quickchart-complete');\n",
              "        }\n",
              "        (() => {\n",
              "          let quickchartButtonEl =\n",
              "            document.querySelector('#df-7f1bc8c6-e489-4ac8-b64c-64999b20f238 button');\n",
              "          quickchartButtonEl.style.display =\n",
              "            google.colab.kernel.accessAllowed ? 'block' : 'none';\n",
              "        })();\n",
              "      </script>\n",
              "    </div>\n",
              "\n",
              "    </div>\n",
              "  </div>\n"
            ],
            "application/vnd.google.colaboratory.intrinsic+json": {
              "type": "dataframe",
              "variable_name": "data"
            }
          },
          "metadata": {},
          "execution_count": 10
        }
      ],
      "source": [
        "# View the first 5 rows of the data\n",
        "data.head()"
      ]
    },
    {
      "cell_type": "code",
      "source": [
        "# View random 5 rows of the data\n",
        "data.sample(5)"
      ],
      "metadata": {
        "colab": {
          "base_uri": "https://localhost:8080/",
          "height": 224
        },
        "id": "Fz_xhS8kx1RM",
        "outputId": "cae4d953-3716-4594-8c5c-61b0b5af1973"
      },
      "execution_count": 11,
      "outputs": [
        {
          "output_type": "execute_result",
          "data": {
            "text/plain": [
              "             V1        V2        V3        V4        V5        V6        V7  \\\n",
              "12064 -0.764552 -4.941473  0.222119 -5.095314 -1.262965 -1.112442 -2.694133   \n",
              "1557  -4.089934  3.152208  3.423398  3.999387  2.250355 -2.849602 -0.595100   \n",
              "547   -0.029813 -3.022956 -0.265373 -4.457207  0.300206 -0.144165 -0.065150   \n",
              "13830  2.898566 -1.006482 -2.702558 -4.060640 -1.094510  0.348894  3.174205   \n",
              "19580  1.231375 -2.878551  5.776283 -3.307992 -1.662522 -1.616792 -1.254765   \n",
              "\n",
              "             V8        V9       V10       V11       V12       V13       V14  \\\n",
              "12064  0.192237  0.986656 -0.559456 -4.743450  4.087388  5.939446  1.494009   \n",
              "1557   1.126280 -3.093891  1.350575 -3.070396  4.199762 -0.267420 -2.377282   \n",
              "547    2.777640 -2.104705  0.885664 -0.241385  2.069763  1.279603  1.945204   \n",
              "13830  4.285828 -1.695746 -2.051190  2.108290  4.125534 -3.177813  0.653460   \n",
              "19580 -0.436271  0.538919  2.077890 -2.120219  0.285741  5.414061  1.640368   \n",
              "\n",
              "            V15       V16       V17       V18       V19       V20       V21  \\\n",
              "12064 -7.019193 -5.897938  0.388389  7.368904 -3.119402  4.363991 -6.347991   \n",
              "1557  -2.559785 -0.771482  0.640583 -0.806499  5.603059 -2.381178 -3.099341   \n",
              "547    0.378906  3.566069 -1.767384  1.783763 -3.252419 -0.464406  1.130130   \n",
              "13830  6.999765  6.382671  3.220894 -0.714219 -2.327440  1.603711  5.611470   \n",
              "19580 -2.289312 -1.484388 -4.562397  0.093081 -0.771748  1.286346 -3.793965   \n",
              "\n",
              "            V22       V23       V24       V25       V26       V27       V28  \\\n",
              "12064  4.909830  4.527317 -2.074595  1.592214 -3.220394  2.033211 -1.738571   \n",
              "1557  -0.086305  0.882630  8.884040 -3.176450  5.453012 -6.105008  0.034906   \n",
              "547    0.181083  2.219966 -0.920986  0.457871 -1.776223  2.003802 -1.741961   \n",
              "13830 -0.624359  2.027053 -4.438849  2.635511 -5.090026  2.779883  0.940352   \n",
              "19580 -0.772187 -3.990718 -5.192889  2.357024  1.240530  5.766191 -3.332751   \n",
              "\n",
              "            V29       V30       V31       V32       V33       V34       V35  \\\n",
              "12064 -3.812661 -0.262135 -3.018894 -2.489202 -4.217574 -1.504447 -0.134008   \n",
              "1557  -1.283661  1.437989  3.343975  8.946837  3.060782  0.563135  5.420494   \n",
              "547   -0.360826  0.007331  3.710043  1.382491 -0.363915 -1.435063 -0.912192   \n",
              "13830  2.369909 -0.851931 -1.012343 -7.683395 -5.242774  1.483598 -5.274655   \n",
              "19580 -2.845104 -3.297941  4.235937 -3.400158 -2.351994  0.767014  1.168552   \n",
              "\n",
              "            V36       V37       V38       V39       V40  Target  \n",
              "12064  6.486465  4.214021 -5.031245  2.967805  0.685425       0  \n",
              "1557   0.689776 -2.158107  2.568949  0.539156 -4.008018       0  \n",
              "547    4.796112  1.195906 -3.659618  0.664196  2.633353       0  \n",
              "13830  0.553090  3.235861 -1.345798 -0.920241  6.664309       1  \n",
              "19580  7.102530  0.006747 -5.306493  2.990179 -0.850073       0  "
            ],
            "text/html": [
              "\n",
              "  <div id=\"df-88f16121-9bb1-4f0a-81f8-de7c1522fef2\" class=\"colab-df-container\">\n",
              "    <div>\n",
              "<style scoped>\n",
              "    .dataframe tbody tr th:only-of-type {\n",
              "        vertical-align: middle;\n",
              "    }\n",
              "\n",
              "    .dataframe tbody tr th {\n",
              "        vertical-align: top;\n",
              "    }\n",
              "\n",
              "    .dataframe thead th {\n",
              "        text-align: right;\n",
              "    }\n",
              "</style>\n",
              "<table border=\"1\" class=\"dataframe\">\n",
              "  <thead>\n",
              "    <tr style=\"text-align: right;\">\n",
              "      <th></th>\n",
              "      <th>V1</th>\n",
              "      <th>V2</th>\n",
              "      <th>V3</th>\n",
              "      <th>V4</th>\n",
              "      <th>V5</th>\n",
              "      <th>V6</th>\n",
              "      <th>V7</th>\n",
              "      <th>V8</th>\n",
              "      <th>V9</th>\n",
              "      <th>V10</th>\n",
              "      <th>V11</th>\n",
              "      <th>V12</th>\n",
              "      <th>V13</th>\n",
              "      <th>V14</th>\n",
              "      <th>V15</th>\n",
              "      <th>V16</th>\n",
              "      <th>V17</th>\n",
              "      <th>V18</th>\n",
              "      <th>V19</th>\n",
              "      <th>V20</th>\n",
              "      <th>V21</th>\n",
              "      <th>V22</th>\n",
              "      <th>V23</th>\n",
              "      <th>V24</th>\n",
              "      <th>V25</th>\n",
              "      <th>V26</th>\n",
              "      <th>V27</th>\n",
              "      <th>V28</th>\n",
              "      <th>V29</th>\n",
              "      <th>V30</th>\n",
              "      <th>V31</th>\n",
              "      <th>V32</th>\n",
              "      <th>V33</th>\n",
              "      <th>V34</th>\n",
              "      <th>V35</th>\n",
              "      <th>V36</th>\n",
              "      <th>V37</th>\n",
              "      <th>V38</th>\n",
              "      <th>V39</th>\n",
              "      <th>V40</th>\n",
              "      <th>Target</th>\n",
              "    </tr>\n",
              "  </thead>\n",
              "  <tbody>\n",
              "    <tr>\n",
              "      <th>12064</th>\n",
              "      <td>-0.764552</td>\n",
              "      <td>-4.941473</td>\n",
              "      <td>0.222119</td>\n",
              "      <td>-5.095314</td>\n",
              "      <td>-1.262965</td>\n",
              "      <td>-1.112442</td>\n",
              "      <td>-2.694133</td>\n",
              "      <td>0.192237</td>\n",
              "      <td>0.986656</td>\n",
              "      <td>-0.559456</td>\n",
              "      <td>-4.743450</td>\n",
              "      <td>4.087388</td>\n",
              "      <td>5.939446</td>\n",
              "      <td>1.494009</td>\n",
              "      <td>-7.019193</td>\n",
              "      <td>-5.897938</td>\n",
              "      <td>0.388389</td>\n",
              "      <td>7.368904</td>\n",
              "      <td>-3.119402</td>\n",
              "      <td>4.363991</td>\n",
              "      <td>-6.347991</td>\n",
              "      <td>4.909830</td>\n",
              "      <td>4.527317</td>\n",
              "      <td>-2.074595</td>\n",
              "      <td>1.592214</td>\n",
              "      <td>-3.220394</td>\n",
              "      <td>2.033211</td>\n",
              "      <td>-1.738571</td>\n",
              "      <td>-3.812661</td>\n",
              "      <td>-0.262135</td>\n",
              "      <td>-3.018894</td>\n",
              "      <td>-2.489202</td>\n",
              "      <td>-4.217574</td>\n",
              "      <td>-1.504447</td>\n",
              "      <td>-0.134008</td>\n",
              "      <td>6.486465</td>\n",
              "      <td>4.214021</td>\n",
              "      <td>-5.031245</td>\n",
              "      <td>2.967805</td>\n",
              "      <td>0.685425</td>\n",
              "      <td>0</td>\n",
              "    </tr>\n",
              "    <tr>\n",
              "      <th>1557</th>\n",
              "      <td>-4.089934</td>\n",
              "      <td>3.152208</td>\n",
              "      <td>3.423398</td>\n",
              "      <td>3.999387</td>\n",
              "      <td>2.250355</td>\n",
              "      <td>-2.849602</td>\n",
              "      <td>-0.595100</td>\n",
              "      <td>1.126280</td>\n",
              "      <td>-3.093891</td>\n",
              "      <td>1.350575</td>\n",
              "      <td>-3.070396</td>\n",
              "      <td>4.199762</td>\n",
              "      <td>-0.267420</td>\n",
              "      <td>-2.377282</td>\n",
              "      <td>-2.559785</td>\n",
              "      <td>-0.771482</td>\n",
              "      <td>0.640583</td>\n",
              "      <td>-0.806499</td>\n",
              "      <td>5.603059</td>\n",
              "      <td>-2.381178</td>\n",
              "      <td>-3.099341</td>\n",
              "      <td>-0.086305</td>\n",
              "      <td>0.882630</td>\n",
              "      <td>8.884040</td>\n",
              "      <td>-3.176450</td>\n",
              "      <td>5.453012</td>\n",
              "      <td>-6.105008</td>\n",
              "      <td>0.034906</td>\n",
              "      <td>-1.283661</td>\n",
              "      <td>1.437989</td>\n",
              "      <td>3.343975</td>\n",
              "      <td>8.946837</td>\n",
              "      <td>3.060782</td>\n",
              "      <td>0.563135</td>\n",
              "      <td>5.420494</td>\n",
              "      <td>0.689776</td>\n",
              "      <td>-2.158107</td>\n",
              "      <td>2.568949</td>\n",
              "      <td>0.539156</td>\n",
              "      <td>-4.008018</td>\n",
              "      <td>0</td>\n",
              "    </tr>\n",
              "    <tr>\n",
              "      <th>547</th>\n",
              "      <td>-0.029813</td>\n",
              "      <td>-3.022956</td>\n",
              "      <td>-0.265373</td>\n",
              "      <td>-4.457207</td>\n",
              "      <td>0.300206</td>\n",
              "      <td>-0.144165</td>\n",
              "      <td>-0.065150</td>\n",
              "      <td>2.777640</td>\n",
              "      <td>-2.104705</td>\n",
              "      <td>0.885664</td>\n",
              "      <td>-0.241385</td>\n",
              "      <td>2.069763</td>\n",
              "      <td>1.279603</td>\n",
              "      <td>1.945204</td>\n",
              "      <td>0.378906</td>\n",
              "      <td>3.566069</td>\n",
              "      <td>-1.767384</td>\n",
              "      <td>1.783763</td>\n",
              "      <td>-3.252419</td>\n",
              "      <td>-0.464406</td>\n",
              "      <td>1.130130</td>\n",
              "      <td>0.181083</td>\n",
              "      <td>2.219966</td>\n",
              "      <td>-0.920986</td>\n",
              "      <td>0.457871</td>\n",
              "      <td>-1.776223</td>\n",
              "      <td>2.003802</td>\n",
              "      <td>-1.741961</td>\n",
              "      <td>-0.360826</td>\n",
              "      <td>0.007331</td>\n",
              "      <td>3.710043</td>\n",
              "      <td>1.382491</td>\n",
              "      <td>-0.363915</td>\n",
              "      <td>-1.435063</td>\n",
              "      <td>-0.912192</td>\n",
              "      <td>4.796112</td>\n",
              "      <td>1.195906</td>\n",
              "      <td>-3.659618</td>\n",
              "      <td>0.664196</td>\n",
              "      <td>2.633353</td>\n",
              "      <td>0</td>\n",
              "    </tr>\n",
              "    <tr>\n",
              "      <th>13830</th>\n",
              "      <td>2.898566</td>\n",
              "      <td>-1.006482</td>\n",
              "      <td>-2.702558</td>\n",
              "      <td>-4.060640</td>\n",
              "      <td>-1.094510</td>\n",
              "      <td>0.348894</td>\n",
              "      <td>3.174205</td>\n",
              "      <td>4.285828</td>\n",
              "      <td>-1.695746</td>\n",
              "      <td>-2.051190</td>\n",
              "      <td>2.108290</td>\n",
              "      <td>4.125534</td>\n",
              "      <td>-3.177813</td>\n",
              "      <td>0.653460</td>\n",
              "      <td>6.999765</td>\n",
              "      <td>6.382671</td>\n",
              "      <td>3.220894</td>\n",
              "      <td>-0.714219</td>\n",
              "      <td>-2.327440</td>\n",
              "      <td>1.603711</td>\n",
              "      <td>5.611470</td>\n",
              "      <td>-0.624359</td>\n",
              "      <td>2.027053</td>\n",
              "      <td>-4.438849</td>\n",
              "      <td>2.635511</td>\n",
              "      <td>-5.090026</td>\n",
              "      <td>2.779883</td>\n",
              "      <td>0.940352</td>\n",
              "      <td>2.369909</td>\n",
              "      <td>-0.851931</td>\n",
              "      <td>-1.012343</td>\n",
              "      <td>-7.683395</td>\n",
              "      <td>-5.242774</td>\n",
              "      <td>1.483598</td>\n",
              "      <td>-5.274655</td>\n",
              "      <td>0.553090</td>\n",
              "      <td>3.235861</td>\n",
              "      <td>-1.345798</td>\n",
              "      <td>-0.920241</td>\n",
              "      <td>6.664309</td>\n",
              "      <td>1</td>\n",
              "    </tr>\n",
              "    <tr>\n",
              "      <th>19580</th>\n",
              "      <td>1.231375</td>\n",
              "      <td>-2.878551</td>\n",
              "      <td>5.776283</td>\n",
              "      <td>-3.307992</td>\n",
              "      <td>-1.662522</td>\n",
              "      <td>-1.616792</td>\n",
              "      <td>-1.254765</td>\n",
              "      <td>-0.436271</td>\n",
              "      <td>0.538919</td>\n",
              "      <td>2.077890</td>\n",
              "      <td>-2.120219</td>\n",
              "      <td>0.285741</td>\n",
              "      <td>5.414061</td>\n",
              "      <td>1.640368</td>\n",
              "      <td>-2.289312</td>\n",
              "      <td>-1.484388</td>\n",
              "      <td>-4.562397</td>\n",
              "      <td>0.093081</td>\n",
              "      <td>-0.771748</td>\n",
              "      <td>1.286346</td>\n",
              "      <td>-3.793965</td>\n",
              "      <td>-0.772187</td>\n",
              "      <td>-3.990718</td>\n",
              "      <td>-5.192889</td>\n",
              "      <td>2.357024</td>\n",
              "      <td>1.240530</td>\n",
              "      <td>5.766191</td>\n",
              "      <td>-3.332751</td>\n",
              "      <td>-2.845104</td>\n",
              "      <td>-3.297941</td>\n",
              "      <td>4.235937</td>\n",
              "      <td>-3.400158</td>\n",
              "      <td>-2.351994</td>\n",
              "      <td>0.767014</td>\n",
              "      <td>1.168552</td>\n",
              "      <td>7.102530</td>\n",
              "      <td>0.006747</td>\n",
              "      <td>-5.306493</td>\n",
              "      <td>2.990179</td>\n",
              "      <td>-0.850073</td>\n",
              "      <td>0</td>\n",
              "    </tr>\n",
              "  </tbody>\n",
              "</table>\n",
              "</div>\n",
              "    <div class=\"colab-df-buttons\">\n",
              "\n",
              "  <div class=\"colab-df-container\">\n",
              "    <button class=\"colab-df-convert\" onclick=\"convertToInteractive('df-88f16121-9bb1-4f0a-81f8-de7c1522fef2')\"\n",
              "            title=\"Convert this dataframe to an interactive table.\"\n",
              "            style=\"display:none;\">\n",
              "\n",
              "  <svg xmlns=\"http://www.w3.org/2000/svg\" height=\"24px\" viewBox=\"0 -960 960 960\">\n",
              "    <path d=\"M120-120v-720h720v720H120Zm60-500h600v-160H180v160Zm220 220h160v-160H400v160Zm0 220h160v-160H400v160ZM180-400h160v-160H180v160Zm440 0h160v-160H620v160ZM180-180h160v-160H180v160Zm440 0h160v-160H620v160Z\"/>\n",
              "  </svg>\n",
              "    </button>\n",
              "\n",
              "  <style>\n",
              "    .colab-df-container {\n",
              "      display:flex;\n",
              "      gap: 12px;\n",
              "    }\n",
              "\n",
              "    .colab-df-convert {\n",
              "      background-color: #E8F0FE;\n",
              "      border: none;\n",
              "      border-radius: 50%;\n",
              "      cursor: pointer;\n",
              "      display: none;\n",
              "      fill: #1967D2;\n",
              "      height: 32px;\n",
              "      padding: 0 0 0 0;\n",
              "      width: 32px;\n",
              "    }\n",
              "\n",
              "    .colab-df-convert:hover {\n",
              "      background-color: #E2EBFA;\n",
              "      box-shadow: 0px 1px 2px rgba(60, 64, 67, 0.3), 0px 1px 3px 1px rgba(60, 64, 67, 0.15);\n",
              "      fill: #174EA6;\n",
              "    }\n",
              "\n",
              "    .colab-df-buttons div {\n",
              "      margin-bottom: 4px;\n",
              "    }\n",
              "\n",
              "    [theme=dark] .colab-df-convert {\n",
              "      background-color: #3B4455;\n",
              "      fill: #D2E3FC;\n",
              "    }\n",
              "\n",
              "    [theme=dark] .colab-df-convert:hover {\n",
              "      background-color: #434B5C;\n",
              "      box-shadow: 0px 1px 3px 1px rgba(0, 0, 0, 0.15);\n",
              "      filter: drop-shadow(0px 1px 2px rgba(0, 0, 0, 0.3));\n",
              "      fill: #FFFFFF;\n",
              "    }\n",
              "  </style>\n",
              "\n",
              "    <script>\n",
              "      const buttonEl =\n",
              "        document.querySelector('#df-88f16121-9bb1-4f0a-81f8-de7c1522fef2 button.colab-df-convert');\n",
              "      buttonEl.style.display =\n",
              "        google.colab.kernel.accessAllowed ? 'block' : 'none';\n",
              "\n",
              "      async function convertToInteractive(key) {\n",
              "        const element = document.querySelector('#df-88f16121-9bb1-4f0a-81f8-de7c1522fef2');\n",
              "        const dataTable =\n",
              "          await google.colab.kernel.invokeFunction('convertToInteractive',\n",
              "                                                    [key], {});\n",
              "        if (!dataTable) return;\n",
              "\n",
              "        const docLinkHtml = 'Like what you see? Visit the ' +\n",
              "          '<a target=\"_blank\" href=https://colab.research.google.com/notebooks/data_table.ipynb>data table notebook</a>'\n",
              "          + ' to learn more about interactive tables.';\n",
              "        element.innerHTML = '';\n",
              "        dataTable['output_type'] = 'display_data';\n",
              "        await google.colab.output.renderOutput(dataTable, element);\n",
              "        const docLink = document.createElement('div');\n",
              "        docLink.innerHTML = docLinkHtml;\n",
              "        element.appendChild(docLink);\n",
              "      }\n",
              "    </script>\n",
              "  </div>\n",
              "\n",
              "\n",
              "    <div id=\"df-6f7af163-670a-4db4-96a1-e70b3bc0cec2\">\n",
              "      <button class=\"colab-df-quickchart\" onclick=\"quickchart('df-6f7af163-670a-4db4-96a1-e70b3bc0cec2')\"\n",
              "                title=\"Suggest charts\"\n",
              "                style=\"display:none;\">\n",
              "\n",
              "<svg xmlns=\"http://www.w3.org/2000/svg\" height=\"24px\"viewBox=\"0 0 24 24\"\n",
              "     width=\"24px\">\n",
              "    <g>\n",
              "        <path d=\"M19 3H5c-1.1 0-2 .9-2 2v14c0 1.1.9 2 2 2h14c1.1 0 2-.9 2-2V5c0-1.1-.9-2-2-2zM9 17H7v-7h2v7zm4 0h-2V7h2v10zm4 0h-2v-4h2v4z\"/>\n",
              "    </g>\n",
              "</svg>\n",
              "      </button>\n",
              "\n",
              "<style>\n",
              "  .colab-df-quickchart {\n",
              "      --bg-color: #E8F0FE;\n",
              "      --fill-color: #1967D2;\n",
              "      --hover-bg-color: #E2EBFA;\n",
              "      --hover-fill-color: #174EA6;\n",
              "      --disabled-fill-color: #AAA;\n",
              "      --disabled-bg-color: #DDD;\n",
              "  }\n",
              "\n",
              "  [theme=dark] .colab-df-quickchart {\n",
              "      --bg-color: #3B4455;\n",
              "      --fill-color: #D2E3FC;\n",
              "      --hover-bg-color: #434B5C;\n",
              "      --hover-fill-color: #FFFFFF;\n",
              "      --disabled-bg-color: #3B4455;\n",
              "      --disabled-fill-color: #666;\n",
              "  }\n",
              "\n",
              "  .colab-df-quickchart {\n",
              "    background-color: var(--bg-color);\n",
              "    border: none;\n",
              "    border-radius: 50%;\n",
              "    cursor: pointer;\n",
              "    display: none;\n",
              "    fill: var(--fill-color);\n",
              "    height: 32px;\n",
              "    padding: 0;\n",
              "    width: 32px;\n",
              "  }\n",
              "\n",
              "  .colab-df-quickchart:hover {\n",
              "    background-color: var(--hover-bg-color);\n",
              "    box-shadow: 0 1px 2px rgba(60, 64, 67, 0.3), 0 1px 3px 1px rgba(60, 64, 67, 0.15);\n",
              "    fill: var(--button-hover-fill-color);\n",
              "  }\n",
              "\n",
              "  .colab-df-quickchart-complete:disabled,\n",
              "  .colab-df-quickchart-complete:disabled:hover {\n",
              "    background-color: var(--disabled-bg-color);\n",
              "    fill: var(--disabled-fill-color);\n",
              "    box-shadow: none;\n",
              "  }\n",
              "\n",
              "  .colab-df-spinner {\n",
              "    border: 2px solid var(--fill-color);\n",
              "    border-color: transparent;\n",
              "    border-bottom-color: var(--fill-color);\n",
              "    animation:\n",
              "      spin 1s steps(1) infinite;\n",
              "  }\n",
              "\n",
              "  @keyframes spin {\n",
              "    0% {\n",
              "      border-color: transparent;\n",
              "      border-bottom-color: var(--fill-color);\n",
              "      border-left-color: var(--fill-color);\n",
              "    }\n",
              "    20% {\n",
              "      border-color: transparent;\n",
              "      border-left-color: var(--fill-color);\n",
              "      border-top-color: var(--fill-color);\n",
              "    }\n",
              "    30% {\n",
              "      border-color: transparent;\n",
              "      border-left-color: var(--fill-color);\n",
              "      border-top-color: var(--fill-color);\n",
              "      border-right-color: var(--fill-color);\n",
              "    }\n",
              "    40% {\n",
              "      border-color: transparent;\n",
              "      border-right-color: var(--fill-color);\n",
              "      border-top-color: var(--fill-color);\n",
              "    }\n",
              "    60% {\n",
              "      border-color: transparent;\n",
              "      border-right-color: var(--fill-color);\n",
              "    }\n",
              "    80% {\n",
              "      border-color: transparent;\n",
              "      border-right-color: var(--fill-color);\n",
              "      border-bottom-color: var(--fill-color);\n",
              "    }\n",
              "    90% {\n",
              "      border-color: transparent;\n",
              "      border-bottom-color: var(--fill-color);\n",
              "    }\n",
              "  }\n",
              "</style>\n",
              "\n",
              "      <script>\n",
              "        async function quickchart(key) {\n",
              "          const quickchartButtonEl =\n",
              "            document.querySelector('#' + key + ' button');\n",
              "          quickchartButtonEl.disabled = true;  // To prevent multiple clicks.\n",
              "          quickchartButtonEl.classList.add('colab-df-spinner');\n",
              "          try {\n",
              "            const charts = await google.colab.kernel.invokeFunction(\n",
              "                'suggestCharts', [key], {});\n",
              "          } catch (error) {\n",
              "            console.error('Error during call to suggestCharts:', error);\n",
              "          }\n",
              "          quickchartButtonEl.classList.remove('colab-df-spinner');\n",
              "          quickchartButtonEl.classList.add('colab-df-quickchart-complete');\n",
              "        }\n",
              "        (() => {\n",
              "          let quickchartButtonEl =\n",
              "            document.querySelector('#df-6f7af163-670a-4db4-96a1-e70b3bc0cec2 button');\n",
              "          quickchartButtonEl.style.display =\n",
              "            google.colab.kernel.accessAllowed ? 'block' : 'none';\n",
              "        })();\n",
              "      </script>\n",
              "    </div>\n",
              "\n",
              "    </div>\n",
              "  </div>\n"
            ],
            "application/vnd.google.colaboratory.intrinsic+json": {
              "type": "dataframe"
            }
          },
          "metadata": {},
          "execution_count": 11
        }
      ]
    },
    {
      "cell_type": "code",
      "execution_count": 12,
      "metadata": {
        "id": "47OhpabimjMy",
        "colab": {
          "base_uri": "https://localhost:8080/",
          "height": 224
        },
        "outputId": "c9823528-6a23-404d-a48d-6a9a52724f93"
      },
      "outputs": [
        {
          "output_type": "execute_result",
          "data": {
            "text/plain": [
              "         V1        V2        V3        V4        V5        V6        V7  \\\n",
              "0 -0.613489 -3.819640  2.202302  1.300420 -1.184929 -4.495964 -1.835817   \n",
              "1  0.389608 -0.512341  0.527053 -2.576776 -1.016766  2.235112 -0.441301   \n",
              "2 -0.874861 -0.640632  4.084202 -1.590454  0.525855 -1.957592 -0.695367   \n",
              "3  0.238384  1.458607  4.014528  2.534478  1.196987 -3.117330 -0.924035   \n",
              "4  5.828225  2.768260 -1.234530  2.809264 -1.641648 -1.406698  0.568643   \n",
              "\n",
              "         V8        V9       V10       V11       V12       V13       V14  \\\n",
              "0  4.722989  1.206140 -0.341909 -5.122874  1.017021  4.818549  3.269001   \n",
              "1 -4.405744 -0.332869  1.966794  1.796544  0.410490  0.638328 -1.389600   \n",
              "2  1.347309 -1.732348  0.466500 -4.928214  3.565070 -0.449329 -0.656246   \n",
              "3  0.269493  1.322436  0.702345 -5.578345 -0.850662  2.590525  0.767418   \n",
              "4  0.965043  1.918379 -2.774855 -0.530016  1.374544 -0.650941 -1.679466   \n",
              "\n",
              "        V15       V16       V17       V18       V19       V20       V21  \\\n",
              "0 -2.984330  1.387370  2.032002 -0.511587 -1.023069  7.338733 -2.242244   \n",
              "1 -1.883410 -5.017922 -3.827238  2.418060  1.762285 -3.242297 -3.192960   \n",
              "2 -0.166537 -1.630207  2.291865  2.396492  0.601278  1.793534 -2.120238   \n",
              "3 -2.390809 -2.341961  0.571875 -0.933751  0.508677  1.210715 -3.259524   \n",
              "4 -0.379220 -4.443143  3.893857 -0.607640  2.944931  0.367233 -5.789081   \n",
              "\n",
              "        V22       V23       V24       V25       V26       V27       V28  \\\n",
              "0  0.155489  2.053786 -2.772273  1.851369 -1.788696 -0.277282 -1.255143   \n",
              "1  1.857454 -1.707954  0.633444 -0.587898  0.083683  3.013935 -0.182309   \n",
              "2  0.481968 -0.840707  1.790197  1.874395  0.363930 -0.169063 -0.483832   \n",
              "3  0.104587 -0.658875  1.498107  1.100305  4.142988 -0.248446 -1.136516   \n",
              "4  4.597528  4.450264  3.224941  0.396701  0.247765 -2.362047  1.079378   \n",
              "\n",
              "        V29       V30       V31       V32       V33       V34       V35  \\\n",
              "0 -3.832886 -1.504542  1.586765  2.291204 -5.411388  0.870073  0.574479   \n",
              "1  0.223917  0.865228 -1.782158 -2.474936  2.493582  0.315165  2.059288   \n",
              "2 -2.118982 -2.156586  2.907291 -1.318888 -2.997464  0.459664  0.619774   \n",
              "3 -5.355810 -4.545931  3.808667  3.517918 -3.074085 -0.284220  0.954576   \n",
              "4 -0.473076  2.242810 -3.591421  1.773841 -1.501573 -2.226702  4.776830   \n",
              "\n",
              "        V36       V37        V38       V39       V40  Target  \n",
              "0  4.157191  1.428093 -10.511342  0.454664 -1.448363       0  \n",
              "1  0.683859 -0.485452   5.128350  1.720744 -1.488235       0  \n",
              "2  5.631504  1.323512  -1.752154  1.808302  1.675748       0  \n",
              "3  3.029331 -1.367198  -3.412140  0.906000 -2.450889       0  \n",
              "4 -6.559698 -0.805551  -0.276007 -3.858207 -0.537694       0  "
            ],
            "text/html": [
              "\n",
              "  <div id=\"df-10d7d2fe-acff-4177-ba30-c4af0bc34e55\" class=\"colab-df-container\">\n",
              "    <div>\n",
              "<style scoped>\n",
              "    .dataframe tbody tr th:only-of-type {\n",
              "        vertical-align: middle;\n",
              "    }\n",
              "\n",
              "    .dataframe tbody tr th {\n",
              "        vertical-align: top;\n",
              "    }\n",
              "\n",
              "    .dataframe thead th {\n",
              "        text-align: right;\n",
              "    }\n",
              "</style>\n",
              "<table border=\"1\" class=\"dataframe\">\n",
              "  <thead>\n",
              "    <tr style=\"text-align: right;\">\n",
              "      <th></th>\n",
              "      <th>V1</th>\n",
              "      <th>V2</th>\n",
              "      <th>V3</th>\n",
              "      <th>V4</th>\n",
              "      <th>V5</th>\n",
              "      <th>V6</th>\n",
              "      <th>V7</th>\n",
              "      <th>V8</th>\n",
              "      <th>V9</th>\n",
              "      <th>V10</th>\n",
              "      <th>V11</th>\n",
              "      <th>V12</th>\n",
              "      <th>V13</th>\n",
              "      <th>V14</th>\n",
              "      <th>V15</th>\n",
              "      <th>V16</th>\n",
              "      <th>V17</th>\n",
              "      <th>V18</th>\n",
              "      <th>V19</th>\n",
              "      <th>V20</th>\n",
              "      <th>V21</th>\n",
              "      <th>V22</th>\n",
              "      <th>V23</th>\n",
              "      <th>V24</th>\n",
              "      <th>V25</th>\n",
              "      <th>V26</th>\n",
              "      <th>V27</th>\n",
              "      <th>V28</th>\n",
              "      <th>V29</th>\n",
              "      <th>V30</th>\n",
              "      <th>V31</th>\n",
              "      <th>V32</th>\n",
              "      <th>V33</th>\n",
              "      <th>V34</th>\n",
              "      <th>V35</th>\n",
              "      <th>V36</th>\n",
              "      <th>V37</th>\n",
              "      <th>V38</th>\n",
              "      <th>V39</th>\n",
              "      <th>V40</th>\n",
              "      <th>Target</th>\n",
              "    </tr>\n",
              "  </thead>\n",
              "  <tbody>\n",
              "    <tr>\n",
              "      <th>0</th>\n",
              "      <td>-0.613489</td>\n",
              "      <td>-3.819640</td>\n",
              "      <td>2.202302</td>\n",
              "      <td>1.300420</td>\n",
              "      <td>-1.184929</td>\n",
              "      <td>-4.495964</td>\n",
              "      <td>-1.835817</td>\n",
              "      <td>4.722989</td>\n",
              "      <td>1.206140</td>\n",
              "      <td>-0.341909</td>\n",
              "      <td>-5.122874</td>\n",
              "      <td>1.017021</td>\n",
              "      <td>4.818549</td>\n",
              "      <td>3.269001</td>\n",
              "      <td>-2.984330</td>\n",
              "      <td>1.387370</td>\n",
              "      <td>2.032002</td>\n",
              "      <td>-0.511587</td>\n",
              "      <td>-1.023069</td>\n",
              "      <td>7.338733</td>\n",
              "      <td>-2.242244</td>\n",
              "      <td>0.155489</td>\n",
              "      <td>2.053786</td>\n",
              "      <td>-2.772273</td>\n",
              "      <td>1.851369</td>\n",
              "      <td>-1.788696</td>\n",
              "      <td>-0.277282</td>\n",
              "      <td>-1.255143</td>\n",
              "      <td>-3.832886</td>\n",
              "      <td>-1.504542</td>\n",
              "      <td>1.586765</td>\n",
              "      <td>2.291204</td>\n",
              "      <td>-5.411388</td>\n",
              "      <td>0.870073</td>\n",
              "      <td>0.574479</td>\n",
              "      <td>4.157191</td>\n",
              "      <td>1.428093</td>\n",
              "      <td>-10.511342</td>\n",
              "      <td>0.454664</td>\n",
              "      <td>-1.448363</td>\n",
              "      <td>0</td>\n",
              "    </tr>\n",
              "    <tr>\n",
              "      <th>1</th>\n",
              "      <td>0.389608</td>\n",
              "      <td>-0.512341</td>\n",
              "      <td>0.527053</td>\n",
              "      <td>-2.576776</td>\n",
              "      <td>-1.016766</td>\n",
              "      <td>2.235112</td>\n",
              "      <td>-0.441301</td>\n",
              "      <td>-4.405744</td>\n",
              "      <td>-0.332869</td>\n",
              "      <td>1.966794</td>\n",
              "      <td>1.796544</td>\n",
              "      <td>0.410490</td>\n",
              "      <td>0.638328</td>\n",
              "      <td>-1.389600</td>\n",
              "      <td>-1.883410</td>\n",
              "      <td>-5.017922</td>\n",
              "      <td>-3.827238</td>\n",
              "      <td>2.418060</td>\n",
              "      <td>1.762285</td>\n",
              "      <td>-3.242297</td>\n",
              "      <td>-3.192960</td>\n",
              "      <td>1.857454</td>\n",
              "      <td>-1.707954</td>\n",
              "      <td>0.633444</td>\n",
              "      <td>-0.587898</td>\n",
              "      <td>0.083683</td>\n",
              "      <td>3.013935</td>\n",
              "      <td>-0.182309</td>\n",
              "      <td>0.223917</td>\n",
              "      <td>0.865228</td>\n",
              "      <td>-1.782158</td>\n",
              "      <td>-2.474936</td>\n",
              "      <td>2.493582</td>\n",
              "      <td>0.315165</td>\n",
              "      <td>2.059288</td>\n",
              "      <td>0.683859</td>\n",
              "      <td>-0.485452</td>\n",
              "      <td>5.128350</td>\n",
              "      <td>1.720744</td>\n",
              "      <td>-1.488235</td>\n",
              "      <td>0</td>\n",
              "    </tr>\n",
              "    <tr>\n",
              "      <th>2</th>\n",
              "      <td>-0.874861</td>\n",
              "      <td>-0.640632</td>\n",
              "      <td>4.084202</td>\n",
              "      <td>-1.590454</td>\n",
              "      <td>0.525855</td>\n",
              "      <td>-1.957592</td>\n",
              "      <td>-0.695367</td>\n",
              "      <td>1.347309</td>\n",
              "      <td>-1.732348</td>\n",
              "      <td>0.466500</td>\n",
              "      <td>-4.928214</td>\n",
              "      <td>3.565070</td>\n",
              "      <td>-0.449329</td>\n",
              "      <td>-0.656246</td>\n",
              "      <td>-0.166537</td>\n",
              "      <td>-1.630207</td>\n",
              "      <td>2.291865</td>\n",
              "      <td>2.396492</td>\n",
              "      <td>0.601278</td>\n",
              "      <td>1.793534</td>\n",
              "      <td>-2.120238</td>\n",
              "      <td>0.481968</td>\n",
              "      <td>-0.840707</td>\n",
              "      <td>1.790197</td>\n",
              "      <td>1.874395</td>\n",
              "      <td>0.363930</td>\n",
              "      <td>-0.169063</td>\n",
              "      <td>-0.483832</td>\n",
              "      <td>-2.118982</td>\n",
              "      <td>-2.156586</td>\n",
              "      <td>2.907291</td>\n",
              "      <td>-1.318888</td>\n",
              "      <td>-2.997464</td>\n",
              "      <td>0.459664</td>\n",
              "      <td>0.619774</td>\n",
              "      <td>5.631504</td>\n",
              "      <td>1.323512</td>\n",
              "      <td>-1.752154</td>\n",
              "      <td>1.808302</td>\n",
              "      <td>1.675748</td>\n",
              "      <td>0</td>\n",
              "    </tr>\n",
              "    <tr>\n",
              "      <th>3</th>\n",
              "      <td>0.238384</td>\n",
              "      <td>1.458607</td>\n",
              "      <td>4.014528</td>\n",
              "      <td>2.534478</td>\n",
              "      <td>1.196987</td>\n",
              "      <td>-3.117330</td>\n",
              "      <td>-0.924035</td>\n",
              "      <td>0.269493</td>\n",
              "      <td>1.322436</td>\n",
              "      <td>0.702345</td>\n",
              "      <td>-5.578345</td>\n",
              "      <td>-0.850662</td>\n",
              "      <td>2.590525</td>\n",
              "      <td>0.767418</td>\n",
              "      <td>-2.390809</td>\n",
              "      <td>-2.341961</td>\n",
              "      <td>0.571875</td>\n",
              "      <td>-0.933751</td>\n",
              "      <td>0.508677</td>\n",
              "      <td>1.210715</td>\n",
              "      <td>-3.259524</td>\n",
              "      <td>0.104587</td>\n",
              "      <td>-0.658875</td>\n",
              "      <td>1.498107</td>\n",
              "      <td>1.100305</td>\n",
              "      <td>4.142988</td>\n",
              "      <td>-0.248446</td>\n",
              "      <td>-1.136516</td>\n",
              "      <td>-5.355810</td>\n",
              "      <td>-4.545931</td>\n",
              "      <td>3.808667</td>\n",
              "      <td>3.517918</td>\n",
              "      <td>-3.074085</td>\n",
              "      <td>-0.284220</td>\n",
              "      <td>0.954576</td>\n",
              "      <td>3.029331</td>\n",
              "      <td>-1.367198</td>\n",
              "      <td>-3.412140</td>\n",
              "      <td>0.906000</td>\n",
              "      <td>-2.450889</td>\n",
              "      <td>0</td>\n",
              "    </tr>\n",
              "    <tr>\n",
              "      <th>4</th>\n",
              "      <td>5.828225</td>\n",
              "      <td>2.768260</td>\n",
              "      <td>-1.234530</td>\n",
              "      <td>2.809264</td>\n",
              "      <td>-1.641648</td>\n",
              "      <td>-1.406698</td>\n",
              "      <td>0.568643</td>\n",
              "      <td>0.965043</td>\n",
              "      <td>1.918379</td>\n",
              "      <td>-2.774855</td>\n",
              "      <td>-0.530016</td>\n",
              "      <td>1.374544</td>\n",
              "      <td>-0.650941</td>\n",
              "      <td>-1.679466</td>\n",
              "      <td>-0.379220</td>\n",
              "      <td>-4.443143</td>\n",
              "      <td>3.893857</td>\n",
              "      <td>-0.607640</td>\n",
              "      <td>2.944931</td>\n",
              "      <td>0.367233</td>\n",
              "      <td>-5.789081</td>\n",
              "      <td>4.597528</td>\n",
              "      <td>4.450264</td>\n",
              "      <td>3.224941</td>\n",
              "      <td>0.396701</td>\n",
              "      <td>0.247765</td>\n",
              "      <td>-2.362047</td>\n",
              "      <td>1.079378</td>\n",
              "      <td>-0.473076</td>\n",
              "      <td>2.242810</td>\n",
              "      <td>-3.591421</td>\n",
              "      <td>1.773841</td>\n",
              "      <td>-1.501573</td>\n",
              "      <td>-2.226702</td>\n",
              "      <td>4.776830</td>\n",
              "      <td>-6.559698</td>\n",
              "      <td>-0.805551</td>\n",
              "      <td>-0.276007</td>\n",
              "      <td>-3.858207</td>\n",
              "      <td>-0.537694</td>\n",
              "      <td>0</td>\n",
              "    </tr>\n",
              "  </tbody>\n",
              "</table>\n",
              "</div>\n",
              "    <div class=\"colab-df-buttons\">\n",
              "\n",
              "  <div class=\"colab-df-container\">\n",
              "    <button class=\"colab-df-convert\" onclick=\"convertToInteractive('df-10d7d2fe-acff-4177-ba30-c4af0bc34e55')\"\n",
              "            title=\"Convert this dataframe to an interactive table.\"\n",
              "            style=\"display:none;\">\n",
              "\n",
              "  <svg xmlns=\"http://www.w3.org/2000/svg\" height=\"24px\" viewBox=\"0 -960 960 960\">\n",
              "    <path d=\"M120-120v-720h720v720H120Zm60-500h600v-160H180v160Zm220 220h160v-160H400v160Zm0 220h160v-160H400v160ZM180-400h160v-160H180v160Zm440 0h160v-160H620v160ZM180-180h160v-160H180v160Zm440 0h160v-160H620v160Z\"/>\n",
              "  </svg>\n",
              "    </button>\n",
              "\n",
              "  <style>\n",
              "    .colab-df-container {\n",
              "      display:flex;\n",
              "      gap: 12px;\n",
              "    }\n",
              "\n",
              "    .colab-df-convert {\n",
              "      background-color: #E8F0FE;\n",
              "      border: none;\n",
              "      border-radius: 50%;\n",
              "      cursor: pointer;\n",
              "      display: none;\n",
              "      fill: #1967D2;\n",
              "      height: 32px;\n",
              "      padding: 0 0 0 0;\n",
              "      width: 32px;\n",
              "    }\n",
              "\n",
              "    .colab-df-convert:hover {\n",
              "      background-color: #E2EBFA;\n",
              "      box-shadow: 0px 1px 2px rgba(60, 64, 67, 0.3), 0px 1px 3px 1px rgba(60, 64, 67, 0.15);\n",
              "      fill: #174EA6;\n",
              "    }\n",
              "\n",
              "    .colab-df-buttons div {\n",
              "      margin-bottom: 4px;\n",
              "    }\n",
              "\n",
              "    [theme=dark] .colab-df-convert {\n",
              "      background-color: #3B4455;\n",
              "      fill: #D2E3FC;\n",
              "    }\n",
              "\n",
              "    [theme=dark] .colab-df-convert:hover {\n",
              "      background-color: #434B5C;\n",
              "      box-shadow: 0px 1px 3px 1px rgba(0, 0, 0, 0.15);\n",
              "      filter: drop-shadow(0px 1px 2px rgba(0, 0, 0, 0.3));\n",
              "      fill: #FFFFFF;\n",
              "    }\n",
              "  </style>\n",
              "\n",
              "    <script>\n",
              "      const buttonEl =\n",
              "        document.querySelector('#df-10d7d2fe-acff-4177-ba30-c4af0bc34e55 button.colab-df-convert');\n",
              "      buttonEl.style.display =\n",
              "        google.colab.kernel.accessAllowed ? 'block' : 'none';\n",
              "\n",
              "      async function convertToInteractive(key) {\n",
              "        const element = document.querySelector('#df-10d7d2fe-acff-4177-ba30-c4af0bc34e55');\n",
              "        const dataTable =\n",
              "          await google.colab.kernel.invokeFunction('convertToInteractive',\n",
              "                                                    [key], {});\n",
              "        if (!dataTable) return;\n",
              "\n",
              "        const docLinkHtml = 'Like what you see? Visit the ' +\n",
              "          '<a target=\"_blank\" href=https://colab.research.google.com/notebooks/data_table.ipynb>data table notebook</a>'\n",
              "          + ' to learn more about interactive tables.';\n",
              "        element.innerHTML = '';\n",
              "        dataTable['output_type'] = 'display_data';\n",
              "        await google.colab.output.renderOutput(dataTable, element);\n",
              "        const docLink = document.createElement('div');\n",
              "        docLink.innerHTML = docLinkHtml;\n",
              "        element.appendChild(docLink);\n",
              "      }\n",
              "    </script>\n",
              "  </div>\n",
              "\n",
              "\n",
              "    <div id=\"df-1e8207e5-e266-4499-bc52-13a5c7614b15\">\n",
              "      <button class=\"colab-df-quickchart\" onclick=\"quickchart('df-1e8207e5-e266-4499-bc52-13a5c7614b15')\"\n",
              "                title=\"Suggest charts\"\n",
              "                style=\"display:none;\">\n",
              "\n",
              "<svg xmlns=\"http://www.w3.org/2000/svg\" height=\"24px\"viewBox=\"0 0 24 24\"\n",
              "     width=\"24px\">\n",
              "    <g>\n",
              "        <path d=\"M19 3H5c-1.1 0-2 .9-2 2v14c0 1.1.9 2 2 2h14c1.1 0 2-.9 2-2V5c0-1.1-.9-2-2-2zM9 17H7v-7h2v7zm4 0h-2V7h2v10zm4 0h-2v-4h2v4z\"/>\n",
              "    </g>\n",
              "</svg>\n",
              "      </button>\n",
              "\n",
              "<style>\n",
              "  .colab-df-quickchart {\n",
              "      --bg-color: #E8F0FE;\n",
              "      --fill-color: #1967D2;\n",
              "      --hover-bg-color: #E2EBFA;\n",
              "      --hover-fill-color: #174EA6;\n",
              "      --disabled-fill-color: #AAA;\n",
              "      --disabled-bg-color: #DDD;\n",
              "  }\n",
              "\n",
              "  [theme=dark] .colab-df-quickchart {\n",
              "      --bg-color: #3B4455;\n",
              "      --fill-color: #D2E3FC;\n",
              "      --hover-bg-color: #434B5C;\n",
              "      --hover-fill-color: #FFFFFF;\n",
              "      --disabled-bg-color: #3B4455;\n",
              "      --disabled-fill-color: #666;\n",
              "  }\n",
              "\n",
              "  .colab-df-quickchart {\n",
              "    background-color: var(--bg-color);\n",
              "    border: none;\n",
              "    border-radius: 50%;\n",
              "    cursor: pointer;\n",
              "    display: none;\n",
              "    fill: var(--fill-color);\n",
              "    height: 32px;\n",
              "    padding: 0;\n",
              "    width: 32px;\n",
              "  }\n",
              "\n",
              "  .colab-df-quickchart:hover {\n",
              "    background-color: var(--hover-bg-color);\n",
              "    box-shadow: 0 1px 2px rgba(60, 64, 67, 0.3), 0 1px 3px 1px rgba(60, 64, 67, 0.15);\n",
              "    fill: var(--button-hover-fill-color);\n",
              "  }\n",
              "\n",
              "  .colab-df-quickchart-complete:disabled,\n",
              "  .colab-df-quickchart-complete:disabled:hover {\n",
              "    background-color: var(--disabled-bg-color);\n",
              "    fill: var(--disabled-fill-color);\n",
              "    box-shadow: none;\n",
              "  }\n",
              "\n",
              "  .colab-df-spinner {\n",
              "    border: 2px solid var(--fill-color);\n",
              "    border-color: transparent;\n",
              "    border-bottom-color: var(--fill-color);\n",
              "    animation:\n",
              "      spin 1s steps(1) infinite;\n",
              "  }\n",
              "\n",
              "  @keyframes spin {\n",
              "    0% {\n",
              "      border-color: transparent;\n",
              "      border-bottom-color: var(--fill-color);\n",
              "      border-left-color: var(--fill-color);\n",
              "    }\n",
              "    20% {\n",
              "      border-color: transparent;\n",
              "      border-left-color: var(--fill-color);\n",
              "      border-top-color: var(--fill-color);\n",
              "    }\n",
              "    30% {\n",
              "      border-color: transparent;\n",
              "      border-left-color: var(--fill-color);\n",
              "      border-top-color: var(--fill-color);\n",
              "      border-right-color: var(--fill-color);\n",
              "    }\n",
              "    40% {\n",
              "      border-color: transparent;\n",
              "      border-right-color: var(--fill-color);\n",
              "      border-top-color: var(--fill-color);\n",
              "    }\n",
              "    60% {\n",
              "      border-color: transparent;\n",
              "      border-right-color: var(--fill-color);\n",
              "    }\n",
              "    80% {\n",
              "      border-color: transparent;\n",
              "      border-right-color: var(--fill-color);\n",
              "      border-bottom-color: var(--fill-color);\n",
              "    }\n",
              "    90% {\n",
              "      border-color: transparent;\n",
              "      border-bottom-color: var(--fill-color);\n",
              "    }\n",
              "  }\n",
              "</style>\n",
              "\n",
              "      <script>\n",
              "        async function quickchart(key) {\n",
              "          const quickchartButtonEl =\n",
              "            document.querySelector('#' + key + ' button');\n",
              "          quickchartButtonEl.disabled = true;  // To prevent multiple clicks.\n",
              "          quickchartButtonEl.classList.add('colab-df-spinner');\n",
              "          try {\n",
              "            const charts = await google.colab.kernel.invokeFunction(\n",
              "                'suggestCharts', [key], {});\n",
              "          } catch (error) {\n",
              "            console.error('Error during call to suggestCharts:', error);\n",
              "          }\n",
              "          quickchartButtonEl.classList.remove('colab-df-spinner');\n",
              "          quickchartButtonEl.classList.add('colab-df-quickchart-complete');\n",
              "        }\n",
              "        (() => {\n",
              "          let quickchartButtonEl =\n",
              "            document.querySelector('#df-1e8207e5-e266-4499-bc52-13a5c7614b15 button');\n",
              "          quickchartButtonEl.style.display =\n",
              "            google.colab.kernel.accessAllowed ? 'block' : 'none';\n",
              "        })();\n",
              "      </script>\n",
              "    </div>\n",
              "\n",
              "    </div>\n",
              "  </div>\n"
            ],
            "application/vnd.google.colaboratory.intrinsic+json": {
              "type": "dataframe",
              "variable_name": "data_test"
            }
          },
          "metadata": {},
          "execution_count": 12
        }
      ],
      "source": [
        "# View the first 5 rows of the test data\n",
        "data_test.head()"
      ]
    },
    {
      "cell_type": "code",
      "source": [
        "# View random 5 rows of the test data\n",
        "data_test.sample(5)"
      ],
      "metadata": {
        "colab": {
          "base_uri": "https://localhost:8080/",
          "height": 224
        },
        "id": "pKR5u9XtyAr7",
        "outputId": "d36ac939-1023-4319-b518-24dd899c56da"
      },
      "execution_count": 13,
      "outputs": [
        {
          "output_type": "execute_result",
          "data": {
            "text/plain": [
              "            V1        V2        V3        V4        V5        V6        V7  \\\n",
              "4315  2.618494 -3.191676  3.031255 -2.368510 -1.997619 -2.164036 -1.111450   \n",
              "3559  0.695100  0.168081  1.208282 -6.640823  2.218828  3.085847  0.587179   \n",
              "3464 -0.024189 -3.604224  3.840381 -3.143159 -0.915704 -1.275399 -1.726067   \n",
              "311  -4.688899  0.286059  2.591574  3.176721  1.182458 -2.073267 -0.708966   \n",
              "3172 -0.328996  0.711194  4.350392  0.367634  0.233979 -0.243263 -1.533171   \n",
              "\n",
              "            V8        V9       V10       V11       V12       V13       V14  \\\n",
              "4315  1.190680  1.642055  0.551021 -2.705755  0.285446  5.310006  2.445836   \n",
              "3559 -2.679194 -1.564612  1.682963  0.508370 -1.099111 -0.858966  0.132783   \n",
              "3464  0.780507 -0.436314  1.987590 -1.688781  0.269244  4.547511  1.966785   \n",
              "311  -0.780850 -2.334516  2.952707 -5.329062  2.983852 -2.293846 -1.266000   \n",
              "3172 -3.485223  1.448103  0.724604 -3.733459 -1.711292  0.549223 -1.135692   \n",
              "\n",
              "           V15       V16       V17       V18       V19       V20       V21  \\\n",
              "4315 -2.394685 -1.414572 -1.898786  0.392164 -1.680833  3.271001 -3.911604   \n",
              "3559  1.710629  0.427648 -4.251250  3.145762 -5.092608 -5.837187  2.127793   \n",
              "3464 -2.734846 -0.058644 -4.033663  1.031868 -1.536072  0.913761 -2.922876   \n",
              "311  -0.897745 -3.206876  2.664876  1.029436  5.650534  1.638511 -1.052298   \n",
              "3172 -2.159418 -5.950062  0.153368  1.796897  0.677420  0.828173 -3.497138   \n",
              "\n",
              "           V22       V23       V24       V25       V26       V27       V28  \\\n",
              "4315  1.030938 -0.265800 -4.920196  2.666716 -0.754164  4.576995 -2.437166   \n",
              "3559 -0.847501 -2.487390 -1.083902  1.038873  1.979315  4.793393 -2.279777   \n",
              "3464 -0.326258 -1.600565 -2.739692  1.028948  0.316272  3.389576 -3.042895   \n",
              "311   0.396357 -1.012577  6.792212 -0.376734  0.347995 -2.421598  2.610988   \n",
              "3172  0.127790 -4.355305  0.011858  1.651989  2.378928  1.041839 -0.423864   \n",
              "\n",
              "           V29       V30       V31       V32       V33       V34       V35  \\\n",
              "4315 -3.512911 -2.676940  1.894731 -2.209975 -4.324685 -0.094115  0.615038   \n",
              "3559 -0.398800 -3.572594  5.485736 -2.713247  1.722762 -2.856871 -3.623083   \n",
              "3464 -1.845041 -0.945287  4.514637  0.663702 -0.173915 -0.614979  1.913042   \n",
              "311  -3.749525 -2.107858  0.123124  2.609404 -2.112966  4.397915  1.408204   \n",
              "3172 -2.374576 -3.098095  0.734892 -2.953439 -1.054328  0.207185  0.649782   \n",
              "\n",
              "           V36       V37       V38       V39       V40  Target  \n",
              "4315  4.793602  0.799068 -7.198435  1.321070 -0.378571       0  \n",
              "3559  5.843807  0.084745  2.721640  2.252480  4.447061       0  \n",
              "3464  6.293275  0.008954 -5.611372  1.991419 -0.608109       0  \n",
              "311   3.269961 -0.330060  3.940974  2.523738 -3.774929       0  \n",
              "3172  2.853349 -0.299467  0.829404  2.068049 -0.970966       0  "
            ],
            "text/html": [
              "\n",
              "  <div id=\"df-3b6f3eb0-202f-4682-8fa7-c1dc6098b86b\" class=\"colab-df-container\">\n",
              "    <div>\n",
              "<style scoped>\n",
              "    .dataframe tbody tr th:only-of-type {\n",
              "        vertical-align: middle;\n",
              "    }\n",
              "\n",
              "    .dataframe tbody tr th {\n",
              "        vertical-align: top;\n",
              "    }\n",
              "\n",
              "    .dataframe thead th {\n",
              "        text-align: right;\n",
              "    }\n",
              "</style>\n",
              "<table border=\"1\" class=\"dataframe\">\n",
              "  <thead>\n",
              "    <tr style=\"text-align: right;\">\n",
              "      <th></th>\n",
              "      <th>V1</th>\n",
              "      <th>V2</th>\n",
              "      <th>V3</th>\n",
              "      <th>V4</th>\n",
              "      <th>V5</th>\n",
              "      <th>V6</th>\n",
              "      <th>V7</th>\n",
              "      <th>V8</th>\n",
              "      <th>V9</th>\n",
              "      <th>V10</th>\n",
              "      <th>V11</th>\n",
              "      <th>V12</th>\n",
              "      <th>V13</th>\n",
              "      <th>V14</th>\n",
              "      <th>V15</th>\n",
              "      <th>V16</th>\n",
              "      <th>V17</th>\n",
              "      <th>V18</th>\n",
              "      <th>V19</th>\n",
              "      <th>V20</th>\n",
              "      <th>V21</th>\n",
              "      <th>V22</th>\n",
              "      <th>V23</th>\n",
              "      <th>V24</th>\n",
              "      <th>V25</th>\n",
              "      <th>V26</th>\n",
              "      <th>V27</th>\n",
              "      <th>V28</th>\n",
              "      <th>V29</th>\n",
              "      <th>V30</th>\n",
              "      <th>V31</th>\n",
              "      <th>V32</th>\n",
              "      <th>V33</th>\n",
              "      <th>V34</th>\n",
              "      <th>V35</th>\n",
              "      <th>V36</th>\n",
              "      <th>V37</th>\n",
              "      <th>V38</th>\n",
              "      <th>V39</th>\n",
              "      <th>V40</th>\n",
              "      <th>Target</th>\n",
              "    </tr>\n",
              "  </thead>\n",
              "  <tbody>\n",
              "    <tr>\n",
              "      <th>4315</th>\n",
              "      <td>2.618494</td>\n",
              "      <td>-3.191676</td>\n",
              "      <td>3.031255</td>\n",
              "      <td>-2.368510</td>\n",
              "      <td>-1.997619</td>\n",
              "      <td>-2.164036</td>\n",
              "      <td>-1.111450</td>\n",
              "      <td>1.190680</td>\n",
              "      <td>1.642055</td>\n",
              "      <td>0.551021</td>\n",
              "      <td>-2.705755</td>\n",
              "      <td>0.285446</td>\n",
              "      <td>5.310006</td>\n",
              "      <td>2.445836</td>\n",
              "      <td>-2.394685</td>\n",
              "      <td>-1.414572</td>\n",
              "      <td>-1.898786</td>\n",
              "      <td>0.392164</td>\n",
              "      <td>-1.680833</td>\n",
              "      <td>3.271001</td>\n",
              "      <td>-3.911604</td>\n",
              "      <td>1.030938</td>\n",
              "      <td>-0.265800</td>\n",
              "      <td>-4.920196</td>\n",
              "      <td>2.666716</td>\n",
              "      <td>-0.754164</td>\n",
              "      <td>4.576995</td>\n",
              "      <td>-2.437166</td>\n",
              "      <td>-3.512911</td>\n",
              "      <td>-2.676940</td>\n",
              "      <td>1.894731</td>\n",
              "      <td>-2.209975</td>\n",
              "      <td>-4.324685</td>\n",
              "      <td>-0.094115</td>\n",
              "      <td>0.615038</td>\n",
              "      <td>4.793602</td>\n",
              "      <td>0.799068</td>\n",
              "      <td>-7.198435</td>\n",
              "      <td>1.321070</td>\n",
              "      <td>-0.378571</td>\n",
              "      <td>0</td>\n",
              "    </tr>\n",
              "    <tr>\n",
              "      <th>3559</th>\n",
              "      <td>0.695100</td>\n",
              "      <td>0.168081</td>\n",
              "      <td>1.208282</td>\n",
              "      <td>-6.640823</td>\n",
              "      <td>2.218828</td>\n",
              "      <td>3.085847</td>\n",
              "      <td>0.587179</td>\n",
              "      <td>-2.679194</td>\n",
              "      <td>-1.564612</td>\n",
              "      <td>1.682963</td>\n",
              "      <td>0.508370</td>\n",
              "      <td>-1.099111</td>\n",
              "      <td>-0.858966</td>\n",
              "      <td>0.132783</td>\n",
              "      <td>1.710629</td>\n",
              "      <td>0.427648</td>\n",
              "      <td>-4.251250</td>\n",
              "      <td>3.145762</td>\n",
              "      <td>-5.092608</td>\n",
              "      <td>-5.837187</td>\n",
              "      <td>2.127793</td>\n",
              "      <td>-0.847501</td>\n",
              "      <td>-2.487390</td>\n",
              "      <td>-1.083902</td>\n",
              "      <td>1.038873</td>\n",
              "      <td>1.979315</td>\n",
              "      <td>4.793393</td>\n",
              "      <td>-2.279777</td>\n",
              "      <td>-0.398800</td>\n",
              "      <td>-3.572594</td>\n",
              "      <td>5.485736</td>\n",
              "      <td>-2.713247</td>\n",
              "      <td>1.722762</td>\n",
              "      <td>-2.856871</td>\n",
              "      <td>-3.623083</td>\n",
              "      <td>5.843807</td>\n",
              "      <td>0.084745</td>\n",
              "      <td>2.721640</td>\n",
              "      <td>2.252480</td>\n",
              "      <td>4.447061</td>\n",
              "      <td>0</td>\n",
              "    </tr>\n",
              "    <tr>\n",
              "      <th>3464</th>\n",
              "      <td>-0.024189</td>\n",
              "      <td>-3.604224</td>\n",
              "      <td>3.840381</td>\n",
              "      <td>-3.143159</td>\n",
              "      <td>-0.915704</td>\n",
              "      <td>-1.275399</td>\n",
              "      <td>-1.726067</td>\n",
              "      <td>0.780507</td>\n",
              "      <td>-0.436314</td>\n",
              "      <td>1.987590</td>\n",
              "      <td>-1.688781</td>\n",
              "      <td>0.269244</td>\n",
              "      <td>4.547511</td>\n",
              "      <td>1.966785</td>\n",
              "      <td>-2.734846</td>\n",
              "      <td>-0.058644</td>\n",
              "      <td>-4.033663</td>\n",
              "      <td>1.031868</td>\n",
              "      <td>-1.536072</td>\n",
              "      <td>0.913761</td>\n",
              "      <td>-2.922876</td>\n",
              "      <td>-0.326258</td>\n",
              "      <td>-1.600565</td>\n",
              "      <td>-2.739692</td>\n",
              "      <td>1.028948</td>\n",
              "      <td>0.316272</td>\n",
              "      <td>3.389576</td>\n",
              "      <td>-3.042895</td>\n",
              "      <td>-1.845041</td>\n",
              "      <td>-0.945287</td>\n",
              "      <td>4.514637</td>\n",
              "      <td>0.663702</td>\n",
              "      <td>-0.173915</td>\n",
              "      <td>-0.614979</td>\n",
              "      <td>1.913042</td>\n",
              "      <td>6.293275</td>\n",
              "      <td>0.008954</td>\n",
              "      <td>-5.611372</td>\n",
              "      <td>1.991419</td>\n",
              "      <td>-0.608109</td>\n",
              "      <td>0</td>\n",
              "    </tr>\n",
              "    <tr>\n",
              "      <th>311</th>\n",
              "      <td>-4.688899</td>\n",
              "      <td>0.286059</td>\n",
              "      <td>2.591574</td>\n",
              "      <td>3.176721</td>\n",
              "      <td>1.182458</td>\n",
              "      <td>-2.073267</td>\n",
              "      <td>-0.708966</td>\n",
              "      <td>-0.780850</td>\n",
              "      <td>-2.334516</td>\n",
              "      <td>2.952707</td>\n",
              "      <td>-5.329062</td>\n",
              "      <td>2.983852</td>\n",
              "      <td>-2.293846</td>\n",
              "      <td>-1.266000</td>\n",
              "      <td>-0.897745</td>\n",
              "      <td>-3.206876</td>\n",
              "      <td>2.664876</td>\n",
              "      <td>1.029436</td>\n",
              "      <td>5.650534</td>\n",
              "      <td>1.638511</td>\n",
              "      <td>-1.052298</td>\n",
              "      <td>0.396357</td>\n",
              "      <td>-1.012577</td>\n",
              "      <td>6.792212</td>\n",
              "      <td>-0.376734</td>\n",
              "      <td>0.347995</td>\n",
              "      <td>-2.421598</td>\n",
              "      <td>2.610988</td>\n",
              "      <td>-3.749525</td>\n",
              "      <td>-2.107858</td>\n",
              "      <td>0.123124</td>\n",
              "      <td>2.609404</td>\n",
              "      <td>-2.112966</td>\n",
              "      <td>4.397915</td>\n",
              "      <td>1.408204</td>\n",
              "      <td>3.269961</td>\n",
              "      <td>-0.330060</td>\n",
              "      <td>3.940974</td>\n",
              "      <td>2.523738</td>\n",
              "      <td>-3.774929</td>\n",
              "      <td>0</td>\n",
              "    </tr>\n",
              "    <tr>\n",
              "      <th>3172</th>\n",
              "      <td>-0.328996</td>\n",
              "      <td>0.711194</td>\n",
              "      <td>4.350392</td>\n",
              "      <td>0.367634</td>\n",
              "      <td>0.233979</td>\n",
              "      <td>-0.243263</td>\n",
              "      <td>-1.533171</td>\n",
              "      <td>-3.485223</td>\n",
              "      <td>1.448103</td>\n",
              "      <td>0.724604</td>\n",
              "      <td>-3.733459</td>\n",
              "      <td>-1.711292</td>\n",
              "      <td>0.549223</td>\n",
              "      <td>-1.135692</td>\n",
              "      <td>-2.159418</td>\n",
              "      <td>-5.950062</td>\n",
              "      <td>0.153368</td>\n",
              "      <td>1.796897</td>\n",
              "      <td>0.677420</td>\n",
              "      <td>0.828173</td>\n",
              "      <td>-3.497138</td>\n",
              "      <td>0.127790</td>\n",
              "      <td>-4.355305</td>\n",
              "      <td>0.011858</td>\n",
              "      <td>1.651989</td>\n",
              "      <td>2.378928</td>\n",
              "      <td>1.041839</td>\n",
              "      <td>-0.423864</td>\n",
              "      <td>-2.374576</td>\n",
              "      <td>-3.098095</td>\n",
              "      <td>0.734892</td>\n",
              "      <td>-2.953439</td>\n",
              "      <td>-1.054328</td>\n",
              "      <td>0.207185</td>\n",
              "      <td>0.649782</td>\n",
              "      <td>2.853349</td>\n",
              "      <td>-0.299467</td>\n",
              "      <td>0.829404</td>\n",
              "      <td>2.068049</td>\n",
              "      <td>-0.970966</td>\n",
              "      <td>0</td>\n",
              "    </tr>\n",
              "  </tbody>\n",
              "</table>\n",
              "</div>\n",
              "    <div class=\"colab-df-buttons\">\n",
              "\n",
              "  <div class=\"colab-df-container\">\n",
              "    <button class=\"colab-df-convert\" onclick=\"convertToInteractive('df-3b6f3eb0-202f-4682-8fa7-c1dc6098b86b')\"\n",
              "            title=\"Convert this dataframe to an interactive table.\"\n",
              "            style=\"display:none;\">\n",
              "\n",
              "  <svg xmlns=\"http://www.w3.org/2000/svg\" height=\"24px\" viewBox=\"0 -960 960 960\">\n",
              "    <path d=\"M120-120v-720h720v720H120Zm60-500h600v-160H180v160Zm220 220h160v-160H400v160Zm0 220h160v-160H400v160ZM180-400h160v-160H180v160Zm440 0h160v-160H620v160ZM180-180h160v-160H180v160Zm440 0h160v-160H620v160Z\"/>\n",
              "  </svg>\n",
              "    </button>\n",
              "\n",
              "  <style>\n",
              "    .colab-df-container {\n",
              "      display:flex;\n",
              "      gap: 12px;\n",
              "    }\n",
              "\n",
              "    .colab-df-convert {\n",
              "      background-color: #E8F0FE;\n",
              "      border: none;\n",
              "      border-radius: 50%;\n",
              "      cursor: pointer;\n",
              "      display: none;\n",
              "      fill: #1967D2;\n",
              "      height: 32px;\n",
              "      padding: 0 0 0 0;\n",
              "      width: 32px;\n",
              "    }\n",
              "\n",
              "    .colab-df-convert:hover {\n",
              "      background-color: #E2EBFA;\n",
              "      box-shadow: 0px 1px 2px rgba(60, 64, 67, 0.3), 0px 1px 3px 1px rgba(60, 64, 67, 0.15);\n",
              "      fill: #174EA6;\n",
              "    }\n",
              "\n",
              "    .colab-df-buttons div {\n",
              "      margin-bottom: 4px;\n",
              "    }\n",
              "\n",
              "    [theme=dark] .colab-df-convert {\n",
              "      background-color: #3B4455;\n",
              "      fill: #D2E3FC;\n",
              "    }\n",
              "\n",
              "    [theme=dark] .colab-df-convert:hover {\n",
              "      background-color: #434B5C;\n",
              "      box-shadow: 0px 1px 3px 1px rgba(0, 0, 0, 0.15);\n",
              "      filter: drop-shadow(0px 1px 2px rgba(0, 0, 0, 0.3));\n",
              "      fill: #FFFFFF;\n",
              "    }\n",
              "  </style>\n",
              "\n",
              "    <script>\n",
              "      const buttonEl =\n",
              "        document.querySelector('#df-3b6f3eb0-202f-4682-8fa7-c1dc6098b86b button.colab-df-convert');\n",
              "      buttonEl.style.display =\n",
              "        google.colab.kernel.accessAllowed ? 'block' : 'none';\n",
              "\n",
              "      async function convertToInteractive(key) {\n",
              "        const element = document.querySelector('#df-3b6f3eb0-202f-4682-8fa7-c1dc6098b86b');\n",
              "        const dataTable =\n",
              "          await google.colab.kernel.invokeFunction('convertToInteractive',\n",
              "                                                    [key], {});\n",
              "        if (!dataTable) return;\n",
              "\n",
              "        const docLinkHtml = 'Like what you see? Visit the ' +\n",
              "          '<a target=\"_blank\" href=https://colab.research.google.com/notebooks/data_table.ipynb>data table notebook</a>'\n",
              "          + ' to learn more about interactive tables.';\n",
              "        element.innerHTML = '';\n",
              "        dataTable['output_type'] = 'display_data';\n",
              "        await google.colab.output.renderOutput(dataTable, element);\n",
              "        const docLink = document.createElement('div');\n",
              "        docLink.innerHTML = docLinkHtml;\n",
              "        element.appendChild(docLink);\n",
              "      }\n",
              "    </script>\n",
              "  </div>\n",
              "\n",
              "\n",
              "    <div id=\"df-59df8c48-ef28-4d76-bf82-3ccc6c0e019e\">\n",
              "      <button class=\"colab-df-quickchart\" onclick=\"quickchart('df-59df8c48-ef28-4d76-bf82-3ccc6c0e019e')\"\n",
              "                title=\"Suggest charts\"\n",
              "                style=\"display:none;\">\n",
              "\n",
              "<svg xmlns=\"http://www.w3.org/2000/svg\" height=\"24px\"viewBox=\"0 0 24 24\"\n",
              "     width=\"24px\">\n",
              "    <g>\n",
              "        <path d=\"M19 3H5c-1.1 0-2 .9-2 2v14c0 1.1.9 2 2 2h14c1.1 0 2-.9 2-2V5c0-1.1-.9-2-2-2zM9 17H7v-7h2v7zm4 0h-2V7h2v10zm4 0h-2v-4h2v4z\"/>\n",
              "    </g>\n",
              "</svg>\n",
              "      </button>\n",
              "\n",
              "<style>\n",
              "  .colab-df-quickchart {\n",
              "      --bg-color: #E8F0FE;\n",
              "      --fill-color: #1967D2;\n",
              "      --hover-bg-color: #E2EBFA;\n",
              "      --hover-fill-color: #174EA6;\n",
              "      --disabled-fill-color: #AAA;\n",
              "      --disabled-bg-color: #DDD;\n",
              "  }\n",
              "\n",
              "  [theme=dark] .colab-df-quickchart {\n",
              "      --bg-color: #3B4455;\n",
              "      --fill-color: #D2E3FC;\n",
              "      --hover-bg-color: #434B5C;\n",
              "      --hover-fill-color: #FFFFFF;\n",
              "      --disabled-bg-color: #3B4455;\n",
              "      --disabled-fill-color: #666;\n",
              "  }\n",
              "\n",
              "  .colab-df-quickchart {\n",
              "    background-color: var(--bg-color);\n",
              "    border: none;\n",
              "    border-radius: 50%;\n",
              "    cursor: pointer;\n",
              "    display: none;\n",
              "    fill: var(--fill-color);\n",
              "    height: 32px;\n",
              "    padding: 0;\n",
              "    width: 32px;\n",
              "  }\n",
              "\n",
              "  .colab-df-quickchart:hover {\n",
              "    background-color: var(--hover-bg-color);\n",
              "    box-shadow: 0 1px 2px rgba(60, 64, 67, 0.3), 0 1px 3px 1px rgba(60, 64, 67, 0.15);\n",
              "    fill: var(--button-hover-fill-color);\n",
              "  }\n",
              "\n",
              "  .colab-df-quickchart-complete:disabled,\n",
              "  .colab-df-quickchart-complete:disabled:hover {\n",
              "    background-color: var(--disabled-bg-color);\n",
              "    fill: var(--disabled-fill-color);\n",
              "    box-shadow: none;\n",
              "  }\n",
              "\n",
              "  .colab-df-spinner {\n",
              "    border: 2px solid var(--fill-color);\n",
              "    border-color: transparent;\n",
              "    border-bottom-color: var(--fill-color);\n",
              "    animation:\n",
              "      spin 1s steps(1) infinite;\n",
              "  }\n",
              "\n",
              "  @keyframes spin {\n",
              "    0% {\n",
              "      border-color: transparent;\n",
              "      border-bottom-color: var(--fill-color);\n",
              "      border-left-color: var(--fill-color);\n",
              "    }\n",
              "    20% {\n",
              "      border-color: transparent;\n",
              "      border-left-color: var(--fill-color);\n",
              "      border-top-color: var(--fill-color);\n",
              "    }\n",
              "    30% {\n",
              "      border-color: transparent;\n",
              "      border-left-color: var(--fill-color);\n",
              "      border-top-color: var(--fill-color);\n",
              "      border-right-color: var(--fill-color);\n",
              "    }\n",
              "    40% {\n",
              "      border-color: transparent;\n",
              "      border-right-color: var(--fill-color);\n",
              "      border-top-color: var(--fill-color);\n",
              "    }\n",
              "    60% {\n",
              "      border-color: transparent;\n",
              "      border-right-color: var(--fill-color);\n",
              "    }\n",
              "    80% {\n",
              "      border-color: transparent;\n",
              "      border-right-color: var(--fill-color);\n",
              "      border-bottom-color: var(--fill-color);\n",
              "    }\n",
              "    90% {\n",
              "      border-color: transparent;\n",
              "      border-bottom-color: var(--fill-color);\n",
              "    }\n",
              "  }\n",
              "</style>\n",
              "\n",
              "      <script>\n",
              "        async function quickchart(key) {\n",
              "          const quickchartButtonEl =\n",
              "            document.querySelector('#' + key + ' button');\n",
              "          quickchartButtonEl.disabled = true;  // To prevent multiple clicks.\n",
              "          quickchartButtonEl.classList.add('colab-df-spinner');\n",
              "          try {\n",
              "            const charts = await google.colab.kernel.invokeFunction(\n",
              "                'suggestCharts', [key], {});\n",
              "          } catch (error) {\n",
              "            console.error('Error during call to suggestCharts:', error);\n",
              "          }\n",
              "          quickchartButtonEl.classList.remove('colab-df-spinner');\n",
              "          quickchartButtonEl.classList.add('colab-df-quickchart-complete');\n",
              "        }\n",
              "        (() => {\n",
              "          let quickchartButtonEl =\n",
              "            document.querySelector('#df-59df8c48-ef28-4d76-bf82-3ccc6c0e019e button');\n",
              "          quickchartButtonEl.style.display =\n",
              "            google.colab.kernel.accessAllowed ? 'block' : 'none';\n",
              "        })();\n",
              "      </script>\n",
              "    </div>\n",
              "\n",
              "    </div>\n",
              "  </div>\n"
            ],
            "application/vnd.google.colaboratory.intrinsic+json": {
              "type": "dataframe"
            }
          },
          "metadata": {},
          "execution_count": 13
        }
      ]
    },
    {
      "cell_type": "markdown",
      "metadata": {
        "id": "666fae00"
      },
      "source": [
        "<span style=\"color: blue;\"> **Observation**</span>\n",
        "* All predictor variables (V1 to V40) are of floating-point data type."
      ]
    },
    {
      "cell_type": "markdown",
      "metadata": {
        "id": "5TcqcxbK-qT3"
      },
      "source": [
        "## 3.3 - Check the data types of the columns"
      ]
    },
    {
      "cell_type": "code",
      "execution_count": 14,
      "metadata": {
        "id": "EXBYJoKkbp04",
        "colab": {
          "base_uri": "https://localhost:8080/"
        },
        "outputId": "82d215e9-540b-4baa-cc1c-ea9deb514a68"
      },
      "outputs": [
        {
          "output_type": "stream",
          "name": "stdout",
          "text": [
            "<class 'pandas.core.frame.DataFrame'>\n",
            "RangeIndex: 20000 entries, 0 to 19999\n",
            "Data columns (total 41 columns):\n",
            " #   Column  Non-Null Count  Dtype  \n",
            "---  ------  --------------  -----  \n",
            " 0   V1      19982 non-null  float64\n",
            " 1   V2      19982 non-null  float64\n",
            " 2   V3      20000 non-null  float64\n",
            " 3   V4      20000 non-null  float64\n",
            " 4   V5      20000 non-null  float64\n",
            " 5   V6      20000 non-null  float64\n",
            " 6   V7      20000 non-null  float64\n",
            " 7   V8      20000 non-null  float64\n",
            " 8   V9      20000 non-null  float64\n",
            " 9   V10     20000 non-null  float64\n",
            " 10  V11     20000 non-null  float64\n",
            " 11  V12     20000 non-null  float64\n",
            " 12  V13     20000 non-null  float64\n",
            " 13  V14     20000 non-null  float64\n",
            " 14  V15     20000 non-null  float64\n",
            " 15  V16     20000 non-null  float64\n",
            " 16  V17     20000 non-null  float64\n",
            " 17  V18     20000 non-null  float64\n",
            " 18  V19     20000 non-null  float64\n",
            " 19  V20     20000 non-null  float64\n",
            " 20  V21     20000 non-null  float64\n",
            " 21  V22     20000 non-null  float64\n",
            " 22  V23     20000 non-null  float64\n",
            " 23  V24     20000 non-null  float64\n",
            " 24  V25     20000 non-null  float64\n",
            " 25  V26     20000 non-null  float64\n",
            " 26  V27     20000 non-null  float64\n",
            " 27  V28     20000 non-null  float64\n",
            " 28  V29     20000 non-null  float64\n",
            " 29  V30     20000 non-null  float64\n",
            " 30  V31     20000 non-null  float64\n",
            " 31  V32     20000 non-null  float64\n",
            " 32  V33     20000 non-null  float64\n",
            " 33  V34     20000 non-null  float64\n",
            " 34  V35     20000 non-null  float64\n",
            " 35  V36     20000 non-null  float64\n",
            " 36  V37     20000 non-null  float64\n",
            " 37  V38     20000 non-null  float64\n",
            " 38  V39     20000 non-null  float64\n",
            " 39  V40     20000 non-null  float64\n",
            " 40  Target  20000 non-null  int64  \n",
            "dtypes: float64(40), int64(1)\n",
            "memory usage: 6.3 MB\n"
          ]
        }
      ],
      "source": [
        "# View the data types of the columns in the train data\n",
        "data.info()"
      ]
    },
    {
      "cell_type": "code",
      "execution_count": 15,
      "metadata": {
        "id": "Utfm_wZsnR1s",
        "colab": {
          "base_uri": "https://localhost:8080/"
        },
        "outputId": "28bbb8fd-26c0-458d-8f31-9240923cde43"
      },
      "outputs": [
        {
          "output_type": "stream",
          "name": "stdout",
          "text": [
            "<class 'pandas.core.frame.DataFrame'>\n",
            "RangeIndex: 5000 entries, 0 to 4999\n",
            "Data columns (total 41 columns):\n",
            " #   Column  Non-Null Count  Dtype  \n",
            "---  ------  --------------  -----  \n",
            " 0   V1      4995 non-null   float64\n",
            " 1   V2      4994 non-null   float64\n",
            " 2   V3      5000 non-null   float64\n",
            " 3   V4      5000 non-null   float64\n",
            " 4   V5      5000 non-null   float64\n",
            " 5   V6      5000 non-null   float64\n",
            " 6   V7      5000 non-null   float64\n",
            " 7   V8      5000 non-null   float64\n",
            " 8   V9      5000 non-null   float64\n",
            " 9   V10     5000 non-null   float64\n",
            " 10  V11     5000 non-null   float64\n",
            " 11  V12     5000 non-null   float64\n",
            " 12  V13     5000 non-null   float64\n",
            " 13  V14     5000 non-null   float64\n",
            " 14  V15     5000 non-null   float64\n",
            " 15  V16     5000 non-null   float64\n",
            " 16  V17     5000 non-null   float64\n",
            " 17  V18     5000 non-null   float64\n",
            " 18  V19     5000 non-null   float64\n",
            " 19  V20     5000 non-null   float64\n",
            " 20  V21     5000 non-null   float64\n",
            " 21  V22     5000 non-null   float64\n",
            " 22  V23     5000 non-null   float64\n",
            " 23  V24     5000 non-null   float64\n",
            " 24  V25     5000 non-null   float64\n",
            " 25  V26     5000 non-null   float64\n",
            " 26  V27     5000 non-null   float64\n",
            " 27  V28     5000 non-null   float64\n",
            " 28  V29     5000 non-null   float64\n",
            " 29  V30     5000 non-null   float64\n",
            " 30  V31     5000 non-null   float64\n",
            " 31  V32     5000 non-null   float64\n",
            " 32  V33     5000 non-null   float64\n",
            " 33  V34     5000 non-null   float64\n",
            " 34  V35     5000 non-null   float64\n",
            " 35  V36     5000 non-null   float64\n",
            " 36  V37     5000 non-null   float64\n",
            " 37  V38     5000 non-null   float64\n",
            " 38  V39     5000 non-null   float64\n",
            " 39  V40     5000 non-null   float64\n",
            " 40  Target  5000 non-null   int64  \n",
            "dtypes: float64(40), int64(1)\n",
            "memory usage: 1.6 MB\n"
          ]
        }
      ],
      "source": [
        "# View the data types of the columns in the test data\n",
        "data_test.info()"
      ]
    },
    {
      "cell_type": "markdown",
      "metadata": {
        "id": "LvN3_-Vdbp04"
      },
      "source": [
        "Convert the 'Target' column to float for compatibility with neural network operations."
      ]
    },
    {
      "cell_type": "code",
      "execution_count": 16,
      "metadata": {
        "id": "6LwVuEgjmHxW"
      },
      "outputs": [],
      "source": [
        "# Convert the 'Target' column to float in train set\n",
        "data['Target'] = data['Target'].astype(float)"
      ]
    },
    {
      "cell_type": "code",
      "execution_count": 17,
      "metadata": {
        "id": "SfTJuArBnbIU"
      },
      "outputs": [],
      "source": [
        "# Convert the 'Target' column to float in test set\n",
        "data_test['Target'] = data_test['Target'].astype(float)"
      ]
    },
    {
      "cell_type": "code",
      "source": [
        "# Check the distinct categories in Target column of train data\n",
        "print(\"Train set categories and value counts\")\n",
        "print(\"Number of unique categories:\", data[\"Target\"].nunique(),\"\\n\")\n",
        "print(\"Value counts for each category:\\n\", data[\"Target\"].value_counts(), \"\\n\")\n",
        "print(\"Percentage of each category:\\n\", data[\"Target\"].value_counts()/data[\"Target\"].shape[0], \"\\n\")\n",
        "\n",
        "print(\"-\" * 50)\n",
        "\n",
        "# Check the distinct categories in Target column of test data\n",
        "print(\"Test set categories and value counts\")\n",
        "print(\"Number of unique categories:\", data_test[\"Target\"].nunique(),\"\\n\")\n",
        "print(\"Value counts for each category:\\n\", data_test[\"Target\"].value_counts(), \"\\n\")\n",
        "print(\"Percentage of each category:\\n\", data_test[\"Target\"].value_counts()/data_test[\"Target\"].shape[0], \"\\n\")"
      ],
      "metadata": {
        "colab": {
          "base_uri": "https://localhost:8080/"
        },
        "id": "vtnwXfHKPyf5",
        "outputId": "d97719ac-3095-49f2-8460-0c9be927258c"
      },
      "execution_count": 18,
      "outputs": [
        {
          "output_type": "stream",
          "name": "stdout",
          "text": [
            "Train set categories and value counts\n",
            "Number of unique categories: 2 \n",
            "\n",
            "Value counts for each category:\n",
            " Target\n",
            "0.0    18890\n",
            "1.0     1110\n",
            "Name: count, dtype: int64 \n",
            "\n",
            "Percentage of each category:\n",
            " Target\n",
            "0.0    0.9445\n",
            "1.0    0.0555\n",
            "Name: count, dtype: float64 \n",
            "\n",
            "--------------------------------------------------\n",
            "Test set categories and value counts\n",
            "Number of unique categories: 2 \n",
            "\n",
            "Value counts for each category:\n",
            " Target\n",
            "0.0    4718\n",
            "1.0     282\n",
            "Name: count, dtype: int64 \n",
            "\n",
            "Percentage of each category:\n",
            " Target\n",
            "0.0    0.9436\n",
            "1.0    0.0564\n",
            "Name: count, dtype: float64 \n",
            "\n"
          ]
        }
      ]
    },
    {
      "cell_type": "markdown",
      "metadata": {
        "id": "31071dfe"
      },
      "source": [
        "<span style=\"color: blue;\"> **Observation**</span>\n",
        "* As observed earlier, predictor variables (V1 to V40) are of floating-point data type.\n",
        "* The Target column was of integer type which was converted to floating type.\n",
        "* Missing values are present in columns V1 and V2 in both the train and test datasets.\n",
        "* Percentage of each category **shows data imbalance**. Approximately 94.45% of the cases represent \"No failure\" (Target = 0), while about 5.5% represent \"Failure\" (Target = 1)."
      ]
    },
    {
      "cell_type": "markdown",
      "metadata": {
        "id": "xNr4bWoM-qT5"
      },
      "source": [
        "## 3.4 - Check for duplicate values"
      ]
    },
    {
      "cell_type": "code",
      "execution_count": 19,
      "metadata": {
        "id": "V0EmBHNmbp04",
        "colab": {
          "base_uri": "https://localhost:8080/"
        },
        "outputId": "cb418b18-34ea-4add-f2d5-0aa601091512"
      },
      "outputs": [
        {
          "output_type": "execute_result",
          "data": {
            "text/plain": [
              "0"
            ]
          },
          "metadata": {},
          "execution_count": 19
        }
      ],
      "source": [
        "# Check for duplicates in the train data\n",
        "data.duplicated().sum()"
      ]
    },
    {
      "cell_type": "code",
      "source": [
        "# Check for duplicates in the test data\n",
        "data_test.duplicated().sum()"
      ],
      "metadata": {
        "colab": {
          "base_uri": "https://localhost:8080/"
        },
        "id": "le_zepL9VCUR",
        "outputId": "145496f3-2e09-4009-9a36-35169f30ee28"
      },
      "execution_count": 20,
      "outputs": [
        {
          "output_type": "execute_result",
          "data": {
            "text/plain": [
              "0"
            ]
          },
          "metadata": {},
          "execution_count": 20
        }
      ]
    },
    {
      "cell_type": "markdown",
      "source": [
        "<span style=\"color: blue;\"> **Observation**</span>\n",
        "* No duplicates in train set\n",
        "* No duplicates in test set"
      ],
      "metadata": {
        "id": "q5OzoP6-VS3J"
      }
    },
    {
      "cell_type": "markdown",
      "metadata": {
        "id": "Ch_TjRfF-qT5"
      },
      "source": [
        "## 3.5 - Check for missing values"
      ]
    },
    {
      "cell_type": "code",
      "execution_count": 21,
      "metadata": {
        "id": "SlwFZm-Jbp05",
        "colab": {
          "base_uri": "https://localhost:8080/",
          "height": 1000
        },
        "outputId": "7c2020b0-2543-4087-c62f-24c304a945f8"
      },
      "outputs": [
        {
          "output_type": "execute_result",
          "data": {
            "text/plain": [
              "V1        18\n",
              "V2        18\n",
              "V3         0\n",
              "V4         0\n",
              "V5         0\n",
              "V6         0\n",
              "V7         0\n",
              "V8         0\n",
              "V9         0\n",
              "V10        0\n",
              "V11        0\n",
              "V12        0\n",
              "V13        0\n",
              "V14        0\n",
              "V15        0\n",
              "V16        0\n",
              "V17        0\n",
              "V18        0\n",
              "V19        0\n",
              "V20        0\n",
              "V21        0\n",
              "V22        0\n",
              "V23        0\n",
              "V24        0\n",
              "V25        0\n",
              "V26        0\n",
              "V27        0\n",
              "V28        0\n",
              "V29        0\n",
              "V30        0\n",
              "V31        0\n",
              "V32        0\n",
              "V33        0\n",
              "V34        0\n",
              "V35        0\n",
              "V36        0\n",
              "V37        0\n",
              "V38        0\n",
              "V39        0\n",
              "V40        0\n",
              "Target     0\n",
              "dtype: int64"
            ],
            "text/html": [
              "<div>\n",
              "<style scoped>\n",
              "    .dataframe tbody tr th:only-of-type {\n",
              "        vertical-align: middle;\n",
              "    }\n",
              "\n",
              "    .dataframe tbody tr th {\n",
              "        vertical-align: top;\n",
              "    }\n",
              "\n",
              "    .dataframe thead th {\n",
              "        text-align: right;\n",
              "    }\n",
              "</style>\n",
              "<table border=\"1\" class=\"dataframe\">\n",
              "  <thead>\n",
              "    <tr style=\"text-align: right;\">\n",
              "      <th></th>\n",
              "      <th>0</th>\n",
              "    </tr>\n",
              "  </thead>\n",
              "  <tbody>\n",
              "    <tr>\n",
              "      <th>V1</th>\n",
              "      <td>18</td>\n",
              "    </tr>\n",
              "    <tr>\n",
              "      <th>V2</th>\n",
              "      <td>18</td>\n",
              "    </tr>\n",
              "    <tr>\n",
              "      <th>V3</th>\n",
              "      <td>0</td>\n",
              "    </tr>\n",
              "    <tr>\n",
              "      <th>V4</th>\n",
              "      <td>0</td>\n",
              "    </tr>\n",
              "    <tr>\n",
              "      <th>V5</th>\n",
              "      <td>0</td>\n",
              "    </tr>\n",
              "    <tr>\n",
              "      <th>V6</th>\n",
              "      <td>0</td>\n",
              "    </tr>\n",
              "    <tr>\n",
              "      <th>V7</th>\n",
              "      <td>0</td>\n",
              "    </tr>\n",
              "    <tr>\n",
              "      <th>V8</th>\n",
              "      <td>0</td>\n",
              "    </tr>\n",
              "    <tr>\n",
              "      <th>V9</th>\n",
              "      <td>0</td>\n",
              "    </tr>\n",
              "    <tr>\n",
              "      <th>V10</th>\n",
              "      <td>0</td>\n",
              "    </tr>\n",
              "    <tr>\n",
              "      <th>V11</th>\n",
              "      <td>0</td>\n",
              "    </tr>\n",
              "    <tr>\n",
              "      <th>V12</th>\n",
              "      <td>0</td>\n",
              "    </tr>\n",
              "    <tr>\n",
              "      <th>V13</th>\n",
              "      <td>0</td>\n",
              "    </tr>\n",
              "    <tr>\n",
              "      <th>V14</th>\n",
              "      <td>0</td>\n",
              "    </tr>\n",
              "    <tr>\n",
              "      <th>V15</th>\n",
              "      <td>0</td>\n",
              "    </tr>\n",
              "    <tr>\n",
              "      <th>V16</th>\n",
              "      <td>0</td>\n",
              "    </tr>\n",
              "    <tr>\n",
              "      <th>V17</th>\n",
              "      <td>0</td>\n",
              "    </tr>\n",
              "    <tr>\n",
              "      <th>V18</th>\n",
              "      <td>0</td>\n",
              "    </tr>\n",
              "    <tr>\n",
              "      <th>V19</th>\n",
              "      <td>0</td>\n",
              "    </tr>\n",
              "    <tr>\n",
              "      <th>V20</th>\n",
              "      <td>0</td>\n",
              "    </tr>\n",
              "    <tr>\n",
              "      <th>V21</th>\n",
              "      <td>0</td>\n",
              "    </tr>\n",
              "    <tr>\n",
              "      <th>V22</th>\n",
              "      <td>0</td>\n",
              "    </tr>\n",
              "    <tr>\n",
              "      <th>V23</th>\n",
              "      <td>0</td>\n",
              "    </tr>\n",
              "    <tr>\n",
              "      <th>V24</th>\n",
              "      <td>0</td>\n",
              "    </tr>\n",
              "    <tr>\n",
              "      <th>V25</th>\n",
              "      <td>0</td>\n",
              "    </tr>\n",
              "    <tr>\n",
              "      <th>V26</th>\n",
              "      <td>0</td>\n",
              "    </tr>\n",
              "    <tr>\n",
              "      <th>V27</th>\n",
              "      <td>0</td>\n",
              "    </tr>\n",
              "    <tr>\n",
              "      <th>V28</th>\n",
              "      <td>0</td>\n",
              "    </tr>\n",
              "    <tr>\n",
              "      <th>V29</th>\n",
              "      <td>0</td>\n",
              "    </tr>\n",
              "    <tr>\n",
              "      <th>V30</th>\n",
              "      <td>0</td>\n",
              "    </tr>\n",
              "    <tr>\n",
              "      <th>V31</th>\n",
              "      <td>0</td>\n",
              "    </tr>\n",
              "    <tr>\n",
              "      <th>V32</th>\n",
              "      <td>0</td>\n",
              "    </tr>\n",
              "    <tr>\n",
              "      <th>V33</th>\n",
              "      <td>0</td>\n",
              "    </tr>\n",
              "    <tr>\n",
              "      <th>V34</th>\n",
              "      <td>0</td>\n",
              "    </tr>\n",
              "    <tr>\n",
              "      <th>V35</th>\n",
              "      <td>0</td>\n",
              "    </tr>\n",
              "    <tr>\n",
              "      <th>V36</th>\n",
              "      <td>0</td>\n",
              "    </tr>\n",
              "    <tr>\n",
              "      <th>V37</th>\n",
              "      <td>0</td>\n",
              "    </tr>\n",
              "    <tr>\n",
              "      <th>V38</th>\n",
              "      <td>0</td>\n",
              "    </tr>\n",
              "    <tr>\n",
              "      <th>V39</th>\n",
              "      <td>0</td>\n",
              "    </tr>\n",
              "    <tr>\n",
              "      <th>V40</th>\n",
              "      <td>0</td>\n",
              "    </tr>\n",
              "    <tr>\n",
              "      <th>Target</th>\n",
              "      <td>0</td>\n",
              "    </tr>\n",
              "  </tbody>\n",
              "</table>\n",
              "</div><br><label><b>dtype:</b> int64</label>"
            ]
          },
          "metadata": {},
          "execution_count": 21
        }
      ],
      "source": [
        "# Check for missing values in the train data\n",
        "data.isnull().sum()"
      ]
    },
    {
      "cell_type": "code",
      "execution_count": 22,
      "metadata": {
        "id": "33bar6robp06",
        "colab": {
          "base_uri": "https://localhost:8080/",
          "height": 1000
        },
        "outputId": "b997a7a9-8526-4292-eff9-015874a627e0"
      },
      "outputs": [
        {
          "output_type": "execute_result",
          "data": {
            "text/plain": [
              "V1        5\n",
              "V2        6\n",
              "V3        0\n",
              "V4        0\n",
              "V5        0\n",
              "V6        0\n",
              "V7        0\n",
              "V8        0\n",
              "V9        0\n",
              "V10       0\n",
              "V11       0\n",
              "V12       0\n",
              "V13       0\n",
              "V14       0\n",
              "V15       0\n",
              "V16       0\n",
              "V17       0\n",
              "V18       0\n",
              "V19       0\n",
              "V20       0\n",
              "V21       0\n",
              "V22       0\n",
              "V23       0\n",
              "V24       0\n",
              "V25       0\n",
              "V26       0\n",
              "V27       0\n",
              "V28       0\n",
              "V29       0\n",
              "V30       0\n",
              "V31       0\n",
              "V32       0\n",
              "V33       0\n",
              "V34       0\n",
              "V35       0\n",
              "V36       0\n",
              "V37       0\n",
              "V38       0\n",
              "V39       0\n",
              "V40       0\n",
              "Target    0\n",
              "dtype: int64"
            ],
            "text/html": [
              "<div>\n",
              "<style scoped>\n",
              "    .dataframe tbody tr th:only-of-type {\n",
              "        vertical-align: middle;\n",
              "    }\n",
              "\n",
              "    .dataframe tbody tr th {\n",
              "        vertical-align: top;\n",
              "    }\n",
              "\n",
              "    .dataframe thead th {\n",
              "        text-align: right;\n",
              "    }\n",
              "</style>\n",
              "<table border=\"1\" class=\"dataframe\">\n",
              "  <thead>\n",
              "    <tr style=\"text-align: right;\">\n",
              "      <th></th>\n",
              "      <th>0</th>\n",
              "    </tr>\n",
              "  </thead>\n",
              "  <tbody>\n",
              "    <tr>\n",
              "      <th>V1</th>\n",
              "      <td>5</td>\n",
              "    </tr>\n",
              "    <tr>\n",
              "      <th>V2</th>\n",
              "      <td>6</td>\n",
              "    </tr>\n",
              "    <tr>\n",
              "      <th>V3</th>\n",
              "      <td>0</td>\n",
              "    </tr>\n",
              "    <tr>\n",
              "      <th>V4</th>\n",
              "      <td>0</td>\n",
              "    </tr>\n",
              "    <tr>\n",
              "      <th>V5</th>\n",
              "      <td>0</td>\n",
              "    </tr>\n",
              "    <tr>\n",
              "      <th>V6</th>\n",
              "      <td>0</td>\n",
              "    </tr>\n",
              "    <tr>\n",
              "      <th>V7</th>\n",
              "      <td>0</td>\n",
              "    </tr>\n",
              "    <tr>\n",
              "      <th>V8</th>\n",
              "      <td>0</td>\n",
              "    </tr>\n",
              "    <tr>\n",
              "      <th>V9</th>\n",
              "      <td>0</td>\n",
              "    </tr>\n",
              "    <tr>\n",
              "      <th>V10</th>\n",
              "      <td>0</td>\n",
              "    </tr>\n",
              "    <tr>\n",
              "      <th>V11</th>\n",
              "      <td>0</td>\n",
              "    </tr>\n",
              "    <tr>\n",
              "      <th>V12</th>\n",
              "      <td>0</td>\n",
              "    </tr>\n",
              "    <tr>\n",
              "      <th>V13</th>\n",
              "      <td>0</td>\n",
              "    </tr>\n",
              "    <tr>\n",
              "      <th>V14</th>\n",
              "      <td>0</td>\n",
              "    </tr>\n",
              "    <tr>\n",
              "      <th>V15</th>\n",
              "      <td>0</td>\n",
              "    </tr>\n",
              "    <tr>\n",
              "      <th>V16</th>\n",
              "      <td>0</td>\n",
              "    </tr>\n",
              "    <tr>\n",
              "      <th>V17</th>\n",
              "      <td>0</td>\n",
              "    </tr>\n",
              "    <tr>\n",
              "      <th>V18</th>\n",
              "      <td>0</td>\n",
              "    </tr>\n",
              "    <tr>\n",
              "      <th>V19</th>\n",
              "      <td>0</td>\n",
              "    </tr>\n",
              "    <tr>\n",
              "      <th>V20</th>\n",
              "      <td>0</td>\n",
              "    </tr>\n",
              "    <tr>\n",
              "      <th>V21</th>\n",
              "      <td>0</td>\n",
              "    </tr>\n",
              "    <tr>\n",
              "      <th>V22</th>\n",
              "      <td>0</td>\n",
              "    </tr>\n",
              "    <tr>\n",
              "      <th>V23</th>\n",
              "      <td>0</td>\n",
              "    </tr>\n",
              "    <tr>\n",
              "      <th>V24</th>\n",
              "      <td>0</td>\n",
              "    </tr>\n",
              "    <tr>\n",
              "      <th>V25</th>\n",
              "      <td>0</td>\n",
              "    </tr>\n",
              "    <tr>\n",
              "      <th>V26</th>\n",
              "      <td>0</td>\n",
              "    </tr>\n",
              "    <tr>\n",
              "      <th>V27</th>\n",
              "      <td>0</td>\n",
              "    </tr>\n",
              "    <tr>\n",
              "      <th>V28</th>\n",
              "      <td>0</td>\n",
              "    </tr>\n",
              "    <tr>\n",
              "      <th>V29</th>\n",
              "      <td>0</td>\n",
              "    </tr>\n",
              "    <tr>\n",
              "      <th>V30</th>\n",
              "      <td>0</td>\n",
              "    </tr>\n",
              "    <tr>\n",
              "      <th>V31</th>\n",
              "      <td>0</td>\n",
              "    </tr>\n",
              "    <tr>\n",
              "      <th>V32</th>\n",
              "      <td>0</td>\n",
              "    </tr>\n",
              "    <tr>\n",
              "      <th>V33</th>\n",
              "      <td>0</td>\n",
              "    </tr>\n",
              "    <tr>\n",
              "      <th>V34</th>\n",
              "      <td>0</td>\n",
              "    </tr>\n",
              "    <tr>\n",
              "      <th>V35</th>\n",
              "      <td>0</td>\n",
              "    </tr>\n",
              "    <tr>\n",
              "      <th>V36</th>\n",
              "      <td>0</td>\n",
              "    </tr>\n",
              "    <tr>\n",
              "      <th>V37</th>\n",
              "      <td>0</td>\n",
              "    </tr>\n",
              "    <tr>\n",
              "      <th>V38</th>\n",
              "      <td>0</td>\n",
              "    </tr>\n",
              "    <tr>\n",
              "      <th>V39</th>\n",
              "      <td>0</td>\n",
              "    </tr>\n",
              "    <tr>\n",
              "      <th>V40</th>\n",
              "      <td>0</td>\n",
              "    </tr>\n",
              "    <tr>\n",
              "      <th>Target</th>\n",
              "      <td>0</td>\n",
              "    </tr>\n",
              "  </tbody>\n",
              "</table>\n",
              "</div><br><label><b>dtype:</b> int64</label>"
            ]
          },
          "metadata": {},
          "execution_count": 22
        }
      ],
      "source": [
        "# Check for missing values in the test data\n",
        "data_test.isnull().sum()"
      ]
    },
    {
      "cell_type": "markdown",
      "metadata": {
        "id": "982e0312"
      },
      "source": [
        "<span style=\"color: blue;\"> **Observation**</span>\n",
        "* As observed earlier, missing values are present in columns V1 and V2 in both the train and test datasets. This needs imputation."
      ]
    },
    {
      "cell_type": "markdown",
      "metadata": {
        "id": "nUCorhch-qT4"
      },
      "source": [
        "## 3.6 - Describe dataset"
      ]
    },
    {
      "cell_type": "code",
      "execution_count": 23,
      "metadata": {
        "id": "J6lzvHKCbp06",
        "colab": {
          "base_uri": "https://localhost:8080/",
          "height": 1000
        },
        "outputId": "6189427c-9303-47ea-d47c-faaac02811d5"
      },
      "outputs": [
        {
          "output_type": "execute_result",
          "data": {
            "text/plain": [
              "          count      mean       std        min       25%       50%       75%  \\\n",
              "V1      19982.0 -0.271996  3.441625 -11.876451 -2.737146 -0.747917  1.840112   \n",
              "V2      19982.0  0.440430  3.150784 -12.319951 -1.640674  0.471536  2.543967   \n",
              "V3      20000.0  2.484699  3.388963 -10.708139  0.206860  2.255786  4.566165   \n",
              "V4      20000.0 -0.083152  3.431595 -15.082052 -2.347660 -0.135241  2.130615   \n",
              "V5      20000.0 -0.053752  2.104801  -8.603361 -1.535607 -0.101952  1.340480   \n",
              "V6      20000.0 -0.995443  2.040970 -10.227147 -2.347238 -1.000515  0.380330   \n",
              "V7      20000.0 -0.879325  1.761626  -7.949681 -2.030926 -0.917179  0.223695   \n",
              "V8      20000.0 -0.548195  3.295756 -15.657561 -2.642665 -0.389085  1.722965   \n",
              "V9      20000.0 -0.016808  2.160568  -8.596313 -1.494973 -0.067597  1.409203   \n",
              "V10     20000.0 -0.012998  2.193201  -9.853957 -1.411212  0.100973  1.477045   \n",
              "V11     20000.0 -1.895393  3.124322 -14.832058 -3.922404 -1.921237  0.118906   \n",
              "V12     20000.0  1.604825  2.930454 -12.948007 -0.396514  1.507841  3.571454   \n",
              "V13     20000.0  1.580486  2.874658 -13.228247 -0.223545  1.637185  3.459886   \n",
              "V14     20000.0 -0.950632  1.789651  -7.738593 -2.170741 -0.957163  0.270677   \n",
              "V15     20000.0 -2.414993  3.354974 -16.416606 -4.415322 -2.382617 -0.359052   \n",
              "V16     20000.0 -2.925225  4.221717 -20.374158 -5.634240 -2.682705 -0.095046   \n",
              "V17     20000.0 -0.134261  3.345462 -14.091184 -2.215611 -0.014580  2.068751   \n",
              "V18     20000.0  1.189347  2.592276 -11.643994 -0.403917  0.883398  2.571770   \n",
              "V19     20000.0  1.181808  3.396925 -13.491784 -1.050168  1.279061  3.493299   \n",
              "V20     20000.0  0.023608  3.669477 -13.922659 -2.432953  0.033415  2.512372   \n",
              "V21     20000.0 -3.611252  3.567690 -17.956231 -5.930360 -3.532888 -1.265884   \n",
              "V22     20000.0  0.951835  1.651547 -10.122095 -0.118127  0.974687  2.025594   \n",
              "V23     20000.0 -0.366116  4.031860 -14.866128 -3.098756 -0.262093  2.451750   \n",
              "V24     20000.0  1.134389  3.912069 -16.387147 -1.468062  0.969048  3.545975   \n",
              "V25     20000.0 -0.002186  2.016740  -8.228266 -1.365178  0.025050  1.397112   \n",
              "V26     20000.0  1.873785  3.435137 -11.834271 -0.337863  1.950531  4.130037   \n",
              "V27     20000.0 -0.612413  4.368847 -14.904939 -3.652323 -0.884894  2.189177   \n",
              "V28     20000.0 -0.883218  1.917713  -9.269489 -2.171218 -0.891073  0.375884   \n",
              "V29     20000.0 -0.985625  2.684365 -12.579469 -2.787443 -1.176181  0.629773   \n",
              "V30     20000.0 -0.015534  3.005258 -14.796047 -1.867114  0.184346  2.036229   \n",
              "V31     20000.0  0.486842  3.461384 -13.722760 -1.817772  0.490304  2.730688   \n",
              "V32     20000.0  0.303799  5.500400 -19.876502 -3.420469  0.052073  3.761722   \n",
              "V33     20000.0  0.049825  3.575285 -16.898353 -2.242857 -0.066249  2.255134   \n",
              "V34     20000.0 -0.462702  3.183841 -17.985094 -2.136984 -0.255008  1.436935   \n",
              "V35     20000.0  2.229620  2.937102 -15.349803  0.336191  2.098633  4.064358   \n",
              "V36     20000.0  1.514809  3.800860 -14.833178 -0.943809  1.566526  3.983939   \n",
              "V37     20000.0  0.011316  1.788165  -5.478350 -1.255819 -0.128435  1.175533   \n",
              "V38     20000.0 -0.344025  3.948147 -17.375002 -2.987638 -0.316849  2.279399   \n",
              "V39     20000.0  0.890653  1.753054  -6.438880 -0.272250  0.919261  2.057540   \n",
              "V40     20000.0 -0.875630  3.012155 -11.023935 -2.940193 -0.920806  1.119897   \n",
              "Target  20000.0  0.055500  0.228959   0.000000  0.000000  0.000000  0.000000   \n",
              "\n",
              "              max  \n",
              "V1      15.493002  \n",
              "V2      13.089269  \n",
              "V3      17.090919  \n",
              "V4      13.236381  \n",
              "V5       8.133797  \n",
              "V6       6.975847  \n",
              "V7       8.006091  \n",
              "V8      11.679495  \n",
              "V9       8.137580  \n",
              "V10      8.108472  \n",
              "V11     11.826433  \n",
              "V12     15.080698  \n",
              "V13     15.419616  \n",
              "V14      5.670664  \n",
              "V15     12.246455  \n",
              "V16     13.583212  \n",
              "V17     16.756432  \n",
              "V18     13.179863  \n",
              "V19     13.237742  \n",
              "V20     16.052339  \n",
              "V21     13.840473  \n",
              "V22      7.409856  \n",
              "V23     14.458734  \n",
              "V24     17.163291  \n",
              "V25      8.223389  \n",
              "V26     16.836410  \n",
              "V27     17.560404  \n",
              "V28      6.527643  \n",
              "V29     10.722055  \n",
              "V30     12.505812  \n",
              "V31     17.255090  \n",
              "V32     23.633187  \n",
              "V33     16.692486  \n",
              "V34     14.358213  \n",
              "V35     15.291065  \n",
              "V36     19.329576  \n",
              "V37      7.467006  \n",
              "V38     15.289923  \n",
              "V39      7.759877  \n",
              "V40     10.654265  \n",
              "Target   1.000000  "
            ],
            "text/html": [
              "\n",
              "  <div id=\"df-c8968e4b-0a3d-43f2-b4d8-cac81268ded9\" class=\"colab-df-container\">\n",
              "    <div>\n",
              "<style scoped>\n",
              "    .dataframe tbody tr th:only-of-type {\n",
              "        vertical-align: middle;\n",
              "    }\n",
              "\n",
              "    .dataframe tbody tr th {\n",
              "        vertical-align: top;\n",
              "    }\n",
              "\n",
              "    .dataframe thead th {\n",
              "        text-align: right;\n",
              "    }\n",
              "</style>\n",
              "<table border=\"1\" class=\"dataframe\">\n",
              "  <thead>\n",
              "    <tr style=\"text-align: right;\">\n",
              "      <th></th>\n",
              "      <th>count</th>\n",
              "      <th>mean</th>\n",
              "      <th>std</th>\n",
              "      <th>min</th>\n",
              "      <th>25%</th>\n",
              "      <th>50%</th>\n",
              "      <th>75%</th>\n",
              "      <th>max</th>\n",
              "    </tr>\n",
              "  </thead>\n",
              "  <tbody>\n",
              "    <tr>\n",
              "      <th>V1</th>\n",
              "      <td>19982.0</td>\n",
              "      <td>-0.271996</td>\n",
              "      <td>3.441625</td>\n",
              "      <td>-11.876451</td>\n",
              "      <td>-2.737146</td>\n",
              "      <td>-0.747917</td>\n",
              "      <td>1.840112</td>\n",
              "      <td>15.493002</td>\n",
              "    </tr>\n",
              "    <tr>\n",
              "      <th>V2</th>\n",
              "      <td>19982.0</td>\n",
              "      <td>0.440430</td>\n",
              "      <td>3.150784</td>\n",
              "      <td>-12.319951</td>\n",
              "      <td>-1.640674</td>\n",
              "      <td>0.471536</td>\n",
              "      <td>2.543967</td>\n",
              "      <td>13.089269</td>\n",
              "    </tr>\n",
              "    <tr>\n",
              "      <th>V3</th>\n",
              "      <td>20000.0</td>\n",
              "      <td>2.484699</td>\n",
              "      <td>3.388963</td>\n",
              "      <td>-10.708139</td>\n",
              "      <td>0.206860</td>\n",
              "      <td>2.255786</td>\n",
              "      <td>4.566165</td>\n",
              "      <td>17.090919</td>\n",
              "    </tr>\n",
              "    <tr>\n",
              "      <th>V4</th>\n",
              "      <td>20000.0</td>\n",
              "      <td>-0.083152</td>\n",
              "      <td>3.431595</td>\n",
              "      <td>-15.082052</td>\n",
              "      <td>-2.347660</td>\n",
              "      <td>-0.135241</td>\n",
              "      <td>2.130615</td>\n",
              "      <td>13.236381</td>\n",
              "    </tr>\n",
              "    <tr>\n",
              "      <th>V5</th>\n",
              "      <td>20000.0</td>\n",
              "      <td>-0.053752</td>\n",
              "      <td>2.104801</td>\n",
              "      <td>-8.603361</td>\n",
              "      <td>-1.535607</td>\n",
              "      <td>-0.101952</td>\n",
              "      <td>1.340480</td>\n",
              "      <td>8.133797</td>\n",
              "    </tr>\n",
              "    <tr>\n",
              "      <th>V6</th>\n",
              "      <td>20000.0</td>\n",
              "      <td>-0.995443</td>\n",
              "      <td>2.040970</td>\n",
              "      <td>-10.227147</td>\n",
              "      <td>-2.347238</td>\n",
              "      <td>-1.000515</td>\n",
              "      <td>0.380330</td>\n",
              "      <td>6.975847</td>\n",
              "    </tr>\n",
              "    <tr>\n",
              "      <th>V7</th>\n",
              "      <td>20000.0</td>\n",
              "      <td>-0.879325</td>\n",
              "      <td>1.761626</td>\n",
              "      <td>-7.949681</td>\n",
              "      <td>-2.030926</td>\n",
              "      <td>-0.917179</td>\n",
              "      <td>0.223695</td>\n",
              "      <td>8.006091</td>\n",
              "    </tr>\n",
              "    <tr>\n",
              "      <th>V8</th>\n",
              "      <td>20000.0</td>\n",
              "      <td>-0.548195</td>\n",
              "      <td>3.295756</td>\n",
              "      <td>-15.657561</td>\n",
              "      <td>-2.642665</td>\n",
              "      <td>-0.389085</td>\n",
              "      <td>1.722965</td>\n",
              "      <td>11.679495</td>\n",
              "    </tr>\n",
              "    <tr>\n",
              "      <th>V9</th>\n",
              "      <td>20000.0</td>\n",
              "      <td>-0.016808</td>\n",
              "      <td>2.160568</td>\n",
              "      <td>-8.596313</td>\n",
              "      <td>-1.494973</td>\n",
              "      <td>-0.067597</td>\n",
              "      <td>1.409203</td>\n",
              "      <td>8.137580</td>\n",
              "    </tr>\n",
              "    <tr>\n",
              "      <th>V10</th>\n",
              "      <td>20000.0</td>\n",
              "      <td>-0.012998</td>\n",
              "      <td>2.193201</td>\n",
              "      <td>-9.853957</td>\n",
              "      <td>-1.411212</td>\n",
              "      <td>0.100973</td>\n",
              "      <td>1.477045</td>\n",
              "      <td>8.108472</td>\n",
              "    </tr>\n",
              "    <tr>\n",
              "      <th>V11</th>\n",
              "      <td>20000.0</td>\n",
              "      <td>-1.895393</td>\n",
              "      <td>3.124322</td>\n",
              "      <td>-14.832058</td>\n",
              "      <td>-3.922404</td>\n",
              "      <td>-1.921237</td>\n",
              "      <td>0.118906</td>\n",
              "      <td>11.826433</td>\n",
              "    </tr>\n",
              "    <tr>\n",
              "      <th>V12</th>\n",
              "      <td>20000.0</td>\n",
              "      <td>1.604825</td>\n",
              "      <td>2.930454</td>\n",
              "      <td>-12.948007</td>\n",
              "      <td>-0.396514</td>\n",
              "      <td>1.507841</td>\n",
              "      <td>3.571454</td>\n",
              "      <td>15.080698</td>\n",
              "    </tr>\n",
              "    <tr>\n",
              "      <th>V13</th>\n",
              "      <td>20000.0</td>\n",
              "      <td>1.580486</td>\n",
              "      <td>2.874658</td>\n",
              "      <td>-13.228247</td>\n",
              "      <td>-0.223545</td>\n",
              "      <td>1.637185</td>\n",
              "      <td>3.459886</td>\n",
              "      <td>15.419616</td>\n",
              "    </tr>\n",
              "    <tr>\n",
              "      <th>V14</th>\n",
              "      <td>20000.0</td>\n",
              "      <td>-0.950632</td>\n",
              "      <td>1.789651</td>\n",
              "      <td>-7.738593</td>\n",
              "      <td>-2.170741</td>\n",
              "      <td>-0.957163</td>\n",
              "      <td>0.270677</td>\n",
              "      <td>5.670664</td>\n",
              "    </tr>\n",
              "    <tr>\n",
              "      <th>V15</th>\n",
              "      <td>20000.0</td>\n",
              "      <td>-2.414993</td>\n",
              "      <td>3.354974</td>\n",
              "      <td>-16.416606</td>\n",
              "      <td>-4.415322</td>\n",
              "      <td>-2.382617</td>\n",
              "      <td>-0.359052</td>\n",
              "      <td>12.246455</td>\n",
              "    </tr>\n",
              "    <tr>\n",
              "      <th>V16</th>\n",
              "      <td>20000.0</td>\n",
              "      <td>-2.925225</td>\n",
              "      <td>4.221717</td>\n",
              "      <td>-20.374158</td>\n",
              "      <td>-5.634240</td>\n",
              "      <td>-2.682705</td>\n",
              "      <td>-0.095046</td>\n",
              "      <td>13.583212</td>\n",
              "    </tr>\n",
              "    <tr>\n",
              "      <th>V17</th>\n",
              "      <td>20000.0</td>\n",
              "      <td>-0.134261</td>\n",
              "      <td>3.345462</td>\n",
              "      <td>-14.091184</td>\n",
              "      <td>-2.215611</td>\n",
              "      <td>-0.014580</td>\n",
              "      <td>2.068751</td>\n",
              "      <td>16.756432</td>\n",
              "    </tr>\n",
              "    <tr>\n",
              "      <th>V18</th>\n",
              "      <td>20000.0</td>\n",
              "      <td>1.189347</td>\n",
              "      <td>2.592276</td>\n",
              "      <td>-11.643994</td>\n",
              "      <td>-0.403917</td>\n",
              "      <td>0.883398</td>\n",
              "      <td>2.571770</td>\n",
              "      <td>13.179863</td>\n",
              "    </tr>\n",
              "    <tr>\n",
              "      <th>V19</th>\n",
              "      <td>20000.0</td>\n",
              "      <td>1.181808</td>\n",
              "      <td>3.396925</td>\n",
              "      <td>-13.491784</td>\n",
              "      <td>-1.050168</td>\n",
              "      <td>1.279061</td>\n",
              "      <td>3.493299</td>\n",
              "      <td>13.237742</td>\n",
              "    </tr>\n",
              "    <tr>\n",
              "      <th>V20</th>\n",
              "      <td>20000.0</td>\n",
              "      <td>0.023608</td>\n",
              "      <td>3.669477</td>\n",
              "      <td>-13.922659</td>\n",
              "      <td>-2.432953</td>\n",
              "      <td>0.033415</td>\n",
              "      <td>2.512372</td>\n",
              "      <td>16.052339</td>\n",
              "    </tr>\n",
              "    <tr>\n",
              "      <th>V21</th>\n",
              "      <td>20000.0</td>\n",
              "      <td>-3.611252</td>\n",
              "      <td>3.567690</td>\n",
              "      <td>-17.956231</td>\n",
              "      <td>-5.930360</td>\n",
              "      <td>-3.532888</td>\n",
              "      <td>-1.265884</td>\n",
              "      <td>13.840473</td>\n",
              "    </tr>\n",
              "    <tr>\n",
              "      <th>V22</th>\n",
              "      <td>20000.0</td>\n",
              "      <td>0.951835</td>\n",
              "      <td>1.651547</td>\n",
              "      <td>-10.122095</td>\n",
              "      <td>-0.118127</td>\n",
              "      <td>0.974687</td>\n",
              "      <td>2.025594</td>\n",
              "      <td>7.409856</td>\n",
              "    </tr>\n",
              "    <tr>\n",
              "      <th>V23</th>\n",
              "      <td>20000.0</td>\n",
              "      <td>-0.366116</td>\n",
              "      <td>4.031860</td>\n",
              "      <td>-14.866128</td>\n",
              "      <td>-3.098756</td>\n",
              "      <td>-0.262093</td>\n",
              "      <td>2.451750</td>\n",
              "      <td>14.458734</td>\n",
              "    </tr>\n",
              "    <tr>\n",
              "      <th>V24</th>\n",
              "      <td>20000.0</td>\n",
              "      <td>1.134389</td>\n",
              "      <td>3.912069</td>\n",
              "      <td>-16.387147</td>\n",
              "      <td>-1.468062</td>\n",
              "      <td>0.969048</td>\n",
              "      <td>3.545975</td>\n",
              "      <td>17.163291</td>\n",
              "    </tr>\n",
              "    <tr>\n",
              "      <th>V25</th>\n",
              "      <td>20000.0</td>\n",
              "      <td>-0.002186</td>\n",
              "      <td>2.016740</td>\n",
              "      <td>-8.228266</td>\n",
              "      <td>-1.365178</td>\n",
              "      <td>0.025050</td>\n",
              "      <td>1.397112</td>\n",
              "      <td>8.223389</td>\n",
              "    </tr>\n",
              "    <tr>\n",
              "      <th>V26</th>\n",
              "      <td>20000.0</td>\n",
              "      <td>1.873785</td>\n",
              "      <td>3.435137</td>\n",
              "      <td>-11.834271</td>\n",
              "      <td>-0.337863</td>\n",
              "      <td>1.950531</td>\n",
              "      <td>4.130037</td>\n",
              "      <td>16.836410</td>\n",
              "    </tr>\n",
              "    <tr>\n",
              "      <th>V27</th>\n",
              "      <td>20000.0</td>\n",
              "      <td>-0.612413</td>\n",
              "      <td>4.368847</td>\n",
              "      <td>-14.904939</td>\n",
              "      <td>-3.652323</td>\n",
              "      <td>-0.884894</td>\n",
              "      <td>2.189177</td>\n",
              "      <td>17.560404</td>\n",
              "    </tr>\n",
              "    <tr>\n",
              "      <th>V28</th>\n",
              "      <td>20000.0</td>\n",
              "      <td>-0.883218</td>\n",
              "      <td>1.917713</td>\n",
              "      <td>-9.269489</td>\n",
              "      <td>-2.171218</td>\n",
              "      <td>-0.891073</td>\n",
              "      <td>0.375884</td>\n",
              "      <td>6.527643</td>\n",
              "    </tr>\n",
              "    <tr>\n",
              "      <th>V29</th>\n",
              "      <td>20000.0</td>\n",
              "      <td>-0.985625</td>\n",
              "      <td>2.684365</td>\n",
              "      <td>-12.579469</td>\n",
              "      <td>-2.787443</td>\n",
              "      <td>-1.176181</td>\n",
              "      <td>0.629773</td>\n",
              "      <td>10.722055</td>\n",
              "    </tr>\n",
              "    <tr>\n",
              "      <th>V30</th>\n",
              "      <td>20000.0</td>\n",
              "      <td>-0.015534</td>\n",
              "      <td>3.005258</td>\n",
              "      <td>-14.796047</td>\n",
              "      <td>-1.867114</td>\n",
              "      <td>0.184346</td>\n",
              "      <td>2.036229</td>\n",
              "      <td>12.505812</td>\n",
              "    </tr>\n",
              "    <tr>\n",
              "      <th>V31</th>\n",
              "      <td>20000.0</td>\n",
              "      <td>0.486842</td>\n",
              "      <td>3.461384</td>\n",
              "      <td>-13.722760</td>\n",
              "      <td>-1.817772</td>\n",
              "      <td>0.490304</td>\n",
              "      <td>2.730688</td>\n",
              "      <td>17.255090</td>\n",
              "    </tr>\n",
              "    <tr>\n",
              "      <th>V32</th>\n",
              "      <td>20000.0</td>\n",
              "      <td>0.303799</td>\n",
              "      <td>5.500400</td>\n",
              "      <td>-19.876502</td>\n",
              "      <td>-3.420469</td>\n",
              "      <td>0.052073</td>\n",
              "      <td>3.761722</td>\n",
              "      <td>23.633187</td>\n",
              "    </tr>\n",
              "    <tr>\n",
              "      <th>V33</th>\n",
              "      <td>20000.0</td>\n",
              "      <td>0.049825</td>\n",
              "      <td>3.575285</td>\n",
              "      <td>-16.898353</td>\n",
              "      <td>-2.242857</td>\n",
              "      <td>-0.066249</td>\n",
              "      <td>2.255134</td>\n",
              "      <td>16.692486</td>\n",
              "    </tr>\n",
              "    <tr>\n",
              "      <th>V34</th>\n",
              "      <td>20000.0</td>\n",
              "      <td>-0.462702</td>\n",
              "      <td>3.183841</td>\n",
              "      <td>-17.985094</td>\n",
              "      <td>-2.136984</td>\n",
              "      <td>-0.255008</td>\n",
              "      <td>1.436935</td>\n",
              "      <td>14.358213</td>\n",
              "    </tr>\n",
              "    <tr>\n",
              "      <th>V35</th>\n",
              "      <td>20000.0</td>\n",
              "      <td>2.229620</td>\n",
              "      <td>2.937102</td>\n",
              "      <td>-15.349803</td>\n",
              "      <td>0.336191</td>\n",
              "      <td>2.098633</td>\n",
              "      <td>4.064358</td>\n",
              "      <td>15.291065</td>\n",
              "    </tr>\n",
              "    <tr>\n",
              "      <th>V36</th>\n",
              "      <td>20000.0</td>\n",
              "      <td>1.514809</td>\n",
              "      <td>3.800860</td>\n",
              "      <td>-14.833178</td>\n",
              "      <td>-0.943809</td>\n",
              "      <td>1.566526</td>\n",
              "      <td>3.983939</td>\n",
              "      <td>19.329576</td>\n",
              "    </tr>\n",
              "    <tr>\n",
              "      <th>V37</th>\n",
              "      <td>20000.0</td>\n",
              "      <td>0.011316</td>\n",
              "      <td>1.788165</td>\n",
              "      <td>-5.478350</td>\n",
              "      <td>-1.255819</td>\n",
              "      <td>-0.128435</td>\n",
              "      <td>1.175533</td>\n",
              "      <td>7.467006</td>\n",
              "    </tr>\n",
              "    <tr>\n",
              "      <th>V38</th>\n",
              "      <td>20000.0</td>\n",
              "      <td>-0.344025</td>\n",
              "      <td>3.948147</td>\n",
              "      <td>-17.375002</td>\n",
              "      <td>-2.987638</td>\n",
              "      <td>-0.316849</td>\n",
              "      <td>2.279399</td>\n",
              "      <td>15.289923</td>\n",
              "    </tr>\n",
              "    <tr>\n",
              "      <th>V39</th>\n",
              "      <td>20000.0</td>\n",
              "      <td>0.890653</td>\n",
              "      <td>1.753054</td>\n",
              "      <td>-6.438880</td>\n",
              "      <td>-0.272250</td>\n",
              "      <td>0.919261</td>\n",
              "      <td>2.057540</td>\n",
              "      <td>7.759877</td>\n",
              "    </tr>\n",
              "    <tr>\n",
              "      <th>V40</th>\n",
              "      <td>20000.0</td>\n",
              "      <td>-0.875630</td>\n",
              "      <td>3.012155</td>\n",
              "      <td>-11.023935</td>\n",
              "      <td>-2.940193</td>\n",
              "      <td>-0.920806</td>\n",
              "      <td>1.119897</td>\n",
              "      <td>10.654265</td>\n",
              "    </tr>\n",
              "    <tr>\n",
              "      <th>Target</th>\n",
              "      <td>20000.0</td>\n",
              "      <td>0.055500</td>\n",
              "      <td>0.228959</td>\n",
              "      <td>0.000000</td>\n",
              "      <td>0.000000</td>\n",
              "      <td>0.000000</td>\n",
              "      <td>0.000000</td>\n",
              "      <td>1.000000</td>\n",
              "    </tr>\n",
              "  </tbody>\n",
              "</table>\n",
              "</div>\n",
              "    <div class=\"colab-df-buttons\">\n",
              "\n",
              "  <div class=\"colab-df-container\">\n",
              "    <button class=\"colab-df-convert\" onclick=\"convertToInteractive('df-c8968e4b-0a3d-43f2-b4d8-cac81268ded9')\"\n",
              "            title=\"Convert this dataframe to an interactive table.\"\n",
              "            style=\"display:none;\">\n",
              "\n",
              "  <svg xmlns=\"http://www.w3.org/2000/svg\" height=\"24px\" viewBox=\"0 -960 960 960\">\n",
              "    <path d=\"M120-120v-720h720v720H120Zm60-500h600v-160H180v160Zm220 220h160v-160H400v160Zm0 220h160v-160H400v160ZM180-400h160v-160H180v160Zm440 0h160v-160H620v160ZM180-180h160v-160H180v160Zm440 0h160v-160H620v160Z\"/>\n",
              "  </svg>\n",
              "    </button>\n",
              "\n",
              "  <style>\n",
              "    .colab-df-container {\n",
              "      display:flex;\n",
              "      gap: 12px;\n",
              "    }\n",
              "\n",
              "    .colab-df-convert {\n",
              "      background-color: #E8F0FE;\n",
              "      border: none;\n",
              "      border-radius: 50%;\n",
              "      cursor: pointer;\n",
              "      display: none;\n",
              "      fill: #1967D2;\n",
              "      height: 32px;\n",
              "      padding: 0 0 0 0;\n",
              "      width: 32px;\n",
              "    }\n",
              "\n",
              "    .colab-df-convert:hover {\n",
              "      background-color: #E2EBFA;\n",
              "      box-shadow: 0px 1px 2px rgba(60, 64, 67, 0.3), 0px 1px 3px 1px rgba(60, 64, 67, 0.15);\n",
              "      fill: #174EA6;\n",
              "    }\n",
              "\n",
              "    .colab-df-buttons div {\n",
              "      margin-bottom: 4px;\n",
              "    }\n",
              "\n",
              "    [theme=dark] .colab-df-convert {\n",
              "      background-color: #3B4455;\n",
              "      fill: #D2E3FC;\n",
              "    }\n",
              "\n",
              "    [theme=dark] .colab-df-convert:hover {\n",
              "      background-color: #434B5C;\n",
              "      box-shadow: 0px 1px 3px 1px rgba(0, 0, 0, 0.15);\n",
              "      filter: drop-shadow(0px 1px 2px rgba(0, 0, 0, 0.3));\n",
              "      fill: #FFFFFF;\n",
              "    }\n",
              "  </style>\n",
              "\n",
              "    <script>\n",
              "      const buttonEl =\n",
              "        document.querySelector('#df-c8968e4b-0a3d-43f2-b4d8-cac81268ded9 button.colab-df-convert');\n",
              "      buttonEl.style.display =\n",
              "        google.colab.kernel.accessAllowed ? 'block' : 'none';\n",
              "\n",
              "      async function convertToInteractive(key) {\n",
              "        const element = document.querySelector('#df-c8968e4b-0a3d-43f2-b4d8-cac81268ded9');\n",
              "        const dataTable =\n",
              "          await google.colab.kernel.invokeFunction('convertToInteractive',\n",
              "                                                    [key], {});\n",
              "        if (!dataTable) return;\n",
              "\n",
              "        const docLinkHtml = 'Like what you see? Visit the ' +\n",
              "          '<a target=\"_blank\" href=https://colab.research.google.com/notebooks/data_table.ipynb>data table notebook</a>'\n",
              "          + ' to learn more about interactive tables.';\n",
              "        element.innerHTML = '';\n",
              "        dataTable['output_type'] = 'display_data';\n",
              "        await google.colab.output.renderOutput(dataTable, element);\n",
              "        const docLink = document.createElement('div');\n",
              "        docLink.innerHTML = docLinkHtml;\n",
              "        element.appendChild(docLink);\n",
              "      }\n",
              "    </script>\n",
              "  </div>\n",
              "\n",
              "\n",
              "    <div id=\"df-b63cbd54-ac43-428f-8b5e-4a5fb53ce0ea\">\n",
              "      <button class=\"colab-df-quickchart\" onclick=\"quickchart('df-b63cbd54-ac43-428f-8b5e-4a5fb53ce0ea')\"\n",
              "                title=\"Suggest charts\"\n",
              "                style=\"display:none;\">\n",
              "\n",
              "<svg xmlns=\"http://www.w3.org/2000/svg\" height=\"24px\"viewBox=\"0 0 24 24\"\n",
              "     width=\"24px\">\n",
              "    <g>\n",
              "        <path d=\"M19 3H5c-1.1 0-2 .9-2 2v14c0 1.1.9 2 2 2h14c1.1 0 2-.9 2-2V5c0-1.1-.9-2-2-2zM9 17H7v-7h2v7zm4 0h-2V7h2v10zm4 0h-2v-4h2v4z\"/>\n",
              "    </g>\n",
              "</svg>\n",
              "      </button>\n",
              "\n",
              "<style>\n",
              "  .colab-df-quickchart {\n",
              "      --bg-color: #E8F0FE;\n",
              "      --fill-color: #1967D2;\n",
              "      --hover-bg-color: #E2EBFA;\n",
              "      --hover-fill-color: #174EA6;\n",
              "      --disabled-fill-color: #AAA;\n",
              "      --disabled-bg-color: #DDD;\n",
              "  }\n",
              "\n",
              "  [theme=dark] .colab-df-quickchart {\n",
              "      --bg-color: #3B4455;\n",
              "      --fill-color: #D2E3FC;\n",
              "      --hover-bg-color: #434B5C;\n",
              "      --hover-fill-color: #FFFFFF;\n",
              "      --disabled-bg-color: #3B4455;\n",
              "      --disabled-fill-color: #666;\n",
              "  }\n",
              "\n",
              "  .colab-df-quickchart {\n",
              "    background-color: var(--bg-color);\n",
              "    border: none;\n",
              "    border-radius: 50%;\n",
              "    cursor: pointer;\n",
              "    display: none;\n",
              "    fill: var(--fill-color);\n",
              "    height: 32px;\n",
              "    padding: 0;\n",
              "    width: 32px;\n",
              "  }\n",
              "\n",
              "  .colab-df-quickchart:hover {\n",
              "    background-color: var(--hover-bg-color);\n",
              "    box-shadow: 0 1px 2px rgba(60, 64, 67, 0.3), 0 1px 3px 1px rgba(60, 64, 67, 0.15);\n",
              "    fill: var(--button-hover-fill-color);\n",
              "  }\n",
              "\n",
              "  .colab-df-quickchart-complete:disabled,\n",
              "  .colab-df-quickchart-complete:disabled:hover {\n",
              "    background-color: var(--disabled-bg-color);\n",
              "    fill: var(--disabled-fill-color);\n",
              "    box-shadow: none;\n",
              "  }\n",
              "\n",
              "  .colab-df-spinner {\n",
              "    border: 2px solid var(--fill-color);\n",
              "    border-color: transparent;\n",
              "    border-bottom-color: var(--fill-color);\n",
              "    animation:\n",
              "      spin 1s steps(1) infinite;\n",
              "  }\n",
              "\n",
              "  @keyframes spin {\n",
              "    0% {\n",
              "      border-color: transparent;\n",
              "      border-bottom-color: var(--fill-color);\n",
              "      border-left-color: var(--fill-color);\n",
              "    }\n",
              "    20% {\n",
              "      border-color: transparent;\n",
              "      border-left-color: var(--fill-color);\n",
              "      border-top-color: var(--fill-color);\n",
              "    }\n",
              "    30% {\n",
              "      border-color: transparent;\n",
              "      border-left-color: var(--fill-color);\n",
              "      border-top-color: var(--fill-color);\n",
              "      border-right-color: var(--fill-color);\n",
              "    }\n",
              "    40% {\n",
              "      border-color: transparent;\n",
              "      border-right-color: var(--fill-color);\n",
              "      border-top-color: var(--fill-color);\n",
              "    }\n",
              "    60% {\n",
              "      border-color: transparent;\n",
              "      border-right-color: var(--fill-color);\n",
              "    }\n",
              "    80% {\n",
              "      border-color: transparent;\n",
              "      border-right-color: var(--fill-color);\n",
              "      border-bottom-color: var(--fill-color);\n",
              "    }\n",
              "    90% {\n",
              "      border-color: transparent;\n",
              "      border-bottom-color: var(--fill-color);\n",
              "    }\n",
              "  }\n",
              "</style>\n",
              "\n",
              "      <script>\n",
              "        async function quickchart(key) {\n",
              "          const quickchartButtonEl =\n",
              "            document.querySelector('#' + key + ' button');\n",
              "          quickchartButtonEl.disabled = true;  // To prevent multiple clicks.\n",
              "          quickchartButtonEl.classList.add('colab-df-spinner');\n",
              "          try {\n",
              "            const charts = await google.colab.kernel.invokeFunction(\n",
              "                'suggestCharts', [key], {});\n",
              "          } catch (error) {\n",
              "            console.error('Error during call to suggestCharts:', error);\n",
              "          }\n",
              "          quickchartButtonEl.classList.remove('colab-df-spinner');\n",
              "          quickchartButtonEl.classList.add('colab-df-quickchart-complete');\n",
              "        }\n",
              "        (() => {\n",
              "          let quickchartButtonEl =\n",
              "            document.querySelector('#df-b63cbd54-ac43-428f-8b5e-4a5fb53ce0ea button');\n",
              "          quickchartButtonEl.style.display =\n",
              "            google.colab.kernel.accessAllowed ? 'block' : 'none';\n",
              "        })();\n",
              "      </script>\n",
              "    </div>\n",
              "\n",
              "    </div>\n",
              "  </div>\n"
            ],
            "application/vnd.google.colaboratory.intrinsic+json": {
              "type": "dataframe",
              "summary": "{\n  \"name\": \"data\",\n  \"rows\": 41,\n  \"fields\": [\n    {\n      \"column\": \"count\",\n      \"properties\": {\n        \"dtype\": \"number\",\n        \"std\": 3.925526219191635,\n        \"min\": 19982.0,\n        \"max\": 20000.0,\n        \"num_unique_values\": 2,\n        \"samples\": [\n          20000.0,\n          19982.0\n        ],\n        \"semantic_type\": \"\",\n        \"description\": \"\"\n      }\n    },\n    {\n      \"column\": \"mean\",\n      \"properties\": {\n        \"dtype\": \"number\",\n        \"std\": 1.2821950451181199,\n        \"min\": -3.6112515777463,\n        \"max\": 2.48469929426655,\n        \"num_unique_values\": 41,\n        \"samples\": [\n          -0.0021861515306499982,\n          -0.95063236406415\n        ],\n        \"semantic_type\": \"\",\n        \"description\": \"\"\n      }\n    },\n    {\n      \"column\": \"std\",\n      \"properties\": {\n        \"dtype\": \"number\",\n        \"std\": 0.9572906404715243,\n        \"min\": 0.22895932197351632,\n        \"max\": 5.5004001383043635,\n        \"num_unique_values\": 41,\n        \"samples\": [\n          2.016739836693398,\n          1.7896514199143823\n        ],\n        \"semantic_type\": \"\",\n        \"description\": \"\"\n      }\n    },\n    {\n      \"column\": \"min\",\n      \"properties\": {\n        \"dtype\": \"number\",\n        \"std\": 4.11792052236129,\n        \"min\": -20.37415806,\n        \"max\": 0.0,\n        \"num_unique_values\": 41,\n        \"samples\": [\n          -8.228266394,\n          -7.738592625\n        ],\n        \"semantic_type\": \"\",\n        \"description\": \"\"\n      }\n    },\n    {\n      \"column\": \"25%\",\n      \"properties\": {\n        \"dtype\": \"number\",\n        \"std\": 1.4519286286780542,\n        \"min\": -5.93036004925,\n        \"max\": 0.336190675,\n        \"num_unique_values\": 41,\n        \"samples\": [\n          -1.3651782559999999,\n          -2.17074134975\n        ],\n        \"semantic_type\": \"\",\n        \"description\": \"\"\n      }\n    },\n    {\n      \"column\": \"50%\",\n      \"properties\": {\n        \"dtype\": \"number\",\n        \"std\": 1.2534396608652478,\n        \"min\": -3.5328879525000003,\n        \"max\": 2.2557856265,\n        \"num_unique_values\": 41,\n        \"samples\": [\n          0.0250502185,\n          -0.957163073\n        ],\n        \"semantic_type\": \"\",\n        \"description\": \"\"\n      }\n    },\n    {\n      \"column\": \"75%\",\n      \"properties\": {\n        \"dtype\": \"number\",\n        \"std\": 1.3941428579418127,\n        \"min\": -1.2658843822499999,\n        \"max\": 4.566164916,\n        \"num_unique_values\": 41,\n        \"samples\": [\n          1.3971119655,\n          0.27067665025\n        ],\n        \"semantic_type\": \"\",\n        \"description\": \"\"\n      }\n    },\n    {\n      \"column\": \"max\",\n      \"properties\": {\n        \"dtype\": \"number\",\n        \"std\": 4.4792290923530675,\n        \"min\": 1.0,\n        \"max\": 23.63318675,\n        \"num_unique_values\": 41,\n        \"samples\": [\n          8.223388664,\n          5.670663935\n        ],\n        \"semantic_type\": \"\",\n        \"description\": \"\"\n      }\n    }\n  ]\n}"
            }
          },
          "metadata": {},
          "execution_count": 23
        }
      ],
      "source": [
        "# View the statistical summary of the numerical columns in the train data\n",
        "data.describe().T"
      ]
    },
    {
      "cell_type": "code",
      "source": [
        "# View the statistical summary of the numerical columns in the test data\n",
        "data_test.describe().T"
      ],
      "metadata": {
        "colab": {
          "base_uri": "https://localhost:8080/",
          "height": 1000
        },
        "id": "kx-KyUCjWPFU",
        "outputId": "396704ad-e202-4f51-8299-a53fe6b9e48a"
      },
      "execution_count": 24,
      "outputs": [
        {
          "output_type": "execute_result",
          "data": {
            "text/plain": [
              "         count      mean       std        min       25%       50%       75%  \\\n",
              "V1      4995.0 -0.277622  3.466280 -12.381696 -2.743691 -0.764767  1.831313   \n",
              "V2      4994.0  0.397928  3.139562 -10.716179 -1.649211  0.427369  2.444486   \n",
              "V3      5000.0  2.551787  3.326607  -9.237940  0.314931  2.260428  4.587000   \n",
              "V4      5000.0 -0.048943  3.413937 -14.682446 -2.292694 -0.145753  2.166468   \n",
              "V5      5000.0 -0.080120  2.110870  -7.711569 -1.615238 -0.131890  1.341197   \n",
              "V6      5000.0 -1.042138  2.005444  -8.924196 -2.368853 -1.048571  0.307555   \n",
              "V7      5000.0 -0.907922  1.769017  -8.124230 -2.054259 -0.939695  0.212228   \n",
              "V8      5000.0 -0.574592  3.331911 -12.252731 -2.642088 -0.357943  1.712896   \n",
              "V9      5000.0  0.030121  2.174139  -6.785495 -1.455712 -0.079891  1.449548   \n",
              "V10     5000.0  0.018524  2.145437  -8.170956 -1.353320  0.166292  1.511248   \n",
              "V11     5000.0 -2.008615  3.112220 -13.151753 -4.050432 -2.043122  0.044069   \n",
              "V12     5000.0  1.576413  2.907401  -8.164048 -0.449674  1.488253  3.562626   \n",
              "V13     5000.0  1.622456  2.882892 -11.548209 -0.126012  1.718649  3.464604   \n",
              "V14     5000.0 -0.921097  1.803470  -7.813929 -2.110952 -0.896011  0.272324   \n",
              "V15     5000.0 -2.452174  3.387041 -15.285768 -4.479072 -2.417131 -0.432943   \n",
              "V16     5000.0 -3.018503  4.264407 -20.985779 -5.648343 -2.773763 -0.178105   \n",
              "V17     5000.0 -0.103721  3.336513 -13.418281 -2.227683  0.047462  2.111907   \n",
              "V18     5000.0  1.195606  2.586403 -12.214016 -0.408850  0.881395  2.604014   \n",
              "V19     5000.0  1.210490  3.384662 -14.169635 -1.026394  1.295864  3.526278   \n",
              "V20     5000.0  0.138429  3.657171 -13.719620 -2.325454  0.193386  2.539550   \n",
              "V21     5000.0 -3.664398  3.577841 -16.340707 -5.944369 -3.662870 -1.329645   \n",
              "V22     5000.0  0.961960  1.640414  -6.740239 -0.047728  0.986020  2.029321   \n",
              "V23     5000.0 -0.422182  4.056714 -14.422274 -3.162690 -0.279222  2.425911   \n",
              "V24     5000.0  1.088841  3.968207 -12.315545 -1.623203  0.912815  3.537195   \n",
              "V25     5000.0  0.061235  2.010227  -6.770139 -1.298377  0.076703  1.428491   \n",
              "V26     5000.0  1.847261  3.400330 -11.414019 -0.242470  1.917032  4.156106   \n",
              "V27     5000.0 -0.552397  4.402947 -13.177038 -3.662591 -0.871982  2.247257   \n",
              "V28     5000.0 -0.867678  1.926181  -7.933388 -2.159811 -0.930695  0.420587   \n",
              "V29     5000.0 -1.095805  2.655454  -9.987800 -2.861373 -1.340547  0.521843   \n",
              "V30     5000.0 -0.118699  3.023292 -12.438434 -1.996743  0.112463  1.946450   \n",
              "V31     5000.0  0.468810  3.446324 -11.263271 -1.822421  0.485742  2.779008   \n",
              "V32     5000.0  0.232567  5.585628 -17.244168 -3.556267 -0.076694  3.751857   \n",
              "V33     5000.0 -0.080115  3.538624 -14.903781 -2.348121 -0.159713  2.099160   \n",
              "V34     5000.0 -0.392663  3.166101 -14.699725 -2.009604 -0.171745  1.465402   \n",
              "V35     5000.0  2.211205  2.948426 -12.260591  0.321818  2.111750  4.031639   \n",
              "V36     5000.0  1.594845  3.774970 -12.735567 -0.866066  1.702964  4.104409   \n",
              "V37     5000.0  0.022931  1.785320  -5.079070 -1.240526 -0.110415  1.237522   \n",
              "V38     5000.0 -0.405659  3.968936 -15.334533 -2.984480 -0.381162  2.287998   \n",
              "V39     5000.0  0.938800  1.716502  -5.451050 -0.208024  0.959152  2.130769   \n",
              "V40     5000.0 -0.932406  2.978193 -10.076234 -2.986587 -1.002764  1.079738   \n",
              "Target  5000.0  0.056400  0.230716   0.000000  0.000000  0.000000  0.000000   \n",
              "\n",
              "              max  \n",
              "V1      13.504352  \n",
              "V2      14.079073  \n",
              "V3      15.314503  \n",
              "V4      12.140157  \n",
              "V5       7.672835  \n",
              "V6       5.067685  \n",
              "V7       7.616182  \n",
              "V8      10.414722  \n",
              "V9       8.850720  \n",
              "V10      6.598728  \n",
              "V11      9.956400  \n",
              "V12     12.983644  \n",
              "V13     12.620041  \n",
              "V14      5.734112  \n",
              "V15     11.673420  \n",
              "V16     13.975843  \n",
              "V17     19.776592  \n",
              "V18     13.642235  \n",
              "V19     12.427997  \n",
              "V20     13.870565  \n",
              "V21     11.046925  \n",
              "V22      7.505291  \n",
              "V23     13.180887  \n",
              "V24     17.806035  \n",
              "V25      6.556937  \n",
              "V26     17.528193  \n",
              "V27     17.290161  \n",
              "V28      7.415659  \n",
              "V29     14.039466  \n",
              "V30     10.314976  \n",
              "V31     12.558928  \n",
              "V32     26.539391  \n",
              "V33     13.323517  \n",
              "V34     12.146302  \n",
              "V35     13.489237  \n",
              "V36     17.116122  \n",
              "V37      6.809938  \n",
              "V38     13.064950  \n",
              "V39      7.182237  \n",
              "V40      8.698460  \n",
              "Target   1.000000  "
            ],
            "text/html": [
              "\n",
              "  <div id=\"df-dff17047-968b-4ee9-a2e7-58b7d3a3497b\" class=\"colab-df-container\">\n",
              "    <div>\n",
              "<style scoped>\n",
              "    .dataframe tbody tr th:only-of-type {\n",
              "        vertical-align: middle;\n",
              "    }\n",
              "\n",
              "    .dataframe tbody tr th {\n",
              "        vertical-align: top;\n",
              "    }\n",
              "\n",
              "    .dataframe thead th {\n",
              "        text-align: right;\n",
              "    }\n",
              "</style>\n",
              "<table border=\"1\" class=\"dataframe\">\n",
              "  <thead>\n",
              "    <tr style=\"text-align: right;\">\n",
              "      <th></th>\n",
              "      <th>count</th>\n",
              "      <th>mean</th>\n",
              "      <th>std</th>\n",
              "      <th>min</th>\n",
              "      <th>25%</th>\n",
              "      <th>50%</th>\n",
              "      <th>75%</th>\n",
              "      <th>max</th>\n",
              "    </tr>\n",
              "  </thead>\n",
              "  <tbody>\n",
              "    <tr>\n",
              "      <th>V1</th>\n",
              "      <td>4995.0</td>\n",
              "      <td>-0.277622</td>\n",
              "      <td>3.466280</td>\n",
              "      <td>-12.381696</td>\n",
              "      <td>-2.743691</td>\n",
              "      <td>-0.764767</td>\n",
              "      <td>1.831313</td>\n",
              "      <td>13.504352</td>\n",
              "    </tr>\n",
              "    <tr>\n",
              "      <th>V2</th>\n",
              "      <td>4994.0</td>\n",
              "      <td>0.397928</td>\n",
              "      <td>3.139562</td>\n",
              "      <td>-10.716179</td>\n",
              "      <td>-1.649211</td>\n",
              "      <td>0.427369</td>\n",
              "      <td>2.444486</td>\n",
              "      <td>14.079073</td>\n",
              "    </tr>\n",
              "    <tr>\n",
              "      <th>V3</th>\n",
              "      <td>5000.0</td>\n",
              "      <td>2.551787</td>\n",
              "      <td>3.326607</td>\n",
              "      <td>-9.237940</td>\n",
              "      <td>0.314931</td>\n",
              "      <td>2.260428</td>\n",
              "      <td>4.587000</td>\n",
              "      <td>15.314503</td>\n",
              "    </tr>\n",
              "    <tr>\n",
              "      <th>V4</th>\n",
              "      <td>5000.0</td>\n",
              "      <td>-0.048943</td>\n",
              "      <td>3.413937</td>\n",
              "      <td>-14.682446</td>\n",
              "      <td>-2.292694</td>\n",
              "      <td>-0.145753</td>\n",
              "      <td>2.166468</td>\n",
              "      <td>12.140157</td>\n",
              "    </tr>\n",
              "    <tr>\n",
              "      <th>V5</th>\n",
              "      <td>5000.0</td>\n",
              "      <td>-0.080120</td>\n",
              "      <td>2.110870</td>\n",
              "      <td>-7.711569</td>\n",
              "      <td>-1.615238</td>\n",
              "      <td>-0.131890</td>\n",
              "      <td>1.341197</td>\n",
              "      <td>7.672835</td>\n",
              "    </tr>\n",
              "    <tr>\n",
              "      <th>V6</th>\n",
              "      <td>5000.0</td>\n",
              "      <td>-1.042138</td>\n",
              "      <td>2.005444</td>\n",
              "      <td>-8.924196</td>\n",
              "      <td>-2.368853</td>\n",
              "      <td>-1.048571</td>\n",
              "      <td>0.307555</td>\n",
              "      <td>5.067685</td>\n",
              "    </tr>\n",
              "    <tr>\n",
              "      <th>V7</th>\n",
              "      <td>5000.0</td>\n",
              "      <td>-0.907922</td>\n",
              "      <td>1.769017</td>\n",
              "      <td>-8.124230</td>\n",
              "      <td>-2.054259</td>\n",
              "      <td>-0.939695</td>\n",
              "      <td>0.212228</td>\n",
              "      <td>7.616182</td>\n",
              "    </tr>\n",
              "    <tr>\n",
              "      <th>V8</th>\n",
              "      <td>5000.0</td>\n",
              "      <td>-0.574592</td>\n",
              "      <td>3.331911</td>\n",
              "      <td>-12.252731</td>\n",
              "      <td>-2.642088</td>\n",
              "      <td>-0.357943</td>\n",
              "      <td>1.712896</td>\n",
              "      <td>10.414722</td>\n",
              "    </tr>\n",
              "    <tr>\n",
              "      <th>V9</th>\n",
              "      <td>5000.0</td>\n",
              "      <td>0.030121</td>\n",
              "      <td>2.174139</td>\n",
              "      <td>-6.785495</td>\n",
              "      <td>-1.455712</td>\n",
              "      <td>-0.079891</td>\n",
              "      <td>1.449548</td>\n",
              "      <td>8.850720</td>\n",
              "    </tr>\n",
              "    <tr>\n",
              "      <th>V10</th>\n",
              "      <td>5000.0</td>\n",
              "      <td>0.018524</td>\n",
              "      <td>2.145437</td>\n",
              "      <td>-8.170956</td>\n",
              "      <td>-1.353320</td>\n",
              "      <td>0.166292</td>\n",
              "      <td>1.511248</td>\n",
              "      <td>6.598728</td>\n",
              "    </tr>\n",
              "    <tr>\n",
              "      <th>V11</th>\n",
              "      <td>5000.0</td>\n",
              "      <td>-2.008615</td>\n",
              "      <td>3.112220</td>\n",
              "      <td>-13.151753</td>\n",
              "      <td>-4.050432</td>\n",
              "      <td>-2.043122</td>\n",
              "      <td>0.044069</td>\n",
              "      <td>9.956400</td>\n",
              "    </tr>\n",
              "    <tr>\n",
              "      <th>V12</th>\n",
              "      <td>5000.0</td>\n",
              "      <td>1.576413</td>\n",
              "      <td>2.907401</td>\n",
              "      <td>-8.164048</td>\n",
              "      <td>-0.449674</td>\n",
              "      <td>1.488253</td>\n",
              "      <td>3.562626</td>\n",
              "      <td>12.983644</td>\n",
              "    </tr>\n",
              "    <tr>\n",
              "      <th>V13</th>\n",
              "      <td>5000.0</td>\n",
              "      <td>1.622456</td>\n",
              "      <td>2.882892</td>\n",
              "      <td>-11.548209</td>\n",
              "      <td>-0.126012</td>\n",
              "      <td>1.718649</td>\n",
              "      <td>3.464604</td>\n",
              "      <td>12.620041</td>\n",
              "    </tr>\n",
              "    <tr>\n",
              "      <th>V14</th>\n",
              "      <td>5000.0</td>\n",
              "      <td>-0.921097</td>\n",
              "      <td>1.803470</td>\n",
              "      <td>-7.813929</td>\n",
              "      <td>-2.110952</td>\n",
              "      <td>-0.896011</td>\n",
              "      <td>0.272324</td>\n",
              "      <td>5.734112</td>\n",
              "    </tr>\n",
              "    <tr>\n",
              "      <th>V15</th>\n",
              "      <td>5000.0</td>\n",
              "      <td>-2.452174</td>\n",
              "      <td>3.387041</td>\n",
              "      <td>-15.285768</td>\n",
              "      <td>-4.479072</td>\n",
              "      <td>-2.417131</td>\n",
              "      <td>-0.432943</td>\n",
              "      <td>11.673420</td>\n",
              "    </tr>\n",
              "    <tr>\n",
              "      <th>V16</th>\n",
              "      <td>5000.0</td>\n",
              "      <td>-3.018503</td>\n",
              "      <td>4.264407</td>\n",
              "      <td>-20.985779</td>\n",
              "      <td>-5.648343</td>\n",
              "      <td>-2.773763</td>\n",
              "      <td>-0.178105</td>\n",
              "      <td>13.975843</td>\n",
              "    </tr>\n",
              "    <tr>\n",
              "      <th>V17</th>\n",
              "      <td>5000.0</td>\n",
              "      <td>-0.103721</td>\n",
              "      <td>3.336513</td>\n",
              "      <td>-13.418281</td>\n",
              "      <td>-2.227683</td>\n",
              "      <td>0.047462</td>\n",
              "      <td>2.111907</td>\n",
              "      <td>19.776592</td>\n",
              "    </tr>\n",
              "    <tr>\n",
              "      <th>V18</th>\n",
              "      <td>5000.0</td>\n",
              "      <td>1.195606</td>\n",
              "      <td>2.586403</td>\n",
              "      <td>-12.214016</td>\n",
              "      <td>-0.408850</td>\n",
              "      <td>0.881395</td>\n",
              "      <td>2.604014</td>\n",
              "      <td>13.642235</td>\n",
              "    </tr>\n",
              "    <tr>\n",
              "      <th>V19</th>\n",
              "      <td>5000.0</td>\n",
              "      <td>1.210490</td>\n",
              "      <td>3.384662</td>\n",
              "      <td>-14.169635</td>\n",
              "      <td>-1.026394</td>\n",
              "      <td>1.295864</td>\n",
              "      <td>3.526278</td>\n",
              "      <td>12.427997</td>\n",
              "    </tr>\n",
              "    <tr>\n",
              "      <th>V20</th>\n",
              "      <td>5000.0</td>\n",
              "      <td>0.138429</td>\n",
              "      <td>3.657171</td>\n",
              "      <td>-13.719620</td>\n",
              "      <td>-2.325454</td>\n",
              "      <td>0.193386</td>\n",
              "      <td>2.539550</td>\n",
              "      <td>13.870565</td>\n",
              "    </tr>\n",
              "    <tr>\n",
              "      <th>V21</th>\n",
              "      <td>5000.0</td>\n",
              "      <td>-3.664398</td>\n",
              "      <td>3.577841</td>\n",
              "      <td>-16.340707</td>\n",
              "      <td>-5.944369</td>\n",
              "      <td>-3.662870</td>\n",
              "      <td>-1.329645</td>\n",
              "      <td>11.046925</td>\n",
              "    </tr>\n",
              "    <tr>\n",
              "      <th>V22</th>\n",
              "      <td>5000.0</td>\n",
              "      <td>0.961960</td>\n",
              "      <td>1.640414</td>\n",
              "      <td>-6.740239</td>\n",
              "      <td>-0.047728</td>\n",
              "      <td>0.986020</td>\n",
              "      <td>2.029321</td>\n",
              "      <td>7.505291</td>\n",
              "    </tr>\n",
              "    <tr>\n",
              "      <th>V23</th>\n",
              "      <td>5000.0</td>\n",
              "      <td>-0.422182</td>\n",
              "      <td>4.056714</td>\n",
              "      <td>-14.422274</td>\n",
              "      <td>-3.162690</td>\n",
              "      <td>-0.279222</td>\n",
              "      <td>2.425911</td>\n",
              "      <td>13.180887</td>\n",
              "    </tr>\n",
              "    <tr>\n",
              "      <th>V24</th>\n",
              "      <td>5000.0</td>\n",
              "      <td>1.088841</td>\n",
              "      <td>3.968207</td>\n",
              "      <td>-12.315545</td>\n",
              "      <td>-1.623203</td>\n",
              "      <td>0.912815</td>\n",
              "      <td>3.537195</td>\n",
              "      <td>17.806035</td>\n",
              "    </tr>\n",
              "    <tr>\n",
              "      <th>V25</th>\n",
              "      <td>5000.0</td>\n",
              "      <td>0.061235</td>\n",
              "      <td>2.010227</td>\n",
              "      <td>-6.770139</td>\n",
              "      <td>-1.298377</td>\n",
              "      <td>0.076703</td>\n",
              "      <td>1.428491</td>\n",
              "      <td>6.556937</td>\n",
              "    </tr>\n",
              "    <tr>\n",
              "      <th>V26</th>\n",
              "      <td>5000.0</td>\n",
              "      <td>1.847261</td>\n",
              "      <td>3.400330</td>\n",
              "      <td>-11.414019</td>\n",
              "      <td>-0.242470</td>\n",
              "      <td>1.917032</td>\n",
              "      <td>4.156106</td>\n",
              "      <td>17.528193</td>\n",
              "    </tr>\n",
              "    <tr>\n",
              "      <th>V27</th>\n",
              "      <td>5000.0</td>\n",
              "      <td>-0.552397</td>\n",
              "      <td>4.402947</td>\n",
              "      <td>-13.177038</td>\n",
              "      <td>-3.662591</td>\n",
              "      <td>-0.871982</td>\n",
              "      <td>2.247257</td>\n",
              "      <td>17.290161</td>\n",
              "    </tr>\n",
              "    <tr>\n",
              "      <th>V28</th>\n",
              "      <td>5000.0</td>\n",
              "      <td>-0.867678</td>\n",
              "      <td>1.926181</td>\n",
              "      <td>-7.933388</td>\n",
              "      <td>-2.159811</td>\n",
              "      <td>-0.930695</td>\n",
              "      <td>0.420587</td>\n",
              "      <td>7.415659</td>\n",
              "    </tr>\n",
              "    <tr>\n",
              "      <th>V29</th>\n",
              "      <td>5000.0</td>\n",
              "      <td>-1.095805</td>\n",
              "      <td>2.655454</td>\n",
              "      <td>-9.987800</td>\n",
              "      <td>-2.861373</td>\n",
              "      <td>-1.340547</td>\n",
              "      <td>0.521843</td>\n",
              "      <td>14.039466</td>\n",
              "    </tr>\n",
              "    <tr>\n",
              "      <th>V30</th>\n",
              "      <td>5000.0</td>\n",
              "      <td>-0.118699</td>\n",
              "      <td>3.023292</td>\n",
              "      <td>-12.438434</td>\n",
              "      <td>-1.996743</td>\n",
              "      <td>0.112463</td>\n",
              "      <td>1.946450</td>\n",
              "      <td>10.314976</td>\n",
              "    </tr>\n",
              "    <tr>\n",
              "      <th>V31</th>\n",
              "      <td>5000.0</td>\n",
              "      <td>0.468810</td>\n",
              "      <td>3.446324</td>\n",
              "      <td>-11.263271</td>\n",
              "      <td>-1.822421</td>\n",
              "      <td>0.485742</td>\n",
              "      <td>2.779008</td>\n",
              "      <td>12.558928</td>\n",
              "    </tr>\n",
              "    <tr>\n",
              "      <th>V32</th>\n",
              "      <td>5000.0</td>\n",
              "      <td>0.232567</td>\n",
              "      <td>5.585628</td>\n",
              "      <td>-17.244168</td>\n",
              "      <td>-3.556267</td>\n",
              "      <td>-0.076694</td>\n",
              "      <td>3.751857</td>\n",
              "      <td>26.539391</td>\n",
              "    </tr>\n",
              "    <tr>\n",
              "      <th>V33</th>\n",
              "      <td>5000.0</td>\n",
              "      <td>-0.080115</td>\n",
              "      <td>3.538624</td>\n",
              "      <td>-14.903781</td>\n",
              "      <td>-2.348121</td>\n",
              "      <td>-0.159713</td>\n",
              "      <td>2.099160</td>\n",
              "      <td>13.323517</td>\n",
              "    </tr>\n",
              "    <tr>\n",
              "      <th>V34</th>\n",
              "      <td>5000.0</td>\n",
              "      <td>-0.392663</td>\n",
              "      <td>3.166101</td>\n",
              "      <td>-14.699725</td>\n",
              "      <td>-2.009604</td>\n",
              "      <td>-0.171745</td>\n",
              "      <td>1.465402</td>\n",
              "      <td>12.146302</td>\n",
              "    </tr>\n",
              "    <tr>\n",
              "      <th>V35</th>\n",
              "      <td>5000.0</td>\n",
              "      <td>2.211205</td>\n",
              "      <td>2.948426</td>\n",
              "      <td>-12.260591</td>\n",
              "      <td>0.321818</td>\n",
              "      <td>2.111750</td>\n",
              "      <td>4.031639</td>\n",
              "      <td>13.489237</td>\n",
              "    </tr>\n",
              "    <tr>\n",
              "      <th>V36</th>\n",
              "      <td>5000.0</td>\n",
              "      <td>1.594845</td>\n",
              "      <td>3.774970</td>\n",
              "      <td>-12.735567</td>\n",
              "      <td>-0.866066</td>\n",
              "      <td>1.702964</td>\n",
              "      <td>4.104409</td>\n",
              "      <td>17.116122</td>\n",
              "    </tr>\n",
              "    <tr>\n",
              "      <th>V37</th>\n",
              "      <td>5000.0</td>\n",
              "      <td>0.022931</td>\n",
              "      <td>1.785320</td>\n",
              "      <td>-5.079070</td>\n",
              "      <td>-1.240526</td>\n",
              "      <td>-0.110415</td>\n",
              "      <td>1.237522</td>\n",
              "      <td>6.809938</td>\n",
              "    </tr>\n",
              "    <tr>\n",
              "      <th>V38</th>\n",
              "      <td>5000.0</td>\n",
              "      <td>-0.405659</td>\n",
              "      <td>3.968936</td>\n",
              "      <td>-15.334533</td>\n",
              "      <td>-2.984480</td>\n",
              "      <td>-0.381162</td>\n",
              "      <td>2.287998</td>\n",
              "      <td>13.064950</td>\n",
              "    </tr>\n",
              "    <tr>\n",
              "      <th>V39</th>\n",
              "      <td>5000.0</td>\n",
              "      <td>0.938800</td>\n",
              "      <td>1.716502</td>\n",
              "      <td>-5.451050</td>\n",
              "      <td>-0.208024</td>\n",
              "      <td>0.959152</td>\n",
              "      <td>2.130769</td>\n",
              "      <td>7.182237</td>\n",
              "    </tr>\n",
              "    <tr>\n",
              "      <th>V40</th>\n",
              "      <td>5000.0</td>\n",
              "      <td>-0.932406</td>\n",
              "      <td>2.978193</td>\n",
              "      <td>-10.076234</td>\n",
              "      <td>-2.986587</td>\n",
              "      <td>-1.002764</td>\n",
              "      <td>1.079738</td>\n",
              "      <td>8.698460</td>\n",
              "    </tr>\n",
              "    <tr>\n",
              "      <th>Target</th>\n",
              "      <td>5000.0</td>\n",
              "      <td>0.056400</td>\n",
              "      <td>0.230716</td>\n",
              "      <td>0.000000</td>\n",
              "      <td>0.000000</td>\n",
              "      <td>0.000000</td>\n",
              "      <td>0.000000</td>\n",
              "      <td>1.000000</td>\n",
              "    </tr>\n",
              "  </tbody>\n",
              "</table>\n",
              "</div>\n",
              "    <div class=\"colab-df-buttons\">\n",
              "\n",
              "  <div class=\"colab-df-container\">\n",
              "    <button class=\"colab-df-convert\" onclick=\"convertToInteractive('df-dff17047-968b-4ee9-a2e7-58b7d3a3497b')\"\n",
              "            title=\"Convert this dataframe to an interactive table.\"\n",
              "            style=\"display:none;\">\n",
              "\n",
              "  <svg xmlns=\"http://www.w3.org/2000/svg\" height=\"24px\" viewBox=\"0 -960 960 960\">\n",
              "    <path d=\"M120-120v-720h720v720H120Zm60-500h600v-160H180v160Zm220 220h160v-160H400v160Zm0 220h160v-160H400v160ZM180-400h160v-160H180v160Zm440 0h160v-160H620v160ZM180-180h160v-160H180v160Zm440 0h160v-160H620v160Z\"/>\n",
              "  </svg>\n",
              "    </button>\n",
              "\n",
              "  <style>\n",
              "    .colab-df-container {\n",
              "      display:flex;\n",
              "      gap: 12px;\n",
              "    }\n",
              "\n",
              "    .colab-df-convert {\n",
              "      background-color: #E8F0FE;\n",
              "      border: none;\n",
              "      border-radius: 50%;\n",
              "      cursor: pointer;\n",
              "      display: none;\n",
              "      fill: #1967D2;\n",
              "      height: 32px;\n",
              "      padding: 0 0 0 0;\n",
              "      width: 32px;\n",
              "    }\n",
              "\n",
              "    .colab-df-convert:hover {\n",
              "      background-color: #E2EBFA;\n",
              "      box-shadow: 0px 1px 2px rgba(60, 64, 67, 0.3), 0px 1px 3px 1px rgba(60, 64, 67, 0.15);\n",
              "      fill: #174EA6;\n",
              "    }\n",
              "\n",
              "    .colab-df-buttons div {\n",
              "      margin-bottom: 4px;\n",
              "    }\n",
              "\n",
              "    [theme=dark] .colab-df-convert {\n",
              "      background-color: #3B4455;\n",
              "      fill: #D2E3FC;\n",
              "    }\n",
              "\n",
              "    [theme=dark] .colab-df-convert:hover {\n",
              "      background-color: #434B5C;\n",
              "      box-shadow: 0px 1px 3px 1px rgba(0, 0, 0, 0.15);\n",
              "      filter: drop-shadow(0px 1px 2px rgba(0, 0, 0, 0.3));\n",
              "      fill: #FFFFFF;\n",
              "    }\n",
              "  </style>\n",
              "\n",
              "    <script>\n",
              "      const buttonEl =\n",
              "        document.querySelector('#df-dff17047-968b-4ee9-a2e7-58b7d3a3497b button.colab-df-convert');\n",
              "      buttonEl.style.display =\n",
              "        google.colab.kernel.accessAllowed ? 'block' : 'none';\n",
              "\n",
              "      async function convertToInteractive(key) {\n",
              "        const element = document.querySelector('#df-dff17047-968b-4ee9-a2e7-58b7d3a3497b');\n",
              "        const dataTable =\n",
              "          await google.colab.kernel.invokeFunction('convertToInteractive',\n",
              "                                                    [key], {});\n",
              "        if (!dataTable) return;\n",
              "\n",
              "        const docLinkHtml = 'Like what you see? Visit the ' +\n",
              "          '<a target=\"_blank\" href=https://colab.research.google.com/notebooks/data_table.ipynb>data table notebook</a>'\n",
              "          + ' to learn more about interactive tables.';\n",
              "        element.innerHTML = '';\n",
              "        dataTable['output_type'] = 'display_data';\n",
              "        await google.colab.output.renderOutput(dataTable, element);\n",
              "        const docLink = document.createElement('div');\n",
              "        docLink.innerHTML = docLinkHtml;\n",
              "        element.appendChild(docLink);\n",
              "      }\n",
              "    </script>\n",
              "  </div>\n",
              "\n",
              "\n",
              "    <div id=\"df-6d97aace-b195-4249-b6d9-8eb6138f9982\">\n",
              "      <button class=\"colab-df-quickchart\" onclick=\"quickchart('df-6d97aace-b195-4249-b6d9-8eb6138f9982')\"\n",
              "                title=\"Suggest charts\"\n",
              "                style=\"display:none;\">\n",
              "\n",
              "<svg xmlns=\"http://www.w3.org/2000/svg\" height=\"24px\"viewBox=\"0 0 24 24\"\n",
              "     width=\"24px\">\n",
              "    <g>\n",
              "        <path d=\"M19 3H5c-1.1 0-2 .9-2 2v14c0 1.1.9 2 2 2h14c1.1 0 2-.9 2-2V5c0-1.1-.9-2-2-2zM9 17H7v-7h2v7zm4 0h-2V7h2v10zm4 0h-2v-4h2v4z\"/>\n",
              "    </g>\n",
              "</svg>\n",
              "      </button>\n",
              "\n",
              "<style>\n",
              "  .colab-df-quickchart {\n",
              "      --bg-color: #E8F0FE;\n",
              "      --fill-color: #1967D2;\n",
              "      --hover-bg-color: #E2EBFA;\n",
              "      --hover-fill-color: #174EA6;\n",
              "      --disabled-fill-color: #AAA;\n",
              "      --disabled-bg-color: #DDD;\n",
              "  }\n",
              "\n",
              "  [theme=dark] .colab-df-quickchart {\n",
              "      --bg-color: #3B4455;\n",
              "      --fill-color: #D2E3FC;\n",
              "      --hover-bg-color: #434B5C;\n",
              "      --hover-fill-color: #FFFFFF;\n",
              "      --disabled-bg-color: #3B4455;\n",
              "      --disabled-fill-color: #666;\n",
              "  }\n",
              "\n",
              "  .colab-df-quickchart {\n",
              "    background-color: var(--bg-color);\n",
              "    border: none;\n",
              "    border-radius: 50%;\n",
              "    cursor: pointer;\n",
              "    display: none;\n",
              "    fill: var(--fill-color);\n",
              "    height: 32px;\n",
              "    padding: 0;\n",
              "    width: 32px;\n",
              "  }\n",
              "\n",
              "  .colab-df-quickchart:hover {\n",
              "    background-color: var(--hover-bg-color);\n",
              "    box-shadow: 0 1px 2px rgba(60, 64, 67, 0.3), 0 1px 3px 1px rgba(60, 64, 67, 0.15);\n",
              "    fill: var(--button-hover-fill-color);\n",
              "  }\n",
              "\n",
              "  .colab-df-quickchart-complete:disabled,\n",
              "  .colab-df-quickchart-complete:disabled:hover {\n",
              "    background-color: var(--disabled-bg-color);\n",
              "    fill: var(--disabled-fill-color);\n",
              "    box-shadow: none;\n",
              "  }\n",
              "\n",
              "  .colab-df-spinner {\n",
              "    border: 2px solid var(--fill-color);\n",
              "    border-color: transparent;\n",
              "    border-bottom-color: var(--fill-color);\n",
              "    animation:\n",
              "      spin 1s steps(1) infinite;\n",
              "  }\n",
              "\n",
              "  @keyframes spin {\n",
              "    0% {\n",
              "      border-color: transparent;\n",
              "      border-bottom-color: var(--fill-color);\n",
              "      border-left-color: var(--fill-color);\n",
              "    }\n",
              "    20% {\n",
              "      border-color: transparent;\n",
              "      border-left-color: var(--fill-color);\n",
              "      border-top-color: var(--fill-color);\n",
              "    }\n",
              "    30% {\n",
              "      border-color: transparent;\n",
              "      border-left-color: var(--fill-color);\n",
              "      border-top-color: var(--fill-color);\n",
              "      border-right-color: var(--fill-color);\n",
              "    }\n",
              "    40% {\n",
              "      border-color: transparent;\n",
              "      border-right-color: var(--fill-color);\n",
              "      border-top-color: var(--fill-color);\n",
              "    }\n",
              "    60% {\n",
              "      border-color: transparent;\n",
              "      border-right-color: var(--fill-color);\n",
              "    }\n",
              "    80% {\n",
              "      border-color: transparent;\n",
              "      border-right-color: var(--fill-color);\n",
              "      border-bottom-color: var(--fill-color);\n",
              "    }\n",
              "    90% {\n",
              "      border-color: transparent;\n",
              "      border-bottom-color: var(--fill-color);\n",
              "    }\n",
              "  }\n",
              "</style>\n",
              "\n",
              "      <script>\n",
              "        async function quickchart(key) {\n",
              "          const quickchartButtonEl =\n",
              "            document.querySelector('#' + key + ' button');\n",
              "          quickchartButtonEl.disabled = true;  // To prevent multiple clicks.\n",
              "          quickchartButtonEl.classList.add('colab-df-spinner');\n",
              "          try {\n",
              "            const charts = await google.colab.kernel.invokeFunction(\n",
              "                'suggestCharts', [key], {});\n",
              "          } catch (error) {\n",
              "            console.error('Error during call to suggestCharts:', error);\n",
              "          }\n",
              "          quickchartButtonEl.classList.remove('colab-df-spinner');\n",
              "          quickchartButtonEl.classList.add('colab-df-quickchart-complete');\n",
              "        }\n",
              "        (() => {\n",
              "          let quickchartButtonEl =\n",
              "            document.querySelector('#df-6d97aace-b195-4249-b6d9-8eb6138f9982 button');\n",
              "          quickchartButtonEl.style.display =\n",
              "            google.colab.kernel.accessAllowed ? 'block' : 'none';\n",
              "        })();\n",
              "      </script>\n",
              "    </div>\n",
              "\n",
              "    </div>\n",
              "  </div>\n"
            ],
            "application/vnd.google.colaboratory.intrinsic+json": {
              "type": "dataframe",
              "summary": "{\n  \"name\": \"data_test\",\n  \"rows\": 41,\n  \"fields\": [\n    {\n      \"column\": \"count\",\n      \"properties\": {\n        \"dtype\": \"number\",\n        \"std\": 1.2046657263303877,\n        \"min\": 4994.0,\n        \"max\": 5000.0,\n        \"num_unique_values\": 3,\n        \"samples\": [\n          4995.0,\n          4994.0,\n          5000.0\n        ],\n        \"semantic_type\": \"\",\n        \"description\": \"\"\n      }\n    },\n    {\n      \"column\": \"mean\",\n      \"properties\": {\n        \"dtype\": \"number\",\n        \"std\": 1.305428497572359,\n        \"min\": -3.6643979444965997,\n        \"max\": 2.5517872236576,\n        \"num_unique_values\": 41,\n        \"samples\": [\n          0.06123492619260001,\n          -0.9210972295441999,\n          0.030120526017000004\n        ],\n        \"semantic_type\": \"\",\n        \"description\": \"\"\n      }\n    },\n    {\n      \"column\": \"std\",\n      \"properties\": {\n        \"dtype\": \"number\",\n        \"std\": 0.9687780105631596,\n        \"min\": 0.23071559534888422,\n        \"max\": 5.585628237494339,\n        \"num_unique_values\": 41,\n        \"samples\": [\n          2.010226849614306,\n          1.803469964082102,\n          2.1741386862325363\n        ],\n        \"semantic_type\": \"\",\n        \"description\": \"\"\n      }\n    },\n    {\n      \"column\": \"min\",\n      \"properties\": {\n        \"dtype\": \"number\",\n        \"std\": 3.8982321946600917,\n        \"min\": -20.98577925,\n        \"max\": 0.0,\n        \"num_unique_values\": 41,\n        \"samples\": [\n          -6.770139327,\n          -7.813928901,\n          -6.785494701\n        ],\n        \"semantic_type\": \"\",\n        \"description\": \"\"\n      }\n    },\n    {\n      \"column\": \"25%\",\n      \"properties\": {\n        \"dtype\": \"number\",\n        \"std\": 1.4807913159664547,\n        \"min\": -5.944369402,\n        \"max\": 0.32181833925,\n        \"num_unique_values\": 41,\n        \"samples\": [\n          -1.2983773035,\n          -2.1109519737499998,\n          -1.45571167375\n        ],\n        \"semantic_type\": \"\",\n        \"description\": \"\"\n      }\n    },\n    {\n      \"column\": \"50%\",\n      \"properties\": {\n        \"dtype\": \"number\",\n        \"std\": 1.2864463693996964,\n        \"min\": -3.6628700089999997,\n        \"max\": 2.260428199,\n        \"num_unique_values\": 41,\n        \"samples\": [\n          0.0767030175,\n          -0.896010847,\n          -0.07989128000000001\n        ],\n        \"semantic_type\": \"\",\n        \"description\": \"\"\n      }\n    },\n    {\n      \"column\": \"75%\",\n      \"properties\": {\n        \"dtype\": \"number\",\n        \"std\": 1.41439799922853,\n        \"min\": -1.3296445595,\n        \"max\": 4.586999812249999,\n        \"num_unique_values\": 41,\n        \"samples\": [\n          1.42849072325,\n          0.27232405699999995,\n          1.44954830825\n        ],\n        \"semantic_type\": \"\",\n        \"description\": \"\"\n      }\n    },\n    {\n      \"column\": \"max\",\n      \"properties\": {\n        \"dtype\": \"number\",\n        \"std\": 4.6263426940256265,\n        \"min\": 1.0,\n        \"max\": 26.53939068,\n        \"num_unique_values\": 41,\n        \"samples\": [\n          6.556937313,\n          5.734111567,\n          8.850720458\n        ],\n        \"semantic_type\": \"\",\n        \"description\": \"\"\n      }\n    }\n  ]\n}"
            }
          },
          "metadata": {},
          "execution_count": 24
        }
      ]
    },
    {
      "cell_type": "markdown",
      "metadata": {
        "id": "DhPuzWO7hmV8"
      },
      "source": [
        "# 4 - Exploratory Data Analysis"
      ]
    },
    {
      "cell_type": "markdown",
      "metadata": {
        "id": "Lv7Bs8aUbp07"
      },
      "source": [
        "## Univariate analysis"
      ]
    },
    {
      "cell_type": "code",
      "execution_count": null,
      "metadata": {
        "id": "QIP4bI3Zbp07"
      },
      "outputs": [],
      "source": [
        "# function to plot a boxplot and a histogram along the same scale.\n",
        "\n",
        "\n",
        "def histogram_boxplot(data, feature, figsize=(12, 7), kde=False, bins=None):\n",
        "    \"\"\"\n",
        "    Boxplot and histogram combined\n",
        "\n",
        "    data: dataframe\n",
        "    feature: dataframe column\n",
        "    figsize: size of figure (default (12,7))\n",
        "    kde: whether to the show density curve (default False)\n",
        "    bins: number of bins for histogram (default None)\n",
        "    \"\"\"\n",
        "    f2, (ax_box2, ax_hist2) = plt.subplots(\n",
        "        nrows=2,  # Number of rows of the subplot grid= 2\n",
        "        sharex=True,  # x-axis will be shared among all subplots\n",
        "        gridspec_kw={\"height_ratios\": (0.25, 0.75)},\n",
        "        figsize=figsize,\n",
        "    )  # creating the 2 subplots\n",
        "    sns.boxplot(\n",
        "        data= ______, x= _______, ax= _______, showmeans=True, color=\"violet\"\n",
        "    )  # boxplot will be created and a star will indicate the mean value of the column\n",
        "    sns.histplot(\n",
        "        data=______, x=_______, kde=kde, ax=_______, bins=bins, palette=\"winter\"\n",
        "    ) if bins else sns.histplot(\n",
        "        data=________, x=________, kde=kde, ax=______\n",
        "    )  # For histogram\n",
        "    ax_hist2.axvline(\n",
        "        data[feature].mean(), color=\"green\", linestyle=\"--\"\n",
        "    )  # Add mean to the histogram\n",
        "    ax_hist2.axvline(\n",
        "        data[feature].median(), color=\"black\", linestyle=\"-\"\n",
        "    )  # Add median to the histogram"
      ]
    },
    {
      "cell_type": "markdown",
      "metadata": {
        "id": "_5N52iqsJBeb"
      },
      "source": [
        "### Variables V1 to V29"
      ]
    },
    {
      "cell_type": "code",
      "execution_count": null,
      "metadata": {
        "id": "p0ip-InCbp07",
        "scrolled": true
      },
      "outputs": [],
      "source": [
        "for feature in df.columns:\n",
        "    histogram_boxplot(df, feature, figsize=(12, 7), kde=False, bins=None)"
      ]
    },
    {
      "cell_type": "markdown",
      "metadata": {
        "id": "3CjaGOdvbp08"
      },
      "source": [
        "### Checking the distrubution of Target variable"
      ]
    },
    {
      "cell_type": "code",
      "execution_count": null,
      "metadata": {
        "id": "jchAb6Ikbp08"
      },
      "outputs": [],
      "source": [
        "# For train data\n",
        "df[\"Target\"].value_counts(1)"
      ]
    },
    {
      "cell_type": "code",
      "execution_count": null,
      "metadata": {
        "id": "5rupsM4sbp08"
      },
      "outputs": [],
      "source": [
        "# display the proportion of the target variable in the test data\n",
        "df_test[\"Target\"]._____"
      ]
    },
    {
      "cell_type": "markdown",
      "metadata": {
        "id": "lRrYccqLJKXi"
      },
      "source": [
        "## Bivariate Analysis"
      ]
    },
    {
      "cell_type": "markdown",
      "metadata": {
        "id": "Lk0t8FYwJMeL"
      },
      "source": [
        "### Correlation Check"
      ]
    },
    {
      "cell_type": "code",
      "execution_count": null,
      "metadata": {
        "id": "kL32Bf4rJO1F"
      },
      "outputs": [],
      "source": [
        "cols_list = df.select_dtypes(include=np.number).columns.tolist()\n",
        "cols_list.remove(\"Target\")\n",
        "\n",
        "plt.figure(figsize=(20, 20))\n",
        "sns.heatmap(\n",
        "    df[cols_list].corr(), annot=True, vmin=-1, vmax=1, fmt=\".2f\", cmap=\"Spectral\"\n",
        ")\n",
        "plt.show()"
      ]
    },
    {
      "cell_type": "markdown",
      "metadata": {
        "id": "Bp8vC9MZbp09"
      },
      "source": [
        "# 5 - Data Preprocessing"
      ]
    },
    {
      "cell_type": "markdown",
      "metadata": {
        "id": "CMTLLop3yDwk"
      },
      "source": [
        "## Data Preparation for Modeling"
      ]
    },
    {
      "cell_type": "code",
      "execution_count": null,
      "metadata": {
        "id": "C-xgnTbGb4CY"
      },
      "outputs": [],
      "source": [
        "# Dividing train data into X and y\n",
        "\n",
        "# Remove the column named 'Target'\n",
        "X = data.drop(columns = [\"_______\"] , axis=1)\n",
        "\n",
        "# Column named 'Target' becomes y\n",
        "y = data[\"________\"]"
      ]
    },
    {
      "cell_type": "markdown",
      "metadata": {
        "id": "eBXiW4s4kd63"
      },
      "source": [
        "**Test set is provided separately**\n"
      ]
    },
    {
      "cell_type": "code",
      "execution_count": null,
      "metadata": {
        "id": "j-8vqBMXbp09"
      },
      "outputs": [],
      "source": [
        "# Splitting data into training and validation set:\n",
        "\n",
        "X_train, X_val, y_train, y_val = train_test_split(\n",
        "    X, y, test_size=_____, random_state=1, stratify=y\n",
        ")"
      ]
    },
    {
      "cell_type": "code",
      "execution_count": null,
      "metadata": {
        "id": "hIsrQQVqRbnY"
      },
      "outputs": [],
      "source": [
        "# Check the shape of X_train data\n",
        "X_train.shape"
      ]
    },
    {
      "cell_type": "code",
      "execution_count": null,
      "metadata": {
        "id": "o3_X_6ZicNfN"
      },
      "outputs": [],
      "source": [
        "# Check the shape of X_val data\n",
        "X_val.shape"
      ]
    },
    {
      "cell_type": "code",
      "execution_count": null,
      "metadata": {
        "id": "IktO9G2Lbp09"
      },
      "outputs": [],
      "source": [
        "# Divide test data into X_test and y_test\n",
        "\n",
        "# Drop target column for X\n",
        "X_test = data_test.drop(columns = ['_______'] , axis= 1)\n",
        "\n",
        "# Retain only target column for y\n",
        "y_test = data_test[\"______\"]"
      ]
    },
    {
      "cell_type": "code",
      "execution_count": null,
      "metadata": {
        "id": "XmuB5K_9b8tP"
      },
      "outputs": [],
      "source": [
        "# Checkthe shape of X_test data\n",
        "X_test.shape"
      ]
    },
    {
      "cell_type": "markdown",
      "metadata": {
        "id": "hRIcs_56ECHk"
      },
      "source": [
        "## Missing Value Imputation\n"
      ]
    },
    {
      "cell_type": "markdown",
      "metadata": {
        "id": "0J99-7Kubp09"
      },
      "source": [
        "- There were few missing values in V1 and V2, we will impute them using the median.\n",
        "- And to avoid data leakage we will impute missing values after splitting train data into train and validation sets.\n",
        "\n",
        "\n"
      ]
    },
    {
      "cell_type": "code",
      "execution_count": null,
      "metadata": {
        "id": "28L1vgAwbp09"
      },
      "outputs": [],
      "source": [
        "imputer = SimpleImputer(strategy=\"median\")"
      ]
    },
    {
      "cell_type": "code",
      "execution_count": null,
      "metadata": {
        "id": "FNfbw4rJbp09"
      },
      "outputs": [],
      "source": [
        "# Fit and transform the train data\n",
        "X_train = pd.DataFrame(imputer.fit_transform(X_train), columns=X_train.columns)\n",
        "\n",
        "# Transform the validation data\n",
        "# Code to impute missing values in the validation set while accounting for data leakage\n",
        "X_val = pd.DataFrame(imputer.______(X_val), columns=X_train.columns)\n",
        "\n",
        "# Transform the test data\n",
        "# Code to impute missing values in the test set while accounting for data leakage\n",
        "X_test = pd.DataFrame(imputer.______(X_test), columns=X_train.columns)"
      ]
    },
    {
      "cell_type": "code",
      "execution_count": null,
      "metadata": {
        "id": "3jdLvwTAbp09"
      },
      "outputs": [],
      "source": [
        "# Make sure no column has missing values in train or test sets\n",
        "print(X_train.isna().sum())\n",
        "print(\"-\" * 30)\n",
        "print(X_val.isna().sum())\n",
        "print(\"-\" * 30)\n",
        "print(X_test.isna().sum())"
      ]
    },
    {
      "cell_type": "code",
      "execution_count": null,
      "metadata": {
        "id": "vdAf7_aNRpyP"
      },
      "outputs": [],
      "source": [
        "y_train = y_train.to_numpy()\n",
        "y_val = y_val.to_numpy()\n",
        "y_test = y_test.to_numpy()"
      ]
    },
    {
      "cell_type": "markdown",
      "metadata": {
        "id": "OzOa9FGA6WtG"
      },
      "source": [
        "# **Model Building**"
      ]
    },
    {
      "cell_type": "markdown",
      "metadata": {
        "id": "czwxDIZNccQL"
      },
      "source": [
        "## Model Evaluation Criterion"
      ]
    },
    {
      "cell_type": "markdown",
      "metadata": {
        "id": "l2ORUgmUjDZC"
      },
      "source": [
        "- Write down the metric of choice with rationale here"
      ]
    },
    {
      "cell_type": "markdown",
      "metadata": {
        "id": "XWoHuUpjbp0_"
      },
      "source": [
        "**We are now done with pre-processing and evaluation criterion, so let's start building the model.**"
      ]
    },
    {
      "cell_type": "markdown",
      "metadata": {
        "id": "hoFZRy7tSXnp"
      },
      "source": [
        "## Utility Functions"
      ]
    },
    {
      "cell_type": "code",
      "execution_count": null,
      "metadata": {
        "id": "fpMmFI9USZYW"
      },
      "outputs": [],
      "source": [
        "def plot(history, name):\n",
        "    \"\"\"\n",
        "    Function to plot loss/accuracy\n",
        "\n",
        "    history: an object which stores the metrics and losses.\n",
        "    name: can be one of Loss or Accuracy\n",
        "    \"\"\"\n",
        "    fig, ax = plt.subplots() #Creating a subplot with figure and axes.\n",
        "    plt.plot(history.history[name]) #Plotting the train accuracy or train loss\n",
        "    plt.plot(history.history['val_'+name]) #Plotting the validation accuracy or validation loss\n",
        "\n",
        "    plt.title('Model ' + name.capitalize()) #Defining the title of the plot.\n",
        "    plt.ylabel(name.capitalize()) #Capitalizing the first letter.\n",
        "    plt.xlabel('Epoch') #Defining the label for the x-axis.\n",
        "    fig.legend(['Train', 'Validation'], loc=\"outside right upper\") #Defining the legend, loc controls the position of the legend."
      ]
    },
    {
      "cell_type": "code",
      "execution_count": null,
      "metadata": {
        "id": "H_VAOcNcScFz"
      },
      "outputs": [],
      "source": [
        "# defining a function to compute different metrics to check performance of a classification model built using statsmodels\n",
        "def model_performance_classification(\n",
        "    model, predictors, target, threshold=0.5\n",
        "):\n",
        "    \"\"\"\n",
        "    Function to compute different metrics to check classification model performance\n",
        "\n",
        "    model: classifier\n",
        "    predictors: independent variables\n",
        "    target: dependent variable\n",
        "    threshold: threshold for classifying the observation as class 1\n",
        "    \"\"\"\n",
        "\n",
        "    # checking which probabilities are greater than threshold\n",
        "    pred = model.predict(predictors) > threshold\n",
        "    # pred_temp = model.predict(predictors) > threshold\n",
        "    # # rounding off the above values to get classes\n",
        "    # pred = np.round(pred_temp)\n",
        "\n",
        "    acc = accuracy_score(target, pred)  # to compute Accuracy\n",
        "    recall = recall_score(target, pred, average='macro')  # to compute Recall\n",
        "    precision = precision_score(target, pred, average='macro')  # to compute Precision\n",
        "    f1 = f1_score(target, pred, average='macro')  # to compute F1-score\n",
        "\n",
        "    # creating a dataframe of metrics\n",
        "    df_perf = pd.DataFrame(\n",
        "        {\"Accuracy\": acc, \"Recall\": recall, \"Precision\": precision, \"F1 Score\": f1,}, index = [0]\n",
        "    )\n",
        "\n",
        "    return df_perf"
      ]
    },
    {
      "cell_type": "markdown",
      "metadata": {
        "id": "4fI98GOV0pTY"
      },
      "source": [
        "## Initial Model Building (Model 0)"
      ]
    },
    {
      "cell_type": "markdown",
      "metadata": {
        "id": "0usUom8nZOYZ"
      },
      "source": [
        "- Let's start with a neural network consisting of\n",
        "  - just one hidden layer of 7 neurons respectively\n",
        "  - activation function of ReLU.\n",
        "  - SGD as the optimizer"
      ]
    },
    {
      "cell_type": "code",
      "execution_count": null,
      "metadata": {
        "id": "-OTOG3o1bp0_",
        "scrolled": true
      },
      "outputs": [],
      "source": [
        "# Define the batch size and # epochs upfront as we'll be using the same values for all models\n",
        "\n",
        "# Number of epochs to be used in all models\n",
        "epochs = ____\n",
        "\n",
        "# Batch size to be used in all models\n",
        "batch_size = _____"
      ]
    },
    {
      "cell_type": "code",
      "execution_count": null,
      "metadata": {
        "id": "Cm61fR_mbp0_",
        "scrolled": false
      },
      "outputs": [],
      "source": [
        "# clears the current Keras session, resetting all layers and models previously created, freeing up memory and resources.\n",
        "tf.keras.backend.clear_session()"
      ]
    },
    {
      "cell_type": "code",
      "execution_count": null,
      "metadata": {
        "id": "ao_7u1sOZlZz"
      },
      "outputs": [],
      "source": [
        "#Initializing the neural network\n",
        "model_0 = Sequential()\n",
        "\n",
        "# Define the number of neurons and the activation function\n",
        "model_0.add(Dense( _____ ,activation=\"_______\",input_dim=X_train.shape[1]))\n",
        "\n",
        "# Define the number of neurons in the output layer\n",
        "model_0.add(Dense( _____ ,activation=\"sigmoid\"))"
      ]
    },
    {
      "cell_type": "code",
      "execution_count": null,
      "metadata": {
        "id": "o2dEk01hbp1A"
      },
      "outputs": [],
      "source": [
        "model_0.summary()"
      ]
    },
    {
      "cell_type": "code",
      "execution_count": null,
      "metadata": {
        "id": "ZsOer36qbp1A"
      },
      "outputs": [],
      "source": [
        "optimizer = tf.keras.optimizers.SGD()   # defining SGD as the optimizer to be used\n",
        "# model_0.compile(loss='binary_crossentropy', optimizer=optimizer, metrics = ['accuracy']) ## Uncomment this line in case the metric of choice is Accuracy\n",
        "# model_0.compile(loss='binary_crossentropy', optimizer=optimizer, metrics = ['Precision']) ## Uncomment this line in case the metric of choice is Precision\n",
        "# model_0.compile(loss='binary_crossentropy', optimizer=optimizer, metrics = ['Recall']) ## Uncomment this line in case the metric of choice is Recall\n",
        "# model_0.compile(loss='binary_crossentropy', optimizer=optimizer, metrics = ['f1_score']) ## Uncomment this line in case the metric of choice is F1 Score"
      ]
    },
    {
      "cell_type": "code",
      "execution_count": null,
      "metadata": {
        "id": "kwUcBORjbp1A",
        "scrolled": false
      },
      "outputs": [],
      "source": [
        "start = time.time()\n",
        "history = model_0.fit(X_train, y_train, validation_data=(X_val,y_val) , batch_size=batch_size, epochs=epochs)\n",
        "end=time.time()"
      ]
    },
    {
      "cell_type": "code",
      "execution_count": null,
      "metadata": {
        "id": "zwBB3mRhcCN6"
      },
      "outputs": [],
      "source": [
        "print(\"Time taken in seconds \",end-start)"
      ]
    },
    {
      "cell_type": "code",
      "execution_count": null,
      "metadata": {
        "id": "RfLx8ubqTe_n"
      },
      "outputs": [],
      "source": [
        "plot(history,'loss')"
      ]
    },
    {
      "cell_type": "code",
      "execution_count": null,
      "metadata": {
        "id": "Pr6dBVPNUe3Y"
      },
      "outputs": [],
      "source": [
        "model_0_train_perf = model_performance_classification(model_0, X_train, y_train)\n",
        "model_0_train_perf"
      ]
    },
    {
      "cell_type": "code",
      "execution_count": null,
      "metadata": {
        "id": "1pdgAup2UfAX"
      },
      "outputs": [],
      "source": [
        "model_0_val_perf = model_performance_classification(model_0,X_val,y_val)\n",
        "model_0_val_perf"
      ]
    },
    {
      "cell_type": "markdown",
      "metadata": {
        "id": "7757b8PflQ9T"
      },
      "source": [
        "Let's check the classification reports."
      ]
    },
    {
      "cell_type": "code",
      "execution_count": null,
      "metadata": {
        "id": "m0UQ_ZW-KCaX"
      },
      "outputs": [],
      "source": [
        "y_train_pred_0 = model_0.predict(X_train)\n",
        "y_val_pred_0 = model_0.predict(X_val)"
      ]
    },
    {
      "cell_type": "code",
      "execution_count": null,
      "metadata": {
        "id": "zC6fR5ohKFzh"
      },
      "outputs": [],
      "source": [
        "print(\"Classification Report - Train data Model_0\",end=\"\\n\\n\")\n",
        "cr_train_model_0 = classification_report(y_train,y_train_pred_0>0.5)\n",
        "print(cr_train_model_0)"
      ]
    },
    {
      "cell_type": "code",
      "execution_count": null,
      "metadata": {
        "id": "foiSZUcHKFp6"
      },
      "outputs": [],
      "source": [
        "print(\"Classification Report - Validation data Model_0\",end=\"\\n\\n\")\n",
        "cr_val_model_0 = classification_report(y_val,y_val_pred_0>0.5)\n",
        "print(cr_val_model_0)"
      ]
    },
    {
      "cell_type": "markdown",
      "metadata": {
        "id": "2tlVEbIWKb6T"
      },
      "source": [
        "# **Model Performance Improvement**"
      ]
    },
    {
      "cell_type": "markdown",
      "metadata": {
        "id": "grQ6pRK1WZtr"
      },
      "source": [
        "## Model 1"
      ]
    },
    {
      "cell_type": "markdown",
      "metadata": {
        "id": "zBr3Eo1iWhLs"
      },
      "source": [
        "- Let's try adding another layer to see if we can improve our model's performance."
      ]
    },
    {
      "cell_type": "code",
      "execution_count": null,
      "metadata": {
        "id": "E95a3_v6UfE7"
      },
      "outputs": [],
      "source": [
        "# clears the current Keras session, resetting all layers and models previously created, freeing up memory and resources.\n",
        "tf.keras.backend.clear_session()"
      ]
    },
    {
      "cell_type": "code",
      "execution_count": null,
      "metadata": {
        "id": "uzB8avdtUfH_"
      },
      "outputs": [],
      "source": [
        "#Initializing the neural network\n",
        "model_1 = Sequential()\n",
        "\n",
        "# Define the number of neurons and activation function\n",
        "model_1.add(Dense( ________ ,activation=\"________\",input_dim=X_train.shape[1]))\n",
        "\n",
        "# Define the number of neurons and activation function\n",
        "model_1.add(Dense( ________,activation=\"________\"))\n",
        "\n",
        "# Define the number of neurons in the output layer\n",
        "model_1.add(Dense(_______,activation=\"sigmoid\"))"
      ]
    },
    {
      "cell_type": "code",
      "execution_count": null,
      "metadata": {
        "id": "cnuMH8oQUfKf"
      },
      "outputs": [],
      "source": [
        "model_1.summary()"
      ]
    },
    {
      "cell_type": "code",
      "execution_count": null,
      "metadata": {
        "id": "xfDQJHYnUfM1"
      },
      "outputs": [],
      "source": [
        "optimizer = tf.keras.optimizers.SGD()   # defining SGD as the optimizer to be used\n",
        "# model_1.compile(loss='binary_crossentropy', optimizer=optimizer, metrics = ['accuracy']) ## Uncomment this line in case the metric of choice is Accuracy\n",
        "# model_1.compile(loss='binary_crossentropy', optimizer=optimizer, metrics = ['Precision']) ## Uncomment this line in case the metric of choice is Precision\n",
        "# model_1.compile(loss='binary_crossentropy', optimizer=optimizer, metrics = ['Recall']) ## Uncomment this line in case the metric of choice is Recall\n",
        "# model_1.compile(loss='binary_crossentropy', optimizer=optimizer, metrics = ['f1_score']) ## Uncomment this line in case the metric of choice is F1 Score"
      ]
    },
    {
      "cell_type": "code",
      "execution_count": null,
      "metadata": {
        "id": "HsPSnSmNUfO4"
      },
      "outputs": [],
      "source": [
        "start = time.time()\n",
        "history = model_1.fit(X_train, y_train, validation_data=(X_val,y_val) , batch_size=batch_size, epochs=epochs)\n",
        "end=time.time()"
      ]
    },
    {
      "cell_type": "code",
      "execution_count": null,
      "metadata": {
        "id": "GX9bBylsUfRN"
      },
      "outputs": [],
      "source": [
        "print(\"Time taken in seconds \",end-start)"
      ]
    },
    {
      "cell_type": "code",
      "execution_count": null,
      "metadata": {
        "id": "pKXH3xAYUfTP"
      },
      "outputs": [],
      "source": [
        "plot(history,'loss')"
      ]
    },
    {
      "cell_type": "code",
      "execution_count": null,
      "metadata": {
        "id": "Ve7QYfyTUfXn"
      },
      "outputs": [],
      "source": [
        "model_1_train_perf = model_performance_classification(model_1,X_train,y_train)\n",
        "model_1_train_perf"
      ]
    },
    {
      "cell_type": "code",
      "execution_count": null,
      "metadata": {
        "id": "09KWUhmONOEf"
      },
      "outputs": [],
      "source": [
        "model_1_val_perf = model_performance_classification(model_1,X_val,y_val)\n",
        "model_1_val_perf"
      ]
    },
    {
      "cell_type": "code",
      "execution_count": null,
      "metadata": {
        "id": "DS8SFCwJUoe6"
      },
      "outputs": [],
      "source": [
        "y_train_pred_1 = model_1.predict(X_train)\n",
        "y_val_pred_1 = model_1.predict(X_val)"
      ]
    },
    {
      "cell_type": "code",
      "execution_count": null,
      "metadata": {
        "id": "8ZngTFbEUskK"
      },
      "outputs": [],
      "source": [
        "print(\"Classification Report - Train data Model_1\", end=\"\\n\\n\")\n",
        "cr_train_model_1 = classification_report(y_train,y_train_pred_1 > 0.5)\n",
        "print(cr_train_model_1)"
      ]
    },
    {
      "cell_type": "code",
      "execution_count": null,
      "metadata": {
        "id": "Ju0Rzn1kUtRi"
      },
      "outputs": [],
      "source": [
        "print(\"Classification Report - Validation data Model_1\", end=\"\\n\\n\")\n",
        "cr_val_model_1 = classification_report(y_val,y_val_pred_1 > 0.5)\n",
        "print(cr_val_model_1)"
      ]
    },
    {
      "cell_type": "markdown",
      "metadata": {
        "id": "iQhdyBg0OJWQ"
      },
      "source": [
        "## Model 2"
      ]
    },
    {
      "cell_type": "markdown",
      "metadata": {
        "id": "jUwTGnuGfgRp"
      },
      "source": [
        "To introduce Regularization in our model, let's set the dropout to 50% after adding the first hidden layer. This step will randomly drop 50% of the neurons before proceeding to the next layer, reducing overfitting."
      ]
    },
    {
      "cell_type": "code",
      "execution_count": null,
      "metadata": {
        "id": "-7mdqo7xOO_b"
      },
      "outputs": [],
      "source": [
        "# clears the current Keras session, resetting all layers and models previously created, freeing up memory and resources.\n",
        "tf.keras.backend.clear_session()"
      ]
    },
    {
      "cell_type": "code",
      "execution_count": null,
      "metadata": {
        "id": "TXbGBf1QOO9B"
      },
      "outputs": [],
      "source": [
        "#Initializing the neural network\n",
        "from tensorflow.keras.layers import Dropout\n",
        "model_2 = Sequential()\n",
        "model_2.add(Dense(________,activation=\"_________\",input_dim=X_train.shape[1]))  # Complete the code to define the number of neurons and activation function\n",
        "model_2.add(Dropout(____)) # Complete the code to define the dropout rate\n",
        "model_2.add(Dense(_____,activation = \"______\")) # Complete the code to define the number of neurons and activation function\n",
        "model_2.add(Dense(_____,activation = \"______\")) # Complete the code to define the number of neurons and activation function\n",
        "model_2.add(Dense(_____,activation=\"sigmoid\")) # Complete the code to define the number of neurons in the output layer"
      ]
    },
    {
      "cell_type": "code",
      "execution_count": null,
      "metadata": {
        "id": "nPu7lC9pOO23"
      },
      "outputs": [],
      "source": [
        "model_2.summary()"
      ]
    },
    {
      "cell_type": "code",
      "execution_count": null,
      "metadata": {
        "id": "U7-Y_BmYOOxB"
      },
      "outputs": [],
      "source": [
        "optimizer = tf.keras.optimizers.SGD()   # defining SGD as the optimizer to be used\n",
        "# model_2.compile(loss='binary_crossentropy', optimizer=optimizer, metrics = ['accuracy']) ## Uncomment this line in case the metric of choice is Accuracy\n",
        "# model_2.compile(loss='binary_crossentropy', optimizer=optimizer, metrics = ['Precision']) ## Uncomment this line in case the metric of choice is Precision\n",
        "# model_2.compile(loss='binary_crossentropy', optimizer=optimizer, metrics = ['Recall']) ## Uncomment this line in case the metric of choice is Recall\n",
        "# model_2.compile(loss='binary_crossentropy', optimizer=optimizer, metrics = ['f1_score']) ## Uncomment this line in case the metric of choice is F1 Score"
      ]
    },
    {
      "cell_type": "code",
      "execution_count": null,
      "metadata": {
        "id": "_QPtdXotOOu0"
      },
      "outputs": [],
      "source": [
        "start = time.time()\n",
        "history = model_2.fit(X_train, y_train, validation_data=(X_val,y_val) , batch_size=batch_size, epochs=epochs)\n",
        "end=time.time()"
      ]
    },
    {
      "cell_type": "code",
      "execution_count": null,
      "metadata": {
        "id": "a_VLN5_FOOss"
      },
      "outputs": [],
      "source": [
        "print(\"Time taken in seconds \",end-start)"
      ]
    },
    {
      "cell_type": "code",
      "execution_count": null,
      "metadata": {
        "id": "1yat6HgCOOmV"
      },
      "outputs": [],
      "source": [
        "plot(history,'loss')"
      ]
    },
    {
      "cell_type": "markdown",
      "metadata": {
        "id": "fdmnaDUxbVvF"
      },
      "source": [
        "Lets check the model performance of model_2 on training and validation data respectively."
      ]
    },
    {
      "cell_type": "code",
      "execution_count": null,
      "metadata": {
        "id": "lhHFHpRJOOf1"
      },
      "outputs": [],
      "source": [
        "model_2_train_perf = model_performance_classification(model_2,X_train,y_train)\n",
        "model_2_train_perf"
      ]
    },
    {
      "cell_type": "code",
      "execution_count": null,
      "metadata": {
        "id": "pnMTEzWtOOW0"
      },
      "outputs": [],
      "source": [
        "model_2_val_perf = model_performance_classification(model_2,X_val,y_val)\n",
        "model_2_val_perf"
      ]
    },
    {
      "cell_type": "code",
      "execution_count": null,
      "metadata": {
        "id": "DI5dqTACWC5N"
      },
      "outputs": [],
      "source": [
        "y_train_pred_2 = model_2.predict(X_train)\n",
        "y_val_pred_2 = model_2.predict(X_val)"
      ]
    },
    {
      "cell_type": "markdown",
      "metadata": {
        "id": "XZOkixQ9bfnI"
      },
      "source": [
        "Lets check the classification report of model_2 on training and validation data respectively."
      ]
    },
    {
      "cell_type": "code",
      "execution_count": null,
      "metadata": {
        "id": "TPtFhE5GWAFM"
      },
      "outputs": [],
      "source": [
        "print(\"Classification Report - Train data Model_2\", end=\"\\n\\n\")\n",
        "cr_train_model_2 = classification_report(y_train,y_train_pred_2 > 0.5)\n",
        "print(cr_train_model_2)"
      ]
    },
    {
      "cell_type": "code",
      "execution_count": null,
      "metadata": {
        "id": "cE-wWumtWEpx"
      },
      "outputs": [],
      "source": [
        "print(\"Classification Report - Validation data Model_2\", end=\"\\n\\n\")\n",
        "cr_val_model_2 = classification_report(y_val , y_val_pred_2 > 0.5)\n",
        "print(cr_val_model_2)"
      ]
    },
    {
      "cell_type": "markdown",
      "metadata": {
        "id": "83ryNh6qVVPm"
      },
      "source": [
        "## Model 3"
      ]
    },
    {
      "cell_type": "markdown",
      "metadata": {
        "id": "swQ14MhSRwCc"
      },
      "source": [
        "As we have are dealing with an imbalance in class distribution, we should also be using class weights to allow the model to give proportionally more importance to the minority class."
      ]
    },
    {
      "cell_type": "code",
      "execution_count": null,
      "metadata": {
        "id": "bXFEE44vOkYz"
      },
      "outputs": [],
      "source": [
        "# Calculate class weights for imbalanced dataset\n",
        "cw = (y_train.shape[0]) / np.bincount(y_train.astype(int)) # Convert y_train to integers\n",
        "\n",
        "# Create a dictionary mapping class indices to their respective class weights\n",
        "cw_dict = {}\n",
        "for i in range(cw.shape[0]):\n",
        "    cw_dict[i] = cw[i]\n",
        "\n",
        "cw_dict"
      ]
    },
    {
      "cell_type": "code",
      "execution_count": null,
      "metadata": {
        "id": "hof3fAu9OkWD"
      },
      "outputs": [],
      "source": [
        "# clears the current Keras session, resetting all layers and models previously created, freeing up memory and resources.\n",
        "tf.keras.backend.clear_session()"
      ]
    },
    {
      "cell_type": "code",
      "execution_count": null,
      "metadata": {
        "id": "PWebuv4mOkTC"
      },
      "outputs": [],
      "source": [
        "model_3 = Sequential()\n",
        "model_3.add(Dense(_____,activation=\"_____\",input_dim=X_train.shape[1])) # Complete the code to define the number of neurons and activation function\n",
        "model_3.add(Dropout(_____)) # Complete the code to define the dropout rate\n",
        "model_3.add(Dense(_____,activation=\"_____\")) # Complete the code to define the number of neurons and activation function\n",
        "model_3.add(Dense(_____, activation = \"_____\")) # Complete the code to define the number of neurons and activation function\n",
        "model_3.add(Dense(_____,activation=\"sigmoid\")) # Complete the code to define the number of neurons in the output layer"
      ]
    },
    {
      "cell_type": "code",
      "execution_count": null,
      "metadata": {
        "id": "CN5XaqlQOkL1"
      },
      "outputs": [],
      "source": [
        "model_3.summary()"
      ]
    },
    {
      "cell_type": "code",
      "execution_count": null,
      "metadata": {
        "id": "Vbe-Uvf_OkBd"
      },
      "outputs": [],
      "source": [
        "optimizer = tf.keras.optimizers.SGD()   # defining SGD as the optimizer to be used\n",
        "# model_3.compile(loss='binary_crossentropy', optimizer=optimizer, metrics = ['accuracy']) ## Uncomment this line in case the metric of choice is Accuracy\n",
        "# model_3.compile(loss='binary_crossentropy', optimizer=optimizer, metrics = ['Precision']) ## Uncomment this line in case the metric of choice is Precision\n",
        "# model_3.compile(loss='binary_crossentropy', optimizer=optimizer, metrics = ['Recall']) ## Uncomment this line in case the metric of choice is Recall\n",
        "# model_3.compile(loss='binary_crossentropy', optimizer=optimizer, metrics = ['f1_score']) ## Uncomment this line in case the metric of choice is F1 Score"
      ]
    },
    {
      "cell_type": "code",
      "execution_count": null,
      "metadata": {
        "id": "aGEYYC5pW5iM"
      },
      "outputs": [],
      "source": [
        "start = time.time()\n",
        "history = model_3.fit(X_train, y_train, validation_data=(X_val,y_val) , batch_size=batch_size, epochs=epochs,class_weight=cw_dict)\n",
        "end=time.time()"
      ]
    },
    {
      "cell_type": "code",
      "execution_count": null,
      "metadata": {
        "id": "-H-rbOvIW5gJ"
      },
      "outputs": [],
      "source": [
        "print(\"Time taken in seconds \",end-start)"
      ]
    },
    {
      "cell_type": "code",
      "execution_count": null,
      "metadata": {
        "id": "aWkRSkTGW5dD"
      },
      "outputs": [],
      "source": [
        "plot(history,'loss')"
      ]
    },
    {
      "cell_type": "markdown",
      "metadata": {
        "id": "dY6ZCgMGcUOb"
      },
      "source": [
        "Lets check the model performance of model_3 on training and validation data respectively."
      ]
    },
    {
      "cell_type": "code",
      "execution_count": null,
      "metadata": {
        "id": "_fryTkbgW5XE"
      },
      "outputs": [],
      "source": [
        "model_3_train_perf = model_performance_classification(model_3,X_train,y_train)\n",
        "model_3_train_perf"
      ]
    },
    {
      "cell_type": "code",
      "execution_count": null,
      "metadata": {
        "id": "GxmCeXa1W5Oo"
      },
      "outputs": [],
      "source": [
        "model_3_val_perf = model_performance_classification(model_3,X_val,y_val)\n",
        "model_3_val_perf"
      ]
    },
    {
      "cell_type": "code",
      "execution_count": null,
      "metadata": {
        "id": "1BkGKOeCXUsT"
      },
      "outputs": [],
      "source": [
        "y_train_pred_3 = model_3.predict(X_train)\n",
        "y_val_pred_3 = model_3.predict(X_val)"
      ]
    },
    {
      "cell_type": "markdown",
      "metadata": {
        "id": "PMljwQUdcbNm"
      },
      "source": [
        "Lets check the classification report of model_3 on training and validation data respectively."
      ]
    },
    {
      "cell_type": "code",
      "execution_count": null,
      "metadata": {
        "id": "yUArAjvkXeh9"
      },
      "outputs": [],
      "source": [
        "print(\"Classification Report - Train data Model_3\", end=\"\\n\\n\")\n",
        "cr_train_model_3 = classification_report(y_train,y_train_pred_3 > 0.5)\n",
        "print(cr_train_model_3)"
      ]
    },
    {
      "cell_type": "code",
      "execution_count": null,
      "metadata": {
        "id": "mp5gmnufXhmy"
      },
      "outputs": [],
      "source": [
        "print(\"Classification Report - Validation data Model_3\", end=\"\\n\\n\")\n",
        "cr_val_model_3 = classification_report(y_val,y_val_pred_3 > 0.5)\n",
        "print(cr_val_model_3)"
      ]
    },
    {
      "cell_type": "markdown",
      "metadata": {
        "id": "dPAuEVDzX0qL"
      },
      "source": [
        "## Model 4"
      ]
    },
    {
      "cell_type": "markdown",
      "metadata": {
        "id": "ydPkh3AdgWRU"
      },
      "source": [
        "Since we have used only SGD optimizer till now, let's use another kind of optimizer and observe its impact on the model performmance."
      ]
    },
    {
      "cell_type": "code",
      "execution_count": null,
      "metadata": {
        "id": "Q9Jx5vOFX0qM"
      },
      "outputs": [],
      "source": [
        "# clears the current Keras session, resetting all layers and models previously created, freeing up memory and resources.\n",
        "tf.keras.backend.clear_session()"
      ]
    },
    {
      "cell_type": "code",
      "execution_count": null,
      "metadata": {
        "id": "q_LP0NHzX0qP"
      },
      "outputs": [],
      "source": [
        "#Initializing the neural network\n",
        "model_4 = Sequential()\n",
        "model_4.add(Dense(_____,activation=\"____\",input_dim=X_train.shape[1])) # Complete the code to define the number of neurons and activation function\n",
        "model_4.add(Dense(_____,activation=\"____\")) # Complete the code to define the number of neurons and activation function\n",
        "model_4.add(Dense(_____,activation=\"sigmoid\")) # Complete the code to define the number of neurons in the output layer"
      ]
    },
    {
      "cell_type": "code",
      "execution_count": null,
      "metadata": {
        "id": "MY_drKH7X0qP"
      },
      "outputs": [],
      "source": [
        "model_4.summary()"
      ]
    },
    {
      "cell_type": "code",
      "execution_count": null,
      "metadata": {
        "id": "vbXDHdCaX0qQ"
      },
      "outputs": [],
      "source": [
        "optimizer = tf.keras.optimizers.Adam()    # defining Adam as the optimizer to be used\n",
        "# model_4.compile(loss='binary_crossentropy', optimizer=optimizer, metrics = ['accuracy']) ## Uncomment this line in case the metric of choice is Accuracy\n",
        "# model_4.compile(loss='binary_crossentropy', optimizer=optimizer, metrics = ['Precision']) ## Uncomment this line in case the metric of choice is Precision\n",
        "# model_4.compile(loss='binary_crossentropy', optimizer=optimizer, metrics = ['Recall']) ## Uncomment this line in case the metric of choice is Recall\n",
        "# model_4.compile(loss='binary_crossentropy', optimizer=optimizer, metrics = ['f1_score']) ## Uncomment this line in case the metric of choice is F1 Score"
      ]
    },
    {
      "cell_type": "code",
      "execution_count": null,
      "metadata": {
        "id": "Viy8MTihX0qQ"
      },
      "outputs": [],
      "source": [
        "start = time.time()\n",
        "history = model_4.fit(X_train, y_train, validation_data=(X_val,y_val) , batch_size=batch_size, epochs=epochs)\n",
        "end=time.time()"
      ]
    },
    {
      "cell_type": "code",
      "execution_count": null,
      "metadata": {
        "id": "uC_tPwLlX0qR"
      },
      "outputs": [],
      "source": [
        "print(\"Time taken in seconds \",end-start)"
      ]
    },
    {
      "cell_type": "code",
      "execution_count": null,
      "metadata": {
        "id": "xJ1TAwlLX0qR"
      },
      "outputs": [],
      "source": [
        "plot(history,'loss')"
      ]
    },
    {
      "cell_type": "markdown",
      "metadata": {
        "id": "E_KuUcLbdKRb"
      },
      "source": [
        "Lets check the model performance ofr model_4 on training and validation data respectively"
      ]
    },
    {
      "cell_type": "code",
      "execution_count": null,
      "metadata": {
        "id": "8OvkmGu6X0qR"
      },
      "outputs": [],
      "source": [
        "model_4_train_perf = model_performance_classification(model_4,X_train,y_train)\n",
        "model_4_train_perf"
      ]
    },
    {
      "cell_type": "code",
      "execution_count": null,
      "metadata": {
        "id": "sLE1b8CMX0qR"
      },
      "outputs": [],
      "source": [
        "model_4_val_perf = model_performance_classification(model_4,X_val,y_val)\n",
        "model_4_val_perf"
      ]
    },
    {
      "cell_type": "code",
      "execution_count": null,
      "metadata": {
        "id": "Wg1dMCXSX0qS"
      },
      "outputs": [],
      "source": [
        "y_train_pred_4 = model_4.predict(X_train)\n",
        "y_val_pred_4 = model_4.predict(X_val)"
      ]
    },
    {
      "cell_type": "markdown",
      "metadata": {
        "id": "4OH8cvF2dVjv"
      },
      "source": [
        "Lets check the classification report of model_4 on raining and validation data respectively."
      ]
    },
    {
      "cell_type": "code",
      "execution_count": null,
      "metadata": {
        "id": "D-wxc08wX0qS"
      },
      "outputs": [],
      "source": [
        "print(\"Classification Report - Train data Model_4\", end=\"\\n\\n\")\n",
        "cr_train_model_4 = classification_report(y_train,y_train_pred_4 > 0.5)\n",
        "print(cr_train_model_4)"
      ]
    },
    {
      "cell_type": "code",
      "execution_count": null,
      "metadata": {
        "id": "uyKOGZzEX0qT"
      },
      "outputs": [],
      "source": [
        "print(\"Classification Report - Validation data Model_4\", end=\"\\n\\n\")\n",
        "cr_val_model_4 = classification_report(y_val,y_val_pred_4 > 0.5)\n",
        "print(cr_val_model_4)"
      ]
    },
    {
      "cell_type": "markdown",
      "metadata": {
        "id": "W2dZjgH0Yxok"
      },
      "source": [
        "## Model 5"
      ]
    },
    {
      "cell_type": "markdown",
      "metadata": {
        "id": "x9H_G0rzdwC9"
      },
      "source": [
        "This time we will add more layers and dropout while using a different optimizer."
      ]
    },
    {
      "cell_type": "code",
      "execution_count": null,
      "metadata": {
        "id": "WBKvvEkjYxol"
      },
      "outputs": [],
      "source": [
        "# clears the current Keras session, resetting all layers and models previously created, freeing up memory and resources.\n",
        "tf.keras.backend.clear_session()"
      ]
    },
    {
      "cell_type": "code",
      "execution_count": null,
      "metadata": {
        "id": "qrPwAVJOYxom"
      },
      "outputs": [],
      "source": [
        "#Initializing the neural network\n",
        "from tensorflow.keras.layers import Dropout\n",
        "model_5 = Sequential()\n",
        "model_5.add(Dense(_____,activation=\"_____\",input_dim=X_train.shape[1])) # Complete the code to define the number of neurons and activation function\n",
        "model_5.add(Dropout(_____)) #Complete the code to define the dropout rate\n",
        "model_5.add(Dense(_____,activation=\"____\")) # Complete the code to define the number of neurons and activation function\n",
        "model_5.add(Dense(_____, activation = \"____\")) # Complete the code to define the number of neurons and activation function\n",
        "model_5.add(Dense(____,activation=\"____\")) # Complete the code to define the number of neurons and activation function"
      ]
    },
    {
      "cell_type": "code",
      "execution_count": null,
      "metadata": {
        "id": "jU1Q8Z8CYxom"
      },
      "outputs": [],
      "source": [
        "model_5.summary()"
      ]
    },
    {
      "cell_type": "code",
      "execution_count": null,
      "metadata": {
        "id": "6MQXRa63Yxom"
      },
      "outputs": [],
      "source": [
        "optimizer = tf.keras.optimizers.Adam()    # defining Adam as the optimizer to be used\n",
        "# model_5.compile(loss='binary_crossentropy', optimizer=optimizer, metrics = ['accuracy']) ## Uncomment this line in case the metric of choice is Accuracy\n",
        "# model_5.compile(loss='binary_crossentropy', optimizer=optimizer, metrics = ['Precision']) ## Uncomment this line in case the metric of choice is Precision\n",
        "# model_5.compile(loss='binary_crossentropy', optimizer=optimizer, metrics = ['Recall']) ## Uncomment this line in case the metric of choice is Recall\n",
        "# model_5.compile(loss='binary_crossentropy', optimizer=optimizer, metrics = ['f1_score']) ## Uncomment this line in case the metric of choice is F1 Score"
      ]
    },
    {
      "cell_type": "code",
      "execution_count": null,
      "metadata": {
        "id": "4nfW1HAYYxon"
      },
      "outputs": [],
      "source": [
        "start = time.time()\n",
        "history = model_5.fit(X_train, y_train, validation_data=(X_val,y_val) , batch_size=batch_size, epochs=epochs)\n",
        "end=time.time()"
      ]
    },
    {
      "cell_type": "code",
      "execution_count": null,
      "metadata": {
        "id": "iT96bkirYxon"
      },
      "outputs": [],
      "source": [
        "print(\"Time taken in seconds \",end-start)"
      ]
    },
    {
      "cell_type": "code",
      "execution_count": null,
      "metadata": {
        "id": "lV6Ve4KuYxon"
      },
      "outputs": [],
      "source": [
        "plot(history,'loss')"
      ]
    },
    {
      "cell_type": "markdown",
      "metadata": {
        "id": "DL-94xameUkb"
      },
      "source": [
        "Lets check the model performance of model_5 on the training and validation data."
      ]
    },
    {
      "cell_type": "code",
      "execution_count": null,
      "metadata": {
        "id": "LRiDnwPhYxoo"
      },
      "outputs": [],
      "source": [
        "model_5_train_perf = model_performance_classification(model_5,X_train,y_train)\n",
        "model_5_train_perf"
      ]
    },
    {
      "cell_type": "code",
      "execution_count": null,
      "metadata": {
        "id": "hyz9ix7KYxoo"
      },
      "outputs": [],
      "source": [
        "model_5_val_perf = model_performance_classification(model_5,X_val,y_val)\n",
        "model_5_val_perf"
      ]
    },
    {
      "cell_type": "code",
      "execution_count": null,
      "metadata": {
        "id": "B0aSAUTlYxop"
      },
      "outputs": [],
      "source": [
        "y_train_pred_5 = model_5.predict(X_train)\n",
        "y_val_pred_5 = model_5.predict(X_val)"
      ]
    },
    {
      "cell_type": "markdown",
      "metadata": {
        "id": "68DKFcJIehp1"
      },
      "source": [
        "Lets check the classification report of model_5 on training and validation data."
      ]
    },
    {
      "cell_type": "code",
      "execution_count": null,
      "metadata": {
        "id": "i9XpJpekYxop"
      },
      "outputs": [],
      "source": [
        "print(\"Classification Report - Train data Model_2\", end=\"\\n\\n\")\n",
        "cr_train_model_5 = classification_report(y_train,y_train_pred_5 > 0.5)\n",
        "print(cr_train_model_5)"
      ]
    },
    {
      "cell_type": "code",
      "execution_count": null,
      "metadata": {
        "id": "9RlRQJOuYxop"
      },
      "outputs": [],
      "source": [
        "print(\"Classification Report - Validation data Model_2\", end=\"\\n\\n\")\n",
        "cr_val_model_5 = classification_report(y_val,y_val_pred_5 > 0.5)\n",
        "print(cr_val_model_5)"
      ]
    },
    {
      "cell_type": "markdown",
      "metadata": {
        "id": "H-wDd0RIZQyI"
      },
      "source": [
        "## Model 6"
      ]
    },
    {
      "cell_type": "markdown",
      "metadata": {
        "id": "p0IOkrVWYxop"
      },
      "source": [
        "Let's see how does the model performance change when the model gives higher importance to the minority class"
      ]
    },
    {
      "cell_type": "code",
      "execution_count": null,
      "metadata": {
        "id": "0LOpw8cNZQyJ"
      },
      "outputs": [],
      "source": [
        "# clears the current Keras session, resetting all layers and models previously created, freeing up memory and resources.\n",
        "tf.keras.backend.clear_session()"
      ]
    },
    {
      "cell_type": "code",
      "execution_count": null,
      "metadata": {
        "id": "HNUew9nFZQyJ"
      },
      "outputs": [],
      "source": [
        "model_6 = Sequential()\n",
        "model_6.add(Dense(____,activation=\"____\",input_dim=X_train.shape[1])) # Complete the code to define the number of neurons and activation function\n",
        "model_6.add(Dropout(____)) # Complete the code to define the dropout rate\n",
        "model_6.add(Dense(_____,activation=\"_____\")) # Complete the code to define the number of neurons and activation function\n",
        "model_6.add(Dense(_____, activation = \"_____\")) # Complete the code to define the number of neurons and activation function\n",
        "model_6.add(Dense(_____,activation=\"sigmoid\")) # Complete the code to define the number of neurons in the output layer"
      ]
    },
    {
      "cell_type": "code",
      "execution_count": null,
      "metadata": {
        "id": "h_sGGGREZQyJ"
      },
      "outputs": [],
      "source": [
        "model_6.summary()"
      ]
    },
    {
      "cell_type": "code",
      "execution_count": null,
      "metadata": {
        "id": "vaVP4CM9ZQyJ"
      },
      "outputs": [],
      "source": [
        "optimizer = tf.keras.optimizers.SGD()\n",
        "# model_6.compile(loss='binary_crossentropy', optimizer=optimizer, metrics = ['accuracy']) ## Uncomment this line in case the metric of choice is Accuracy\n",
        "# model_6.compile(loss='binary_crossentropy', optimizer=optimizer, metrics = ['Precision']) ## Uncomment this line in case the metric of choice is Precision\n",
        "# model_6.compile(loss='binary_crossentropy', optimizer=optimizer, metrics = ['Recall']) ## Uncomment this line in case the metric of choice is Recall\n",
        "# model_6.compile(loss='binary_crossentropy', optimizer=optimizer, metrics = ['f1_score']) ## Uncomment this line in case the metric of choice is F1 Score"
      ]
    },
    {
      "cell_type": "code",
      "execution_count": null,
      "metadata": {
        "id": "fhiZR8WMZQyJ"
      },
      "outputs": [],
      "source": [
        "start = time.time()\n",
        "history = model_3.fit(X_train, y_train, validation_data=(X_val,y_val) , batch_size=batch_size, epochs=epochs,class_weight=_____, ) # Complete the code such that the model is biased towards the minority class\n",
        "end=time.time()"
      ]
    },
    {
      "cell_type": "code",
      "execution_count": null,
      "metadata": {
        "id": "13AF9v2UZQyJ"
      },
      "outputs": [],
      "source": [
        "print(\"Time taken in seconds \",end-start)"
      ]
    },
    {
      "cell_type": "code",
      "execution_count": null,
      "metadata": {
        "id": "48uod9TsZQyK"
      },
      "outputs": [],
      "source": [
        "plot(history,'loss')"
      ]
    },
    {
      "cell_type": "markdown",
      "metadata": {
        "id": "YhlzTJsngBev"
      },
      "source": [
        "Lets check the model performance of model_6 on training and validation data."
      ]
    },
    {
      "cell_type": "code",
      "execution_count": null,
      "metadata": {
        "id": "Fiy0gmSUZQyK"
      },
      "outputs": [],
      "source": [
        "model_6_train_perf = model_performance_classification(model_6,X_train,y_train)\n",
        "model_6_train_perf"
      ]
    },
    {
      "cell_type": "code",
      "execution_count": null,
      "metadata": {
        "id": "aX8Zu4FLZQyK"
      },
      "outputs": [],
      "source": [
        "model_6_val_perf = model_performance_classification(model_6,X_val,y_val)\n",
        "model_6_val_perf"
      ]
    },
    {
      "cell_type": "code",
      "execution_count": null,
      "metadata": {
        "id": "IXZlBIDLZQyK"
      },
      "outputs": [],
      "source": [
        "y_train_pred_6 = model_6.predict(X_train)\n",
        "y_val_pred_6 = model_6.predict(X_val)"
      ]
    },
    {
      "cell_type": "markdown",
      "metadata": {
        "id": "jNsmMIsxgJE_"
      },
      "source": [
        "Lets check the classification report of model_6 on both training and validation data."
      ]
    },
    {
      "cell_type": "code",
      "execution_count": null,
      "metadata": {
        "id": "DXeX1QHSZQyK"
      },
      "outputs": [],
      "source": [
        "print(\"Classification Report - Train data Model_3\", end=\"\\n\\n\")\n",
        "cr_train_model_6 = classification_report(y_train,y_train_pred_6 > 0.5)\n",
        "print(cr_train_model_6)"
      ]
    },
    {
      "cell_type": "code",
      "execution_count": null,
      "metadata": {
        "id": "SV3-H6ckZQyK"
      },
      "outputs": [],
      "source": [
        "print(\"Classification Report - Validation data Model_3\", end=\"\\n\\n\")\n",
        "cr_val_model_6 = classification_report(y_val,y_val_pred_6 > 0.5)\n",
        "print(cr_val_model_6)"
      ]
    },
    {
      "cell_type": "markdown",
      "metadata": {
        "id": "3O07XgkzY_ot"
      },
      "source": [
        "# **Model Performance Comparison and Final Model Selection**"
      ]
    },
    {
      "cell_type": "markdown",
      "metadata": {
        "id": "mVYagrg9ZQyK"
      },
      "source": [
        "Now, in order to select the final model, we will compare the performances of all the models for the training and test sets."
      ]
    },
    {
      "cell_type": "markdown",
      "metadata": {
        "id": "QfZUZD83lu4v"
      },
      "source": [
        "**Training Performance Comparison**"
      ]
    },
    {
      "cell_type": "code",
      "execution_count": null,
      "metadata": {
        "id": "HQB0PVtbh-MA"
      },
      "outputs": [],
      "source": [
        "# training performance comparison\n",
        "\n",
        "models_train_comp_df = pd.concat(\n",
        "    [\n",
        "        model_0_train_perf.T,\n",
        "        model_1_train_perf.T,\n",
        "        model_2_train_perf.T,\n",
        "        model_3_train_perf.T,\n",
        "        model_4_train_perf.T,\n",
        "        model_5_train_perf.T,\n",
        "        model_6_train_perf.T\n",
        "\n",
        "    ],\n",
        "    axis=1,\n",
        ")\n",
        "models_train_comp_df.columns = [\n",
        "    \"Model 0\",\n",
        "    \"Model 1\",\n",
        "    \"Model 2\",\n",
        "    \"Model 3\",\n",
        "    \"Model 4\",\n",
        "    \"Model 5\",\n",
        "    \"Model 6\"\n",
        "]\n",
        "print(\"Training set performance comparison:\")\n",
        "models_train_comp_df"
      ]
    },
    {
      "cell_type": "markdown",
      "metadata": {
        "id": "Jqpgdol7l2Um"
      },
      "source": [
        "**Validation Performance Comparison**"
      ]
    },
    {
      "cell_type": "code",
      "execution_count": null,
      "metadata": {
        "id": "KzWl6tM8ilz9"
      },
      "outputs": [],
      "source": [
        "# Validation performance comparison\n",
        "\n",
        "models_val_comp_df = pd.concat(\n",
        "    [\n",
        "        model_0_val_perf.T,\n",
        "        model_1_val_perf.T,\n",
        "        model_2_val_perf.T,\n",
        "        model_3_val_perf.T,\n",
        "        model_4_val_perf.T,\n",
        "        model_5_val_perf.T,\n",
        "        model_6_val_perf.T\n",
        "\n",
        "    ],\n",
        "    axis=1,\n",
        ")\n",
        "models_val_comp_df.columns = [\n",
        "    \"Model 0\",\n",
        "    \"Model 1\",\n",
        "    \"Model 2\",\n",
        "    \"Model 3\",\n",
        "    \"Model 4\",\n",
        "    \"Model 5\",\n",
        "    \"Model 6\"\n",
        "]\n",
        "print(\"Validation set performance comparison:\")\n",
        "models_val_comp_df"
      ]
    },
    {
      "cell_type": "markdown",
      "metadata": {
        "id": "q69xcftQuKyg"
      },
      "source": [
        "**Checking the performance of the best model on the test set**"
      ]
    },
    {
      "cell_type": "code",
      "execution_count": null,
      "metadata": {
        "id": "_pfViqPWq_pO"
      },
      "outputs": [],
      "source": [
        "# best_model = model_0 ## Uncomment this line in case the best model is model_0\n",
        "# best_model = model_1 ## Uncomment this line in case the best model is model_1\n",
        "# best_model = model_2 ## Uncomment this line in case the best model is model_2\n",
        "# best_model = model_3 ## Uncomment this line in case the best model is model_3\n",
        "# best_model = model_4 ## Uncomment this line in case the best model is model_4\n",
        "# best_model = model_5 ## Uncomment this line in case the best model is model_5\n",
        "# best_model = model_6 ## Uncomment this line in case the best model is model_6"
      ]
    },
    {
      "cell_type": "code",
      "execution_count": null,
      "metadata": {
        "id": "oPxuwyh6j227"
      },
      "outputs": [],
      "source": [
        "# Test set performance for the best model\n",
        "best_model_test_perf = model_performance_classification(best_model,X_test,y_test)\n",
        "best_model_test_perf"
      ]
    },
    {
      "cell_type": "code",
      "execution_count": null,
      "metadata": {
        "id": "J4ZzDS8Cqe_b"
      },
      "outputs": [],
      "source": [
        "y_test_pred_best = best_model.predict(X_test)\n",
        "\n",
        "cr_test_best_model = classification_report(y_test, y_test_pred_best>0.5) # Check the classification report of best model on test data.\n",
        "print(cr_test_best_model)"
      ]
    },
    {
      "cell_type": "markdown",
      "metadata": {
        "id": "JdME3J172AN-"
      },
      "source": [
        "# **Actionable Insights and Recommendations**"
      ]
    },
    {
      "cell_type": "markdown",
      "metadata": {
        "id": "IkJU-1M5uT5b"
      },
      "source": [
        "- Write down actionable insights here"
      ]
    },
    {
      "cell_type": "markdown",
      "metadata": {
        "id": "-O4lLWtluXz7"
      },
      "source": [
        "- Write down business recommendations here"
      ]
    }
  ],
  "metadata": {
    "colab": {
      "collapsed_sections": [
        "x3-QehJxbp0t",
        "4p9zp6bHfPOY"
      ],
      "provenance": [],
      "toc_visible": true,
      "include_colab_link": true
    },
    "kernelspec": {
      "display_name": "Python 3",
      "name": "python3"
    },
    "language_info": {
      "codemirror_mode": {
        "name": "ipython",
        "version": 3
      },
      "file_extension": ".py",
      "mimetype": "text/x-python",
      "name": "python",
      "nbconvert_exporter": "python",
      "pygments_lexer": "ipython3",
      "version": "3.11.3"
    }
  },
  "nbformat": 4,
  "nbformat_minor": 0
}